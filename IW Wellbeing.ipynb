{
 "cells": [
  {
   "cell_type": "markdown",
   "metadata": {},
   "source": [
    "# Personal Well-being in the UK\n",
    "\n",
    "*[ONS - Personal well-being in the UK: local authority update, 2015 to 2016](https://www.ons.gov.uk/releases/personalwellbeingintheuklocalauthorityupdate2015to2016)*\n",
    "\n",
    "Quick notebook to parse out breakdowns of wellbeing metrics by Local Authority."
   ]
  },
  {
   "cell_type": "code",
   "execution_count": 1,
   "metadata": {
    "collapsed": true
   },
   "outputs": [],
   "source": [
    "import pandas as pd"
   ]
  },
  {
   "cell_type": "code",
   "execution_count": 5,
   "metadata": {
    "collapsed": true
   },
   "outputs": [],
   "source": [
    "#Download the data\n",
    "url='https://www.ons.gov.uk/file?uri=/peoplepopulationandcommunity/wellbeing/datasets/headlineestimatesofpersonalwellbeing/localauthorityupdate2015to2016/headlineestimatesofpersonalwellbeinglocalauthorityupdate2015to2016.xls'\n",
    "fn=url.split('/')[-1]\n",
    "!wget {url} -O data/{fn}"
   ]
  },
  {
   "cell_type": "code",
   "execution_count": 13,
   "metadata": {
    "collapsed": false
   },
   "outputs": [
    {
     "data": {
      "text/plain": [
       "['Contents',\n",
       " 'Life Satisfaction - Means ',\n",
       " 'Life Satisfaction - Thresholds',\n",
       " 'Worthwhile - Means',\n",
       " 'Worthwhile - Thresholds',\n",
       " 'Happy - Mean',\n",
       " 'Happy - Thresholds',\n",
       " 'Anxiety - Means',\n",
       " 'Anxiety - Thresholds']"
      ]
     },
     "execution_count": 13,
     "metadata": {},
     "output_type": "execute_result"
    }
   ],
   "source": [
    "#Check the sheetnames\n",
    "xl=pd.ExcelFile('data/{}'.format(fn))\n",
    "xl.sheet_names"
   ]
  },
  {
   "cell_type": "code",
   "execution_count": 377,
   "metadata": {
    "collapsed": false
   },
   "outputs": [],
   "source": [
    "#Function to load in the data from a particular sheet - some wrangling required to handle the multiindex\n",
    "#eg see http://stackoverflow.com/questions/39745627/setting-a-row-index-on-and-querying-a-pandas-dataframe-with-multi-index-columns\n",
    "def getData(typ):\n",
    "    df=pd.read_excel('data/{}'.format(fn),sheetname='{} - Thresholds'.format(typ),header=None,skiprows=4,na_values=['x'])\n",
    "\n",
    "    df.dropna(axis=0,inplace=True,how='all')\n",
    "    df[0][:3]=df[0][:3].fillna(method='backfill',axis=0)\n",
    "    df[1][:3]=df[1][:3].fillna(method='backfill',axis=0)\n",
    "    df[:2]=df[:2].fillna(method='ffill',axis=1)\n",
    "    df=df.T.set_index([0,1]).T\n",
    "    df=df.rename(columns=lambda x: x.strip())\n",
    "    df=df.drop(df.index[[0]])\n",
    "\n",
    "    df.set_index([('Area Codes','Area Codes'),\n",
    "                  ('Area Names','Area Names')], inplace=True)\n",
    "    df.index.names = ['Area Codes','Area Names']\n",
    "    df.sort_index(inplace=True)\n",
    "    #idx = pd.IndexSlice\n",
    "    #df.loc[idx['E06000047',:], :]['2011/12*']\n",
    "\n",
    "    df=df.reset_index()\n",
    "    df=df[~df['Area Names'].isnull()]\n",
    "    return df"
   ]
  },
  {
   "cell_type": "code",
   "execution_count": 378,
   "metadata": {
    "collapsed": false
   },
   "outputs": [
    {
     "data": {
      "text/html": [
       "<div>\n",
       "<table border=\"1\" class=\"dataframe\">\n",
       "  <thead>\n",
       "    <tr>\n",
       "      <th>0</th>\n",
       "      <th>Area Codes</th>\n",
       "      <th>Area Names</th>\n",
       "      <th colspan=\"4\" halign=\"left\">2011/12*</th>\n",
       "      <th colspan=\"4\" halign=\"left\">2012/13*</th>\n",
       "      <th>...</th>\n",
       "      <th colspan=\"2\" halign=\"left\">2013/14*</th>\n",
       "      <th colspan=\"4\" halign=\"left\">2014/15*</th>\n",
       "      <th colspan=\"4\" halign=\"left\">2015/16*</th>\n",
       "    </tr>\n",
       "    <tr>\n",
       "      <th>1</th>\n",
       "      <th></th>\n",
       "      <th></th>\n",
       "      <th>Very Low</th>\n",
       "      <th>Low</th>\n",
       "      <th>Medium</th>\n",
       "      <th>High</th>\n",
       "      <th>Very Low</th>\n",
       "      <th>Low</th>\n",
       "      <th>Medium</th>\n",
       "      <th>High</th>\n",
       "      <th>...</th>\n",
       "      <th>Medium</th>\n",
       "      <th>High</th>\n",
       "      <th>Very Low</th>\n",
       "      <th>Low</th>\n",
       "      <th>Medium</th>\n",
       "      <th>High</th>\n",
       "      <th>Very Low</th>\n",
       "      <th>Low</th>\n",
       "      <th>Medium</th>\n",
       "      <th>High</th>\n",
       "    </tr>\n",
       "  </thead>\n",
       "  <tbody>\n",
       "    <tr>\n",
       "      <th>7</th>\n",
       "      <td>E06000001</td>\n",
       "      <td>Hartlepool</td>\n",
       "      <td>41.3</td>\n",
       "      <td>21.64</td>\n",
       "      <td>15.36</td>\n",
       "      <td>21.69</td>\n",
       "      <td>46.06</td>\n",
       "      <td>18.29</td>\n",
       "      <td>14.69</td>\n",
       "      <td>20.96</td>\n",
       "      <td>...</td>\n",
       "      <td>15.06</td>\n",
       "      <td>21.93</td>\n",
       "      <td>48.52</td>\n",
       "      <td>17.53</td>\n",
       "      <td>13.6</td>\n",
       "      <td>20.35</td>\n",
       "      <td>44.78</td>\n",
       "      <td>17.43</td>\n",
       "      <td>16.73</td>\n",
       "      <td>21.05</td>\n",
       "    </tr>\n",
       "    <tr>\n",
       "      <th>8</th>\n",
       "      <td>E06000002</td>\n",
       "      <td>Middlesbrough</td>\n",
       "      <td>34.84</td>\n",
       "      <td>19.42</td>\n",
       "      <td>16.77</td>\n",
       "      <td>28.98</td>\n",
       "      <td>42.49</td>\n",
       "      <td>19.55</td>\n",
       "      <td>14.61</td>\n",
       "      <td>23.35</td>\n",
       "      <td>...</td>\n",
       "      <td>18.2</td>\n",
       "      <td>23.69</td>\n",
       "      <td>42.74</td>\n",
       "      <td>18.35</td>\n",
       "      <td>16.87</td>\n",
       "      <td>22.03</td>\n",
       "      <td>43.43</td>\n",
       "      <td>19.85</td>\n",
       "      <td>16.33</td>\n",
       "      <td>20.4</td>\n",
       "    </tr>\n",
       "    <tr>\n",
       "      <th>9</th>\n",
       "      <td>E06000003</td>\n",
       "      <td>Redcar and Cleveland</td>\n",
       "      <td>39.35</td>\n",
       "      <td>20.34</td>\n",
       "      <td>18.42</td>\n",
       "      <td>21.89</td>\n",
       "      <td>41.24</td>\n",
       "      <td>18.86</td>\n",
       "      <td>18.03</td>\n",
       "      <td>21.87</td>\n",
       "      <td>...</td>\n",
       "      <td>17.54</td>\n",
       "      <td>20.44</td>\n",
       "      <td>47.39</td>\n",
       "      <td>19.59</td>\n",
       "      <td>14.64</td>\n",
       "      <td>18.38</td>\n",
       "      <td>44.01</td>\n",
       "      <td>17.54</td>\n",
       "      <td>18.21</td>\n",
       "      <td>20.24</td>\n",
       "    </tr>\n",
       "    <tr>\n",
       "      <th>10</th>\n",
       "      <td>E06000004</td>\n",
       "      <td>Stockton-on-Tees</td>\n",
       "      <td>37.59</td>\n",
       "      <td>21.98</td>\n",
       "      <td>20.46</td>\n",
       "      <td>19.97</td>\n",
       "      <td>41.55</td>\n",
       "      <td>19.21</td>\n",
       "      <td>18.94</td>\n",
       "      <td>20.29</td>\n",
       "      <td>...</td>\n",
       "      <td>17.07</td>\n",
       "      <td>20.31</td>\n",
       "      <td>42.52</td>\n",
       "      <td>21.11</td>\n",
       "      <td>16.16</td>\n",
       "      <td>20.2</td>\n",
       "      <td>45.64</td>\n",
       "      <td>16.09</td>\n",
       "      <td>17.42</td>\n",
       "      <td>20.85</td>\n",
       "    </tr>\n",
       "    <tr>\n",
       "      <th>11</th>\n",
       "      <td>E06000005</td>\n",
       "      <td>Darlington</td>\n",
       "      <td>42.72</td>\n",
       "      <td>20.13</td>\n",
       "      <td>16.58</td>\n",
       "      <td>20.57</td>\n",
       "      <td>41.97</td>\n",
       "      <td>21.76</td>\n",
       "      <td>17.14</td>\n",
       "      <td>19.13</td>\n",
       "      <td>...</td>\n",
       "      <td>14.89</td>\n",
       "      <td>20.98</td>\n",
       "      <td>40.48</td>\n",
       "      <td>22.8</td>\n",
       "      <td>16.26</td>\n",
       "      <td>20.46</td>\n",
       "      <td>43.95</td>\n",
       "      <td>20.05</td>\n",
       "      <td>15.35</td>\n",
       "      <td>20.66</td>\n",
       "    </tr>\n",
       "  </tbody>\n",
       "</table>\n",
       "<p>5 rows × 22 columns</p>\n",
       "</div>"
      ],
      "text/plain": [
       "0  Area Codes            Area Names 2011/12*                      2012/13*  \\\n",
       "1                                   Very Low    Low Medium   High Very Low   \n",
       "7   E06000001            Hartlepool     41.3  21.64  15.36  21.69    46.06   \n",
       "8   E06000002         Middlesbrough    34.84  19.42  16.77  28.98    42.49   \n",
       "9   E06000003  Redcar and Cleveland    39.35  20.34  18.42  21.89    41.24   \n",
       "10  E06000004      Stockton-on-Tees    37.59  21.98  20.46  19.97    41.55   \n",
       "11  E06000005            Darlington    42.72  20.13  16.58  20.57    41.97   \n",
       "\n",
       "0                        ...   2013/14*        2014/15*                       \\\n",
       "1     Low Medium   High  ...     Medium   High Very Low    Low Medium   High   \n",
       "7   18.29  14.69  20.96  ...      15.06  21.93    48.52  17.53   13.6  20.35   \n",
       "8   19.55  14.61  23.35  ...       18.2  23.69    42.74  18.35  16.87  22.03   \n",
       "9   18.86  18.03  21.87  ...      17.54  20.44    47.39  19.59  14.64  18.38   \n",
       "10  19.21  18.94  20.29  ...      17.07  20.31    42.52  21.11  16.16   20.2   \n",
       "11  21.76  17.14  19.13  ...      14.89  20.98    40.48   22.8  16.26  20.46   \n",
       "\n",
       "0  2015/16*                       \n",
       "1  Very Low    Low Medium   High  \n",
       "7     44.78  17.43  16.73  21.05  \n",
       "8     43.43  19.85  16.33   20.4  \n",
       "9     44.01  17.54  18.21  20.24  \n",
       "10    45.64  16.09  17.42  20.85  \n",
       "11    43.95  20.05  15.35  20.66  \n",
       "\n",
       "[5 rows x 22 columns]"
      ]
     },
     "execution_count": 378,
     "metadata": {},
     "output_type": "execute_result"
    }
   ],
   "source": [
    "df.head()"
   ]
  },
  {
   "cell_type": "code",
   "execution_count": 379,
   "metadata": {
    "collapsed": true
   },
   "outputs": [],
   "source": [
    "#PUT YOUR SEARCH QUERY TERMS HERE\n",
    "area='Isle of Wight'\n",
    "period='2014/15*'"
   ]
  },
  {
   "cell_type": "code",
   "execution_count": 380,
   "metadata": {
    "collapsed": false
   },
   "outputs": [
    {
     "name": "stdout",
     "output_type": "stream",
     "text": [
      "\n",
      "When it comes to Life Satisfaction, in the 2014/15*, the percentage breakdowns for Isle of Wight residents were as follows: Low: 5.41%, Medium: 13.46%, High: 50.73%, Very High: 30.4%\n",
      "\n",
      "\n",
      "When it comes to Worthwhile, in the 2014/15*, the percentage breakdowns for Isle of Wight residents were as follows: Low: 3.72%, Medium: 11.05%, High: 44.43%, Very High: 40.8%\n",
      "\n",
      "\n",
      "When it comes to Happy, in the 2014/15*, the percentage breakdowns for Isle of Wight residents were as follows: Low: 8.15%, Medium: 15.64%, High: 37.19%, Very High: 39.03%\n",
      "\n",
      "\n",
      "When it comes to Anxiety, in the 2014/15*, the percentage breakdowns for Isle of Wight residents were as follows: Very Low: 45.62%, Low: 20.67%, Medium: 15.59%, High: 18.12%\n",
      "\n"
     ]
    }
   ],
   "source": [
    "from collections import OrderedDict\n",
    "\n",
    "clists={'Anxiety':['Very Low','Low','Medium','High'],\n",
    "        'Life Satisfaction':['Low','Medium','High','Very High'],\n",
    "        'Happy':['Low','Medium','High','Very High'],\n",
    "        'Worthwhile':['Low','Medium','High','Very High']\n",
    "        }\n",
    "\n",
    "for t in ['Life Satisfaction','Worthwhile','Happy','Anxiety']:\n",
    "    txtlist=[]\n",
    "    df=getData(t)\n",
    "    pc=OrderedDict((b,df[df['Area Names']==area][period][b].iloc[0]) for b in clists[t])\n",
    "    txtlist.append('''\n",
    "When it comes to {typ}, in the {period}, the percentage breakdowns for {area} residents were as follows: {pc}\n",
    "'''.format(typ=t,period=period,area=area,pc=', '.join(['{}: {}%'.format(p,pc[p]) for p in pc])) )\n",
    "    print('\\n'.join(txtlist))"
   ]
  },
  {
   "cell_type": "code",
   "execution_count": null,
   "metadata": {
    "collapsed": true
   },
   "outputs": [],
   "source": []
  },
  {
   "cell_type": "code",
   "execution_count": 384,
   "metadata": {
    "collapsed": false
   },
   "outputs": [
    {
     "data": {
      "text/html": [
       "<div>\n",
       "<table border=\"1\" class=\"dataframe\">\n",
       "  <thead>\n",
       "    <tr>\n",
       "      <th>0</th>\n",
       "      <th>Area Codes</th>\n",
       "      <th>Area Names</th>\n",
       "      <th colspan=\"4\" halign=\"left\">2015/16*</th>\n",
       "    </tr>\n",
       "    <tr>\n",
       "      <th>1</th>\n",
       "      <th></th>\n",
       "      <th></th>\n",
       "      <th>Very Low</th>\n",
       "      <th>Low</th>\n",
       "      <th>Medium</th>\n",
       "      <th>High</th>\n",
       "    </tr>\n",
       "  </thead>\n",
       "  <tbody>\n",
       "    <tr>\n",
       "      <th>312</th>\n",
       "      <td>E09000013</td>\n",
       "      <td>Hammersmith and Fulham</td>\n",
       "      <td>27.86</td>\n",
       "      <td>22.58</td>\n",
       "      <td>19.01</td>\n",
       "      <td>30.56</td>\n",
       "    </tr>\n",
       "    <tr>\n",
       "      <th>144</th>\n",
       "      <td>E07000109</td>\n",
       "      <td>Gravesham</td>\n",
       "      <td>40.61</td>\n",
       "      <td>NaN</td>\n",
       "      <td>NaN</td>\n",
       "      <td>30.15</td>\n",
       "    </tr>\n",
       "    <tr>\n",
       "      <th>187</th>\n",
       "      <td>E07000152</td>\n",
       "      <td>East Northamptonshire</td>\n",
       "      <td>32.11</td>\n",
       "      <td>24.93</td>\n",
       "      <td>NaN</td>\n",
       "      <td>28.9</td>\n",
       "    </tr>\n",
       "    <tr>\n",
       "      <th>49</th>\n",
       "      <td>E06000043</td>\n",
       "      <td>Brighton and Hove</td>\n",
       "      <td>30.09</td>\n",
       "      <td>23.25</td>\n",
       "      <td>18.14</td>\n",
       "      <td>28.51</td>\n",
       "    </tr>\n",
       "    <tr>\n",
       "      <th>310</th>\n",
       "      <td>E09000011</td>\n",
       "      <td>Greenwich</td>\n",
       "      <td>32.26</td>\n",
       "      <td>22.65</td>\n",
       "      <td>16.6</td>\n",
       "      <td>28.49</td>\n",
       "    </tr>\n",
       "  </tbody>\n",
       "</table>\n",
       "</div>"
      ],
      "text/plain": [
       "0   Area Codes               Area Names 2015/16*                     \n",
       "1                                       Very Low    Low Medium   High\n",
       "312  E09000013  Hammersmith and Fulham     27.86  22.58  19.01  30.56\n",
       "144  E07000109                Gravesham    40.61    NaN    NaN  30.15\n",
       "187  E07000152    East Northamptonshire    32.11  24.93    NaN   28.9\n",
       "49   E06000043        Brighton and Hove    30.09  23.25  18.14  28.51\n",
       "310  E09000011                Greenwich    32.26  22.65   16.6  28.49"
      ]
     },
     "execution_count": 384,
     "metadata": {},
     "output_type": "execute_result"
    }
   ],
   "source": [
    "#who's stressed?\n",
    "df=getData('Anxiety')\n",
    "df[['Area Codes','Area Names','2015/16*']].sort_values([('2015/16*', 'High')], ascending=False).head()"
   ]
  },
  {
   "cell_type": "code",
   "execution_count": 385,
   "metadata": {
    "collapsed": false
   },
   "outputs": [
    {
     "data": {
      "text/html": [
       "<div>\n",
       "<table border=\"1\" class=\"dataframe\">\n",
       "  <thead>\n",
       "    <tr>\n",
       "      <th>0</th>\n",
       "      <th>Area Codes</th>\n",
       "      <th>Area Names</th>\n",
       "      <th colspan=\"4\" halign=\"left\">2015/16*</th>\n",
       "    </tr>\n",
       "    <tr>\n",
       "      <th>1</th>\n",
       "      <th></th>\n",
       "      <th></th>\n",
       "      <th>Very Low</th>\n",
       "      <th>Low</th>\n",
       "      <th>Medium</th>\n",
       "      <th>High</th>\n",
       "    </tr>\n",
       "  </thead>\n",
       "  <tbody>\n",
       "    <tr>\n",
       "      <th>304</th>\n",
       "      <td>E09000005</td>\n",
       "      <td>Brent</td>\n",
       "      <td>37.93</td>\n",
       "      <td>30.56</td>\n",
       "      <td>19.65</td>\n",
       "      <td>11.86</td>\n",
       "    </tr>\n",
       "    <tr>\n",
       "      <th>54</th>\n",
       "      <td>E06000049</td>\n",
       "      <td>Cheshire East</td>\n",
       "      <td>44.08</td>\n",
       "      <td>27.3</td>\n",
       "      <td>16.55</td>\n",
       "      <td>12.07</td>\n",
       "    </tr>\n",
       "    <tr>\n",
       "      <th>123</th>\n",
       "      <td>E07000084</td>\n",
       "      <td>Basingstoke and Deane</td>\n",
       "      <td>47.98</td>\n",
       "      <td>22.38</td>\n",
       "      <td>17.3</td>\n",
       "      <td>12.33</td>\n",
       "    </tr>\n",
       "    <tr>\n",
       "      <th>104</th>\n",
       "      <td>E07000065</td>\n",
       "      <td>Wealden</td>\n",
       "      <td>46.78</td>\n",
       "      <td>22.9</td>\n",
       "      <td>17.9</td>\n",
       "      <td>12.42</td>\n",
       "    </tr>\n",
       "    <tr>\n",
       "      <th>72</th>\n",
       "      <td>E07000026</td>\n",
       "      <td>Allerdale</td>\n",
       "      <td>42.98</td>\n",
       "      <td>23.76</td>\n",
       "      <td>20.59</td>\n",
       "      <td>12.66</td>\n",
       "    </tr>\n",
       "  </tbody>\n",
       "</table>\n",
       "</div>"
      ],
      "text/plain": [
       "0   Area Codes             Area Names 2015/16*                     \n",
       "1                                     Very Low    Low Medium   High\n",
       "304  E09000005                 Brent     37.93  30.56  19.65  11.86\n",
       "54   E06000049          Cheshire East    44.08   27.3  16.55  12.07\n",
       "123  E07000084  Basingstoke and Deane    47.98  22.38   17.3  12.33\n",
       "104  E07000065                Wealden    46.78   22.9   17.9  12.42\n",
       "72   E07000026              Allerdale    42.98  23.76  20.59  12.66"
      ]
     },
     "execution_count": 385,
     "metadata": {},
     "output_type": "execute_result"
    }
   ],
   "source": [
    "#who's chilled?\n",
    "df[['Area Codes','Area Names','2015/16*']].sort_values([('2015/16*', 'High')], ascending=True).head()"
   ]
  },
  {
   "cell_type": "code",
   "execution_count": null,
   "metadata": {
    "collapsed": true
   },
   "outputs": [],
   "source": []
  }
 ],
 "metadata": {
  "kernelspec": {
   "display_name": "Python 3",
   "language": "python",
   "name": "python3"
  },
  "language_info": {
   "codemirror_mode": {
    "name": "ipython",
    "version": 3
   },
   "file_extension": ".py",
   "mimetype": "text/x-python",
   "name": "python",
   "nbconvert_exporter": "python",
   "pygments_lexer": "ipython3",
   "version": "3.5.1"
  },
  "widgets": {
   "state": {},
   "version": "1.1.2"
  }
 },
 "nbformat": 4,
 "nbformat_minor": 0
}
