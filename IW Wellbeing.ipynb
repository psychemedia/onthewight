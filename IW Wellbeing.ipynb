{
 "cells": [
  {
   "cell_type": "markdown",
   "metadata": {},
   "source": [
    "# Personal Well-being in the UK\n",
    "\n",
    "*Personal well-being in the UK: local authority update, 2015 to 2016* https://www.ons.gov.uk/releases/personalwellbeingintheuklocalauthorityupdate2015to2016\n",
    "\n",
    "Quick notebook to parse out breakdowns of wellbeing metrics by Local Authority."
   ]
  },
  {
   "cell_type": "code",
   "execution_count": 1,
   "metadata": {
    "collapsed": true
   },
   "outputs": [],
   "source": [
    "import pandas as pd"
   ]
  },
  {
   "cell_type": "code",
   "execution_count": 5,
   "metadata": {
    "collapsed": true
   },
   "outputs": [],
   "source": [
    "#Download the data\n",
    "url='https://www.ons.gov.uk/file?uri=/peoplepopulationandcommunity/wellbeing/datasets/headlineestimatesofpersonalwellbeing/localauthorityupdate2015to2016/headlineestimatesofpersonalwellbeinglocalauthorityupdate2015to2016.xls'\n",
    "fn=url.split('/')[-1]\n",
    "!wget {url} -O data/{fn}"
   ]
  },
  {
   "cell_type": "code",
   "execution_count": 13,
   "metadata": {
    "collapsed": false
   },
   "outputs": [
    {
     "data": {
      "text/plain": [
       "['Contents',\n",
       " 'Life Satisfaction - Means ',\n",
       " 'Life Satisfaction - Thresholds',\n",
       " 'Worthwhile - Means',\n",
       " 'Worthwhile - Thresholds',\n",
       " 'Happy - Mean',\n",
       " 'Happy - Thresholds',\n",
       " 'Anxiety - Means',\n",
       " 'Anxiety - Thresholds']"
      ]
     },
     "execution_count": 13,
     "metadata": {},
     "output_type": "execute_result"
    }
   ],
   "source": [
    "#Check the sheetnames\n",
    "xl=pd.ExcelFile('data/{}'.format(fn))\n",
    "xl.sheet_names"
   ]
  },
  {
   "cell_type": "code",
   "execution_count": 363,
   "metadata": {
    "collapsed": false
   },
   "outputs": [],
   "source": [
    "#Function to load in the data from a particular sheet - some wrangling required to handle the multiindex\n",
    "#eg see http://stackoverflow.com/questions/39745627/setting-a-row-index-on-and-querying-a-pandas-dataframe-with-multi-index-columns\n",
    "def getData(typ):\n",
    "    df=pd.read_excel('data/{}'.format(fn),sheetname='{} - Thresholds'.format(typ),header=None,skiprows=4)\n",
    "\n",
    "    df.dropna(axis=0,inplace=True,how='all')\n",
    "    df[0][:3]=df[0][:3].fillna(method='backfill',axis=0)\n",
    "    df[1][:3]=df[1][:3].fillna(method='backfill',axis=0)\n",
    "    df[:2]=df[:2].fillna(method='ffill',axis=1)\n",
    "    df=df.T.set_index([0,1]).T\n",
    "    df=df.rename(columns=lambda x: x.strip())\n",
    "    df=df.drop(df.index[[0]])\n",
    "\n",
    "    df.set_index([('Area Codes','Area Codes'),\n",
    "                  ('Area Names','Area Names')], inplace=True)\n",
    "    df.index.names = ['Area Codes','Area Names']\n",
    "    df.sort_index(inplace=True)\n",
    "    #idx = pd.IndexSlice\n",
    "    #df.loc[idx['E06000047',:], :]['2011/12*']\n",
    "\n",
    "    df=df.reset_index()\n",
    "    df=df[~df['Area Names'].isnull()]\n",
    "    return df"
   ]
  },
  {
   "cell_type": "code",
   "execution_count": 308,
   "metadata": {
    "collapsed": false
   },
   "outputs": [
    {
     "data": {
      "text/html": [
       "<div>\n",
       "<table border=\"1\" class=\"dataframe\">\n",
       "  <thead>\n",
       "    <tr>\n",
       "      <th>0</th>\n",
       "      <th>Area Codes</th>\n",
       "      <th>Area Names</th>\n",
       "      <th colspan=\"4\" halign=\"left\">2011/12*</th>\n",
       "      <th colspan=\"4\" halign=\"left\">2012/13*</th>\n",
       "      <th>...</th>\n",
       "      <th colspan=\"2\" halign=\"left\">2013/14*</th>\n",
       "      <th colspan=\"4\" halign=\"left\">2014/15*</th>\n",
       "      <th colspan=\"4\" halign=\"left\">2015/16*</th>\n",
       "    </tr>\n",
       "    <tr>\n",
       "      <th>1</th>\n",
       "      <th></th>\n",
       "      <th></th>\n",
       "      <th>Low</th>\n",
       "      <th>Medium</th>\n",
       "      <th>High</th>\n",
       "      <th>Very High</th>\n",
       "      <th>Low</th>\n",
       "      <th>Medium</th>\n",
       "      <th>High</th>\n",
       "      <th>Very High</th>\n",
       "      <th>...</th>\n",
       "      <th>High</th>\n",
       "      <th>Very High</th>\n",
       "      <th>Low</th>\n",
       "      <th>Medium</th>\n",
       "      <th>High</th>\n",
       "      <th>Very High</th>\n",
       "      <th>Low</th>\n",
       "      <th>Medium</th>\n",
       "      <th>High</th>\n",
       "      <th>Very High</th>\n",
       "    </tr>\n",
       "  </thead>\n",
       "  <tbody>\n",
       "    <tr>\n",
       "      <th>7</th>\n",
       "      <td>E06000001</td>\n",
       "      <td>Hartlepool</td>\n",
       "      <td>6.4</td>\n",
       "      <td>19.29</td>\n",
       "      <td>43.95</td>\n",
       "      <td>30.37</td>\n",
       "      <td>8.26</td>\n",
       "      <td>17.89</td>\n",
       "      <td>47.88</td>\n",
       "      <td>25.96</td>\n",
       "      <td>...</td>\n",
       "      <td>47.54</td>\n",
       "      <td>28.14</td>\n",
       "      <td>6.67</td>\n",
       "      <td>13.44</td>\n",
       "      <td>47.12</td>\n",
       "      <td>32.78</td>\n",
       "      <td>6.8</td>\n",
       "      <td>16.3</td>\n",
       "      <td>45.43</td>\n",
       "      <td>31.47</td>\n",
       "    </tr>\n",
       "    <tr>\n",
       "      <th>8</th>\n",
       "      <td>E06000002</td>\n",
       "      <td>Middlesbrough</td>\n",
       "      <td>7.37</td>\n",
       "      <td>16.79</td>\n",
       "      <td>48.1</td>\n",
       "      <td>27.75</td>\n",
       "      <td>7.11</td>\n",
       "      <td>19.44</td>\n",
       "      <td>45.45</td>\n",
       "      <td>28</td>\n",
       "      <td>...</td>\n",
       "      <td>48.72</td>\n",
       "      <td>26.8</td>\n",
       "      <td>5.95</td>\n",
       "      <td>17.97</td>\n",
       "      <td>46.97</td>\n",
       "      <td>29.12</td>\n",
       "      <td>4.92</td>\n",
       "      <td>13.57</td>\n",
       "      <td>51.93</td>\n",
       "      <td>29.58</td>\n",
       "    </tr>\n",
       "    <tr>\n",
       "      <th>9</th>\n",
       "      <td>E06000003</td>\n",
       "      <td>Redcar and Cleveland</td>\n",
       "      <td>6.7</td>\n",
       "      <td>19.07</td>\n",
       "      <td>45.6</td>\n",
       "      <td>28.64</td>\n",
       "      <td>6.14</td>\n",
       "      <td>17.5</td>\n",
       "      <td>45</td>\n",
       "      <td>31.36</td>\n",
       "      <td>...</td>\n",
       "      <td>47.3</td>\n",
       "      <td>30.38</td>\n",
       "      <td>6.41</td>\n",
       "      <td>12.13</td>\n",
       "      <td>50.22</td>\n",
       "      <td>31.24</td>\n",
       "      <td>6.01</td>\n",
       "      <td>15.08</td>\n",
       "      <td>45.75</td>\n",
       "      <td>33.16</td>\n",
       "    </tr>\n",
       "    <tr>\n",
       "      <th>10</th>\n",
       "      <td>E06000004</td>\n",
       "      <td>Stockton-on-Tees</td>\n",
       "      <td>5.04</td>\n",
       "      <td>16.99</td>\n",
       "      <td>49.98</td>\n",
       "      <td>27.99</td>\n",
       "      <td>5.14</td>\n",
       "      <td>15.73</td>\n",
       "      <td>53.71</td>\n",
       "      <td>25.42</td>\n",
       "      <td>...</td>\n",
       "      <td>51.59</td>\n",
       "      <td>28.57</td>\n",
       "      <td>6.72</td>\n",
       "      <td>13.29</td>\n",
       "      <td>46.97</td>\n",
       "      <td>33.02</td>\n",
       "      <td>5.03</td>\n",
       "      <td>15.89</td>\n",
       "      <td>49.03</td>\n",
       "      <td>30.05</td>\n",
       "    </tr>\n",
       "    <tr>\n",
       "      <th>11</th>\n",
       "      <td>E06000005</td>\n",
       "      <td>Darlington</td>\n",
       "      <td>6.12</td>\n",
       "      <td>20.01</td>\n",
       "      <td>44.19</td>\n",
       "      <td>29.68</td>\n",
       "      <td>6.51</td>\n",
       "      <td>15.81</td>\n",
       "      <td>49.39</td>\n",
       "      <td>28.3</td>\n",
       "      <td>...</td>\n",
       "      <td>53.79</td>\n",
       "      <td>26.43</td>\n",
       "      <td>4.28</td>\n",
       "      <td>15.03</td>\n",
       "      <td>50.52</td>\n",
       "      <td>30.17</td>\n",
       "      <td>5.63</td>\n",
       "      <td>14.42</td>\n",
       "      <td>48.5</td>\n",
       "      <td>31.45</td>\n",
       "    </tr>\n",
       "  </tbody>\n",
       "</table>\n",
       "<p>5 rows × 22 columns</p>\n",
       "</div>"
      ],
      "text/plain": [
       "0  Area Codes            Area Names 2011/12*                         2012/13*  \\\n",
       "1                                        Low Medium   High Very High      Low   \n",
       "7   E06000001            Hartlepool      6.4  19.29  43.95     30.37     8.26   \n",
       "8   E06000002         Middlesbrough     7.37  16.79   48.1     27.75     7.11   \n",
       "9   E06000003  Redcar and Cleveland      6.7  19.07   45.6     28.64     6.14   \n",
       "10  E06000004      Stockton-on-Tees     5.04  16.99  49.98     27.99     5.14   \n",
       "11  E06000005            Darlington     6.12  20.01  44.19     29.68     6.51   \n",
       "\n",
       "0                             ...    2013/14*           2014/15*         \\\n",
       "1  Medium   High Very High    ...        High Very High      Low Medium   \n",
       "7   17.89  47.88     25.96    ...       47.54     28.14     6.67  13.44   \n",
       "8   19.44  45.45        28    ...       48.72      26.8     5.95  17.97   \n",
       "9    17.5     45     31.36    ...        47.3     30.38     6.41  12.13   \n",
       "10  15.73  53.71     25.42    ...       51.59     28.57     6.72  13.29   \n",
       "11  15.81  49.39      28.3    ...       53.79     26.43     4.28  15.03   \n",
       "\n",
       "0                   2015/16*                          \n",
       "1    High Very High      Low Medium   High Very High  \n",
       "7   47.12     32.78      6.8   16.3  45.43     31.47  \n",
       "8   46.97     29.12     4.92  13.57  51.93     29.58  \n",
       "9   50.22     31.24     6.01  15.08  45.75     33.16  \n",
       "10  46.97     33.02     5.03  15.89  49.03     30.05  \n",
       "11  50.52     30.17     5.63  14.42   48.5     31.45  \n",
       "\n",
       "[5 rows x 22 columns]"
      ]
     },
     "execution_count": 308,
     "metadata": {},
     "output_type": "execute_result"
    }
   ],
   "source": [
    "df.head()"
   ]
  },
  {
   "cell_type": "code",
   "execution_count": null,
   "metadata": {
    "collapsed": true
   },
   "outputs": [],
   "source": [
    "#PUT YOUR SEARCH QUERY TERMS HERE\n",
    "area='Isle of Wight'\n",
    "period='2014/15*'"
   ]
  },
  {
   "cell_type": "code",
   "execution_count": 362,
   "metadata": {
    "collapsed": false
   },
   "outputs": [
    {
     "name": "stdout",
     "output_type": "stream",
     "text": [
      "\n",
      "When it comes to Life Satisfaction, in the 2014/15*, the percentage breakdowns for Isle of Wight residents were as follows: Low: 5.41%, Medium: 13.46%, High: 50.73%, Very High: 30.4%\n",
      "\n",
      "\n",
      "When it comes to Worthwhile, in the 2014/15*, the percentage breakdowns for Isle of Wight residents were as follows: Low: 3.72%, Medium: 11.05%, High: 44.43%, Very High: 40.8%\n",
      "\n",
      "\n",
      "When it comes to Happy, in the 2014/15*, the percentage breakdowns for Isle of Wight residents were as follows: Low: 8.15%, Medium: 15.64%, High: 37.19%, Very High: 39.03%\n",
      "\n",
      "\n",
      "When it comes to Anxiety, in the 2014/15*, the percentage breakdowns for Isle of Wight residents were as follows: Very Low: 45.62%, Low: 20.67%, Medium: 15.59%, High: 18.12%\n",
      "\n"
     ]
    }
   ],
   "source": [
    "from collections import OrderedDict\n",
    "pc=OrderedDict((b,df[df['Area Names']==area][period][b].iloc[0]) for b in ['Low','Medium','High','Very High'])\n",
    "\n",
    "clists={'Anxiety':['Very Low','Low','Medium','High'],\n",
    "        'Life Satisfaction':['Low','Medium','High','Very High'],\n",
    "        'Happy':['Low','Medium','High','Very High'],\n",
    "        'Worthwhile':['Low','Medium','High','Very High']\n",
    "        }\n",
    "\n",
    "for t in ['Life Satisfaction','Worthwhile','Happy','Anxiety']:\n",
    "    txtlist=[]\n",
    "    df=getData(t)\n",
    "    pc=OrderedDict((b,df[df['Area Names']==area][period][b].iloc[0]) for b in clists[t])\n",
    "    txtlist.append('''\n",
    "When it comes to {typ}, in the {period}, the percentage breakdowns for {area} residents were as follows: {pc}\n",
    "'''.format(typ=t,period=period,area=area,pc=', '.join(['{}: {}%'.format(p,pc[p]) for p in pc])) )\n",
    "    print('\\n'.join(txtlist))"
   ]
  },
  {
   "cell_type": "code",
   "execution_count": null,
   "metadata": {
    "collapsed": true
   },
   "outputs": [],
   "source": []
  },
  {
   "cell_type": "code",
   "execution_count": null,
   "metadata": {
    "collapsed": true
   },
   "outputs": [],
   "source": []
  }
 ],
 "metadata": {
  "kernelspec": {
   "display_name": "Python 3",
   "language": "python",
   "name": "python3"
  },
  "language_info": {
   "codemirror_mode": {
    "name": "ipython",
    "version": 3
   },
   "file_extension": ".py",
   "mimetype": "text/x-python",
   "name": "python",
   "nbconvert_exporter": "python",
   "pygments_lexer": "ipython3",
   "version": "3.5.1"
  },
  "widgets": {
   "state": {},
   "version": "1.1.2"
  }
 },
 "nbformat": 4,
 "nbformat_minor": 0
}
