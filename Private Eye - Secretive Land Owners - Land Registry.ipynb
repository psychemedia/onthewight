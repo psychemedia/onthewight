{
 "cells": [
  {
   "cell_type": "markdown",
   "metadata": {},
   "source": [
    "# Private Eye - UK Land Ownership By Offshore Companies\n",
    "\n",
    "*This notebook makes use of data acquired by Private Eye using an FOI request to the Land Registry revealing \"all properties acquired by offshore companies from 1999 to 2014, showing the address, the offshore corporate owners (some have more than one) and, where available, the price paid\", available via http://www.private-eye.co.uk/issue-1414/registry*.\n",
    "\n",
    "\n",
    "*A couple of things to note about the data:*\n",
    "- *it is not made available under an open license;*\n",
    "- *the data file linked to by Private Eye is in an xlsb format. For use in this notebook, the data needs converting to an xlsx or csv format (for example by opening it in Microsoft Excel and then resaving it.*\n",
    "\n",
    "This notebook provides a few illustrations of how to work with the data and the sorts of discussions we can have with it."
   ]
  },
  {
   "cell_type": "markdown",
   "metadata": {},
   "source": [
    "## Opening the data file\n",
    "\n",
    "To being with, we can open the data file into a dataframe using the *pandas* data analysis package. This package provides a wide range of support for working with and analysing tabular datasets."
   ]
  },
  {
   "cell_type": "code",
   "execution_count": 10,
   "metadata": {
    "collapsed": false
   },
   "outputs": [],
   "source": [
    "#Load in the pandas package\n",
    "import pandas as pd\n",
    "\n",
    "#Import the data - it's contained within a single sheet within the spreadsheet\n",
    "df=pd.read_excel('overseas-company-dataset-december-2014.xlsx',encode='utf8')"
   ]
  },
  {
   "cell_type": "markdown",
   "metadata": {},
   "source": [
    "## Preview the Data\n",
    "\n",
    "We can preview the data in a couple of ways. For example, we can inspect the column headings:"
   ]
  },
  {
   "cell_type": "code",
   "execution_count": 15,
   "metadata": {
    "collapsed": false
   },
   "outputs": [
    {
     "data": {
      "text/plain": [
       "Index([u'Title number', u'Year', u'Date', u'District',\n",
       "       u'Administrative county', u'Price paid', u'Price (text infill)',\n",
       "       u'Proprietor', u'Country/territory', u'Variable', u'Address',\n",
       "       u'Postcode', u'Tenure'],\n",
       "      dtype='object')"
      ]
     },
     "execution_count": 15,
     "metadata": {},
     "output_type": "execute_result"
    }
   ],
   "source": [
    "df.columns"
   ]
  },
  {
   "cell_type": "markdown",
   "metadata": {},
   "source": [
    "We can see how many rows are contained in the datatable:"
   ]
  },
  {
   "cell_type": "code",
   "execution_count": 23,
   "metadata": {
    "collapsed": false
   },
   "outputs": [
    {
     "data": {
      "text/plain": [
       "100997"
      ]
     },
     "execution_count": 23,
     "metadata": {},
     "output_type": "execute_result"
    }
   ],
   "source": [
    "len(df)"
   ]
  },
  {
   "cell_type": "markdown",
   "metadata": {},
   "source": [
    "We can look at the first few rows of the dataset to get a feel for what's there:"
   ]
  },
  {
   "cell_type": "code",
   "execution_count": 14,
   "metadata": {
    "collapsed": false,
    "scrolled": true
   },
   "outputs": [
    {
     "data": {
      "text/html": [
       "<div>\n",
       "<table border=\"1\" class=\"dataframe\">\n",
       "  <thead>\n",
       "    <tr style=\"text-align: right;\">\n",
       "      <th></th>\n",
       "      <th>Title number</th>\n",
       "      <th>Year</th>\n",
       "      <th>Date</th>\n",
       "      <th>District</th>\n",
       "      <th>Administrative county</th>\n",
       "      <th>Price paid</th>\n",
       "      <th>Price (text infill)</th>\n",
       "      <th>Proprietor</th>\n",
       "      <th>Country/territory</th>\n",
       "      <th>Variable</th>\n",
       "      <th>Address</th>\n",
       "      <th>Postcode</th>\n",
       "      <th>Tenure</th>\n",
       "    </tr>\n",
       "  </thead>\n",
       "  <tbody>\n",
       "    <tr>\n",
       "      <th>0</th>\n",
       "      <td>NGL676405</td>\n",
       "      <td>2014</td>\n",
       "      <td>2014-12-22</td>\n",
       "      <td>CITY OF WESTMINSTER</td>\n",
       "      <td>GREATER LONDON</td>\n",
       "      <td>2950000</td>\n",
       "      <td>2950000</td>\n",
       "      <td>EVERLINE PROPERTY II LIMITED</td>\n",
       "      <td>BRITISH VIRGIN ISLANDS</td>\n",
       "      <td>Proprietor(1)</td>\n",
       "      <td>Flat 6, Queensbury Court, 2 Hamilton Mews, Lon...</td>\n",
       "      <td>W1J 7HA</td>\n",
       "      <td>Leasehold</td>\n",
       "    </tr>\n",
       "    <tr>\n",
       "      <th>1</th>\n",
       "      <td>SY695373</td>\n",
       "      <td>2014</td>\n",
       "      <td>2014-12-19</td>\n",
       "      <td>RUNNYMEDE</td>\n",
       "      <td>SURREY</td>\n",
       "      <td>5150000</td>\n",
       "      <td>5150000</td>\n",
       "      <td>NEWINGTON CAUSEWAY INC</td>\n",
       "      <td>BRITISH VIRGIN ISLANDS</td>\n",
       "      <td>Proprietor(1)</td>\n",
       "      <td>land at Pound Road, Chertsey</td>\n",
       "      <td>NaN</td>\n",
       "      <td>Freehold</td>\n",
       "    </tr>\n",
       "    <tr>\n",
       "      <th>2</th>\n",
       "      <td>K600274</td>\n",
       "      <td>2014</td>\n",
       "      <td>2014-12-19</td>\n",
       "      <td>MAIDSTONE</td>\n",
       "      <td>KENT</td>\n",
       "      <td>2100000</td>\n",
       "      <td>2100000</td>\n",
       "      <td>EATON ASSETS UK LIMITED</td>\n",
       "      <td>JERSEY</td>\n",
       "      <td>Proprietor(1)</td>\n",
       "      <td>Priory Gate, Union Street, Maidstone</td>\n",
       "      <td>NaN</td>\n",
       "      <td>Freehold</td>\n",
       "    </tr>\n",
       "  </tbody>\n",
       "</table>\n",
       "</div>"
      ],
      "text/plain": [
       "  Title number  Year       Date             District Administrative county  \\\n",
       "0    NGL676405  2014 2014-12-22  CITY OF WESTMINSTER        GREATER LONDON   \n",
       "1     SY695373  2014 2014-12-19            RUNNYMEDE                SURREY   \n",
       "2      K600274  2014 2014-12-19            MAIDSTONE                  KENT   \n",
       "\n",
       "  Price paid Price (text infill)                    Proprietor  \\\n",
       "0    2950000             2950000  EVERLINE PROPERTY II LIMITED   \n",
       "1    5150000             5150000        NEWINGTON CAUSEWAY INC   \n",
       "2    2100000             2100000       EATON ASSETS UK LIMITED   \n",
       "\n",
       "        Country/territory       Variable  \\\n",
       "0  BRITISH VIRGIN ISLANDS  Proprietor(1)   \n",
       "1  BRITISH VIRGIN ISLANDS  Proprietor(1)   \n",
       "2                  JERSEY  Proprietor(1)   \n",
       "\n",
       "                                             Address Postcode     Tenure  \n",
       "0  Flat 6, Queensbury Court, 2 Hamilton Mews, Lon...  W1J 7HA  Leasehold  \n",
       "1                       land at Pound Road, Chertsey      NaN   Freehold  \n",
       "2               Priory Gate, Union Street, Maidstone      NaN   Freehold  "
      ]
     },
     "execution_count": 14,
     "metadata": {},
     "output_type": "execute_result"
    }
   ],
   "source": [
    "#Preview the first three rows\n",
    "df.head(3)"
   ]
  },
  {
   "cell_type": "markdown",
   "metadata": {},
   "source": [
    "We can get a summary (and count) of how many register entries are made in each territory, limiting the display to the top 10:"
   ]
  },
  {
   "cell_type": "code",
   "execution_count": 31,
   "metadata": {
    "collapsed": false,
    "scrolled": true
   },
   "outputs": [
    {
     "data": {
      "text/plain": [
       "BRITISH VIRGIN ISLANDS    22155\n",
       "JERSEY                    20590\n",
       "ISLE OF MAN               12061\n",
       "GUERNSEY                  11536\n",
       "UNABLE TO CONFIRM          3282\n",
       "MAURITIUS                  2782\n",
       "GIBRALTAR                  2657\n",
       "LUXEMBOURG                 2513\n",
       "PANAMA                     1963\n",
       "EIRE                       1957\n",
       "Name: Country/territory, dtype: int64"
      ]
     },
     "execution_count": 31,
     "metadata": {},
     "output_type": "execute_result"
    }
   ],
   "source": [
    "df['Country/territory'].value_counts()[:10]"
   ]
  },
  {
   "cell_type": "markdown",
   "metadata": {},
   "source": [
    "You might realise that it's simple enough to run a similar command to get counts or register entries made in a particular *Administrative county*:"
   ]
  },
  {
   "cell_type": "code",
   "execution_count": 33,
   "metadata": {
    "collapsed": false
   },
   "outputs": [
    {
     "data": {
      "text/plain": [
       "GREATER LONDON        43839\n",
       "GREATER MANCHESTER     5283\n",
       "WEST YORKSHIRE         2638\n",
       "MERSEYSIDE             2574\n",
       "WEST MIDLANDS          2451\n",
       "SURREY                 2399\n",
       "KENT                   1885\n",
       "ESSEX                  1742\n",
       "LANCASHIRE             1608\n",
       "TYNE AND WEAR          1494\n",
       "Name: Administrative county, dtype: int64"
      ]
     },
     "execution_count": 33,
     "metadata": {},
     "output_type": "execute_result"
    }
   ],
   "source": [
    "df['Administrative county'].value_counts()[:10]"
   ]
  },
  {
   "cell_type": "markdown",
   "metadata": {},
   "source": [
    "or *District*:"
   ]
  },
  {
   "cell_type": "code",
   "execution_count": 35,
   "metadata": {
    "collapsed": false
   },
   "outputs": [
    {
     "data": {
      "text/plain": [
       "CITY OF WESTMINSTER       13128\n",
       "KENSINGTON AND CHELSEA     6769\n",
       "CAMDEN                     2431\n",
       "TOWER HAMLETS              1837\n",
       "WANDSWORTH                 1834\n",
       "MANCHESTER                 1625\n",
       "LAMBETH                    1576\n",
       "LEEDS                      1534\n",
       "HAMMERSMITH AND FULHAM     1482\n",
       "BARNET                     1351\n",
       "Name: District, dtype: int64"
      ]
     },
     "execution_count": 35,
     "metadata": {},
     "output_type": "execute_result"
    }
   ],
   "source": [
    "df['District'].value_counts()[:10]"
   ]
  },
  {
   "cell_type": "markdown",
   "metadata": {},
   "source": [
    "or *Proprietor*:"
   ]
  },
  {
   "cell_type": "code",
   "execution_count": 36,
   "metadata": {
    "collapsed": false
   },
   "outputs": [
    {
     "data": {
      "text/plain": [
       "WALLACE PROPERTIES LIMITED                                        2255\n",
       "PROFITABLE PLOTS PTE LTD                                          1206\n",
       "SOLARFAIR INVESTMENTS LIMITED                                     1178\n",
       "BNP PARIBAS SECURITIES SERVICES TRUST COMPANY (JERSEY) LIMITED     704\n",
       "BNP PARIBAS SECURITIES SERVICES TRUST COMPANY LIMITED              670\n",
       "WESTMINSTER BRIDGE HOLDINGS B.V.                                   481\n",
       "STONEGATE PUB COMPANY LIMITED                                      458\n",
       "RBC TRUSTEES (CI) LIMITED                                          454\n",
       "ADRIATIC LAND 2 LIMITED                                            444\n",
       "ANDERTON ESTATE INVESTMENTS LIMITED                                423\n",
       "Name: Proprietor, dtype: int64"
      ]
     },
     "execution_count": 36,
     "metadata": {},
     "output_type": "execute_result"
    }
   ],
   "source": [
    "df['Proprietor'].value_counts()[:10]"
   ]
  },
  {
   "cell_type": "markdown",
   "metadata": {},
   "source": [
    "Hmm... is that an easy way of finding all the pubs owned by the Stonegate Pub Company (whose [website](http://www.stonegatepubs.com/) claims they currently operate *\"over 660 pubs and bars across the UK\"*?! (Actually, it looks as if there wesbite can be esily scraped to grab that data...)\n",
    "\n",
    "Or properties that have possibly had solar panels installed, (thanks to Simon Perry of OnTheWight.com for that observation). In which case, do any of those properties look like they may have something in common...?"
   ]
  },
  {
   "cell_type": "markdown",
   "metadata": {},
   "source": [
    "## Poking Around Particular Companies\n",
    "\n",
    "Let's see if we can learn anything by eyeballing the *Address* field for properties associated with a particular company:"
   ]
  },
  {
   "cell_type": "code",
   "execution_count": 47,
   "metadata": {
    "collapsed": false
   },
   "outputs": [
    {
     "data": {
      "text/plain": [
       "11468    Airspace above 19 Stillman Close, Bristol, BS1...\n",
       "11469    Airspace above 3 Barton Green, Barton Hill Roa...\n",
       "11470    Airspace above 8 Cousins Close, Bristol, BS10 7XH\n",
       "11471    Airspace above 15 Barton Green, Barton Hill Ro...\n",
       "11472    Airspace above 4 Catherine Mead Street, Bristo...\n",
       "11473    Airspace above 5 Catherine Mead Street, Bristo...\n",
       "11474    Airspace above 129 Ashton Drive, Bristol, BS3 2PS\n",
       "11475    Airspace above 72 Lawrence Weston Road, Bristo...\n",
       "11476    Airspace above 409 Bishport Avenue, Bristol, B...\n",
       "11477    Airspace above 17 Livale Road, Bettws, Newport...\n",
       "Name: Address, dtype: object"
      ]
     },
     "execution_count": 47,
     "metadata": {},
     "output_type": "execute_result"
    }
   ],
   "source": [
    "df[df['Proprietor']=='SOLARFAIR INVESTMENTS LIMITED']['Address'][:10]"
   ]
  },
  {
   "cell_type": "code",
   "execution_count": 48,
   "metadata": {
    "collapsed": false
   },
   "outputs": [
    {
     "data": {
      "text/plain": [
       "Leasehold    1178\n",
       "Name: Tenure, dtype: int64"
      ]
     },
     "execution_count": 48,
     "metadata": {},
     "output_type": "execute_result"
    }
   ],
   "source": [
    "df[df['Proprietor']=='SOLARFAIR INVESTMENTS LIMITED']['Tenure'].value_counts()"
   ]
  },
  {
   "cell_type": "markdown",
   "metadata": {},
   "source": [
    "So - *\"airspace above\"*... It seems that many companies installing domestic solar panels on residential properties as part of a leasing agreement also took a lease out on the \"air above\" those properties [Loosemores Solicitors - Conveyancing and Solar Panels](http://www.loosemores.co.uk/solar-panels/).\n",
    "\n",
    "Are any of the other highly represented companies engaging in similar leasing agreements?"
   ]
  },
  {
   "cell_type": "code",
   "execution_count": 55,
   "metadata": {
    "collapsed": false
   },
   "outputs": [
    {
     "data": {
      "text/plain": [
       "SOLARFAIR INVESTMENTS LIMITED    1071\n",
       "AYOT LIMITED                      194\n",
       "WARRAWEE INVESTMENTS LIMITED        7\n",
       "Name: Proprietor, dtype: int64"
      ]
     },
     "execution_count": 55,
     "metadata": {},
     "output_type": "execute_result"
    }
   ],
   "source": [
    "df[df['Address'].str.contains('Airspace', na=False)]['Proprietor'].value_counts()[:3]"
   ]
  },
  {
   "cell_type": "markdown",
   "metadata": {},
   "source": [
    "*Ayot Limited* perhaps...?"
   ]
  },
  {
   "cell_type": "markdown",
   "metadata": {},
   "source": [
    "A couple of other patterns we might look for when it comes to individual companies. First, are they concentrating by postcode (and might that indicate something?)"
   ]
  },
  {
   "cell_type": "code",
   "execution_count": 65,
   "metadata": {
    "collapsed": false
   },
   "outputs": [
    {
     "data": {
      "text/plain": [
       "Proprietor                           Postcode\n",
       "WESTMINSTER BRIDGE HOLDINGS B.V.     SE1 7UT     481\n",
       "CVI LEEDS WATERSIDE SARL             LS12 1DW     82\n",
       "TABIT LIMITED                        M50 1DB      81\n",
       "WINOCA LIMITED                       M3 6GF       81\n",
       "CASHALSTONE DEVELOPMENTS LIMITED     E1 0HJ       79\n",
       "LSP RI MOORE HOUSE LIMITED           SW1W 8DU     75\n",
       "ANDERTON ESTATE INVESTMENTS LIMITED  WA11 9AP     68\n",
       "LSP RI MOORE HOUSE LIMITED           SW1W 8DT     68\n",
       "CUBIC SPV LIMITED                    NG1 5GD      67\n",
       "SARUNAS PROPERTIES LIMITED           L8 0PY       63\n",
       "dtype: int64"
      ]
     },
     "execution_count": 65,
     "metadata": {},
     "output_type": "execute_result"
    }
   ],
   "source": [
    "df[['Proprietor','Postcode']].groupby(['Proprietor','Postcode']).agg(len).sort_values(ascending=False)[:10]"
   ]
  },
  {
   "cell_type": "markdown",
   "metadata": {},
   "source": [
    "Let's see if we can (by eye) spot any commonalities in the listings for the first of those:"
   ]
  },
  {
   "cell_type": "code",
   "execution_count": 68,
   "metadata": {
    "collapsed": false
   },
   "outputs": [
    {
     "data": {
      "text/html": [
       "<div>\n",
       "<table border=\"1\" class=\"dataframe\">\n",
       "  <thead>\n",
       "    <tr style=\"text-align: right;\">\n",
       "      <th></th>\n",
       "      <th>Title number</th>\n",
       "      <th>Year</th>\n",
       "      <th>Date</th>\n",
       "      <th>District</th>\n",
       "      <th>Administrative county</th>\n",
       "      <th>Price paid</th>\n",
       "      <th>Price (text infill)</th>\n",
       "      <th>Proprietor</th>\n",
       "      <th>Country/territory</th>\n",
       "      <th>Variable</th>\n",
       "      <th>Address</th>\n",
       "      <th>Postcode</th>\n",
       "      <th>Tenure</th>\n",
       "    </tr>\n",
       "  </thead>\n",
       "  <tbody>\n",
       "    <tr>\n",
       "      <th>16012</th>\n",
       "      <td>TGL332629</td>\n",
       "      <td>2013</td>\n",
       "      <td>2013-05-07</td>\n",
       "      <td>LAMBETH</td>\n",
       "      <td>GREATER LONDON</td>\n",
       "      <td>157500</td>\n",
       "      <td>157500</td>\n",
       "      <td>WESTMINSTER BRIDGE HOLDINGS BV</td>\n",
       "      <td>NETHERLANDS</td>\n",
       "      <td>Proprietor(1)</td>\n",
       "      <td>Flat 953, Park Plaza Westminster Bridge, 200 W...</td>\n",
       "      <td>SE1 7UT</td>\n",
       "      <td>Leasehold</td>\n",
       "    </tr>\n",
       "    <tr>\n",
       "      <th>36021</th>\n",
       "      <td>TGL349480</td>\n",
       "      <td>2011</td>\n",
       "      <td>2011-07-12</td>\n",
       "      <td>LAMBETH</td>\n",
       "      <td>GREATER LONDON</td>\n",
       "      <td>NaN</td>\n",
       "      <td>£120,000 plus VAT</td>\n",
       "      <td>WESTMINSTER BRIDGE HOLDINGS B.V.</td>\n",
       "      <td>NETHERLANDS</td>\n",
       "      <td>Proprietor(1)</td>\n",
       "      <td>Room 1228, Park Plaza Westminster Bridge, 200 ...</td>\n",
       "      <td>SE1 7UT</td>\n",
       "      <td>Leasehold</td>\n",
       "    </tr>\n",
       "    <tr>\n",
       "      <th>36022</th>\n",
       "      <td>TGL349482</td>\n",
       "      <td>2011</td>\n",
       "      <td>2011-07-12</td>\n",
       "      <td>LAMBETH</td>\n",
       "      <td>GREATER LONDON</td>\n",
       "      <td>NaN</td>\n",
       "      <td>£120,000 plus VAT</td>\n",
       "      <td>WESTMINSTER BRIDGE HOLDINGS B.V.</td>\n",
       "      <td>NETHERLANDS</td>\n",
       "      <td>Proprietor(1)</td>\n",
       "      <td>Room 1230, Park Plaza Westminster Bridge, 200 ...</td>\n",
       "      <td>SE1 7UT</td>\n",
       "      <td>Leasehold</td>\n",
       "    </tr>\n",
       "    <tr>\n",
       "      <th>36023</th>\n",
       "      <td>TGL349483</td>\n",
       "      <td>2011</td>\n",
       "      <td>2011-07-12</td>\n",
       "      <td>LAMBETH</td>\n",
       "      <td>GREATER LONDON</td>\n",
       "      <td>NaN</td>\n",
       "      <td>£120,000 plus VAT</td>\n",
       "      <td>WESTMINSTER BRIDGE HOLDINGS B.V.</td>\n",
       "      <td>NETHERLANDS</td>\n",
       "      <td>Proprietor(1)</td>\n",
       "      <td>Room 1231, Park Plaza Westminster Bridge, 200 ...</td>\n",
       "      <td>SE1 7UT</td>\n",
       "      <td>Leasehold</td>\n",
       "    </tr>\n",
       "    <tr>\n",
       "      <th>36024</th>\n",
       "      <td>TGL349485</td>\n",
       "      <td>2011</td>\n",
       "      <td>2011-07-12</td>\n",
       "      <td>LAMBETH</td>\n",
       "      <td>GREATER LONDON</td>\n",
       "      <td>NaN</td>\n",
       "      <td>£120,000 plus VAT</td>\n",
       "      <td>WESTMINSTER BRIDGE HOLDINGS B.V.</td>\n",
       "      <td>NETHERLANDS</td>\n",
       "      <td>Proprietor(1)</td>\n",
       "      <td>Room 1238, Park Plaza Westminster Bridge, 200 ...</td>\n",
       "      <td>SE1 7UT</td>\n",
       "      <td>Leasehold</td>\n",
       "    </tr>\n",
       "  </tbody>\n",
       "</table>\n",
       "</div>"
      ],
      "text/plain": [
       "      Title number  Year       Date District Administrative county Price paid  \\\n",
       "16012    TGL332629  2013 2013-05-07  LAMBETH        GREATER LONDON     157500   \n",
       "36021    TGL349480  2011 2011-07-12  LAMBETH        GREATER LONDON        NaN   \n",
       "36022    TGL349482  2011 2011-07-12  LAMBETH        GREATER LONDON        NaN   \n",
       "36023    TGL349483  2011 2011-07-12  LAMBETH        GREATER LONDON        NaN   \n",
       "36024    TGL349485  2011 2011-07-12  LAMBETH        GREATER LONDON        NaN   \n",
       "\n",
       "      Price (text infill)                        Proprietor Country/territory  \\\n",
       "16012              157500    WESTMINSTER BRIDGE HOLDINGS BV       NETHERLANDS   \n",
       "36021   £120,000 plus VAT  WESTMINSTER BRIDGE HOLDINGS B.V.       NETHERLANDS   \n",
       "36022   £120,000 plus VAT  WESTMINSTER BRIDGE HOLDINGS B.V.       NETHERLANDS   \n",
       "36023   £120,000 plus VAT  WESTMINSTER BRIDGE HOLDINGS B.V.       NETHERLANDS   \n",
       "36024   £120,000 plus VAT  WESTMINSTER BRIDGE HOLDINGS B.V.       NETHERLANDS   \n",
       "\n",
       "            Variable                                            Address  \\\n",
       "16012  Proprietor(1)  Flat 953, Park Plaza Westminster Bridge, 200 W...   \n",
       "36021  Proprietor(1)  Room 1228, Park Plaza Westminster Bridge, 200 ...   \n",
       "36022  Proprietor(1)  Room 1230, Park Plaza Westminster Bridge, 200 ...   \n",
       "36023  Proprietor(1)  Room 1231, Park Plaza Westminster Bridge, 200 ...   \n",
       "36024  Proprietor(1)  Room 1238, Park Plaza Westminster Bridge, 200 ...   \n",
       "\n",
       "      Postcode     Tenure  \n",
       "16012  SE1 7UT  Leasehold  \n",
       "36021  SE1 7UT  Leasehold  \n",
       "36022  SE1 7UT  Leasehold  \n",
       "36023  SE1 7UT  Leasehold  \n",
       "36024  SE1 7UT  Leasehold  "
      ]
     },
     "execution_count": 68,
     "metadata": {},
     "output_type": "execute_result"
    }
   ],
   "source": [
    "df[df['Proprietor'].str.startswith(\"WESTMINSTER BRIDGE\")][:5]"
   ]
  },
  {
   "cell_type": "markdown",
   "metadata": {},
   "source": [
    "So - different lots in a particular building, perhaps?\n",
    "\n",
    "Looking at the title numbers, it might be worth quickly ordering on the *Title* column and eyeballing the result to see if there are runs of numbers with small gaps, and then perhaps looking up the missing items just to see what's there..."
   ]
  },
  {
   "cell_type": "code",
   "execution_count": 79,
   "metadata": {
    "collapsed": false
   },
   "outputs": [
    {
     "data": {
      "text/html": [
       "<div>\n",
       "<table border=\"1\" class=\"dataframe\">\n",
       "  <thead>\n",
       "    <tr style=\"text-align: right;\">\n",
       "      <th></th>\n",
       "      <th>Title number</th>\n",
       "      <th>Year</th>\n",
       "      <th>Date</th>\n",
       "      <th>District</th>\n",
       "      <th>Administrative county</th>\n",
       "      <th>Price paid</th>\n",
       "      <th>Price (text infill)</th>\n",
       "      <th>Proprietor</th>\n",
       "      <th>Country/territory</th>\n",
       "      <th>Variable</th>\n",
       "      <th>Address</th>\n",
       "      <th>Postcode</th>\n",
       "      <th>Tenure</th>\n",
       "    </tr>\n",
       "  </thead>\n",
       "  <tbody>\n",
       "    <tr>\n",
       "      <th>36722</th>\n",
       "      <td>TGL348519</td>\n",
       "      <td>2011</td>\n",
       "      <td>2011-06-28</td>\n",
       "      <td>LAMBETH</td>\n",
       "      <td>GREATER LONDON</td>\n",
       "      <td>NaN</td>\n",
       "      <td>£165,000 plus VAT</td>\n",
       "      <td>WESTMINSTER BRIDGE HOLDINGS B.V.</td>\n",
       "      <td>NETHERLANDS</td>\n",
       "      <td>Proprietor(1)</td>\n",
       "      <td>Room 1411, Park Plaza Westminster Bridge, 200 ...</td>\n",
       "      <td>SE1 7UT</td>\n",
       "      <td>Leasehold</td>\n",
       "    </tr>\n",
       "    <tr>\n",
       "      <th>36723</th>\n",
       "      <td>TGL348522</td>\n",
       "      <td>2011</td>\n",
       "      <td>2011-06-28</td>\n",
       "      <td>LAMBETH</td>\n",
       "      <td>GREATER LONDON</td>\n",
       "      <td>NaN</td>\n",
       "      <td>£165,000 plus VAT</td>\n",
       "      <td>WESTMINSTER BRIDGE HOLDINGS B.V.</td>\n",
       "      <td>NETHERLANDS</td>\n",
       "      <td>Proprietor(1)</td>\n",
       "      <td>Room 1413, Park Plaza Westminster Bridge, 200 ...</td>\n",
       "      <td>SE1 7UT</td>\n",
       "      <td>Leasehold</td>\n",
       "    </tr>\n",
       "    <tr>\n",
       "      <th>36710</th>\n",
       "      <td>TGL348523</td>\n",
       "      <td>2011</td>\n",
       "      <td>2011-06-28</td>\n",
       "      <td>LAMBETH</td>\n",
       "      <td>GREATER LONDON</td>\n",
       "      <td>NaN</td>\n",
       "      <td>£135,000 plus VAT</td>\n",
       "      <td>WESTMINSTER BRIDGE HOLDINGS B.V.</td>\n",
       "      <td>NETHERLANDS</td>\n",
       "      <td>Proprietor(1)</td>\n",
       "      <td>Room 1417, Park Plaza Westminster Bridge, 200 ...</td>\n",
       "      <td>SE1 7UT</td>\n",
       "      <td>Leasehold</td>\n",
       "    </tr>\n",
       "    <tr>\n",
       "      <th>36673</th>\n",
       "      <td>TGL348524</td>\n",
       "      <td>2011</td>\n",
       "      <td>2011-06-28</td>\n",
       "      <td>LAMBETH</td>\n",
       "      <td>GREATER LONDON</td>\n",
       "      <td>NaN</td>\n",
       "      <td>£637,500 plus VAT</td>\n",
       "      <td>WESTMINSTER BRIDGE HOLDINGS B.V.</td>\n",
       "      <td>NETHERLANDS</td>\n",
       "      <td>Proprietor(1)</td>\n",
       "      <td>Room 1418, Park Plaza Westminster Bridge, 200 ...</td>\n",
       "      <td>SE1 7UT</td>\n",
       "      <td>Leasehold</td>\n",
       "    </tr>\n",
       "    <tr>\n",
       "      <th>36675</th>\n",
       "      <td>TGL348526</td>\n",
       "      <td>2011</td>\n",
       "      <td>2011-06-28</td>\n",
       "      <td>LAMBETH</td>\n",
       "      <td>GREATER LONDON</td>\n",
       "      <td>NaN</td>\n",
       "      <td>£120,000 plus VAT</td>\n",
       "      <td>WESTMINSTER BRIDGE HOLDINGS B.V.</td>\n",
       "      <td>NETHERLANDS</td>\n",
       "      <td>Proprietor(1)</td>\n",
       "      <td>Room 1002, Park Plaza Westminster Bridge, 200 ...</td>\n",
       "      <td>SE1 7UT</td>\n",
       "      <td>Leasehold</td>\n",
       "    </tr>\n",
       "  </tbody>\n",
       "</table>\n",
       "</div>"
      ],
      "text/plain": [
       "      Title number  Year       Date District Administrative county Price paid  \\\n",
       "36722    TGL348519  2011 2011-06-28  LAMBETH        GREATER LONDON        NaN   \n",
       "36723    TGL348522  2011 2011-06-28  LAMBETH        GREATER LONDON        NaN   \n",
       "36710    TGL348523  2011 2011-06-28  LAMBETH        GREATER LONDON        NaN   \n",
       "36673    TGL348524  2011 2011-06-28  LAMBETH        GREATER LONDON        NaN   \n",
       "36675    TGL348526  2011 2011-06-28  LAMBETH        GREATER LONDON        NaN   \n",
       "\n",
       "      Price (text infill)                        Proprietor Country/territory  \\\n",
       "36722   £165,000 plus VAT  WESTMINSTER BRIDGE HOLDINGS B.V.       NETHERLANDS   \n",
       "36723   £165,000 plus VAT  WESTMINSTER BRIDGE HOLDINGS B.V.       NETHERLANDS   \n",
       "36710   £135,000 plus VAT  WESTMINSTER BRIDGE HOLDINGS B.V.       NETHERLANDS   \n",
       "36673   £637,500 plus VAT  WESTMINSTER BRIDGE HOLDINGS B.V.       NETHERLANDS   \n",
       "36675   £120,000 plus VAT  WESTMINSTER BRIDGE HOLDINGS B.V.       NETHERLANDS   \n",
       "\n",
       "            Variable                                            Address  \\\n",
       "36722  Proprietor(1)  Room 1411, Park Plaza Westminster Bridge, 200 ...   \n",
       "36723  Proprietor(1)  Room 1413, Park Plaza Westminster Bridge, 200 ...   \n",
       "36710  Proprietor(1)  Room 1417, Park Plaza Westminster Bridge, 200 ...   \n",
       "36673  Proprietor(1)  Room 1418, Park Plaza Westminster Bridge, 200 ...   \n",
       "36675  Proprietor(1)  Room 1002, Park Plaza Westminster Bridge, 200 ...   \n",
       "\n",
       "      Postcode     Tenure  \n",
       "36722  SE1 7UT  Leasehold  \n",
       "36723  SE1 7UT  Leasehold  \n",
       "36710  SE1 7UT  Leasehold  \n",
       "36673  SE1 7UT  Leasehold  \n",
       "36675  SE1 7UT  Leasehold  "
      ]
     },
     "execution_count": 79,
     "metadata": {},
     "output_type": "execute_result"
    }
   ],
   "source": [
    "df[df['Proprietor'].str.startswith(\"WESTMINSTER BRIDGE\")].sort_values('Title number')[13:18]"
   ]
  },
  {
   "cell_type": "markdown",
   "metadata": {},
   "source": [
    "Another way of trying to find patterns of behaviour for a particular proprietor is to group by *Proprietor* and *Date* (this sort of thing can be interesting when analysing company registrations when looking at bulk company registration data...):"
   ]
  },
  {
   "cell_type": "code",
   "execution_count": 69,
   "metadata": {
    "collapsed": false
   },
   "outputs": [
    {
     "data": {
      "text/plain": [
       "Proprietor                           Date      \n",
       "WALLACE PROPERTIES LIMITED           2012-05-25    2205\n",
       "LINK HOLDINGS (GIBRALTAR) LIMITED    2006-07-24     348\n",
       "SOLARFAIR INVESTMENTS LIMITED        2012-12-10     322\n",
       "CVI LEEDS WATERSIDE SARL             2013-10-07     255\n",
       "STONEGATE PUB COMPANY LIMITED        2010-12-01     255\n",
       "ANDERTON ESTATE INVESTMENTS LIMITED  2009-02-11     255\n",
       "AMATEX LIMITED                       2012-07-16     234\n",
       "NEWRIVER TRUSTEE 7 LIMITED           2014-02-06     229\n",
       "NEWRIVER TRUSTEE 8 LIMITED           2014-02-06     229\n",
       "AYOT LIMITED                         2013-03-27     197\n",
       "dtype: int64"
      ]
     },
     "execution_count": 69,
     "metadata": {},
     "output_type": "execute_result"
    }
   ],
   "source": [
    "df[['Proprietor','Date']].groupby(['Proprietor','Date']).agg(len).sort_values(ascending=False)[:10]"
   ]
  },
  {
   "cell_type": "code",
   "execution_count": 72,
   "metadata": {
    "collapsed": false
   },
   "outputs": [
    {
     "data": {
      "text/html": [
       "<div>\n",
       "<table border=\"1\" class=\"dataframe\">\n",
       "  <thead>\n",
       "    <tr style=\"text-align: right;\">\n",
       "      <th></th>\n",
       "      <th>Title number</th>\n",
       "      <th>Year</th>\n",
       "      <th>Date</th>\n",
       "      <th>District</th>\n",
       "      <th>Administrative county</th>\n",
       "      <th>Price paid</th>\n",
       "      <th>Price (text infill)</th>\n",
       "      <th>Proprietor</th>\n",
       "      <th>Country/territory</th>\n",
       "      <th>Variable</th>\n",
       "      <th>Address</th>\n",
       "      <th>Postcode</th>\n",
       "      <th>Tenure</th>\n",
       "    </tr>\n",
       "  </thead>\n",
       "  <tbody>\n",
       "    <tr>\n",
       "      <th>14856</th>\n",
       "      <td>MM21129</td>\n",
       "      <td>2013</td>\n",
       "      <td>2013-06-28</td>\n",
       "      <td>SOLIHULL</td>\n",
       "      <td>WEST MIDLANDS</td>\n",
       "      <td>NaN</td>\n",
       "      <td>NaN</td>\n",
       "      <td>WALLACE PROPERTIES LIMITED</td>\n",
       "      <td>MAURITIUS</td>\n",
       "      <td>Proprietor(1)</td>\n",
       "      <td>Land lying to the East of Langfield Road, Know...</td>\n",
       "      <td>NaN</td>\n",
       "      <td>Freehold</td>\n",
       "    </tr>\n",
       "    <tr>\n",
       "      <th>17910</th>\n",
       "      <td>SF277301</td>\n",
       "      <td>2013</td>\n",
       "      <td>2013-03-19</td>\n",
       "      <td>TAMWORTH</td>\n",
       "      <td>STAFFORDSHIRE</td>\n",
       "      <td>NaN</td>\n",
       "      <td>NaN</td>\n",
       "      <td>WALLACE PROPERTIES LIMITED</td>\n",
       "      <td>MAURITIUS</td>\n",
       "      <td>Proprietor(1)</td>\n",
       "      <td>15, Glyndebourne, Tamworth, B79 7UD</td>\n",
       "      <td>B79 7UD</td>\n",
       "      <td>Freehold</td>\n",
       "    </tr>\n",
       "    <tr>\n",
       "      <th>19140</th>\n",
       "      <td>WYK249388</td>\n",
       "      <td>2013</td>\n",
       "      <td>2013-01-30</td>\n",
       "      <td>LEEDS</td>\n",
       "      <td>WEST YORKSHIRE</td>\n",
       "      <td>NaN</td>\n",
       "      <td>NaN</td>\n",
       "      <td>WALLACE PROPERTIES LIMITED</td>\n",
       "      <td>MAURITIUS</td>\n",
       "      <td>Proprietor(1)</td>\n",
       "      <td>land adjoining 9 Alma Road, Headingley</td>\n",
       "      <td>NaN</td>\n",
       "      <td>Freehold</td>\n",
       "    </tr>\n",
       "    <tr>\n",
       "      <th>21506</th>\n",
       "      <td>MAN201650</td>\n",
       "      <td>2012</td>\n",
       "      <td>2012-11-27</td>\n",
       "      <td>BURY</td>\n",
       "      <td>GREATER MANCHESTER</td>\n",
       "      <td>NaN</td>\n",
       "      <td>NaN</td>\n",
       "      <td>WALLACE PROPERTIES LIMITED</td>\n",
       "      <td>MAURITIUS</td>\n",
       "      <td>Proprietor(1)</td>\n",
       "      <td>Land on the north west side of Milltown Street...</td>\n",
       "      <td>NaN</td>\n",
       "      <td>Freehold</td>\n",
       "    </tr>\n",
       "    <tr>\n",
       "      <th>21566</th>\n",
       "      <td>MM12372</td>\n",
       "      <td>2012</td>\n",
       "      <td>2012-11-23</td>\n",
       "      <td>BIRMINGHAM</td>\n",
       "      <td>WEST MIDLANDS</td>\n",
       "      <td>NaN</td>\n",
       "      <td>NaN</td>\n",
       "      <td>WALLACE PROPERTIES LIMITED</td>\n",
       "      <td>MAURITIUS</td>\n",
       "      <td>Proprietor(1)</td>\n",
       "      <td>85, Pipers Green, Birmingham, B28 0NU</td>\n",
       "      <td>B28 0NU</td>\n",
       "      <td>Freehold</td>\n",
       "    </tr>\n",
       "  </tbody>\n",
       "</table>\n",
       "</div>"
      ],
      "text/plain": [
       "      Title number  Year       Date    District Administrative county  \\\n",
       "14856      MM21129  2013 2013-06-28    SOLIHULL         WEST MIDLANDS   \n",
       "17910     SF277301  2013 2013-03-19    TAMWORTH         STAFFORDSHIRE   \n",
       "19140    WYK249388  2013 2013-01-30       LEEDS        WEST YORKSHIRE   \n",
       "21506    MAN201650  2012 2012-11-27        BURY    GREATER MANCHESTER   \n",
       "21566      MM12372  2012 2012-11-23  BIRMINGHAM         WEST MIDLANDS   \n",
       "\n",
       "      Price paid Price (text infill)                  Proprietor  \\\n",
       "14856        NaN                 NaN  WALLACE PROPERTIES LIMITED   \n",
       "17910        NaN                 NaN  WALLACE PROPERTIES LIMITED   \n",
       "19140        NaN                 NaN  WALLACE PROPERTIES LIMITED   \n",
       "21506        NaN                 NaN  WALLACE PROPERTIES LIMITED   \n",
       "21566        NaN                 NaN  WALLACE PROPERTIES LIMITED   \n",
       "\n",
       "      Country/territory       Variable  \\\n",
       "14856         MAURITIUS  Proprietor(1)   \n",
       "17910         MAURITIUS  Proprietor(1)   \n",
       "19140         MAURITIUS  Proprietor(1)   \n",
       "21506         MAURITIUS  Proprietor(1)   \n",
       "21566         MAURITIUS  Proprietor(1)   \n",
       "\n",
       "                                                 Address Postcode    Tenure  \n",
       "14856  Land lying to the East of Langfield Road, Know...      NaN  Freehold  \n",
       "17910                15, Glyndebourne, Tamworth, B79 7UD  B79 7UD  Freehold  \n",
       "19140             land adjoining 9 Alma Road, Headingley      NaN  Freehold  \n",
       "21506  Land on the north west side of Milltown Street...      NaN  Freehold  \n",
       "21566              85, Pipers Green, Birmingham, B28 0NU  B28 0NU  Freehold  "
      ]
     },
     "execution_count": 72,
     "metadata": {},
     "output_type": "execute_result"
    }
   ],
   "source": [
    "df[df['Proprietor'].str.startswith(\"WALLACE PROPERTIES\")][:5]"
   ]
  },
  {
   "cell_type": "markdown",
   "metadata": {},
   "source": [
    "## Filter the Data to a Particular Locale\n",
    "\n",
    "One of the other ways of slicing the data is to focus on a particular locale. For example, are there any patterns of ownership by offshore companies on the Isle of Wight?\n",
    "\n",
    "Let's filter down by *Administrative County*:"
   ]
  },
  {
   "cell_type": "code",
   "execution_count": 82,
   "metadata": {
    "collapsed": false
   },
   "outputs": [
    {
     "data": {
      "text/html": [
       "<div>\n",
       "<table border=\"1\" class=\"dataframe\">\n",
       "  <thead>\n",
       "    <tr style=\"text-align: right;\">\n",
       "      <th></th>\n",
       "      <th>Title number</th>\n",
       "      <th>Year</th>\n",
       "      <th>Date</th>\n",
       "      <th>District</th>\n",
       "      <th>Administrative county</th>\n",
       "      <th>Price paid</th>\n",
       "      <th>Price (text infill)</th>\n",
       "      <th>Proprietor</th>\n",
       "      <th>Country/territory</th>\n",
       "      <th>Variable</th>\n",
       "      <th>Address</th>\n",
       "      <th>Postcode</th>\n",
       "      <th>Tenure</th>\n",
       "    </tr>\n",
       "  </thead>\n",
       "  <tbody>\n",
       "    <tr>\n",
       "      <th>15651</th>\n",
       "      <td>IW78225</td>\n",
       "      <td>2013</td>\n",
       "      <td>2013-05-22</td>\n",
       "      <td>ISLE OF WIGHT</td>\n",
       "      <td>ISLE OF WIGHT</td>\n",
       "      <td>NaN</td>\n",
       "      <td>NaN</td>\n",
       "      <td>SALCON POWER (HK) LIMITED</td>\n",
       "      <td>HONG KONG</td>\n",
       "      <td>Proprietor(1)</td>\n",
       "      <td>4, The Ridgeway, Sandown, PO36 9DU</td>\n",
       "      <td>PO36 9DU</td>\n",
       "      <td>Leasehold</td>\n",
       "    </tr>\n",
       "    <tr>\n",
       "      <th>15652</th>\n",
       "      <td>IW78226</td>\n",
       "      <td>2013</td>\n",
       "      <td>2013-05-22</td>\n",
       "      <td>ISLE OF WIGHT</td>\n",
       "      <td>ISLE OF WIGHT</td>\n",
       "      <td>NaN</td>\n",
       "      <td>NaN</td>\n",
       "      <td>SALCON POWER (HK) LIMITED</td>\n",
       "      <td>HONG KONG</td>\n",
       "      <td>Proprietor(1)</td>\n",
       "      <td>30, St Edmunds Walk, Wootton Bridge, Ryde, PO3...</td>\n",
       "      <td>PO33 4JB</td>\n",
       "      <td>Leasehold</td>\n",
       "    </tr>\n",
       "    <tr>\n",
       "      <th>15653</th>\n",
       "      <td>IW78227</td>\n",
       "      <td>2013</td>\n",
       "      <td>2013-05-22</td>\n",
       "      <td>ISLE OF WIGHT</td>\n",
       "      <td>ISLE OF WIGHT</td>\n",
       "      <td>NaN</td>\n",
       "      <td>NaN</td>\n",
       "      <td>SALCON POWER (HK) LIMITED</td>\n",
       "      <td>HONG KONG</td>\n",
       "      <td>Proprietor(1)</td>\n",
       "      <td>58, St Edmunds Walk, Wootton Bridge, Ryde, PO3...</td>\n",
       "      <td>PO33 4JB</td>\n",
       "      <td>Leasehold</td>\n",
       "    </tr>\n",
       "  </tbody>\n",
       "</table>\n",
       "</div>"
      ],
      "text/plain": [
       "      Title number  Year       Date       District Administrative county  \\\n",
       "15651      IW78225  2013 2013-05-22  ISLE OF WIGHT         ISLE OF WIGHT   \n",
       "15652      IW78226  2013 2013-05-22  ISLE OF WIGHT         ISLE OF WIGHT   \n",
       "15653      IW78227  2013 2013-05-22  ISLE OF WIGHT         ISLE OF WIGHT   \n",
       "\n",
       "      Price paid Price (text infill)                 Proprietor  \\\n",
       "15651        NaN                 NaN  SALCON POWER (HK) LIMITED   \n",
       "15652        NaN                 NaN  SALCON POWER (HK) LIMITED   \n",
       "15653        NaN                 NaN  SALCON POWER (HK) LIMITED   \n",
       "\n",
       "      Country/territory       Variable  \\\n",
       "15651         HONG KONG  Proprietor(1)   \n",
       "15652         HONG KONG  Proprietor(1)   \n",
       "15653         HONG KONG  Proprietor(1)   \n",
       "\n",
       "                                                 Address  Postcode     Tenure  \n",
       "15651                 4, The Ridgeway, Sandown, PO36 9DU  PO36 9DU  Leasehold  \n",
       "15652  30, St Edmunds Walk, Wootton Bridge, Ryde, PO3...  PO33 4JB  Leasehold  \n",
       "15653  58, St Edmunds Walk, Wootton Bridge, Ryde, PO3...  PO33 4JB  Leasehold  "
      ]
     },
     "execution_count": 82,
     "metadata": {},
     "output_type": "execute_result"
    }
   ],
   "source": [
    "dfxiw=df[df['Administrative county'].str.contains('WIGHT')]"
   ]
  },
  {
   "cell_type": "markdown",
   "metadata": {},
   "source": [
    "For convenience, we might want to save this local data into its own file."
   ]
  },
  {
   "cell_type": "code",
   "execution_count": 174,
   "metadata": {
    "collapsed": false
   },
   "outputs": [],
   "source": [
    "dfxiw.to_csv('IWoverseasOwnedPropeties.csv',index=False,encoding='utf-8')"
   ]
  },
  {
   "cell_type": "markdown",
   "metadata": {},
   "source": [
    "We can now run some of the same sorts of query as we ran before but on this smaller, locally based dataset."
   ]
  },
  {
   "cell_type": "code",
   "execution_count": 100,
   "metadata": {
    "collapsed": false
   },
   "outputs": [
    {
     "data": {
      "text/plain": [
       "AYOT LIMITED                           31\n",
       "TIFFIELD LIMITED                        9\n",
       "KLEINWORT BENSON (GUERNSEY) LIMITED     7\n",
       "REDWOOD DEVELOPMENTS LIMITED            7\n",
       "BORROWDALE NOMINEES LIMITED             7\n",
       "GUITON GROUP LIMITED                    6\n",
       "XYZ LIMITED                             6\n",
       "SHAY PROPERTY INVESTMENTS S.AR.L        5\n",
       "HATTON CONSULTANTS LIMITED              4\n",
       "RBC TRUSTEES (CI) LIMITED               4\n",
       "Name: Proprietor, dtype: int64"
      ]
     },
     "execution_count": 100,
     "metadata": {},
     "output_type": "execute_result"
    }
   ],
   "source": [
    "dfxiw['Proprietor'].value_counts()[:10]"
   ]
  },
  {
   "cell_type": "code",
   "execution_count": 103,
   "metadata": {
    "collapsed": false
   },
   "outputs": [
    {
     "data": {
      "text/plain": [
       "Postcode  Proprietor                             \n",
       "PO30 1JW  TIFFIELD LIMITED                           4\n",
       "PO33 1BX  HORIZON TRUSTEES (JERSEY) LIMITED          3\n",
       "PO30 1JL  TIFFIELD LIMITED                           3\n",
       "PO30 5LH  SHAY PROPERTY INVESTMENTS S.AR.L           3\n",
       "PO36 9PH  HIGH TIDE (CI) LTD                         2\n",
       "PO30 2EL  RBC TRUSTEES (CI) LIMITED                  2\n",
       "PO30 3AJ  AYOT LIMITED                               2\n",
       "PO30 3HG  FORTRESS INTERNATIONAL SERVICES LIMITED    2\n",
       "PO30 5XB  HATTON CONSULTANTS LIMITED                 2\n",
       "PO31 7DQ  GIANNA DEVELOPMENTS LIMITED                2\n",
       "PO31 7XF  DERRY BEG (JERSEY) LIMITED                 2\n",
       "PO33 4JB  SALCON POWER (HK) LIMITED                  2\n",
       "PO33 4LN  AYOT LIMITED                               2\n",
       "PO41 0PN  EDRA SECURITIES LIMITED                    2\n",
       "PO38 3HH  XYZ LIMITED                                2\n",
       "dtype: int64"
      ]
     },
     "execution_count": 103,
     "metadata": {},
     "output_type": "execute_result"
    }
   ],
   "source": [
    "dfxiw[['Postcode', 'Proprietor']].groupby(['Postcode', 'Proprietor']).agg(len).sort_values(ascending=False)[:15]"
   ]
  },
  {
   "cell_type": "markdown",
   "metadata": {},
   "source": [
    "We can probe a little deeper on specific companies who've got the title to several properties in the same postcode area: "
   ]
  },
  {
   "cell_type": "code",
   "execution_count": 102,
   "metadata": {
    "collapsed": false
   },
   "outputs": [
    {
     "data": {
      "text/html": [
       "<div>\n",
       "<table border=\"1\" class=\"dataframe\">\n",
       "  <thead>\n",
       "    <tr style=\"text-align: right;\">\n",
       "      <th></th>\n",
       "      <th>Title number</th>\n",
       "      <th>Year</th>\n",
       "      <th>Date</th>\n",
       "      <th>District</th>\n",
       "      <th>Administrative county</th>\n",
       "      <th>Price paid</th>\n",
       "      <th>Price (text infill)</th>\n",
       "      <th>Proprietor</th>\n",
       "      <th>Country/territory</th>\n",
       "      <th>Variable</th>\n",
       "      <th>Address</th>\n",
       "      <th>Postcode</th>\n",
       "      <th>Tenure</th>\n",
       "    </tr>\n",
       "  </thead>\n",
       "  <tbody>\n",
       "    <tr>\n",
       "      <th>54636</th>\n",
       "      <td>IW41343</td>\n",
       "      <td>2008</td>\n",
       "      <td>2008-12-12</td>\n",
       "      <td>ISLE OF WIGHT</td>\n",
       "      <td>ISLE OF WIGHT</td>\n",
       "      <td>NaN</td>\n",
       "      <td>NaN</td>\n",
       "      <td>TIFFIELD LIMITED</td>\n",
       "      <td>BRITISH VIRGIN ISLANDS</td>\n",
       "      <td>Proprietor(1)</td>\n",
       "      <td>1a, Pyle Street, Newport, PO30 1JW</td>\n",
       "      <td>PO30 1JW</td>\n",
       "      <td>Freehold</td>\n",
       "    </tr>\n",
       "    <tr>\n",
       "      <th>54641</th>\n",
       "      <td>IW48084</td>\n",
       "      <td>2008</td>\n",
       "      <td>2008-12-12</td>\n",
       "      <td>ISLE OF WIGHT</td>\n",
       "      <td>ISLE OF WIGHT</td>\n",
       "      <td>NaN</td>\n",
       "      <td>NaN</td>\n",
       "      <td>TIFFIELD LIMITED</td>\n",
       "      <td>BRITISH VIRGIN ISLANDS</td>\n",
       "      <td>Proprietor(1)</td>\n",
       "      <td>2, 3 and 4 Pyle Street, Newport, PO30 1JW</td>\n",
       "      <td>PO30 1JW</td>\n",
       "      <td>Freehold</td>\n",
       "    </tr>\n",
       "    <tr>\n",
       "      <th>54642</th>\n",
       "      <td>IW48503</td>\n",
       "      <td>2008</td>\n",
       "      <td>2008-12-12</td>\n",
       "      <td>ISLE OF WIGHT</td>\n",
       "      <td>ISLE OF WIGHT</td>\n",
       "      <td>NaN</td>\n",
       "      <td>NaN</td>\n",
       "      <td>TIFFIELD LIMITED</td>\n",
       "      <td>BRITISH VIRGIN ISLANDS</td>\n",
       "      <td>Proprietor(1)</td>\n",
       "      <td>1b, Pyle Street, Newport, PO30 1JW</td>\n",
       "      <td>PO30 1JW</td>\n",
       "      <td>Freehold</td>\n",
       "    </tr>\n",
       "    <tr>\n",
       "      <th>54643</th>\n",
       "      <td>IW6401</td>\n",
       "      <td>2008</td>\n",
       "      <td>2008-12-12</td>\n",
       "      <td>ISLE OF WIGHT</td>\n",
       "      <td>ISLE OF WIGHT</td>\n",
       "      <td>NaN</td>\n",
       "      <td>NaN</td>\n",
       "      <td>TIFFIELD LIMITED</td>\n",
       "      <td>BRITISH VIRGIN ISLANDS</td>\n",
       "      <td>Proprietor(1)</td>\n",
       "      <td>1, Pyle Street, Newport, PO30 1JW</td>\n",
       "      <td>PO30 1JW</td>\n",
       "      <td>Freehold</td>\n",
       "    </tr>\n",
       "  </tbody>\n",
       "</table>\n",
       "</div>"
      ],
      "text/plain": [
       "      Title number  Year       Date       District Administrative county  \\\n",
       "54636      IW41343  2008 2008-12-12  ISLE OF WIGHT         ISLE OF WIGHT   \n",
       "54641      IW48084  2008 2008-12-12  ISLE OF WIGHT         ISLE OF WIGHT   \n",
       "54642      IW48503  2008 2008-12-12  ISLE OF WIGHT         ISLE OF WIGHT   \n",
       "54643       IW6401  2008 2008-12-12  ISLE OF WIGHT         ISLE OF WIGHT   \n",
       "\n",
       "      Price paid Price (text infill)        Proprietor  \\\n",
       "54636        NaN                 NaN  TIFFIELD LIMITED   \n",
       "54641        NaN                 NaN  TIFFIELD LIMITED   \n",
       "54642        NaN                 NaN  TIFFIELD LIMITED   \n",
       "54643        NaN                 NaN  TIFFIELD LIMITED   \n",
       "\n",
       "            Country/territory       Variable  \\\n",
       "54636  BRITISH VIRGIN ISLANDS  Proprietor(1)   \n",
       "54641  BRITISH VIRGIN ISLANDS  Proprietor(1)   \n",
       "54642  BRITISH VIRGIN ISLANDS  Proprietor(1)   \n",
       "54643  BRITISH VIRGIN ISLANDS  Proprietor(1)   \n",
       "\n",
       "                                         Address  Postcode    Tenure  \n",
       "54636         1a, Pyle Street, Newport, PO30 1JW  PO30 1JW  Freehold  \n",
       "54641  2, 3 and 4 Pyle Street, Newport, PO30 1JW  PO30 1JW  Freehold  \n",
       "54642         1b, Pyle Street, Newport, PO30 1JW  PO30 1JW  Freehold  \n",
       "54643          1, Pyle Street, Newport, PO30 1JW  PO30 1JW  Freehold  "
      ]
     },
     "execution_count": 102,
     "metadata": {},
     "output_type": "execute_result"
    }
   ],
   "source": [
    "dfxiw[(dfxiw['Postcode']=='PO30 1JW') & (dfxiw['Proprietor']=='TIFFIELD LIMITED')]"
   ]
  },
  {
   "cell_type": "markdown",
   "metadata": {},
   "source": [
    "So is someone buying up Pyle Street in Newport?"
   ]
  },
  {
   "cell_type": "markdown",
   "metadata": {},
   "source": [
    "## Some Simple Mapping\n",
    "\n",
    "One of the natural ways of looking at geographical data is on a map. To do this we need to do a couple of things:\n",
    "\n",
    "- *geocode* the data to get latitude and longitude data for each address; a crude way of doing this is by postcode;\n",
    "- plot the points on a map."
   ]
  },
  {
   "cell_type": "markdown",
   "metadata": {},
   "source": [
    "To begin with, let's geocode the postcodes. There are several online services that help us do this - I'm going to use *postcodes.io*. For convenience, let's define a function that will geocode a list of postcodes for us."
   ]
  },
  {
   "cell_type": "code",
   "execution_count": 124,
   "metadata": {
    "collapsed": true
   },
   "outputs": [],
   "source": [
    "import time\n",
    "import json\n",
    "import requests\n",
    "\n",
    "#Define a function to geocode a list of postcodes\n",
    "def getPC(pclist):\n",
    "    #Get just unique postcodes\n",
    "    pclist=set(pclist)\n",
    "    pclookup={}\n",
    "    for pc in pclist:\n",
    "        #Play nicely withthe API - put a delay in between each request\n",
    "        time.sleep(1)\n",
    "        #print(pc)\n",
    "        url='http://postcodes.io/postcodes/{pc}'.format(pc=pc.replace(' ',''))\n",
    "\n",
    "        jdata=json.loads(requests.get(url).content)\n",
    "\n",
    "        if 'result' in jdata:\n",
    "            pclookup[pc]={'data':jdata['result'],'lat':jdata['result']['latitude'], 'lng':jdata['result']['longitude']}\n",
    "\n",
    "    return pclookup"
   ]
  },
  {
   "cell_type": "markdown",
   "metadata": {},
   "source": [
    "The `getPC()` function will try to find the latitude and longitude for us, and pop it into a dictionary keyed by the postcode."
   ]
  },
  {
   "cell_type": "code",
   "execution_count": null,
   "metadata": {
    "collapsed": false
   },
   "outputs": [],
   "source": [
    "#Geocode the Isle of Wight postcodes, limiting the lookup to unique, non-zero postcodes\n",
    "dfxiwpc=getPC(dfxiw['Postcode'].dropna().unique())"
   ]
  },
  {
   "cell_type": "markdown",
   "metadata": {},
   "source": [
    "We can now create another, possiblly smaller, local area dataframe that contains just rows that we have valid co-ordinates for, and add in those co-ordinates."
   ]
  },
  {
   "cell_type": "code",
   "execution_count": null,
   "metadata": {
    "collapsed": false
   },
   "outputs": [],
   "source": [
    "#Filter the IW data to just rows with a postcode\n",
    "dfxiw2=dfxiw[pd.notnull(dfxiw['Postcode'])]\n",
    "#And then filter further to just rows with a postcode we managed to geocode\n",
    "dfxiw2=dfxiw2[dfxiw['Postcode'].isin(dfxiwpc)]\n",
    "#Now add in the lat/long data for those rows\n",
    "dfxiw2['lat']=dfxiw2['Postcode'].apply(lambda x: dfxiwpc[x]['lat'])\n",
    "dfxiw2['lon']=dfxiw2['Postcode'].apply(lambda x: dfxiwpc[x]['lng'])"
   ]
  },
  {
   "cell_type": "markdown",
   "metadata": {},
   "source": [
    "With the rows annotated with geographical co-ordinates information, we can now plot a map showing approximately where the foreign owned titles apply to."
   ]
  },
  {
   "cell_type": "markdown",
   "metadata": {},
   "source": [
    "To make things a little easier, we'll use the`folium` mapping library, and also define a simple function (`mapper()`) to add markers to the map."
   ]
  },
  {
   "cell_type": "code",
   "execution_count": 171,
   "metadata": {
    "collapsed": false
   },
   "outputs": [],
   "source": [
    "#Depending on your Python environment, you may need to run:\n",
    "#!pip install folium\n",
    "#or:\n",
    "#!pip3 install folium\n",
    "import folium\n",
    "\n",
    "def mapper(folium_map,df):\n",
    "    ''' Add markers contained in df to folium_map  '''\n",
    "    for row in df[ df['lon'].notnull() ].iterrows():\n",
    "        #Use a simple circle marker\n",
    "        #Add a simple popup legend to each one\n",
    "        #Note that the circle marker doesn't let us distinguish between overlapping markers\n",
    "        folium_map.add_children(folium.features.CircleMarker([row[1]['lat'], row[1]['lon']],\n",
    "                                                     radius=10, color='red',fill_color='red',\n",
    "                                                      popup='{}: {}'.format(row[1]['Proprietor'], row[1]['Address'])))\n",
    "    return folium_map"
   ]
  },
  {
   "cell_type": "markdown",
   "metadata": {},
   "source": [
    "Now we can render the map:"
   ]
  },
  {
   "cell_type": "code",
   "execution_count": 172,
   "metadata": {
    "collapsed": false
   },
   "outputs": [
    {
     "data": {
      "text/html": [
       "\n",
       "            <div style=\"width:100%;\">\n",
       "            <div style=\"position:relative;width:100%;height:0;padding-bottom:60%;\">\n",
       "            <iframe src=\"data:text/html;base64,CiAgICAgICAgPCFET0NUWVBFIGh0bWw+CiAgICAgICAgPGhlYWQ+CiAgICAgICAgICAgIAogICAgICAgIAogICAgICAgICAgICA8bWV0YSBodHRwLWVxdWl2PSJjb250ZW50LXR5cGUiIGNvbnRlbnQ9InRleHQvaHRtbDsgY2hhcnNldD1VVEYtOCIgLz4KICAgICAgICAKICAgICAgICAgICAgCiAgICAgICAgCiAgICAgICAgICAgIDxzY3JpcHQgc3JjPSJodHRwczovL2NkbmpzLmNsb3VkZmxhcmUuY29tL2FqYXgvbGlicy9sZWFmbGV0LzAuNy4zL2xlYWZsZXQuanMiPjwvc2NyaXB0PgogICAgICAgIAogICAgICAgIAogICAgICAgIAogICAgICAgICAgICAKICAgICAgICAKICAgICAgICAgICAgPHNjcmlwdCBzcmM9Imh0dHBzOi8vYWpheC5nb29nbGVhcGlzLmNvbS9hamF4L2xpYnMvanF1ZXJ5LzEuMTEuMS9qcXVlcnkubWluLmpzIj48L3NjcmlwdD4KICAgICAgICAKICAgICAgICAKICAgICAgICAKICAgICAgICAgICAgCiAgICAgICAgCiAgICAgICAgICAgIDxzY3JpcHQgc3JjPSJodHRwczovL21heGNkbi5ib290c3RyYXBjZG4uY29tL2Jvb3RzdHJhcC8zLjIuMC9qcy9ib290c3RyYXAubWluLmpzIj48L3NjcmlwdD4KICAgICAgICAKICAgICAgICAKICAgICAgICAKICAgICAgICAgICAgCiAgICAgICAgCiAgICAgICAgICAgIDxzY3JpcHQgc3JjPSJodHRwczovL3Jhd2dpdGh1Yi5jb20vbHZvb2dkdC9MZWFmbGV0LmF3ZXNvbWUtbWFya2Vycy8yLjAvZGV2ZWxvcC9kaXN0L2xlYWZsZXQuYXdlc29tZS1tYXJrZXJzLmpzIj48L3NjcmlwdD4KICAgICAgICAKICAgICAgICAKICAgICAgICAKICAgICAgICAgICAgCiAgICAgICAgCiAgICAgICAgICAgIDxzY3JpcHQgc3JjPSJodHRwczovL2NkbmpzLmNsb3VkZmxhcmUuY29tL2FqYXgvbGlicy9sZWFmbGV0Lm1hcmtlcmNsdXN0ZXIvMC40LjAvbGVhZmxldC5tYXJrZXJjbHVzdGVyLXNyYy5qcyI+PC9zY3JpcHQ+CiAgICAgICAgCiAgICAgICAgCiAgICAgICAgCiAgICAgICAgICAgIAogICAgICAgIAogICAgICAgICAgICA8c2NyaXB0IHNyYz0iaHR0cHM6Ly9jZG5qcy5jbG91ZGZsYXJlLmNvbS9hamF4L2xpYnMvbGVhZmxldC5tYXJrZXJjbHVzdGVyLzAuNC4wL2xlYWZsZXQubWFya2VyY2x1c3Rlci5qcyI+PC9zY3JpcHQ+CiAgICAgICAgCiAgICAgICAgCiAgICAgICAgCiAgICAgICAgICAgIAogICAgICAgIAogICAgICAgICAgICA8bGluayByZWw9InN0eWxlc2hlZXQiIGhyZWY9Imh0dHBzOi8vY2RuanMuY2xvdWRmbGFyZS5jb20vYWpheC9saWJzL2xlYWZsZXQvMC43LjMvbGVhZmxldC5jc3MiIC8+CiAgICAgICAgCiAgICAgICAgCiAgICAgICAgCiAgICAgICAgICAgIAogICAgICAgIAogICAgICAgICAgICA8bGluayByZWw9InN0eWxlc2hlZXQiIGhyZWY9Imh0dHBzOi8vbWF4Y2RuLmJvb3RzdHJhcGNkbi5jb20vYm9vdHN0cmFwLzMuMi4wL2Nzcy9ib290c3RyYXAubWluLmNzcyIgLz4KICAgICAgICAKICAgICAgICAKICAgICAgICAKICAgICAgICAgICAgCiAgICAgICAgCiAgICAgICAgICAgIDxsaW5rIHJlbD0ic3R5bGVzaGVldCIgaHJlZj0iaHR0cHM6Ly9tYXhjZG4uYm9vdHN0cmFwY2RuLmNvbS9ib290c3RyYXAvMy4yLjAvY3NzL2Jvb3RzdHJhcC10aGVtZS5taW4uY3NzIiAvPgogICAgICAgIAogICAgICAgIAogICAgICAgIAogICAgICAgICAgICAKICAgICAgICAKICAgICAgICAgICAgPGxpbmsgcmVsPSJzdHlsZXNoZWV0IiBocmVmPSJodHRwczovL21heGNkbi5ib290c3RyYXBjZG4uY29tL2ZvbnQtYXdlc29tZS80LjEuMC9jc3MvZm9udC1hd2Vzb21lLm1pbi5jc3MiIC8+CiAgICAgICAgCiAgICAgICAgCiAgICAgICAgCiAgICAgICAgICAgIAogICAgICAgIAogICAgICAgICAgICA8bGluayByZWw9InN0eWxlc2hlZXQiIGhyZWY9Imh0dHBzOi8vcmF3Z2l0LmNvbS9sdm9vZ2R0L0xlYWZsZXQuYXdlc29tZS1tYXJrZXJzLzIuMC9kZXZlbG9wL2Rpc3QvbGVhZmxldC5hd2Vzb21lLW1hcmtlcnMuY3NzIiAvPgogICAgICAgIAogICAgICAgIAogICAgICAgIAogICAgICAgICAgICAKICAgICAgICAKICAgICAgICAgICAgPGxpbmsgcmVsPSJzdHlsZXNoZWV0IiBocmVmPSJodHRwczovL2NkbmpzLmNsb3VkZmxhcmUuY29tL2FqYXgvbGlicy9sZWFmbGV0Lm1hcmtlcmNsdXN0ZXIvMC40LjAvTWFya2VyQ2x1c3Rlci5EZWZhdWx0LmNzcyIgLz4KICAgICAgICAKICAgICAgICAKICAgICAgICAKICAgICAgICAgICAgCiAgICAgICAgCiAgICAgICAgICAgIDxsaW5rIHJlbD0ic3R5bGVzaGVldCIgaHJlZj0iaHR0cHM6Ly9jZG5qcy5jbG91ZGZsYXJlLmNvbS9hamF4L2xpYnMvbGVhZmxldC5tYXJrZXJjbHVzdGVyLzAuNC4wL01hcmtlckNsdXN0ZXIuY3NzIiAvPgogICAgICAgIAogICAgICAgIAogICAgICAgIAogICAgICAgICAgICAKICAgICAgICAKICAgICAgICAgICAgPGxpbmsgcmVsPSJzdHlsZXNoZWV0IiBocmVmPSJodHRwczovL3Jhdy5naXRodWJ1c2VyY29udGVudC5jb20vcHl0aG9uLXZpc3VhbGl6YXRpb24vZm9saXVtL21hc3Rlci9mb2xpdW0vdGVtcGxhdGVzL2xlYWZsZXQuYXdlc29tZS5yb3RhdGUuY3NzIiAvPgogICAgICAgIAogICAgICAgIAogICAgICAgIAogICAgICAgICAgICAKICAgICAgICAgICAgPHN0eWxlPgoKICAgICAgICAgICAgaHRtbCwgYm9keSB7CiAgICAgICAgICAgICAgICB3aWR0aDogMTAwJTsKICAgICAgICAgICAgICAgIGhlaWdodDogMTAwJTsKICAgICAgICAgICAgICAgIG1hcmdpbjogMDsKICAgICAgICAgICAgICAgIHBhZGRpbmc6IDA7CiAgICAgICAgICAgICAgICB9CgogICAgICAgICAgICAjbWFwIHsKICAgICAgICAgICAgICAgIHBvc2l0aW9uOmFic29sdXRlOwogICAgICAgICAgICAgICAgdG9wOjA7CiAgICAgICAgICAgICAgICBib3R0b206MDsKICAgICAgICAgICAgICAgIHJpZ2h0OjA7CiAgICAgICAgICAgICAgICBsZWZ0OjA7CiAgICAgICAgICAgICAgICB9CiAgICAgICAgICAgIDwvc3R5bGU+CiAgICAgICAgICAgIAogICAgICAgIAogICAgICAgICAgICAKICAgICAgICAgICAgPHN0eWxlPiAjbWFwXzU4MzE0NmFmZmU2MzRkZGZhZmJlYTdkZWU4ZWRkZmE5IHsKICAgICAgICAgICAgICAgIHBvc2l0aW9uIDogcmVsYXRpdmU7CiAgICAgICAgICAgICAgICB3aWR0aCA6IDEwMC4wJTsKICAgICAgICAgICAgICAgIGhlaWdodDogMTAwLjAlOwogICAgICAgICAgICAgICAgbGVmdDogMC4wJTsKICAgICAgICAgICAgICAgIHRvcDogMC4wJTsKICAgICAgICAgICAgICAgIH0KICAgICAgICAgICAgPC9zdHlsZT4KICAgICAgICAKICAgICAgICAKICAgICAgICAKICAgICAgICA8L2hlYWQ+CiAgICAgICAgPGJvZHk+CiAgICAgICAgICAgIAogICAgICAgIAogICAgICAgICAgICAKICAgICAgICAgICAgPGRpdiBjbGFzcz0iZm9saXVtLW1hcCIgaWQ9Im1hcF81ODMxNDZhZmZlNjM0ZGRmYWZiZWE3ZGVlOGVkZGZhOSIgPjwvZGl2PgogICAgICAgIAogICAgICAgIAogICAgICAgIAogICAgICAgIDwvYm9keT4KICAgICAgICA8c2NyaXB0PgogICAgICAgICAgICAKICAgICAgICAKICAgICAgICAgICAgCgogICAgICAgICAgICB2YXIgc291dGhXZXN0ID0gTC5sYXRMbmcoLTkwLCAtMTgwKTsKICAgICAgICAgICAgdmFyIG5vcnRoRWFzdCA9IEwubGF0TG5nKDkwLCAxODApOwogICAgICAgICAgICB2YXIgYm91bmRzID0gTC5sYXRMbmdCb3VuZHMoc291dGhXZXN0LCBub3J0aEVhc3QpOwoKICAgICAgICAgICAgdmFyIG1hcF81ODMxNDZhZmZlNjM0ZGRmYWZiZWE3ZGVlOGVkZGZhOSA9IEwubWFwKCdtYXBfNTgzMTQ2YWZmZTYzNGRkZmFmYmVhN2RlZThlZGRmYTknLCB7CiAgICAgICAgICAgICAgICAgICAgICAgICAgICAgICAgICAgICAgICAgICBjZW50ZXI6WzUwLjY5ODc1MDEzMjYsLTEuMjUyOTUxNTg5MTJdLAogICAgICAgICAgICAgICAgICAgICAgICAgICAgICAgICAgICAgICAgICAgem9vbTogMTEsCiAgICAgICAgICAgICAgICAgICAgICAgICAgICAgICAgICAgICAgICAgICBtYXhCb3VuZHM6IGJvdW5kcywKICAgICAgICAgICAgICAgICAgICAgICAgICAgICAgICAgICAgICAgICAgIGxheWVyczogW10KICAgICAgICAgICAgICAgICAgICAgICAgICAgICAgICAgICAgICAgICB9KTsKICAgICAgICAKICAgICAgICAKICAgICAgICAgICAgCiAgICAgICAgICAgIHZhciB0aWxlX2xheWVyXzg4MGU1MTc3OWVhNjQxZjhhZTVhODVmMThlMzg0MGRjID0gTC50aWxlTGF5ZXIoCiAgICAgICAgICAgICAgICAnaHR0cHM6Ly97c30udGlsZS5vcGVuc3RyZWV0bWFwLm9yZy97en0ve3h9L3t5fS5wbmcnLAogICAgICAgICAgICAgICAgewogICAgICAgICAgICAgICAgICAgIG1heFpvb206IDE4LAogICAgICAgICAgICAgICAgICAgIG1pblpvb206IDEsCiAgICAgICAgICAgICAgICAgICAgYXR0cmlidXRpb246ICdNYXAgZGF0YSAoYykgPGEgaHJlZj0iaHR0cDovL29wZW5zdHJlZXRtYXAub3JnIj5PcGVuU3RyZWV0TWFwPC9hPiBjb250cmlidXRvcnMnLAogICAgICAgICAgICAgICAgICAgIGRldGVjdFJldGluYTogZmFsc2UKICAgICAgICAgICAgICAgICAgICB9CiAgICAgICAgICAgICAgICApLmFkZFRvKG1hcF81ODMxNDZhZmZlNjM0ZGRmYWZiZWE3ZGVlOGVkZGZhOSk7CgogICAgICAgIAogICAgICAgIAogICAgICAgICAgICAKCiAgICAgICAgICAgIHZhciBjaXJjbGVfbWFya2VyXzQyZGVlOGZkMDBhMjRiNzFiYjk0NDk5MzI4ZjU1Zjg5ID0gTC5jaXJjbGUoCiAgICAgICAgICAgICAgICBbNTAuNjk5MjAyMTMzNiwtMS4yOTcyOTc2MDY3MV0sCiAgICAgICAgICAgICAgICAxMCwKICAgICAgICAgICAgICAgIHsKICAgICAgICAgICAgICAgICAgICBjb2xvcjogJ3JlZCcsCiAgICAgICAgICAgICAgICAgICAgZmlsbENvbG9yOiAncmVkJywKICAgICAgICAgICAgICAgICAgICBmaWxsT3BhY2l0eTogMC42CiAgICAgICAgICAgICAgICAgICAgfQogICAgICAgICAgICAgICAgKQogICAgICAgICAgICAgICAgLmFkZFRvKG1hcF81ODMxNDZhZmZlNjM0ZGRmYWZiZWE3ZGVlOGVkZGZhOSk7CiAgICAgICAgICAgIAogICAgICAgIAogICAgICAgICAgICAKICAgICAgICAgICAgdmFyIHBvcHVwXzFhNjA3ZjMzYTg5YTQwMTJhYmQxMzYyOGMyZjcwYzhkID0gTC5wb3B1cCh7bWF4V2lkdGg6ICczMDAnfSk7CgogICAgICAgICAgICAKICAgICAgICAgICAgICAgIHZhciBodG1sX2RmMzliNTBlODE0YTQzNjViNDM2NDFlMDI3NWVjYTAxID0gJCgnICAgICAgICAgPGRpdiBpZD0iaHRtbF9kZjM5YjUwZTgxNGE0MzY1YjQzNjQxZTAyNzVlY2EwMSIgICAgICAgICAgICAgICAgIHN0eWxlPSJ3aWR0aDogMTAwLjAlOyBoZWlnaHQ6IDEwMC4wJTsiPiAgICAgICAgICAgICAgICAgVFJJUExFIEpFUlNFWSBMSU1JVEVEOiA2MiwgSGlnaCBTdHJlZXQsIE5ld3BvcnQsIFBPMzAgMUJBPC9kaXY+ICAgICAgICAgICAgICAgICAnKVswXTsKICAgICAgICAgICAgICAgIHBvcHVwXzFhNjA3ZjMzYTg5YTQwMTJhYmQxMzYyOGMyZjcwYzhkLnNldENvbnRlbnQoaHRtbF9kZjM5YjUwZTgxNGE0MzY1YjQzNjQxZTAyNzVlY2EwMSk7CiAgICAgICAgICAgIAoKICAgICAgICAgICAgY2lyY2xlX21hcmtlcl80MmRlZThmZDAwYTI0YjcxYmI5NDQ5OTMyOGY1NWY4OS5iaW5kUG9wdXAocG9wdXBfMWE2MDdmMzNhODlhNDAxMmFiZDEzNjI4YzJmNzBjOGQpOwoKICAgICAgICAgICAgCiAgICAgICAgCiAgICAgICAgCiAgICAgICAgICAgIAoKICAgICAgICAgICAgdmFyIGNpcmNsZV9tYXJrZXJfOTk4NWYwN2VjMzNjNDYzZmEzOTc5OWE5MWJmMjVjOGEgPSBMLmNpcmNsZSgKICAgICAgICAgICAgICAgIFs1MC43MDA2MTUwNTUyLC0xLjMwMDQ2MjUxMDM2XSwKICAgICAgICAgICAgICAgIDEwLAogICAgICAgICAgICAgICAgewogICAgICAgICAgICAgICAgICAgIGNvbG9yOiAncmVkJywKICAgICAgICAgICAgICAgICAgICBmaWxsQ29sb3I6ICdyZWQnLAogICAgICAgICAgICAgICAgICAgIGZpbGxPcGFjaXR5OiAwLjYKICAgICAgICAgICAgICAgICAgICB9CiAgICAgICAgICAgICAgICApCiAgICAgICAgICAgICAgICAuYWRkVG8obWFwXzU4MzE0NmFmZmU2MzRkZGZhZmJlYTdkZWU4ZWRkZmE5KTsKICAgICAgICAgICAgCiAgICAgICAgCiAgICAgICAgICAgIAogICAgICAgICAgICB2YXIgcG9wdXBfYTg3MjE4NTEwODExNDQxMzllMjhjZjYyM2M2YWUwN2UgPSBMLnBvcHVwKHttYXhXaWR0aDogJzMwMCd9KTsKCiAgICAgICAgICAgIAogICAgICAgICAgICAgICAgdmFyIGh0bWxfYTQwYjkzZmI5NWI5NDRlN2FlY2Q2NzY5ZWU4NjYxZTkgPSAkKCcgICAgICAgICA8ZGl2IGlkPSJodG1sX2E0MGI5M2ZiOTViOTQ0ZTdhZWNkNjc2OWVlODY2MWU5IiAgICAgICAgICAgICAgICAgc3R5bGU9IndpZHRoOiAxMDAuMCU7IGhlaWdodDogMTAwLjAlOyI+ICAgICAgICAgICAgICAgICBBRFJJQVRJQyBMQU5EIDIgTElNSVRFRDogU29tZXJzIEJyb29rIENvdXJ0LCBGb3hlcyBSb2FkLCBOZXdwb3J0LCBQTzMwIDVVTjwvZGl2PiAgICAgICAgICAgICAgICAgJylbMF07CiAgICAgICAgICAgICAgICBwb3B1cF9hODcyMTg1MTA4MTE0NDEzOWUyOGNmNjIzYzZhZTA3ZS5zZXRDb250ZW50KGh0bWxfYTQwYjkzZmI5NWI5NDRlN2FlY2Q2NzY5ZWU4NjYxZTkpOwogICAgICAgICAgICAKCiAgICAgICAgICAgIGNpcmNsZV9tYXJrZXJfOTk4NWYwN2VjMzNjNDYzZmEzOTc5OWE5MWJmMjVjOGEuYmluZFBvcHVwKHBvcHVwX2E4NzIxODUxMDgxMTQ0MTM5ZTI4Y2Y2MjNjNmFlMDdlKTsKCiAgICAgICAgICAgIAogICAgICAgIAogICAgICAgIAogICAgICAgICAgICAKCiAgICAgICAgICAgIHZhciBjaXJjbGVfbWFya2VyX2IwMzlkNDAyNzBkNDQ3OThiNTE5ODFiMjliN2RlYTAyID0gTC5jaXJjbGUoCiAgICAgICAgICAgICAgICBbNTAuNjk5NDc2NDU5NiwtMS4yOTUwNzA0MzQ0MV0sCiAgICAgICAgICAgICAgICAxMCwKICAgICAgICAgICAgICAgIHsKICAgICAgICAgICAgICAgICAgICBjb2xvcjogJ3JlZCcsCiAgICAgICAgICAgICAgICAgICAgZmlsbENvbG9yOiAncmVkJywKICAgICAgICAgICAgICAgICAgICBmaWxsT3BhY2l0eTogMC42CiAgICAgICAgICAgICAgICAgICAgfQogICAgICAgICAgICAgICAgKQogICAgICAgICAgICAgICAgLmFkZFRvKG1hcF81ODMxNDZhZmZlNjM0ZGRmYWZiZWE3ZGVlOGVkZGZhOSk7CiAgICAgICAgICAgIAogICAgICAgIAogICAgICAgICAgICAKICAgICAgICAgICAgdmFyIHBvcHVwX2RiOGJkNWY0N2FlOTRmMzQ5ZjVhNzNkMDBkMTkwYjU1ID0gTC5wb3B1cCh7bWF4V2lkdGg6ICczMDAnfSk7CgogICAgICAgICAgICAKICAgICAgICAgICAgICAgIHZhciBodG1sXzllNjhjNDUyZmY2YTQ0ZjRhNWFmNTViM2E4YzljMmYxID0gJCgnICAgICAgICAgPGRpdiBpZD0iaHRtbF85ZTY4YzQ1MmZmNmE0NGY0YTVhZjU1YjNhOGM5YzJmMSIgICAgICAgICAgICAgICAgIHN0eWxlPSJ3aWR0aDogMTAwLjAlOyBoZWlnaHQ6IDEwMC4wJTsiPiAgICAgICAgICAgICAgICAgVEhSRUUgQkFNQk9PIEhPTERJTkdTIFBURSBMVEQ6IDIyLCBTdCBKYW1lcyBTcXVhcmUsIE5ld3BvcnQsIFBPMzAgMVVYPC9kaXY+ICAgICAgICAgICAgICAgICAnKVswXTsKICAgICAgICAgICAgICAgIHBvcHVwX2RiOGJkNWY0N2FlOTRmMzQ5ZjVhNzNkMDBkMTkwYjU1LnNldENvbnRlbnQoaHRtbF85ZTY4YzQ1MmZmNmE0NGY0YTVhZjU1YjNhOGM5YzJmMSk7CiAgICAgICAgICAgIAoKICAgICAgICAgICAgY2lyY2xlX21hcmtlcl9iMDM5ZDQwMjcwZDQ0Nzk4YjUxOTgxYjI5YjdkZWEwMi5iaW5kUG9wdXAocG9wdXBfZGI4YmQ1ZjQ3YWU5NGYzNDlmNWE3M2QwMGQxOTBiNTUpOwoKICAgICAgICAgICAgCiAgICAgICAgCiAgICAgICAgCiAgICAgICAgICAgIAoKICAgICAgICAgICAgdmFyIGNpcmNsZV9tYXJrZXJfMGEzMjY2YmI0ZTQwNDZjZGI0MTY5N2I5NmJhYWY0MDIgPSBMLmNpcmNsZSgKICAgICAgICAgICAgICAgIFs1MC43MzA4OTIyOTA3LC0xLjE5MDQyNzE3MTU1XSwKICAgICAgICAgICAgICAgIDEwLAogICAgICAgICAgICAgICAgewogICAgICAgICAgICAgICAgICAgIGNvbG9yOiAncmVkJywKICAgICAgICAgICAgICAgICAgICBmaWxsQ29sb3I6ICdyZWQnLAogICAgICAgICAgICAgICAgICAgIGZpbGxPcGFjaXR5OiAwLjYKICAgICAgICAgICAgICAgICAgICB9CiAgICAgICAgICAgICAgICApCiAgICAgICAgICAgICAgICAuYWRkVG8obWFwXzU4MzE0NmFmZmU2MzRkZGZhZmJlYTdkZWU4ZWRkZmE5KTsKICAgICAgICAgICAgCiAgICAgICAgCiAgICAgICAgICAgIAogICAgICAgICAgICB2YXIgcG9wdXBfYThiYmNiYjhjZjc1NDc4ODkwOTU4MTRiNmVjMzk4MzEgPSBMLnBvcHVwKHttYXhXaWR0aDogJzMwMCd9KTsKCiAgICAgICAgICAgIAogICAgICAgICAgICAgICAgdmFyIGh0bWxfOWFiYzVmZTYyOGY4NGVjYTgxZThkYWY0ZmQ1Y2YwNmYgPSAkKCcgICAgICAgICA8ZGl2IGlkPSJodG1sXzlhYmM1ZmU2MjhmODRlY2E4MWU4ZGFmNGZkNWNmMDZmIiAgICAgICAgICAgICAgICAgc3R5bGU9IndpZHRoOiAxMDAuMCU7IGhlaWdodDogMTAwLjAlOyI+ICAgICAgICAgICAgICAgICBDSEFOQ0VSWSBMSU1JVEVEOiBMYW5kIGFkam9pbmluZyBLaW5nYXJ0aCwgQ2h1cmNoIFJvYWQsIEJpbnN0ZWFkLCBSeWRlLCBQTzMzIDNTWjwvZGl2PiAgICAgICAgICAgICAgICAgJylbMF07CiAgICAgICAgICAgICAgICBwb3B1cF9hOGJiY2JiOGNmNzU0Nzg4OTA5NTgxNGI2ZWMzOTgzMS5zZXRDb250ZW50KGh0bWxfOWFiYzVmZTYyOGY4NGVjYTgxZThkYWY0ZmQ1Y2YwNmYpOwogICAgICAgICAgICAKCiAgICAgICAgICAgIGNpcmNsZV9tYXJrZXJfMGEzMjY2YmI0ZTQwNDZjZGI0MTY5N2I5NmJhYWY0MDIuYmluZFBvcHVwKHBvcHVwX2E4YmJjYmI4Y2Y3NTQ3ODg5MDk1ODE0YjZlYzM5ODMxKTsKCiAgICAgICAgICAgIAogICAgICAgIAogICAgICAgIAogICAgICAgICAgICAKCiAgICAgICAgICAgIHZhciBjaXJjbGVfbWFya2VyXzA5YjM0Y2I3NTcxMDQwNmVhNWIzYjRiMzExZDNiNDNjID0gTC5jaXJjbGUoCiAgICAgICAgICAgICAgICBbNTAuNzY1ODU4NjAyNiwtMS4zMDk2NzE0NjEwNF0sCiAgICAgICAgICAgICAgICAxMCwKICAgICAgICAgICAgICAgIHsKICAgICAgICAgICAgICAgICAgICBjb2xvcjogJ3JlZCcsCiAgICAgICAgICAgICAgICAgICAgZmlsbENvbG9yOiAncmVkJywKICAgICAgICAgICAgICAgICAgICBmaWxsT3BhY2l0eTogMC42CiAgICAgICAgICAgICAgICAgICAgfQogICAgICAgICAgICAgICAgKQogICAgICAgICAgICAgICAgLmFkZFRvKG1hcF81ODMxNDZhZmZlNjM0ZGRmYWZiZWE3ZGVlOGVkZGZhOSk7CiAgICAgICAgICAgIAogICAgICAgIAogICAgICAgICAgICAKICAgICAgICAgICAgdmFyIHBvcHVwX2RmMWIwNmM4NTU1YTQ3NWI5OTA2YmJmNjRkYzUyMzc2ID0gTC5wb3B1cCh7bWF4V2lkdGg6ICczMDAnfSk7CgogICAgICAgICAgICAKICAgICAgICAgICAgICAgIHZhciBodG1sXzZhYjY3N2VhNGVlMjQzZmU5YThlZjU3MTYxOWIyNDBkID0gJCgnICAgICAgICAgPGRpdiBpZD0iaHRtbF82YWI2NzdlYTRlZTI0M2ZlOWE4ZWY1NzE2MTliMjQwZCIgICAgICAgICAgICAgICAgIHN0eWxlPSJ3aWR0aDogMTAwLjAlOyBoZWlnaHQ6IDEwMC4wJTsiPiAgICAgICAgICAgICAgICAgT0NFQU4gQkFZIEhPTERJTkdTIExJTUlURUQ6IDI1LCBDbGlmZiBSb2FkLCBDb3dlcywgUE8zMSA4Qk48L2Rpdj4gICAgICAgICAgICAgICAgICcpWzBdOwogICAgICAgICAgICAgICAgcG9wdXBfZGYxYjA2Yzg1NTVhNDc1Yjk5MDZiYmY2NGRjNTIzNzYuc2V0Q29udGVudChodG1sXzZhYjY3N2VhNGVlMjQzZmU5YThlZjU3MTYxOWIyNDBkKTsKICAgICAgICAgICAgCgogICAgICAgICAgICBjaXJjbGVfbWFya2VyXzA5YjM0Y2I3NTcxMDQwNmVhNWIzYjRiMzExZDNiNDNjLmJpbmRQb3B1cChwb3B1cF9kZjFiMDZjODU1NWE0NzViOTkwNmJiZjY0ZGM1MjM3Nik7CgogICAgICAgICAgICAKICAgICAgICAKICAgICAgICAKICAgICAgICAgICAgCgogICAgICAgICAgICB2YXIgY2lyY2xlX21hcmtlcl80YTEwMzZiOTQ1OTk0MzVhODZmN2M0NzM0MzdjMjAzZSA9IEwuY2lyY2xlKAogICAgICAgICAgICAgICAgWzUwLjYyOTUzODUxMDQsLTEuMjQyMDIxNzQ2NjhdLAogICAgICAgICAgICAgICAgMTAsCiAgICAgICAgICAgICAgICB7CiAgICAgICAgICAgICAgICAgICAgY29sb3I6ICdyZWQnLAogICAgICAgICAgICAgICAgICAgIGZpbGxDb2xvcjogJ3JlZCcsCiAgICAgICAgICAgICAgICAgICAgZmlsbE9wYWNpdHk6IDAuNgogICAgICAgICAgICAgICAgICAgIH0KICAgICAgICAgICAgICAgICkKICAgICAgICAgICAgICAgIC5hZGRUbyhtYXBfNTgzMTQ2YWZmZTYzNGRkZmFmYmVhN2RlZThlZGRmYTkpOwogICAgICAgICAgICAKICAgICAgICAKICAgICAgICAgICAgCiAgICAgICAgICAgIHZhciBwb3B1cF8yOTVhODgzN2RlZTI0NTE1ODhmMTUyMDc3MGZhZjRhYiA9IEwucG9wdXAoe21heFdpZHRoOiAnMzAwJ30pOwoKICAgICAgICAgICAgCiAgICAgICAgICAgICAgICB2YXIgaHRtbF9hOTViYTVlMjk5N2M0MzczOGNiMzRjODFmYWI4ZDQxZiA9ICQoJyAgICAgICAgIDxkaXYgaWQ9Imh0bWxfYTk1YmE1ZTI5OTdjNDM3MzhjYjM0YzgxZmFiOGQ0MWYiICAgICAgICAgICAgICAgICBzdHlsZT0id2lkdGg6IDEwMC4wJTsgaGVpZ2h0OiAxMDAuMCU7Ij4gICAgICAgICAgICAgICAgIFhZWiBMSU1JVEVEOiAzLCBQYXJrIEZhcm0gQ290dGFnZXMsIFNoYW5rbGluIFJvYWQsIEdvZHNoaWxsLCBWZW50bm9yLCBQTzM4IDNKRjwvZGl2PiAgICAgICAgICAgICAgICAgJylbMF07CiAgICAgICAgICAgICAgICBwb3B1cF8yOTVhODgzN2RlZTI0NTE1ODhmMTUyMDc3MGZhZjRhYi5zZXRDb250ZW50KGh0bWxfYTk1YmE1ZTI5OTdjNDM3MzhjYjM0YzgxZmFiOGQ0MWYpOwogICAgICAgICAgICAKCiAgICAgICAgICAgIGNpcmNsZV9tYXJrZXJfNGExMDM2Yjk0NTk5NDM1YTg2ZjdjNDczNDM3YzIwM2UuYmluZFBvcHVwKHBvcHVwXzI5NWE4ODM3ZGVlMjQ1MTU4OGYxNTIwNzcwZmFmNGFiKTsKCiAgICAgICAgICAgIAogICAgICAgIAogICAgICAgIAogICAgICAgICAgICAKCiAgICAgICAgICAgIHZhciBjaXJjbGVfbWFya2VyX2M4MDg2YjczNDk2YTQ3MGJhYzMyYmJiOGM0MmMzNTIxID0gTC5jaXJjbGUoCiAgICAgICAgICAgICAgICBbNTAuNzAwMzAwNjg0MSwtMS4yOTE1ODg4OTI0OV0sCiAgICAgICAgICAgICAgICAxMCwKICAgICAgICAgICAgICAgIHsKICAgICAgICAgICAgICAgICAgICBjb2xvcjogJ3JlZCcsCiAgICAgICAgICAgICAgICAgICAgZmlsbENvbG9yOiAncmVkJywKICAgICAgICAgICAgICAgICAgICBmaWxsT3BhY2l0eTogMC42CiAgICAgICAgICAgICAgICAgICAgfQogICAgICAgICAgICAgICAgKQogICAgICAgICAgICAgICAgLmFkZFRvKG1hcF81ODMxNDZhZmZlNjM0ZGRmYWZiZWE3ZGVlOGVkZGZhOSk7CiAgICAgICAgICAgIAogICAgICAgIAogICAgICAgICAgICAKICAgICAgICAgICAgdmFyIHBvcHVwXzA4YWJiMDhkZjI2MzQyNDQ5NjdjM2RkYjhiODgyZGEzID0gTC5wb3B1cCh7bWF4V2lkdGg6ICczMDAnfSk7CgogICAgICAgICAgICAKICAgICAgICAgICAgICAgIHZhciBodG1sXzllNDVhODg5ZTc0MjQ0ODFiZmNlM2FmYTZkNDUzYjhkID0gJCgnICAgICAgICAgPGRpdiBpZD0iaHRtbF85ZTQ1YTg4OWU3NDI0NDgxYmZjZTNhZmE2ZDQ1M2I4ZCIgICAgICAgICAgICAgICAgIHN0eWxlPSJ3aWR0aDogMTAwLjAlOyBoZWlnaHQ6IDEwMC4wJTsiPiAgICAgICAgICAgICAgICAgUFVCIEZSRUVIT0xEIEFDUVVJU0lUSU9OUyBTLkEuUi5MOiAyMCwgSGlnaCBTdHJlZXQsIE5ld3BvcnQsIFBPMzAgMVNTPC9kaXY+ICAgICAgICAgICAgICAgICAnKVswXTsKICAgICAgICAgICAgICAgIHBvcHVwXzA4YWJiMDhkZjI2MzQyNDQ5NjdjM2RkYjhiODgyZGEzLnNldENvbnRlbnQoaHRtbF85ZTQ1YTg4OWU3NDI0NDgxYmZjZTNhZmE2ZDQ1M2I4ZCk7CiAgICAgICAgICAgIAoKICAgICAgICAgICAgY2lyY2xlX21hcmtlcl9jODA4NmI3MzQ5NmE0NzBiYWMzMmJiYjhjNDJjMzUyMS5iaW5kUG9wdXAocG9wdXBfMDhhYmIwOGRmMjYzNDI0NDk2N2MzZGRiOGI4ODJkYTMpOwoKICAgICAgICAgICAgCiAgICAgICAgCiAgICAgICAgCiAgICAgICAgICAgIAoKICAgICAgICAgICAgdmFyIGNpcmNsZV9tYXJrZXJfOTVhMTVkZTcxNGI5NDgzZjlhZDAwZmExYzA5MDRjYTcgPSBMLmNpcmNsZSgKICAgICAgICAgICAgICAgIFs1MC42NjE5NDE1NTU5LC0xLjE1ODM2Mzk2MTYzXSwKICAgICAgICAgICAgICAgIDEwLAogICAgICAgICAgICAgICAgewogICAgICAgICAgICAgICAgICAgIGNvbG9yOiAncmVkJywKICAgICAgICAgICAgICAgICAgICBmaWxsQ29sb3I6ICdyZWQnLAogICAgICAgICAgICAgICAgICAgIGZpbGxPcGFjaXR5OiAwLjYKICAgICAgICAgICAgICAgICAgICB9CiAgICAgICAgICAgICAgICApCiAgICAgICAgICAgICAgICAuYWRkVG8obWFwXzU4MzE0NmFmZmU2MzRkZGZhZmJlYTdkZWU4ZWRkZmE5KTsKICAgICAgICAgICAgCiAgICAgICAgCiAgICAgICAgICAgIAogICAgICAgICAgICB2YXIgcG9wdXBfNzVlZTA2OTVmNzBjNDQ1M2I0NTA0MTE3YWMyODhiYzkgPSBMLnBvcHVwKHttYXhXaWR0aDogJzMwMCd9KTsKCiAgICAgICAgICAgIAogICAgICAgICAgICAgICAgdmFyIGh0bWxfMzlhYmQ0Y2M4NmI4NGQxZjlmOTBhMzQ5ZTRjN2I3NjQgPSAkKCcgICAgICAgICA8ZGl2IGlkPSJodG1sXzM5YWJkNGNjODZiODRkMWY5ZjkwYTM0OWU0YzdiNzY0IiAgICAgICAgICAgICAgICAgc3R5bGU9IndpZHRoOiAxMDAuMCU7IGhlaWdodDogMTAwLjAlOyI+ICAgICAgICAgICAgICAgICBTQUxDT04gUE9XRVIgKEhLKSBMSU1JVEVEOiA0LCBUaGUgUmlkZ2V3YXksIFNhbmRvd24sIFBPMzYgOURVPC9kaXY+ICAgICAgICAgICAgICAgICAnKVswXTsKICAgICAgICAgICAgICAgIHBvcHVwXzc1ZWUwNjk1ZjcwYzQ0NTNiNDUwNDExN2FjMjg4YmM5LnNldENvbnRlbnQoaHRtbF8zOWFiZDRjYzg2Yjg0ZDFmOWY5MGEzNDllNGM3Yjc2NCk7CiAgICAgICAgICAgIAoKICAgICAgICAgICAgY2lyY2xlX21hcmtlcl85NWExNWRlNzE0Yjk0ODNmOWFkMDBmYTFjMDkwNGNhNy5iaW5kUG9wdXAocG9wdXBfNzVlZTA2OTVmNzBjNDQ1M2I0NTA0MTE3YWMyODhiYzkpOwoKICAgICAgICAgICAgCiAgICAgICAgCiAgICAgICAgCiAgICAgICAgICAgIAoKICAgICAgICAgICAgdmFyIGNpcmNsZV9tYXJrZXJfYmEyNWE0YzM1NWI1NDZmODk5MjY4OThmZDI2MzVjY2MgPSBMLmNpcmNsZSgKICAgICAgICAgICAgICAgIFs1MC43MjgzNjgyMzE5LC0xLjIyOTM0ODk0NjZdLAogICAgICAgICAgICAgICAgMTAsCiAgICAgICAgICAgICAgICB7CiAgICAgICAgICAgICAgICAgICAgY29sb3I6ICdyZWQnLAogICAgICAgICAgICAgICAgICAgIGZpbGxDb2xvcjogJ3JlZCcsCiAgICAgICAgICAgICAgICAgICAgZmlsbE9wYWNpdHk6IDAuNgogICAgICAgICAgICAgICAgICAgIH0KICAgICAgICAgICAgICAgICkKICAgICAgICAgICAgICAgIC5hZGRUbyhtYXBfNTgzMTQ2YWZmZTYzNGRkZmFmYmVhN2RlZThlZGRmYTkpOwogICAgICAgICAgICAKICAgICAgICAKICAgICAgICAgICAgCiAgICAgICAgICAgIHZhciBwb3B1cF8yYWFiOGI1NTBjMjU0OWViOWYyMzNiZWQ2NzE2Y2UwMCA9IEwucG9wdXAoe21heFdpZHRoOiAnMzAwJ30pOwoKICAgICAgICAgICAgCiAgICAgICAgICAgICAgICB2YXIgaHRtbF9mMWNjZDA1OGI3ZGU0ZTA3ODdmMDkyZGMzZTJkNWIwZiA9ICQoJyAgICAgICAgIDxkaXYgaWQ9Imh0bWxfZjFjY2QwNThiN2RlNGUwNzg3ZjA5MmRjM2UyZDViMGYiICAgICAgICAgICAgICAgICBzdHlsZT0id2lkdGg6IDEwMC4wJTsgaGVpZ2h0OiAxMDAuMCU7Ij4gICAgICAgICAgICAgICAgIFNBTENPTiBQT1dFUiAoSEspIExJTUlURUQ6IDMwLCBTdCBFZG11bmRzIFdhbGssIFdvb3R0b24gQnJpZGdlLCBSeWRlLCBQTzMzIDRKQjwvZGl2PiAgICAgICAgICAgICAgICAgJylbMF07CiAgICAgICAgICAgICAgICBwb3B1cF8yYWFiOGI1NTBjMjU0OWViOWYyMzNiZWQ2NzE2Y2UwMC5zZXRDb250ZW50KGh0bWxfZjFjY2QwNThiN2RlNGUwNzg3ZjA5MmRjM2UyZDViMGYpOwogICAgICAgICAgICAKCiAgICAgICAgICAgIGNpcmNsZV9tYXJrZXJfYmEyNWE0YzM1NWI1NDZmODk5MjY4OThmZDI2MzVjY2MuYmluZFBvcHVwKHBvcHVwXzJhYWI4YjU1MGMyNTQ5ZWI5ZjIzM2JlZDY3MTZjZTAwKTsKCiAgICAgICAgICAgIAogICAgICAgIAogICAgICAgIAogICAgICAgICAgICAKCiAgICAgICAgICAgIHZhciBjaXJjbGVfbWFya2VyXzYyN2M0NDM0NTNkNTQ3OTg4MDY3MTIxMTg4ZDdhMTY2ID0gTC5jaXJjbGUoCiAgICAgICAgICAgICAgICBbNTAuNzI4MzY4MjMxOSwtMS4yMjkzNDg5NDY2XSwKICAgICAgICAgICAgICAgIDEwLAogICAgICAgICAgICAgICAgewogICAgICAgICAgICAgICAgICAgIGNvbG9yOiAncmVkJywKICAgICAgICAgICAgICAgICAgICBmaWxsQ29sb3I6ICdyZWQnLAogICAgICAgICAgICAgICAgICAgIGZpbGxPcGFjaXR5OiAwLjYKICAgICAgICAgICAgICAgICAgICB9CiAgICAgICAgICAgICAgICApCiAgICAgICAgICAgICAgICAuYWRkVG8obWFwXzU4MzE0NmFmZmU2MzRkZGZhZmJlYTdkZWU4ZWRkZmE5KTsKICAgICAgICAgICAgCiAgICAgICAgCiAgICAgICAgICAgIAogICAgICAgICAgICB2YXIgcG9wdXBfZjYxOTQxNzdmMjljNDhlZTg5ZTJjZjQzN2JhMzgyNjkgPSBMLnBvcHVwKHttYXhXaWR0aDogJzMwMCd9KTsKCiAgICAgICAgICAgIAogICAgICAgICAgICAgICAgdmFyIGh0bWxfOGE5NDhiODNmZTIzNDk3OWE2OTlkMmVhOTcxMDZmODcgPSAkKCcgICAgICAgICA8ZGl2IGlkPSJodG1sXzhhOTQ4YjgzZmUyMzQ5NzlhNjk5ZDJlYTk3MTA2Zjg3IiAgICAgICAgICAgICAgICAgc3R5bGU9IndpZHRoOiAxMDAuMCU7IGhlaWdodDogMTAwLjAlOyI+ICAgICAgICAgICAgICAgICBTQUxDT04gUE9XRVIgKEhLKSBMSU1JVEVEOiA1OCwgU3QgRWRtdW5kcyBXYWxrLCBXb290dG9uIEJyaWRnZSwgUnlkZSwgUE8zMyA0SkI8L2Rpdj4gICAgICAgICAgICAgICAgICcpWzBdOwogICAgICAgICAgICAgICAgcG9wdXBfZjYxOTQxNzdmMjljNDhlZTg5ZTJjZjQzN2JhMzgyNjkuc2V0Q29udGVudChodG1sXzhhOTQ4YjgzZmUyMzQ5NzlhNjk5ZDJlYTk3MTA2Zjg3KTsKICAgICAgICAgICAgCgogICAgICAgICAgICBjaXJjbGVfbWFya2VyXzYyN2M0NDM0NTNkNTQ3OTg4MDY3MTIxMTg4ZDdhMTY2LmJpbmRQb3B1cChwb3B1cF9mNjE5NDE3N2YyOWM0OGVlODllMmNmNDM3YmEzODI2OSk7CgogICAgICAgICAgICAKICAgICAgICAKICAgICAgICAKICAgICAgICAgICAgCgogICAgICAgICAgICB2YXIgY2lyY2xlX21hcmtlcl80ZWRhMjMzNDk0ZWM0ZTIwYTY4YjA1MWI4ZGZhZWIzMCA9IEwuY2lyY2xlKAogICAgICAgICAgICAgICAgWzUwLjcyOTg0MDY3MDUsLTEuMTY0OTk3ODc4ODRdLAogICAgICAgICAgICAgICAgMTAsCiAgICAgICAgICAgICAgICB7CiAgICAgICAgICAgICAgICAgICAgY29sb3I6ICdyZWQnLAogICAgICAgICAgICAgICAgICAgIGZpbGxDb2xvcjogJ3JlZCcsCiAgICAgICAgICAgICAgICAgICAgZmlsbE9wYWNpdHk6IDAuNgogICAgICAgICAgICAgICAgICAgIH0KICAgICAgICAgICAgICAgICkKICAgICAgICAgICAgICAgIC5hZGRUbyhtYXBfNTgzMTQ2YWZmZTYzNGRkZmFmYmVhN2RlZThlZGRmYTkpOwogICAgICAgICAgICAKICAgICAgICAKICAgICAgICAgICAgCiAgICAgICAgICAgIHZhciBwb3B1cF9hNzVjZTVmZGM4OWQ0MDIxYTY4OTc5ZTc0MDYyOWMxYyA9IEwucG9wdXAoe21heFdpZHRoOiAnMzAwJ30pOwoKICAgICAgICAgICAgCiAgICAgICAgICAgICAgICB2YXIgaHRtbF9hODc4N2IwZDY3ODM0YTQxODlmYzlmNTcxMGMyZDIzNiA9ICQoJyAgICAgICAgIDxkaXYgaWQ9Imh0bWxfYTg3ODdiMGQ2NzgzNGE0MTg5ZmM5ZjU3MTBjMmQyMzYiICAgICAgICAgICAgICAgICBzdHlsZT0id2lkdGg6IDEwMC4wJTsgaGVpZ2h0OiAxMDAuMCU7Ij4gICAgICAgICAgICAgICAgIFBIQU5UT00gUFJPRFVDVElPTlMgTFREOiBUb3duIEhhbGwsIExpbmQgU3RyZWV0LCBSeWRlLCBQTzMzIDJOUTwvZGl2PiAgICAgICAgICAgICAgICAgJylbMF07CiAgICAgICAgICAgICAgICBwb3B1cF9hNzVjZTVmZGM4OWQ0MDIxYTY4OTc5ZTc0MDYyOWMxYy5zZXRDb250ZW50KGh0bWxfYTg3ODdiMGQ2NzgzNGE0MTg5ZmM5ZjU3MTBjMmQyMzYpOwogICAgICAgICAgICAKCiAgICAgICAgICAgIGNpcmNsZV9tYXJrZXJfNGVkYTIzMzQ5NGVjNGUyMGE2OGIwNTFiOGRmYWViMzAuYmluZFBvcHVwKHBvcHVwX2E3NWNlNWZkYzg5ZDQwMjFhNjg5NzllNzQwNjI5YzFjKTsKCiAgICAgICAgICAgIAogICAgICAgIAogICAgICAgIAogICAgICAgICAgICAKCiAgICAgICAgICAgIHZhciBjaXJjbGVfbWFya2VyXzUzNTUwMDRlNmU2MDQ4ODE4NzkzZjEyYWU2OTIzMDk5ID0gTC5jaXJjbGUoCiAgICAgICAgICAgICAgICBbNTAuNjQwMTAwNDk4MywtMS4xNzg5MzQ1NTc5NF0sCiAgICAgICAgICAgICAgICAxMCwKICAgICAgICAgICAgICAgIHsKICAgICAgICAgICAgICAgICAgICBjb2xvcjogJ3JlZCcsCiAgICAgICAgICAgICAgICAgICAgZmlsbENvbG9yOiAncmVkJywKICAgICAgICAgICAgICAgICAgICBmaWxsT3BhY2l0eTogMC42CiAgICAgICAgICAgICAgICAgICAgfQogICAgICAgICAgICAgICAgKQogICAgICAgICAgICAgICAgLmFkZFRvKG1hcF81ODMxNDZhZmZlNjM0ZGRmYWZiZWE3ZGVlOGVkZGZhOSk7CiAgICAgICAgICAgIAogICAgICAgIAogICAgICAgICAgICAKICAgICAgICAgICAgdmFyIHBvcHVwXzBhMmE5MmIzOTBmYzQ3ZTk5ZjMwYTM1MDk3YWM0NWVjID0gTC5wb3B1cCh7bWF4V2lkdGg6ICczMDAnfSk7CgogICAgICAgICAgICAKICAgICAgICAgICAgICAgIHZhciBodG1sXzUxZjFiZDVhYTE3MjQ1NDY4MzE3M2ExYjIxODI0NzllID0gJCgnICAgICAgICAgPGRpdiBpZD0iaHRtbF81MWYxYmQ1YWExNzI0NTQ2ODMxNzNhMWIyMTgyNDc5ZSIgICAgICAgICAgICAgICAgIHN0eWxlPSJ3aWR0aDogMTAwLjAlOyBoZWlnaHQ6IDEwMC4wJTsiPiAgICAgICAgICAgICAgICAgQVlPVCBMSU1JVEVEOiBBaXJzcGFjZSBhYm92ZSAxNiBQcmluY2VzIFdheSwgU2hhbmtsaW4sIFBPMzcgN0RVPC9kaXY+ICAgICAgICAgICAgICAgICAnKVswXTsKICAgICAgICAgICAgICAgIHBvcHVwXzBhMmE5MmIzOTBmYzQ3ZTk5ZjMwYTM1MDk3YWM0NWVjLnNldENvbnRlbnQoaHRtbF81MWYxYmQ1YWExNzI0NTQ2ODMxNzNhMWIyMTgyNDc5ZSk7CiAgICAgICAgICAgIAoKICAgICAgICAgICAgY2lyY2xlX21hcmtlcl81MzU1MDA0ZTZlNjA0ODgxODc5M2YxMmFlNjkyMzA5OS5iaW5kUG9wdXAocG9wdXBfMGEyYTkyYjM5MGZjNDdlOTlmMzBhMzUwOTdhYzQ1ZWMpOwoKICAgICAgICAgICAgCiAgICAgICAgCiAgICAgICAgCiAgICAgICAgICAgIAoKICAgICAgICAgICAgdmFyIGNpcmNsZV9tYXJrZXJfYzYwMjE5Njc5YjhjNDEwMGFhY2U1ODNhNDBhMzAzYmIgPSBMLmNpcmNsZSgKICAgICAgICAgICAgICAgIFs1MC42ODQwMzE1NjAxLC0xLjA3NTY5OTA2NzY4XSwKICAgICAgICAgICAgICAgIDEwLAogICAgICAgICAgICAgICAgewogICAgICAgICAgICAgICAgICAgIGNvbG9yOiAncmVkJywKICAgICAgICAgICAgICAgICAgICBmaWxsQ29sb3I6ICdyZWQnLAogICAgICAgICAgICAgICAgICAgIGZpbGxPcGFjaXR5OiAwLjYKICAgICAgICAgICAgICAgICAgICB9CiAgICAgICAgICAgICAgICApCiAgICAgICAgICAgICAgICAuYWRkVG8obWFwXzU4MzE0NmFmZmU2MzRkZGZhZmJlYTdkZWU4ZWRkZmE5KTsKICAgICAgICAgICAgCiAgICAgICAgCiAgICAgICAgICAgIAogICAgICAgICAgICB2YXIgcG9wdXBfYWNmMTliM2U0MjU1NGFlZjg0ZTA5ODc0ZjAwYzYyNzAgPSBMLnBvcHVwKHttYXhXaWR0aDogJzMwMCd9KTsKCiAgICAgICAgICAgIAogICAgICAgICAgICAgICAgdmFyIGh0bWxfNmU3NmQ2Y2VhYjNkNGQ1NmE4MmFmYmM0N2MwNTgyNDAgPSAkKCcgICAgICAgICA8ZGl2IGlkPSJodG1sXzZlNzZkNmNlYWIzZDRkNTZhODJhZmJjNDdjMDU4MjQwIiAgICAgICAgICAgICAgICAgc3R5bGU9IndpZHRoOiAxMDAuMCU7IGhlaWdodDogMTAwLjAlOyI+ICAgICAgICAgICAgICAgICBBWU9UIExJTUlURUQ6IEFpcnNwYWNlIGFib3ZlIDEzNiBIb3dnYXRlIFJvYWQsIEJlbWJyaWRnZSwgUE8zNSA1VFc8L2Rpdj4gICAgICAgICAgICAgICAgICcpWzBdOwogICAgICAgICAgICAgICAgcG9wdXBfYWNmMTliM2U0MjU1NGFlZjg0ZTA5ODc0ZjAwYzYyNzAuc2V0Q29udGVudChodG1sXzZlNzZkNmNlYWIzZDRkNTZhODJhZmJjNDdjMDU4MjQwKTsKICAgICAgICAgICAgCgogICAgICAgICAgICBjaXJjbGVfbWFya2VyX2M2MDIxOTY3OWI4YzQxMDBhYWNlNTgzYTQwYTMwM2JiLmJpbmRQb3B1cChwb3B1cF9hY2YxOWIzZTQyNTU0YWVmODRlMDk4NzRmMDBjNjI3MCk7CgogICAgICAgICAgICAKICAgICAgICAKICAgICAgICAKICAgICAgICAgICAgCgogICAgICAgICAgICB2YXIgY2lyY2xlX21hcmtlcl85MGYwODY3MDM4YTc0ZGI2OTE4YTM2OWNlZDgzY2U1YyA9IEwuY2lyY2xlKAogICAgICAgICAgICAgICAgWzUwLjcwOTY0ODUxMjUsLTEuMzA4NzgzMzA0MzNdLAogICAgICAgICAgICAgICAgMTAsCiAgICAgICAgICAgICAgICB7CiAgICAgICAgICAgICAgICAgICAgY29sb3I6ICdyZWQnLAogICAgICAgICAgICAgICAgICAgIGZpbGxDb2xvcjogJ3JlZCcsCiAgICAgICAgICAgICAgICAgICAgZmlsbE9wYWNpdHk6IDAuNgogICAgICAgICAgICAgICAgICAgIH0KICAgICAgICAgICAgICAgICkKICAgICAgICAgICAgICAgIC5hZGRUbyhtYXBfNTgzMTQ2YWZmZTYzNGRkZmFmYmVhN2RlZThlZGRmYTkpOwogICAgICAgICAgICAKICAgICAgICAKICAgICAgICAgICAgCiAgICAgICAgICAgIHZhciBwb3B1cF8xNWE2YjU2YjBlYjI0MmU0ODA4MmNjODhlOTg4YmU4YSA9IEwucG9wdXAoe21heFdpZHRoOiAnMzAwJ30pOwoKICAgICAgICAgICAgCiAgICAgICAgICAgICAgICB2YXIgaHRtbF9lZjMzOGQzODRjYTI0OWNlOGQ2NTE0NTU1Yzg0YmQ3MSA9ICQoJyAgICAgICAgIDxkaXYgaWQ9Imh0bWxfZWYzMzhkMzg0Y2EyNDljZThkNjUxNDU1NWM4NGJkNzEiICAgICAgICAgICAgICAgICBzdHlsZT0id2lkdGg6IDEwMC4wJTsgaGVpZ2h0OiAxMDAuMCU7Ij4gICAgICAgICAgICAgICAgIEFZT1QgTElNSVRFRDogQWlyc3BhY2UgYWJvdmUgMTEgQnVja2luZ2hhbSBDcmVzY2VudCwgTmV3cG9ydCwgUE8zMCA1U0Q8L2Rpdj4gICAgICAgICAgICAgICAgICcpWzBdOwogICAgICAgICAgICAgICAgcG9wdXBfMTVhNmI1NmIwZWIyNDJlNDgwODJjYzg4ZTk4OGJlOGEuc2V0Q29udGVudChodG1sX2VmMzM4ZDM4NGNhMjQ5Y2U4ZDY1MTQ1NTVjODRiZDcxKTsKICAgICAgICAgICAgCgogICAgICAgICAgICBjaXJjbGVfbWFya2VyXzkwZjA4NjcwMzhhNzRkYjY5MThhMzY5Y2VkODNjZTVjLmJpbmRQb3B1cChwb3B1cF8xNWE2YjU2YjBlYjI0MmU0ODA4MmNjODhlOTg4YmU4YSk7CgogICAgICAgICAgICAKICAgICAgICAKICAgICAgICAKICAgICAgICAgICAgCgogICAgICAgICAgICB2YXIgY2lyY2xlX21hcmtlcl9hNjE5OTUwNmVmNjU0ZGFkOTRlZmRlOTY1NjU4NWI0OSA9IEwuY2lyY2xlKAogICAgICAgICAgICAgICAgWzUwLjcwOTcxMzA4NTIsLTEuMzA0NTE5MzU2NDddLAogICAgICAgICAgICAgICAgMTAsCiAgICAgICAgICAgICAgICB7CiAgICAgICAgICAgICAgICAgICAgY29sb3I6ICdyZWQnLAogICAgICAgICAgICAgICAgICAgIGZpbGxDb2xvcjogJ3JlZCcsCiAgICAgICAgICAgICAgICAgICAgZmlsbE9wYWNpdHk6IDAuNgogICAgICAgICAgICAgICAgICAgIH0KICAgICAgICAgICAgICAgICkKICAgICAgICAgICAgICAgIC5hZGRUbyhtYXBfNTgzMTQ2YWZmZTYzNGRkZmFmYmVhN2RlZThlZGRmYTkpOwogICAgICAgICAgICAKICAgICAgICAKICAgICAgICAgICAgCiAgICAgICAgICAgIHZhciBwb3B1cF8yODIxY2JhODE5OGE0ZTNhOTM1NjJlZWVmZWIzMjFkMyA9IEwucG9wdXAoe21heFdpZHRoOiAnMzAwJ30pOwoKICAgICAgICAgICAgCiAgICAgICAgICAgICAgICB2YXIgaHRtbF9hOGVjMmIyZjA4NTk0MzA2ODhhYzE3ZTRkZjQwNDYwNyA9ICQoJyAgICAgICAgIDxkaXYgaWQ9Imh0bWxfYThlYzJiMmYwODU5NDMwNjg4YWMxN2U0ZGY0MDQ2MDciICAgICAgICAgICAgICAgICBzdHlsZT0id2lkdGg6IDEwMC4wJTsgaGVpZ2h0OiAxMDAuMCU7Ij4gICAgICAgICAgICAgICAgIEFZT1QgTElNSVRFRDogQWlyc3BhY2UgYWJvdmUgMjcgU2hlcndvb2QgUm9hZCwgTmV3cG9ydCwgUE8zMCA1Ulk8L2Rpdj4gICAgICAgICAgICAgICAgICcpWzBdOwogICAgICAgICAgICAgICAgcG9wdXBfMjgyMWNiYTgxOThhNGUzYTkzNTYyZWVlZmViMzIxZDMuc2V0Q29udGVudChodG1sX2E4ZWMyYjJmMDg1OTQzMDY4OGFjMTdlNGRmNDA0NjA3KTsKICAgICAgICAgICAgCgogICAgICAgICAgICBjaXJjbGVfbWFya2VyX2E2MTk5NTA2ZWY2NTRkYWQ5NGVmZGU5NjU2NTg1YjQ5LmJpbmRQb3B1cChwb3B1cF8yODIxY2JhODE5OGE0ZTNhOTM1NjJlZWVmZWIzMjFkMyk7CgogICAgICAgICAgICAKICAgICAgICAKICAgICAgICAKICAgICAgICAgICAgCgogICAgICAgICAgICB2YXIgY2lyY2xlX21hcmtlcl84NDZjMzk5NDkyMzc0N2ZhODFkNTI4NzhjOWEyNjRiZiA9IEwuY2lyY2xlKAogICAgICAgICAgICAgICAgWzUwLjY2MTM0NDQ1MzIsLTEuMTU0MTQ0MjgxMTddLAogICAgICAgICAgICAgICAgMTAsCiAgICAgICAgICAgICAgICB7CiAgICAgICAgICAgICAgICAgICAgY29sb3I6ICdyZWQnLAogICAgICAgICAgICAgICAgICAgIGZpbGxDb2xvcjogJ3JlZCcsCiAgICAgICAgICAgICAgICAgICAgZmlsbE9wYWNpdHk6IDAuNgogICAgICAgICAgICAgICAgICAgIH0KICAgICAgICAgICAgICAgICkKICAgICAgICAgICAgICAgIC5hZGRUbyhtYXBfNTgzMTQ2YWZmZTYzNGRkZmFmYmVhN2RlZThlZGRmYTkpOwogICAgICAgICAgICAKICAgICAgICAKICAgICAgICAgICAgCiAgICAgICAgICAgIHZhciBwb3B1cF9hMjFkN2I0OTZiYjQ0NTE4YjY5NTU2MGJjYWU2M2RjZSA9IEwucG9wdXAoe21heFdpZHRoOiAnMzAwJ30pOwoKICAgICAgICAgICAgCiAgICAgICAgICAgICAgICB2YXIgaHRtbF9lNTA3MjQ5OGQwZGI0YzlkYjRmY2FkMDFlNmVlMTBjZCA9ICQoJyAgICAgICAgIDxkaXYgaWQ9Imh0bWxfZTUwNzI0OThkMGRiNGM5ZGI0ZmNhZDAxZTZlZTEwY2QiICAgICAgICAgICAgICAgICBzdHlsZT0id2lkdGg6IDEwMC4wJTsgaGVpZ2h0OiAxMDAuMCU7Ij4gICAgICAgICAgICAgICAgIEFZT1QgTElNSVRFRDogQWlyc3BhY2UgYWJvdmUgMTA3IEJyb2Fkd2F5LCBTYW5kb3duLCBQTzM2IDlBUTwvZGl2PiAgICAgICAgICAgICAgICAgJylbMF07CiAgICAgICAgICAgICAgICBwb3B1cF9hMjFkN2I0OTZiYjQ0NTE4YjY5NTU2MGJjYWU2M2RjZS5zZXRDb250ZW50KGh0bWxfZTUwNzI0OThkMGRiNGM5ZGI0ZmNhZDAxZTZlZTEwY2QpOwogICAgICAgICAgICAKCiAgICAgICAgICAgIGNpcmNsZV9tYXJrZXJfODQ2YzM5OTQ5MjM3NDdmYTgxZDUyODc4YzlhMjY0YmYuYmluZFBvcHVwKHBvcHVwX2EyMWQ3YjQ5NmJiNDQ1MThiNjk1NTYwYmNhZTYzZGNlKTsKCiAgICAgICAgICAgIAogICAgICAgIAogICAgICAgIAogICAgICAgICAgICAKCiAgICAgICAgICAgIHZhciBjaXJjbGVfbWFya2VyXzQ3NDM5ZjdhM2YyMzRiMmI4NjI0NzhkNjQ0ZjNlYTRhID0gTC5jaXJjbGUoCiAgICAgICAgICAgICAgICBbNTAuNTk4NzgwNiwtMS4yMTg1OTQ0NTQ3XSwKICAgICAgICAgICAgICAgIDEwLAogICAgICAgICAgICAgICAgewogICAgICAgICAgICAgICAgICAgIGNvbG9yOiAncmVkJywKICAgICAgICAgICAgICAgICAgICBmaWxsQ29sb3I6ICdyZWQnLAogICAgICAgICAgICAgICAgICAgIGZpbGxPcGFjaXR5OiAwLjYKICAgICAgICAgICAgICAgICAgICB9CiAgICAgICAgICAgICAgICApCiAgICAgICAgICAgICAgICAuYWRkVG8obWFwXzU4MzE0NmFmZmU2MzRkZGZhZmJlYTdkZWU4ZWRkZmE5KTsKICAgICAgICAgICAgCiAgICAgICAgCiAgICAgICAgICAgIAogICAgICAgICAgICB2YXIgcG9wdXBfZWEyOTM0NGU5OWEyNDE2NzgwNTU5ZGU3MTI0MTBjZWIgPSBMLnBvcHVwKHttYXhXaWR0aDogJzMwMCd9KTsKCiAgICAgICAgICAgIAogICAgICAgICAgICAgICAgdmFyIGh0bWxfMmJjMWIyOTlhZGNiNGQ5NmI0NzhmZDI1MTI3YmQxYzcgPSAkKCcgICAgICAgICA8ZGl2IGlkPSJodG1sXzJiYzFiMjk5YWRjYjRkOTZiNDc4ZmQyNTEyN2JkMWM3IiAgICAgICAgICAgICAgICAgc3R5bGU9IndpZHRoOiAxMDAuMCU7IGhlaWdodDogMTAwLjAlOyI+ICAgICAgICAgICAgICAgICBBWU9UIExJTUlURUQ6IEFpcnNwYWNlIGFib3ZlIDI4IERvd25sYW5kcyBDcmVzY2VudCwgVmVudG5vciwgUE8zOCAxQkU8L2Rpdj4gICAgICAgICAgICAgICAgICcpWzBdOwogICAgICAgICAgICAgICAgcG9wdXBfZWEyOTM0NGU5OWEyNDE2NzgwNTU5ZGU3MTI0MTBjZWIuc2V0Q29udGVudChodG1sXzJiYzFiMjk5YWRjYjRkOTZiNDc4ZmQyNTEyN2JkMWM3KTsKICAgICAgICAgICAgCgogICAgICAgICAgICBjaXJjbGVfbWFya2VyXzQ3NDM5ZjdhM2YyMzRiMmI4NjI0NzhkNjQ0ZjNlYTRhLmJpbmRQb3B1cChwb3B1cF9lYTI5MzQ0ZTk5YTI0MTY3ODA1NTlkZTcxMjQxMGNlYik7CgogICAgICAgICAgICAKICAgICAgICAKICAgICAgICAKICAgICAgICAgICAgCgogICAgICAgICAgICB2YXIgY2lyY2xlX21hcmtlcl8yNWFkMDg4N2ViZWU0ZmM1ODI5MmJkZjc4NzZmNjZjOCA9IEwuY2lyY2xlKAogICAgICAgICAgICAgICAgWzUwLjY5NDA4NTcwNDEsLTEuMzE3MDUzNzU2NjldLAogICAgICAgICAgICAgICAgMTAsCiAgICAgICAgICAgICAgICB7CiAgICAgICAgICAgICAgICAgICAgY29sb3I6ICdyZWQnLAogICAgICAgICAgICAgICAgICAgIGZpbGxDb2xvcjogJ3JlZCcsCiAgICAgICAgICAgICAgICAgICAgZmlsbE9wYWNpdHk6IDAuNgogICAgICAgICAgICAgICAgICAgIH0KICAgICAgICAgICAgICAgICkKICAgICAgICAgICAgICAgIC5hZGRUbyhtYXBfNTgzMTQ2YWZmZTYzNGRkZmFmYmVhN2RlZThlZGRmYTkpOwogICAgICAgICAgICAKICAgICAgICAKICAgICAgICAgICAgCiAgICAgICAgICAgIHZhciBwb3B1cF9lMjZlMTY3MGQzNzI0MmUyYjZkOWIwYmE3OGY3NWQ1MCA9IEwucG9wdXAoe21heFdpZHRoOiAnMzAwJ30pOwoKICAgICAgICAgICAgCiAgICAgICAgICAgICAgICB2YXIgaHRtbF8xNGI3MjM5NGEyZDg0NWEwYjgzNzg4ODYwNjUzYWVkNiA9ICQoJyAgICAgICAgIDxkaXYgaWQ9Imh0bWxfMTRiNzIzOTRhMmQ4NDVhMGI4Mzc4ODg2MDY1M2FlZDYiICAgICAgICAgICAgICAgICBzdHlsZT0id2lkdGg6IDEwMC4wJTsgaGVpZ2h0OiAxMDAuMCU7Ij4gICAgICAgICAgICAgICAgIEFZT1QgTElNSVRFRDogQWlyc3BhY2UgYWJvdmUgNDkgS2luZ2Zpc2hlciBDbG9zZSwgTmV3cG9ydCwgUE8zMCA1WFM8L2Rpdj4gICAgICAgICAgICAgICAgICcpWzBdOwogICAgICAgICAgICAgICAgcG9wdXBfZTI2ZTE2NzBkMzcyNDJlMmI2ZDliMGJhNzhmNzVkNTAuc2V0Q29udGVudChodG1sXzE0YjcyMzk0YTJkODQ1YTBiODM3ODg4NjA2NTNhZWQ2KTsKICAgICAgICAgICAgCgogICAgICAgICAgICBjaXJjbGVfbWFya2VyXzI1YWQwODg3ZWJlZTRmYzU4MjkyYmRmNzg3NmY2NmM4LmJpbmRQb3B1cChwb3B1cF9lMjZlMTY3MGQzNzI0MmUyYjZkOWIwYmE3OGY3NWQ1MCk7CgogICAgICAgICAgICAKICAgICAgICAKICAgICAgICAKICAgICAgICAgICAgCgogICAgICAgICAgICB2YXIgY2lyY2xlX21hcmtlcl83MzViYTA2YjNjYmY0ZDk2YjhhOWMxOTI1N2MzNTM3YyA9IEwuY2lyY2xlKAogICAgICAgICAgICAgICAgWzUwLjcxNzIyOTAxNzQsLTEuMTcyMDQ5NTI3MzRdLAogICAgICAgICAgICAgICAgMTAsCiAgICAgICAgICAgICAgICB7CiAgICAgICAgICAgICAgICAgICAgY29sb3I6ICdyZWQnLAogICAgICAgICAgICAgICAgICAgIGZpbGxDb2xvcjogJ3JlZCcsCiAgICAgICAgICAgICAgICAgICAgZmlsbE9wYWNpdHk6IDAuNgogICAgICAgICAgICAgICAgICAgIH0KICAgICAgICAgICAgICAgICkKICAgICAgICAgICAgICAgIC5hZGRUbyhtYXBfNTgzMTQ2YWZmZTYzNGRkZmFmYmVhN2RlZThlZGRmYTkpOwogICAgICAgICAgICAKICAgICAgICAKICAgICAgICAgICAgCiAgICAgICAgICAgIHZhciBwb3B1cF85OTJiZWQzNTM2OWU0N2Q5ODM2YWEyZTA2N2U0M2Y0YSA9IEwucG9wdXAoe21heFdpZHRoOiAnMzAwJ30pOwoKICAgICAgICAgICAgCiAgICAgICAgICAgICAgICB2YXIgaHRtbF84YjBmYTk1YmY5YjM0M2U1YjRkYTU2M2UzMDkxZDgyMyA9ICQoJyAgICAgICAgIDxkaXYgaWQ9Imh0bWxfOGIwZmE5NWJmOWIzNDNlNWI0ZGE1NjNlMzA5MWQ4MjMiICAgICAgICAgICAgICAgICBzdHlsZT0id2lkdGg6IDEwMC4wJTsgaGVpZ2h0OiAxMDAuMCU7Ij4gICAgICAgICAgICAgICAgIEFZT1QgTElNSVRFRDogQWlyc3BhY2UgYWJvdmUgMzkgR3JlbnZpbGxlIERyaXZlLCBSeWRlLCBQTzMzIDNKVzwvZGl2PiAgICAgICAgICAgICAgICAgJylbMF07CiAgICAgICAgICAgICAgICBwb3B1cF85OTJiZWQzNTM2OWU0N2Q5ODM2YWEyZTA2N2U0M2Y0YS5zZXRDb250ZW50KGh0bWxfOGIwZmE5NWJmOWIzNDNlNWI0ZGE1NjNlMzA5MWQ4MjMpOwogICAgICAgICAgICAKCiAgICAgICAgICAgIGNpcmNsZV9tYXJrZXJfNzM1YmEwNmIzY2JmNGQ5NmI4YTljMTkyNTdjMzUzN2MuYmluZFBvcHVwKHBvcHVwXzk5MmJlZDM1MzY5ZTQ3ZDk4MzZhYTJlMDY3ZTQzZjRhKTsKCiAgICAgICAgICAgIAogICAgICAgIAogICAgICAgIAogICAgICAgICAgICAKCiAgICAgICAgICAgIHZhciBjaXJjbGVfbWFya2VyXzkxNTNmYWFhOTdiODRhZGViYjZmNTNlMWY4ODA0NTVkID0gTC5jaXJjbGUoCiAgICAgICAgICAgICAgICBbNTAuNjcwNjcxODEyNywtMS4yMzIzNDU1NTg2NF0sCiAgICAgICAgICAgICAgICAxMCwKICAgICAgICAgICAgICAgIHsKICAgICAgICAgICAgICAgICAgICBjb2xvcjogJ3JlZCcsCiAgICAgICAgICAgICAgICAgICAgZmlsbENvbG9yOiAncmVkJywKICAgICAgICAgICAgICAgICAgICBmaWxsT3BhY2l0eTogMC42CiAgICAgICAgICAgICAgICAgICAgfQogICAgICAgICAgICAgICAgKQogICAgICAgICAgICAgICAgLmFkZFRvKG1hcF81ODMxNDZhZmZlNjM0ZGRmYWZiZWE3ZGVlOGVkZGZhOSk7CiAgICAgICAgICAgIAogICAgICAgIAogICAgICAgICAgICAKICAgICAgICAgICAgdmFyIHBvcHVwXzEwMmIyMDM5YzQwYzQwNzA4ZjA2YmQ3MjdhYTEzMmE0ID0gTC5wb3B1cCh7bWF4V2lkdGg6ICczMDAnfSk7CgogICAgICAgICAgICAKICAgICAgICAgICAgICAgIHZhciBodG1sXzI3OGFiNWVjN2M4YjRkMjQ5ZWYyYjBjZWIzMzUxYTYwID0gJCgnICAgICAgICAgPGRpdiBpZD0iaHRtbF8yNzhhYjVlYzdjOGI0ZDI0OWVmMmIwY2ViMzM1MWE2MCIgICAgICAgICAgICAgICAgIHN0eWxlPSJ3aWR0aDogMTAwLjAlOyBoZWlnaHQ6IDEwMC4wJTsiPiAgICAgICAgICAgICAgICAgQVlPVCBMSU1JVEVEOiBBaXJzcGFjZSBhYm92ZSAxNSBIYXplbHkgQ29tYmUsIEFycmV0b24sIE5ld3BvcnQsIFBPMzAgM0FKPC9kaXY+ICAgICAgICAgICAgICAgICAnKVswXTsKICAgICAgICAgICAgICAgIHBvcHVwXzEwMmIyMDM5YzQwYzQwNzA4ZjA2YmQ3MjdhYTEzMmE0LnNldENvbnRlbnQoaHRtbF8yNzhhYjVlYzdjOGI0ZDI0OWVmMmIwY2ViMzM1MWE2MCk7CiAgICAgICAgICAgIAoKICAgICAgICAgICAgY2lyY2xlX21hcmtlcl85MTUzZmFhYTk3Yjg0YWRlYmI2ZjUzZTFmODgwNDU1ZC5iaW5kUG9wdXAocG9wdXBfMTAyYjIwMzljNDBjNDA3MDhmMDZiZDcyN2FhMTMyYTQpOwoKICAgICAgICAgICAgCiAgICAgICAgCiAgICAgICAgCiAgICAgICAgICAgIAoKICAgICAgICAgICAgdmFyIGNpcmNsZV9tYXJrZXJfZjVhMmY1ZTRiNDAxNGQ3NDkyNTJhNDVmZmFjNmFmODAgPSBMLmNpcmNsZSgKICAgICAgICAgICAgICAgIFs1MC42OTQ4Nzc4NzEsLTEuMzE4NzI3MDk2NzVdLAogICAgICAgICAgICAgICAgMTAsCiAgICAgICAgICAgICAgICB7CiAgICAgICAgICAgICAgICAgICAgY29sb3I6ICdyZWQnLAogICAgICAgICAgICAgICAgICAgIGZpbGxDb2xvcjogJ3JlZCcsCiAgICAgICAgICAgICAgICAgICAgZmlsbE9wYWNpdHk6IDAuNgogICAgICAgICAgICAgICAgICAgIH0KICAgICAgICAgICAgICAgICkKICAgICAgICAgICAgICAgIC5hZGRUbyhtYXBfNTgzMTQ2YWZmZTYzNGRkZmFmYmVhN2RlZThlZGRmYTkpOwogICAgICAgICAgICAKICAgICAgICAKICAgICAgICAgICAgCiAgICAgICAgICAgIHZhciBwb3B1cF8xZmVjNzk3OWUwNzk0OTVhYWM3NjAxMTE3M2I4NWM1ZCA9IEwucG9wdXAoe21heFdpZHRoOiAnMzAwJ30pOwoKICAgICAgICAgICAgCiAgICAgICAgICAgICAgICB2YXIgaHRtbF80ZDYyODIyZDY1ZDM0MjhhODA4NDI4YTMxMWUzYWYzMSA9ICQoJyAgICAgICAgIDxkaXYgaWQ9Imh0bWxfNGQ2MjgyMmQ2NWQzNDI4YTgwODQyOGEzMTFlM2FmMzEiICAgICAgICAgICAgICAgICBzdHlsZT0id2lkdGg6IDEwMC4wJTsgaGVpZ2h0OiAxMDAuMCU7Ij4gICAgICAgICAgICAgICAgIEFZT1QgTElNSVRFRDogQWlyc3BhY2UgYWJvdmUgNCBHb2xkY3Jlc3QgQ2xvc2UsIE5ld3BvcnQsIFBPMzAgNUZYPC9kaXY+ICAgICAgICAgICAgICAgICAnKVswXTsKICAgICAgICAgICAgICAgIHBvcHVwXzFmZWM3OTc5ZTA3OTQ5NWFhYzc2MDExMTczYjg1YzVkLnNldENvbnRlbnQoaHRtbF80ZDYyODIyZDY1ZDM0MjhhODA4NDI4YTMxMWUzYWYzMSk7CiAgICAgICAgICAgIAoKICAgICAgICAgICAgY2lyY2xlX21hcmtlcl9mNWEyZjVlNGI0MDE0ZDc0OTI1MmE0NWZmYWM2YWY4MC5iaW5kUG9wdXAocG9wdXBfMWZlYzc5NzllMDc5NDk1YWFjNzYwMTExNzNiODVjNWQpOwoKICAgICAgICAgICAgCiAgICAgICAgCiAgICAgICAgCiAgICAgICAgICAgIAoKICAgICAgICAgICAgdmFyIGNpcmNsZV9tYXJrZXJfMzc5Yjk2ZTJlMDk2NGZhZGE1ZmRlYjZlODhjYWNjMzUgPSBMLmNpcmNsZSgKICAgICAgICAgICAgICAgIFs1MC42Nzg3MTk0OTA1LC0xLjE0MDcxMTc0MTQ2XSwKICAgICAgICAgICAgICAgIDEwLAogICAgICAgICAgICAgICAgewogICAgICAgICAgICAgICAgICAgIGNvbG9yOiAncmVkJywKICAgICAgICAgICAgICAgICAgICBmaWxsQ29sb3I6ICdyZWQnLAogICAgICAgICAgICAgICAgICAgIGZpbGxPcGFjaXR5OiAwLjYKICAgICAgICAgICAgICAgICAgICB9CiAgICAgICAgICAgICAgICApCiAgICAgICAgICAgICAgICAuYWRkVG8obWFwXzU4MzE0NmFmZmU2MzRkZGZhZmJlYTdkZWU4ZWRkZmE5KTsKICAgICAgICAgICAgCiAgICAgICAgCiAgICAgICAgICAgIAogICAgICAgICAgICB2YXIgcG9wdXBfMWU1MjVlMGFmOTkxNDI1ODhjOTMzMzEwMzYzZWM2NTMgPSBMLnBvcHVwKHttYXhXaWR0aDogJzMwMCd9KTsKCiAgICAgICAgICAgIAogICAgICAgICAgICAgICAgdmFyIGh0bWxfZmExOWIyYmViNTFjNGM4YjgyZmE2ZWQxYzY0YWJjMGEgPSAkKCcgICAgICAgICA8ZGl2IGlkPSJodG1sX2ZhMTliMmJlYjUxYzRjOGI4MmZhNmVkMWM2NGFiYzBhIiAgICAgICAgICAgICAgICAgc3R5bGU9IndpZHRoOiAxMDAuMCU7IGhlaWdodDogMTAwLjAlOyI+ICAgICAgICAgICAgICAgICBBWU9UIExJTUlURUQ6IEFpcnNwYWNlIGFib3ZlIDE5IFN0YXRpb24gR2FyZGVucywgQnJhZGluZywgU2FuZG93biwgUE8zNiAwRFo8L2Rpdj4gICAgICAgICAgICAgICAgICcpWzBdOwogICAgICAgICAgICAgICAgcG9wdXBfMWU1MjVlMGFmOTkxNDI1ODhjOTMzMzEwMzYzZWM2NTMuc2V0Q29udGVudChodG1sX2ZhMTliMmJlYjUxYzRjOGI4MmZhNmVkMWM2NGFiYzBhKTsKICAgICAgICAgICAgCgogICAgICAgICAgICBjaXJjbGVfbWFya2VyXzM3OWI5NmUyZTA5NjRmYWRhNWZkZWI2ZTg4Y2FjYzM1LmJpbmRQb3B1cChwb3B1cF8xZTUyNWUwYWY5OTE0MjU4OGM5MzMzMTAzNjNlYzY1Myk7CgogICAgICAgICAgICAKICAgICAgICAKICAgICAgICAKICAgICAgICAgICAgCgogICAgICAgICAgICB2YXIgY2lyY2xlX21hcmtlcl9hNmY1OTViODMzNzY0YjA5ODlkN2NiMWEwYjE0NjBkMyA9IEwuY2lyY2xlKAogICAgICAgICAgICAgICAgWzUwLjY3MDY3MTgxMjcsLTEuMjMyMzQ1NTU4NjRdLAogICAgICAgICAgICAgICAgMTAsCiAgICAgICAgICAgICAgICB7CiAgICAgICAgICAgICAgICAgICAgY29sb3I6ICdyZWQnLAogICAgICAgICAgICAgICAgICAgIGZpbGxDb2xvcjogJ3JlZCcsCiAgICAgICAgICAgICAgICAgICAgZmlsbE9wYWNpdHk6IDAuNgogICAgICAgICAgICAgICAgICAgIH0KICAgICAgICAgICAgICAgICkKICAgICAgICAgICAgICAgIC5hZGRUbyhtYXBfNTgzMTQ2YWZmZTYzNGRkZmFmYmVhN2RlZThlZGRmYTkpOwogICAgICAgICAgICAKICAgICAgICAKICAgICAgICAgICAgCiAgICAgICAgICAgIHZhciBwb3B1cF80ZDYzMTZjYTI5MGE0YTljODZiN2I4NTdlMzA5MzFiZiA9IEwucG9wdXAoe21heFdpZHRoOiAnMzAwJ30pOwoKICAgICAgICAgICAgCiAgICAgICAgICAgICAgICB2YXIgaHRtbF80OGU4MDNiYzhiNTI0NDFiYWIzY2I1OWY1YTYwMWI0MSA9ICQoJyAgICAgICAgIDxkaXYgaWQ9Imh0bWxfNDhlODAzYmM4YjUyNDQxYmFiM2NiNTlmNWE2MDFiNDEiICAgICAgICAgICAgICAgICBzdHlsZT0id2lkdGg6IDEwMC4wJTsgaGVpZ2h0OiAxMDAuMCU7Ij4gICAgICAgICAgICAgICAgIEFZT1QgTElNSVRFRDogQWlyc3BhY2UgYWJvdmUgMTYgSGF6ZWx5IENvbWJlLCBBcnJldG9uLCBOZXdwb3J0LCBQTzMwIDNBSjwvZGl2PiAgICAgICAgICAgICAgICAgJylbMF07CiAgICAgICAgICAgICAgICBwb3B1cF80ZDYzMTZjYTI5MGE0YTljODZiN2I4NTdlMzA5MzFiZi5zZXRDb250ZW50KGh0bWxfNDhlODAzYmM4YjUyNDQxYmFiM2NiNTlmNWE2MDFiNDEpOwogICAgICAgICAgICAKCiAgICAgICAgICAgIGNpcmNsZV9tYXJrZXJfYTZmNTk1YjgzMzc2NGIwOTg5ZDdjYjFhMGIxNDYwZDMuYmluZFBvcHVwKHBvcHVwXzRkNjMxNmNhMjkwYTRhOWM4NmI3Yjg1N2UzMDkzMWJmKTsKCiAgICAgICAgICAgIAogICAgICAgIAogICAgICAgIAogICAgICAgICAgICAKCiAgICAgICAgICAgIHZhciBjaXJjbGVfbWFya2VyX2Q2YjlhMGY5MGUzMzQ4OGRiYjVmYjdlNmEyZWU2YmI5ID0gTC5jaXJjbGUoCiAgICAgICAgICAgICAgICBbNTAuNzAzOTc4MjAxNCwtMS4yOTU5NTE3NTQ0N10sCiAgICAgICAgICAgICAgICAxMCwKICAgICAgICAgICAgICAgIHsKICAgICAgICAgICAgICAgICAgICBjb2xvcjogJ3JlZCcsCiAgICAgICAgICAgICAgICAgICAgZmlsbENvbG9yOiAncmVkJywKICAgICAgICAgICAgICAgICAgICBmaWxsT3BhY2l0eTogMC42CiAgICAgICAgICAgICAgICAgICAgfQogICAgICAgICAgICAgICAgKQogICAgICAgICAgICAgICAgLmFkZFRvKG1hcF81ODMxNDZhZmZlNjM0ZGRmYWZiZWE3ZGVlOGVkZGZhOSk7CiAgICAgICAgICAgIAogICAgICAgIAogICAgICAgICAgICAKICAgICAgICAgICAgdmFyIHBvcHVwXzU3MzI0Mjk1Y2NkNzQ4MGNhYTM2YzgwZTNjNDZiMmFlID0gTC5wb3B1cCh7bWF4V2lkdGg6ICczMDAnfSk7CgogICAgICAgICAgICAKICAgICAgICAgICAgICAgIHZhciBodG1sXzFlOWEwNzExMDFhNTRiMTliN2U5NjZmOTdhM2U3ZTRhID0gJCgnICAgICAgICAgPGRpdiBpZD0iaHRtbF8xZTlhMDcxMTAxYTU0YjE5YjdlOTY2Zjk3YTNlN2U0YSIgICAgICAgICAgICAgICAgIHN0eWxlPSJ3aWR0aDogMTAwLjAlOyBoZWlnaHQ6IDEwMC4wJTsiPiAgICAgICAgICAgICAgICAgQVlPVCBMSU1JVEVEOiBBaXJzcGFjZSBhYm92ZSA5IEhvb2tlcyBXYXksIE5ld3BvcnQsIFBPMzAgNUhHPC9kaXY+ICAgICAgICAgICAgICAgICAnKVswXTsKICAgICAgICAgICAgICAgIHBvcHVwXzU3MzI0Mjk1Y2NkNzQ4MGNhYTM2YzgwZTNjNDZiMmFlLnNldENvbnRlbnQoaHRtbF8xZTlhMDcxMTAxYTU0YjE5YjdlOTY2Zjk3YTNlN2U0YSk7CiAgICAgICAgICAgIAoKICAgICAgICAgICAgY2lyY2xlX21hcmtlcl9kNmI5YTBmOTBlMzM0ODhkYmI1ZmI3ZTZhMmVlNmJiOS5iaW5kUG9wdXAocG9wdXBfNTczMjQyOTVjY2Q3NDgwY2FhMzZjODBlM2M0NmIyYWUpOwoKICAgICAgICAgICAgCiAgICAgICAgCiAgICAgICAgCiAgICAgICAgICAgIAoKICAgICAgICAgICAgdmFyIGNpcmNsZV9tYXJrZXJfMDVmZDkxOGEwNzIwNDE2NWFjYzE5Mjc2MTU1MjY0YTQgPSBMLmNpcmNsZSgKICAgICAgICAgICAgICAgIFs1MC42MTUxMjEyNjUxLC0xLjIxOTk5MTcwNTEzXSwKICAgICAgICAgICAgICAgIDEwLAogICAgICAgICAgICAgICAgewogICAgICAgICAgICAgICAgICAgIGNvbG9yOiAncmVkJywKICAgICAgICAgICAgICAgICAgICBmaWxsQ29sb3I6ICdyZWQnLAogICAgICAgICAgICAgICAgICAgIGZpbGxPcGFjaXR5OiAwLjYKICAgICAgICAgICAgICAgICAgICB9CiAgICAgICAgICAgICAgICApCiAgICAgICAgICAgICAgICAuYWRkVG8obWFwXzU4MzE0NmFmZmU2MzRkZGZhZmJlYTdkZWU4ZWRkZmE5KTsKICAgICAgICAgICAgCiAgICAgICAgCiAgICAgICAgICAgIAogICAgICAgICAgICB2YXIgcG9wdXBfZjk5M2QyZGQ1ZmE1NDQ3OWFiNmI4MmUwYzQxYjM3OTggPSBMLnBvcHVwKHttYXhXaWR0aDogJzMwMCd9KTsKCiAgICAgICAgICAgIAogICAgICAgICAgICAgICAgdmFyIGh0bWxfOGUwZDM5YTc0YWYwNDVlOWE5M2FhZDRhOWFiNjM5MGIgPSAkKCcgICAgICAgICA8ZGl2IGlkPSJodG1sXzhlMGQzOWE3NGFmMDQ1ZTlhOTNhYWQ0YTlhYjYzOTBiIiAgICAgICAgICAgICAgICAgc3R5bGU9IndpZHRoOiAxMDAuMCU7IGhlaWdodDogMTAwLjAlOyI+ICAgICAgICAgICAgICAgICBBWU9UIExJTUlURUQ6IEFpcnNwYWNlIGFib3ZlIDM5IFN0IE1hcnRpbnMgUm9hZCwgV3JveGFsbCwgVmVudG5vciwgUE8zOCAzQlc8L2Rpdj4gICAgICAgICAgICAgICAgICcpWzBdOwogICAgICAgICAgICAgICAgcG9wdXBfZjk5M2QyZGQ1ZmE1NDQ3OWFiNmI4MmUwYzQxYjM3OTguc2V0Q29udGVudChodG1sXzhlMGQzOWE3NGFmMDQ1ZTlhOTNhYWQ0YTlhYjYzOTBiKTsKICAgICAgICAgICAgCgogICAgICAgICAgICBjaXJjbGVfbWFya2VyXzA1ZmQ5MThhMDcyMDQxNjVhY2MxOTI3NjE1NTI2NGE0LmJpbmRQb3B1cChwb3B1cF9mOTkzZDJkZDVmYTU0NDc5YWI2YjgyZTBjNDFiMzc5OCk7CgogICAgICAgICAgICAKICAgICAgICAKICAgICAgICAKICAgICAgICAgICAgCgogICAgICAgICAgICB2YXIgY2lyY2xlX21hcmtlcl9hOTgzODFhMjYxYTU0NGRjOTJhZGZkMzI4MjYxNGEyMSA9IEwuY2lyY2xlKAogICAgICAgICAgICAgICAgWzUwLjY0NTk0MTgzNDEsLTEuMTc3MDc4OTczMjVdLAogICAgICAgICAgICAgICAgMTAsCiAgICAgICAgICAgICAgICB7CiAgICAgICAgICAgICAgICAgICAgY29sb3I6ICdyZWQnLAogICAgICAgICAgICAgICAgICAgIGZpbGxDb2xvcjogJ3JlZCcsCiAgICAgICAgICAgICAgICAgICAgZmlsbE9wYWNpdHk6IDAuNgogICAgICAgICAgICAgICAgICAgIH0KICAgICAgICAgICAgICAgICkKICAgICAgICAgICAgICAgIC5hZGRUbyhtYXBfNTgzMTQ2YWZmZTYzNGRkZmFmYmVhN2RlZThlZGRmYTkpOwogICAgICAgICAgICAKICAgICAgICAKICAgICAgICAgICAgCiAgICAgICAgICAgIHZhciBwb3B1cF9kNWJmMjA1ZTU2MTM0N2JiOTA2NGEyZDU3Nzg1OTBlNiA9IEwucG9wdXAoe21heFdpZHRoOiAnMzAwJ30pOwoKICAgICAgICAgICAgCiAgICAgICAgICAgICAgICB2YXIgaHRtbF82NzFlZGZiYmYzMGI0NTE5OGVkN2E1NjAzMTM4ZjcwOCA9ICQoJyAgICAgICAgIDxkaXYgaWQ9Imh0bWxfNjcxZWRmYmJmMzBiNDUxOThlZDdhNTYwMzEzOGY3MDgiICAgICAgICAgICAgICAgICBzdHlsZT0id2lkdGg6IDEwMC4wJTsgaGVpZ2h0OiAxMDAuMCU7Ij4gICAgICAgICAgICAgICAgIEFZT1QgTElNSVRFRDogQWlyc3BhY2UgYWJvdmUgMzEgV29vZGhhbGwgRHJpdmUsIFNhbmRvd24sIFBPMzYgOVFCPC9kaXY+ICAgICAgICAgICAgICAgICAnKVswXTsKICAgICAgICAgICAgICAgIHBvcHVwX2Q1YmYyMDVlNTYxMzQ3YmI5MDY0YTJkNTc3ODU5MGU2LnNldENvbnRlbnQoaHRtbF82NzFlZGZiYmYzMGI0NTE5OGVkN2E1NjAzMTM4ZjcwOCk7CiAgICAgICAgICAgIAoKICAgICAgICAgICAgY2lyY2xlX21hcmtlcl9hOTgzODFhMjYxYTU0NGRjOTJhZGZkMzI4MjYxNGEyMS5iaW5kUG9wdXAocG9wdXBfZDViZjIwNWU1NjEzNDdiYjkwNjRhMmQ1Nzc4NTkwZTYpOwoKICAgICAgICAgICAgCiAgICAgICAgCiAgICAgICAgCiAgICAgICAgICAgIAoKICAgICAgICAgICAgdmFyIGNpcmNsZV9tYXJrZXJfYTc3YWRhZDgzMTJjNGY4MjliMTc1NmQ4ZjNkNzhjZWIgPSBMLmNpcmNsZSgKICAgICAgICAgICAgICAgIFs1MC42ODQyNTIzNjA5LC0xLjUxMTI5MDY3ODIzXSwKICAgICAgICAgICAgICAgIDEwLAogICAgICAgICAgICAgICAgewogICAgICAgICAgICAgICAgICAgIGNvbG9yOiAncmVkJywKICAgICAgICAgICAgICAgICAgICBmaWxsQ29sb3I6ICdyZWQnLAogICAgICAgICAgICAgICAgICAgIGZpbGxPcGFjaXR5OiAwLjYKICAgICAgICAgICAgICAgICAgICB9CiAgICAgICAgICAgICAgICApCiAgICAgICAgICAgICAgICAuYWRkVG8obWFwXzU4MzE0NmFmZmU2MzRkZGZhZmJlYTdkZWU4ZWRkZmE5KTsKICAgICAgICAgICAgCiAgICAgICAgCiAgICAgICAgICAgIAogICAgICAgICAgICB2YXIgcG9wdXBfOGEzYjRmYjU1ZjFjNGIzMWFjYjAyY2Q5NGEwZGVlNzkgPSBMLnBvcHVwKHttYXhXaWR0aDogJzMwMCd9KTsKCiAgICAgICAgICAgIAogICAgICAgICAgICAgICAgdmFyIGh0bWxfOGZjNDI2OTc2MjA5NDc5MjhiNDExMjViOWQ3NmI4ZDkgPSAkKCcgICAgICAgICA8ZGl2IGlkPSJodG1sXzhmYzQyNjk3NjIwOTQ3OTI4YjQxMTI1YjlkNzZiOGQ5IiAgICAgICAgICAgICAgICAgc3R5bGU9IndpZHRoOiAxMDAuMCU7IGhlaWdodDogMTAwLjAlOyI+ICAgICAgICAgICAgICAgICBBWU9UIExJTUlURUQ6IEFpcnNwYWNlIGFib3ZlIEdyZWVuIE9ha3MsIENodXJjaCBQbGFjZSwgRnJlc2h3YXRlciwgUE80MCA5QlA8L2Rpdj4gICAgICAgICAgICAgICAgICcpWzBdOwogICAgICAgICAgICAgICAgcG9wdXBfOGEzYjRmYjU1ZjFjNGIzMWFjYjAyY2Q5NGEwZGVlNzkuc2V0Q29udGVudChodG1sXzhmYzQyNjk3NjIwOTQ3OTI4YjQxMTI1YjlkNzZiOGQ5KTsKICAgICAgICAgICAgCgogICAgICAgICAgICBjaXJjbGVfbWFya2VyX2E3N2FkYWQ4MzEyYzRmODI5YjE3NTZkOGYzZDc4Y2ViLmJpbmRQb3B1cChwb3B1cF84YTNiNGZiNTVmMWM0YjMxYWNiMDJjZDk0YTBkZWU3OSk7CgogICAgICAgICAgICAKICAgICAgICAKICAgICAgICAKICAgICAgICAgICAgCgogICAgICAgICAgICB2YXIgY2lyY2xlX21hcmtlcl8xN2Q1NGE2MzdlZTU0OGMzYTJkMWVmZDc3Mjc1NTVjMCA9IEwuY2lyY2xlKAogICAgICAgICAgICAgICAgWzUwLjY5NTM3NzQyNiwtMS4zMTM0Mzg3NTYyN10sCiAgICAgICAgICAgICAgICAxMCwKICAgICAgICAgICAgICAgIHsKICAgICAgICAgICAgICAgICAgICBjb2xvcjogJ3JlZCcsCiAgICAgICAgICAgICAgICAgICAgZmlsbENvbG9yOiAncmVkJywKICAgICAgICAgICAgICAgICAgICBmaWxsT3BhY2l0eTogMC42CiAgICAgICAgICAgICAgICAgICAgfQogICAgICAgICAgICAgICAgKQogICAgICAgICAgICAgICAgLmFkZFRvKG1hcF81ODMxNDZhZmZlNjM0ZGRmYWZiZWE3ZGVlOGVkZGZhOSk7CiAgICAgICAgICAgIAogICAgICAgIAogICAgICAgICAgICAKICAgICAgICAgICAgdmFyIHBvcHVwX2IzYjNmOWFlOTE4MzQ2Njk4ZTYzMTk2YzM2YWIyZTY0ID0gTC5wb3B1cCh7bWF4V2lkdGg6ICczMDAnfSk7CgogICAgICAgICAgICAKICAgICAgICAgICAgICAgIHZhciBodG1sX2Y2NTUwNTFiNWU2OTRmMmU5NjI0NmM3YzNlYjIxZWVkID0gJCgnICAgICAgICAgPGRpdiBpZD0iaHRtbF9mNjU1MDUxYjVlNjk0ZjJlOTYyNDZjN2MzZWIyMWVlZCIgICAgICAgICAgICAgICAgIHN0eWxlPSJ3aWR0aDogMTAwLjAlOyBoZWlnaHQ6IDEwMC4wJTsiPiAgICAgICAgICAgICAgICAgQVlPVCBMSU1JVEVEOiBBaXJzcGFjZSBhYm92ZSAyNyBQdXJkeSBSb2FkLCBOZXdwb3J0LCBQTzMwIDVTVTwvZGl2PiAgICAgICAgICAgICAgICAgJylbMF07CiAgICAgICAgICAgICAgICBwb3B1cF9iM2IzZjlhZTkxODM0NjY5OGU2MzE5NmMzNmFiMmU2NC5zZXRDb250ZW50KGh0bWxfZjY1NTA1MWI1ZTY5NGYyZTk2MjQ2YzdjM2ViMjFlZWQpOwogICAgICAgICAgICAKCiAgICAgICAgICAgIGNpcmNsZV9tYXJrZXJfMTdkNTRhNjM3ZWU1NDhjM2EyZDFlZmQ3NzI3NTU1YzAuYmluZFBvcHVwKHBvcHVwX2IzYjNmOWFlOTE4MzQ2Njk4ZTYzMTk2YzM2YWIyZTY0KTsKCiAgICAgICAgICAgIAogICAgICAgIAogICAgICAgIAogICAgICAgICAgICAKCiAgICAgICAgICAgIHZhciBjaXJjbGVfbWFya2VyX2U2M2Y0OTE5NTVmNjRlNDVhNTY2MDYyOTU1NjliYTE0ID0gTC5jaXJjbGUoCiAgICAgICAgICAgICAgICBbNTAuNjQ0NDQyMTc1MywtMS4xNzg2NjA5MTUzNF0sCiAgICAgICAgICAgICAgICAxMCwKICAgICAgICAgICAgICAgIHsKICAgICAgICAgICAgICAgICAgICBjb2xvcjogJ3JlZCcsCiAgICAgICAgICAgICAgICAgICAgZmlsbENvbG9yOiAncmVkJywKICAgICAgICAgICAgICAgICAgICBmaWxsT3BhY2l0eTogMC42CiAgICAgICAgICAgICAgICAgICAgfQogICAgICAgICAgICAgICAgKQogICAgICAgICAgICAgICAgLmFkZFRvKG1hcF81ODMxNDZhZmZlNjM0ZGRmYWZiZWE3ZGVlOGVkZGZhOSk7CiAgICAgICAgICAgIAogICAgICAgIAogICAgICAgICAgICAKICAgICAgICAgICAgdmFyIHBvcHVwXzA1MzBlZWRmN2VmMTQ5ZWY4YmUzMGY0MWZlZTdjYTJiID0gTC5wb3B1cCh7bWF4V2lkdGg6ICczMDAnfSk7CgogICAgICAgICAgICAKICAgICAgICAgICAgICAgIHZhciBodG1sX2IxNDFkZjVjMTU4YzQyYzJhZTUyYzQzYzk2NzBjNGE2ID0gJCgnICAgICAgICAgPGRpdiBpZD0iaHRtbF9iMTQxZGY1YzE1OGM0MmMyYWU1MmM0M2M5NjcwYzRhNiIgICAgICAgICAgICAgICAgIHN0eWxlPSJ3aWR0aDogMTAwLjAlOyBoZWlnaHQ6IDEwMC4wJTsiPiAgICAgICAgICAgICAgICAgQVlPVCBMSU1JVEVEOiBhaXJzcGFjZSBhYm92ZSAxMiBCbGFja3BhbiBDbG9zZSwgU2FuZG93biwgUE8zNiA5UUg8L2Rpdj4gICAgICAgICAgICAgICAgICcpWzBdOwogICAgICAgICAgICAgICAgcG9wdXBfMDUzMGVlZGY3ZWYxNDllZjhiZTMwZjQxZmVlN2NhMmIuc2V0Q29udGVudChodG1sX2IxNDFkZjVjMTU4YzQyYzJhZTUyYzQzYzk2NzBjNGE2KTsKICAgICAgICAgICAgCgogICAgICAgICAgICBjaXJjbGVfbWFya2VyX2U2M2Y0OTE5NTVmNjRlNDVhNTY2MDYyOTU1NjliYTE0LmJpbmRQb3B1cChwb3B1cF8wNTMwZWVkZjdlZjE0OWVmOGJlMzBmNDFmZWU3Y2EyYik7CgogICAgICAgICAgICAKICAgICAgICAKICAgICAgICAKICAgICAgICAgICAgCgogICAgICAgICAgICB2YXIgY2lyY2xlX21hcmtlcl9lZjQxNjE1MjQ0NTE0NzdhOWZjNTcwYTYyMjU3ZDhlOCA9IEwuY2lyY2xlKAogICAgICAgICAgICAgICAgWzUwLjcyMzIwMTAyMTIsLTEuMTg4Nzg4ODA0MzVdLAogICAgICAgICAgICAgICAgMTAsCiAgICAgICAgICAgICAgICB7CiAgICAgICAgICAgICAgICAgICAgY29sb3I6ICdyZWQnLAogICAgICAgICAgICAgICAgICAgIGZpbGxDb2xvcjogJ3JlZCcsCiAgICAgICAgICAgICAgICAgICAgZmlsbE9wYWNpdHk6IDAuNgogICAgICAgICAgICAgICAgICAgIH0KICAgICAgICAgICAgICAgICkKICAgICAgICAgICAgICAgIC5hZGRUbyhtYXBfNTgzMTQ2YWZmZTYzNGRkZmFmYmVhN2RlZThlZGRmYTkpOwogICAgICAgICAgICAKICAgICAgICAKICAgICAgICAgICAgCiAgICAgICAgICAgIHZhciBwb3B1cF9mNDE0YzQ1NjZhYWU0Mjk0YmY2NmM4OGU1OWVjNjk2YSA9IEwucG9wdXAoe21heFdpZHRoOiAnMzAwJ30pOwoKICAgICAgICAgICAgCiAgICAgICAgICAgICAgICB2YXIgaHRtbF8yN2I1YWM2ODdjODU0MTRjODQwYjk4YjVhOWYyNTZhNSA9ICQoJyAgICAgICAgIDxkaXYgaWQ9Imh0bWxfMjdiNWFjNjg3Yzg1NDE0Yzg0MGI5OGI1YTlmMjU2YTUiICAgICAgICAgICAgICAgICBzdHlsZT0id2lkdGg6IDEwMC4wJTsgaGVpZ2h0OiAxMDAuMCU7Ij4gICAgICAgICAgICAgICAgIEFZT1QgTElNSVRFRDogQWlyc3BhY2UgYWJvdmUgMzUgUGFya3dheSwgUnlkZSwgUE8zMyAzUlo8L2Rpdj4gICAgICAgICAgICAgICAgICcpWzBdOwogICAgICAgICAgICAgICAgcG9wdXBfZjQxNGM0NTY2YWFlNDI5NGJmNjZjODhlNTllYzY5NmEuc2V0Q29udGVudChodG1sXzI3YjVhYzY4N2M4NTQxNGM4NDBiOThiNWE5ZjI1NmE1KTsKICAgICAgICAgICAgCgogICAgICAgICAgICBjaXJjbGVfbWFya2VyX2VmNDE2MTUyNDQ1MTQ3N2E5ZmM1NzBhNjIyNTdkOGU4LmJpbmRQb3B1cChwb3B1cF9mNDE0YzQ1NjZhYWU0Mjk0YmY2NmM4OGU1OWVjNjk2YSk7CgogICAgICAgICAgICAKICAgICAgICAKICAgICAgICAKICAgICAgICAgICAgCgogICAgICAgICAgICB2YXIgY2lyY2xlX21hcmtlcl81ZjRmZjYzMWYzNzA0ZGNhYTQwZjg0OWQ2ZWI5MzQ1NiA9IEwuY2lyY2xlKAogICAgICAgICAgICAgICAgWzUwLjcyOTY2Nzk0MzMsLTEuMjM2OTA3OTYzNTRdLAogICAgICAgICAgICAgICAgMTAsCiAgICAgICAgICAgICAgICB7CiAgICAgICAgICAgICAgICAgICAgY29sb3I6ICdyZWQnLAogICAgICAgICAgICAgICAgICAgIGZpbGxDb2xvcjogJ3JlZCcsCiAgICAgICAgICAgICAgICAgICAgZmlsbE9wYWNpdHk6IDAuNgogICAgICAgICAgICAgICAgICAgIH0KICAgICAgICAgICAgICAgICkKICAgICAgICAgICAgICAgIC5hZGRUbyhtYXBfNTgzMTQ2YWZmZTYzNGRkZmFmYmVhN2RlZThlZGRmYTkpOwogICAgICAgICAgICAKICAgICAgICAKICAgICAgICAgICAgCiAgICAgICAgICAgIHZhciBwb3B1cF9jZTM3YzRlOThjNGI0NmQ0OTRmZmJmNzVmNTg5ZDdiMyA9IEwucG9wdXAoe21heFdpZHRoOiAnMzAwJ30pOwoKICAgICAgICAgICAgCiAgICAgICAgICAgICAgICB2YXIgaHRtbF8yMTc1NDgxOTFhYjk0ODg0YWFmM2EwOWVjZDcyOThlMyA9ICQoJyAgICAgICAgIDxkaXYgaWQ9Imh0bWxfMjE3NTQ4MTkxYWI5NDg4NGFhZjNhMDllY2Q3Mjk4ZTMiICAgICAgICAgICAgICAgICBzdHlsZT0id2lkdGg6IDEwMC4wJTsgaGVpZ2h0OiAxMDAuMCU7Ij4gICAgICAgICAgICAgICAgIEFZT1QgTElNSVRFRDogQWlyc3BhY2UgYWJvdmUgOSBIb2xmb3JkIFJvYWQsIFdvb3R0b24gQnJpZGdlLCBSeWRlLCBQTzMzIDROTDwvZGl2PiAgICAgICAgICAgICAgICAgJylbMF07CiAgICAgICAgICAgICAgICBwb3B1cF9jZTM3YzRlOThjNGI0NmQ0OTRmZmJmNzVmNTg5ZDdiMy5zZXRDb250ZW50KGh0bWxfMjE3NTQ4MTkxYWI5NDg4NGFhZjNhMDllY2Q3Mjk4ZTMpOwogICAgICAgICAgICAKCiAgICAgICAgICAgIGNpcmNsZV9tYXJrZXJfNWY0ZmY2MzFmMzcwNGRjYWE0MGY4NDlkNmViOTM0NTYuYmluZFBvcHVwKHBvcHVwX2NlMzdjNGU5OGM0YjQ2ZDQ5NGZmYmY3NWY1ODlkN2IzKTsKCiAgICAgICAgICAgIAogICAgICAgIAogICAgICAgIAogICAgICAgICAgICAKCiAgICAgICAgICAgIHZhciBjaXJjbGVfbWFya2VyXzY3ZTU5NjYzMzNkNjQ4YjI5Y2M3MjAxMGUxZmM5MzE5ID0gTC5jaXJjbGUoCiAgICAgICAgICAgICAgICBbNTAuNzU0MTEwNTIwMiwtMS4zMDAwMjAxMjU0OF0sCiAgICAgICAgICAgICAgICAxMCwKICAgICAgICAgICAgICAgIHsKICAgICAgICAgICAgICAgICAgICBjb2xvcjogJ3JlZCcsCiAgICAgICAgICAgICAgICAgICAgZmlsbENvbG9yOiAncmVkJywKICAgICAgICAgICAgICAgICAgICBmaWxsT3BhY2l0eTogMC42CiAgICAgICAgICAgICAgICAgICAgfQogICAgICAgICAgICAgICAgKQogICAgICAgICAgICAgICAgLmFkZFRvKG1hcF81ODMxNDZhZmZlNjM0ZGRmYWZiZWE3ZGVlOGVkZGZhOSk7CiAgICAgICAgICAgIAogICAgICAgIAogICAgICAgICAgICAKICAgICAgICAgICAgdmFyIHBvcHVwXzBhNWJkNmZkZDM2NjQ2ZDNhZjRjYWM1YzYzMjkzMmM3ID0gTC5wb3B1cCh7bWF4V2lkdGg6ICczMDAnfSk7CgogICAgICAgICAgICAKICAgICAgICAgICAgICAgIHZhciBodG1sX2YyMjVjNDQ2M2YzOTRmOTg4Zjc5MDMxNzhlNzNmZjJiID0gJCgnICAgICAgICAgPGRpdiBpZD0iaHRtbF9mMjI1YzQ0NjNmMzk0Zjk4OGY3OTAzMTc4ZTczZmYyYiIgICAgICAgICAgICAgICAgIHN0eWxlPSJ3aWR0aDogMTAwLjAlOyBoZWlnaHQ6IDEwMC4wJTsiPiAgICAgICAgICAgICAgICAgQVlPVCBMSU1JVEVEOiBBaXJzcGFjZSBhYm92ZSA4IFN0IEZhaXRocyBSb2FkLCBDb3dlcywgUE8zMSA3SEg8L2Rpdj4gICAgICAgICAgICAgICAgICcpWzBdOwogICAgICAgICAgICAgICAgcG9wdXBfMGE1YmQ2ZmRkMzY2NDZkM2FmNGNhYzVjNjMyOTMyYzcuc2V0Q29udGVudChodG1sX2YyMjVjNDQ2M2YzOTRmOTg4Zjc5MDMxNzhlNzNmZjJiKTsKICAgICAgICAgICAgCgogICAgICAgICAgICBjaXJjbGVfbWFya2VyXzY3ZTU5NjYzMzNkNjQ4YjI5Y2M3MjAxMGUxZmM5MzE5LmJpbmRQb3B1cChwb3B1cF8wYTViZDZmZGQzNjY0NmQzYWY0Y2FjNWM2MzI5MzJjNyk7CgogICAgICAgICAgICAKICAgICAgICAKICAgICAgICAKICAgICAgICAgICAgCgogICAgICAgICAgICB2YXIgY2lyY2xlX21hcmtlcl9jOWZmYzg5ZDE2MzM0OTFmYWNjNTJiODM2NmY1Njc1OCA9IEwuY2lyY2xlKAogICAgICAgICAgICAgICAgWzUwLjY5NjQyNTIyOTYsLTEuMTEyOTIwMDc4OTRdLAogICAgICAgICAgICAgICAgMTAsCiAgICAgICAgICAgICAgICB7CiAgICAgICAgICAgICAgICAgICAgY29sb3I6ICdyZWQnLAogICAgICAgICAgICAgICAgICAgIGZpbGxDb2xvcjogJ3JlZCcsCiAgICAgICAgICAgICAgICAgICAgZmlsbE9wYWNpdHk6IDAuNgogICAgICAgICAgICAgICAgICAgIH0KICAgICAgICAgICAgICAgICkKICAgICAgICAgICAgICAgIC5hZGRUbyhtYXBfNTgzMTQ2YWZmZTYzNGRkZmFmYmVhN2RlZThlZGRmYTkpOwogICAgICAgICAgICAKICAgICAgICAKICAgICAgICAgICAgCiAgICAgICAgICAgIHZhciBwb3B1cF85ZTRjNzNmM2E0MzY0ODQzOWUzOTUyYjdhOWNkZDU3NiA9IEwucG9wdXAoe21heFdpZHRoOiAnMzAwJ30pOwoKICAgICAgICAgICAgCiAgICAgICAgICAgICAgICB2YXIgaHRtbF81ZDYzZWUzYTlhMmE0NWQyYjk0Yzc3MGQzMmFmY2RjNiA9ICQoJyAgICAgICAgIDxkaXYgaWQ9Imh0bWxfNWQ2M2VlM2E5YTJhNDVkMmI5NGM3NzBkMzJhZmNkYzYiICAgICAgICAgICAgICAgICBzdHlsZT0id2lkdGg6IDEwMC4wJTsgaGVpZ2h0OiAxMDAuMCU7Ij4gICAgICAgICAgICAgICAgIEFZT1QgTElNSVRFRDogQWlyc3BhY2UgYWJvdmUgNTIgRG93bnMgVmlldyBSb2FkLCBTdCBIZWxlbnMsIFJ5ZGUsIFBPMzMgMVlFPC9kaXY+ICAgICAgICAgICAgICAgICAnKVswXTsKICAgICAgICAgICAgICAgIHBvcHVwXzllNGM3M2YzYTQzNjQ4NDM5ZTM5NTJiN2E5Y2RkNTc2LnNldENvbnRlbnQoaHRtbF81ZDYzZWUzYTlhMmE0NWQyYjk0Yzc3MGQzMmFmY2RjNik7CiAgICAgICAgICAgIAoKICAgICAgICAgICAgY2lyY2xlX21hcmtlcl9jOWZmYzg5ZDE2MzM0OTFmYWNjNTJiODM2NmY1Njc1OC5iaW5kUG9wdXAocG9wdXBfOWU0YzczZjNhNDM2NDg0MzllMzk1MmI3YTljZGQ1NzYpOwoKICAgICAgICAgICAgCiAgICAgICAgCiAgICAgICAgCiAgICAgICAgICAgIAoKICAgICAgICAgICAgdmFyIGNpcmNsZV9tYXJrZXJfMjNkNWQ3MWEzZDA5NDZkZGEzNWQ1MmU4NjdmNjVlZWMgPSBMLmNpcmNsZSgKICAgICAgICAgICAgICAgIFs1MC42NDcwOTQ5ODUsLTEuMTY5NzYwNTEzNDhdLAogICAgICAgICAgICAgICAgMTAsCiAgICAgICAgICAgICAgICB7CiAgICAgICAgICAgICAgICAgICAgY29sb3I6ICdyZWQnLAogICAgICAgICAgICAgICAgICAgIGZpbGxDb2xvcjogJ3JlZCcsCiAgICAgICAgICAgICAgICAgICAgZmlsbE9wYWNpdHk6IDAuNgogICAgICAgICAgICAgICAgICAgIH0KICAgICAgICAgICAgICAgICkKICAgICAgICAgICAgICAgIC5hZGRUbyhtYXBfNTgzMTQ2YWZmZTYzNGRkZmFmYmVhN2RlZThlZGRmYTkpOwogICAgICAgICAgICAKICAgICAgICAKICAgICAgICAgICAgCiAgICAgICAgICAgIHZhciBwb3B1cF9lOGZmMTBlMGNhZDc0NzQ3YjVjNDI2MWVhMTcwOWIwZSA9IEwucG9wdXAoe21heFdpZHRoOiAnMzAwJ30pOwoKICAgICAgICAgICAgCiAgICAgICAgICAgICAgICB2YXIgaHRtbF82YzQ2NDdlNjNiODk0YTE2OTA2MDQ0MWI5ZjNlOTRlZSA9ICQoJyAgICAgICAgIDxkaXYgaWQ9Imh0bWxfNmM0NjQ3ZTYzYjg5NGExNjkwNjA0NDFiOWYzZTk0ZWUiICAgICAgICAgICAgICAgICBzdHlsZT0id2lkdGg6IDEwMC4wJTsgaGVpZ2h0OiAxMDAuMCU7Ij4gICAgICAgICAgICAgICAgIEFZT1QgTElNSVRFRDogQWlyc3BhY2UgYWJvdmUgNiBDaHVyY2hpbGwgQ2xvc2UsIFNhbmRvd24sIFBPMzYgOUxZPC9kaXY+ICAgICAgICAgICAgICAgICAnKVswXTsKICAgICAgICAgICAgICAgIHBvcHVwX2U4ZmYxMGUwY2FkNzQ3NDdiNWM0MjYxZWExNzA5YjBlLnNldENvbnRlbnQoaHRtbF82YzQ2NDdlNjNiODk0YTE2OTA2MDQ0MWI5ZjNlOTRlZSk7CiAgICAgICAgICAgIAoKICAgICAgICAgICAgY2lyY2xlX21hcmtlcl8yM2Q1ZDcxYTNkMDk0NmRkYTM1ZDUyZTg2N2Y2NWVlYy5iaW5kUG9wdXAocG9wdXBfZThmZjEwZTBjYWQ3NDc0N2I1YzQyNjFlYTE3MDliMGUpOwoKICAgICAgICAgICAgCiAgICAgICAgCiAgICAgICAgCiAgICAgICAgICAgIAoKICAgICAgICAgICAgdmFyIGNpcmNsZV9tYXJrZXJfZTg3NjE3MTI0M2FlNDc2N2JlYjVkYmIwMDA4Y2MzYzIgPSBMLmNpcmNsZSgKICAgICAgICAgICAgICAgIFs1MC42ODU2OTgyNTI2LC0xLjUxMjk3NDMyMTEzXSwKICAgICAgICAgICAgICAgIDEwLAogICAgICAgICAgICAgICAgewogICAgICAgICAgICAgICAgICAgIGNvbG9yOiAncmVkJywKICAgICAgICAgICAgICAgICAgICBmaWxsQ29sb3I6ICdyZWQnLAogICAgICAgICAgICAgICAgICAgIGZpbGxPcGFjaXR5OiAwLjYKICAgICAgICAgICAgICAgICAgICB9CiAgICAgICAgICAgICAgICApCiAgICAgICAgICAgICAgICAuYWRkVG8obWFwXzU4MzE0NmFmZmU2MzRkZGZhZmJlYTdkZWU4ZWRkZmE5KTsKICAgICAgICAgICAgCiAgICAgICAgCiAgICAgICAgICAgIAogICAgICAgICAgICB2YXIgcG9wdXBfM2Q4YWZkNjIxMjEwNGU1MmJkNzFjYjY5MDczNTk4NTAgPSBMLnBvcHVwKHttYXhXaWR0aDogJzMwMCd9KTsKCiAgICAgICAgICAgIAogICAgICAgICAgICAgICAgdmFyIGh0bWxfYjhjN2MyYzUzZWIyNGY0MWFiYzExOWYxZDY3MzhiNTUgPSAkKCcgICAgICAgICA8ZGl2IGlkPSJodG1sX2I4YzdjMmM1M2ViMjRmNDFhYmMxMTlmMWQ2NzM4YjU1IiAgICAgICAgICAgICAgICAgc3R5bGU9IndpZHRoOiAxMDAuMCU7IGhlaWdodDogMTAwLjAlOyI+ICAgICAgICAgICAgICAgICBBWU9UIExJTUlURUQ6IEFpcnNwYWNlIGFib3ZlIENhaXJubGVhLCBDb3BzZSBMYW5lLCBGcmVzaHdhdGVyLCBQTzQwIDlCWTwvZGl2PiAgICAgICAgICAgICAgICAgJylbMF07CiAgICAgICAgICAgICAgICBwb3B1cF8zZDhhZmQ2MjEyMTA0ZTUyYmQ3MWNiNjkwNzM1OTg1MC5zZXRDb250ZW50KGh0bWxfYjhjN2MyYzUzZWIyNGY0MWFiYzExOWYxZDY3MzhiNTUpOwogICAgICAgICAgICAKCiAgICAgICAgICAgIGNpcmNsZV9tYXJrZXJfZTg3NjE3MTI0M2FlNDc2N2JlYjVkYmIwMDA4Y2MzYzIuYmluZFBvcHVwKHBvcHVwXzNkOGFmZDYyMTIxMDRlNTJiZDcxY2I2OTA3MzU5ODUwKTsKCiAgICAgICAgICAgIAogICAgICAgIAogICAgICAgIAogICAgICAgICAgICAKCiAgICAgICAgICAgIHZhciBjaXJjbGVfbWFya2VyX2IxMmUwNGM4Y2UyNjQ4NmY5MDU3ZjUwNjgxMGZmOTdkID0gTC5jaXJjbGUoCiAgICAgICAgICAgICAgICBbNTAuNzIzODgzMzU4OSwtMS4yMjk3MzQxNjg0M10sCiAgICAgICAgICAgICAgICAxMCwKICAgICAgICAgICAgICAgIHsKICAgICAgICAgICAgICAgICAgICBjb2xvcjogJ3JlZCcsCiAgICAgICAgICAgICAgICAgICAgZmlsbENvbG9yOiAncmVkJywKICAgICAgICAgICAgICAgICAgICBmaWxsT3BhY2l0eTogMC42CiAgICAgICAgICAgICAgICAgICAgfQogICAgICAgICAgICAgICAgKQogICAgICAgICAgICAgICAgLmFkZFRvKG1hcF81ODMxNDZhZmZlNjM0ZGRmYWZiZWE3ZGVlOGVkZGZhOSk7CiAgICAgICAgICAgIAogICAgICAgIAogICAgICAgICAgICAKICAgICAgICAgICAgdmFyIHBvcHVwXzhhMDk1YjllNjljMzQ5MTZiZDIwNDZmOWFjM2E3MmI1ID0gTC5wb3B1cCh7bWF4V2lkdGg6ICczMDAnfSk7CgogICAgICAgICAgICAKICAgICAgICAgICAgICAgIHZhciBodG1sXzcwOWJjYTUyMzJjYjRkMWRhYWU3MDcyNzgxMGQ5YWE1ID0gJCgnICAgICAgICAgPGRpdiBpZD0iaHRtbF83MDliY2E1MjMyY2I0ZDFkYWFlNzA3Mjc4MTBkOWFhNSIgICAgICAgICAgICAgICAgIHN0eWxlPSJ3aWR0aDogMTAwLjAlOyBoZWlnaHQ6IDEwMC4wJTsiPiAgICAgICAgICAgICAgICAgQVlPVCBMSU1JVEVEOiBBaXJzcGFjZSBhYm92ZSAxMiBNYXJ5IFJvc2UgQXZlbnVlLCBXb290dG9uIEJyaWRnZSwgUnlkZSwgUE8zMyA0TE48L2Rpdj4gICAgICAgICAgICAgICAgICcpWzBdOwogICAgICAgICAgICAgICAgcG9wdXBfOGEwOTViOWU2OWMzNDkxNmJkMjA0NmY5YWMzYTcyYjUuc2V0Q29udGVudChodG1sXzcwOWJjYTUyMzJjYjRkMWRhYWU3MDcyNzgxMGQ5YWE1KTsKICAgICAgICAgICAgCgogICAgICAgICAgICBjaXJjbGVfbWFya2VyX2IxMmUwNGM4Y2UyNjQ4NmY5MDU3ZjUwNjgxMGZmOTdkLmJpbmRQb3B1cChwb3B1cF84YTA5NWI5ZTY5YzM0OTE2YmQyMDQ2ZjlhYzNhNzJiNSk7CgogICAgICAgICAgICAKICAgICAgICAKICAgICAgICAKICAgICAgICAgICAgCgogICAgICAgICAgICB2YXIgY2lyY2xlX21hcmtlcl9iNzhhYmY3MzQ4MzQ0OWEzOWVkZGRmOTViMDY1OWE0NiA9IEwuY2lyY2xlKAogICAgICAgICAgICAgICAgWzUwLjYzMDYyNTY5NDQsLTEuMTg3MTcyOTc0MDldLAogICAgICAgICAgICAgICAgMTAsCiAgICAgICAgICAgICAgICB7CiAgICAgICAgICAgICAgICAgICAgY29sb3I6ICdyZWQnLAogICAgICAgICAgICAgICAgICAgIGZpbGxDb2xvcjogJ3JlZCcsCiAgICAgICAgICAgICAgICAgICAgZmlsbE9wYWNpdHk6IDAuNgogICAgICAgICAgICAgICAgICAgIH0KICAgICAgICAgICAgICAgICkKICAgICAgICAgICAgICAgIC5hZGRUbyhtYXBfNTgzMTQ2YWZmZTYzNGRkZmFmYmVhN2RlZThlZGRmYTkpOwogICAgICAgICAgICAKICAgICAgICAKICAgICAgICAgICAgCiAgICAgICAgICAgIHZhciBwb3B1cF84MzYyMGM1ZDg0MDU0YTQ1YjI5ZGEzNzZlMWJmMzZiNyA9IEwucG9wdXAoe21heFdpZHRoOiAnMzAwJ30pOwoKICAgICAgICAgICAgCiAgICAgICAgICAgICAgICB2YXIgaHRtbF83MDM0MzU5OGJiZDU0MjgwOGViNmQ1MmY3Nzc2MTZlYSA9ICQoJyAgICAgICAgIDxkaXYgaWQ9Imh0bWxfNzAzNDM1OThiYmQ1NDI4MDhlYjZkNTJmNzc3NjE2ZWEiICAgICAgICAgICAgICAgICBzdHlsZT0id2lkdGg6IDEwMC4wJTsgaGVpZ2h0OiAxMDAuMCU7Ij4gICAgICAgICAgICAgICAgIEFZT1QgTElNSVRFRDogQWlyc3BhY2UgYWJvdmUgMSBCcm9ja3dvb2QgRHJpdmUsIFNoYW5rbGluLCBQTzM3IDdKTjwvZGl2PiAgICAgICAgICAgICAgICAgJylbMF07CiAgICAgICAgICAgICAgICBwb3B1cF84MzYyMGM1ZDg0MDU0YTQ1YjI5ZGEzNzZlMWJmMzZiNy5zZXRDb250ZW50KGh0bWxfNzAzNDM1OThiYmQ1NDI4MDhlYjZkNTJmNzc3NjE2ZWEpOwogICAgICAgICAgICAKCiAgICAgICAgICAgIGNpcmNsZV9tYXJrZXJfYjc4YWJmNzM0ODM0NDlhMzllZGRkZjk1YjA2NTlhNDYuYmluZFBvcHVwKHBvcHVwXzgzNjIwYzVkODQwNTRhNDViMjlkYTM3NmUxYmYzNmI3KTsKCiAgICAgICAgICAgIAogICAgICAgIAogICAgICAgIAogICAgICAgICAgICAKCiAgICAgICAgICAgIHZhciBjaXJjbGVfbWFya2VyX2I2YWI5ZTA2MTE3MDQyMzE4NzhjYzQ4MDFlNzQ2NzU4ID0gTC5jaXJjbGUoCiAgICAgICAgICAgICAgICBbNTAuNzA2Mjk4NjI4MSwtMS4yNzk4MDA5MjM2Ml0sCiAgICAgICAgICAgICAgICAxMCwKICAgICAgICAgICAgICAgIHsKICAgICAgICAgICAgICAgICAgICBjb2xvcjogJ3JlZCcsCiAgICAgICAgICAgICAgICAgICAgZmlsbENvbG9yOiAncmVkJywKICAgICAgICAgICAgICAgICAgICBmaWxsT3BhY2l0eTogMC42CiAgICAgICAgICAgICAgICAgICAgfQogICAgICAgICAgICAgICAgKQogICAgICAgICAgICAgICAgLmFkZFRvKG1hcF81ODMxNDZhZmZlNjM0ZGRmYWZiZWE3ZGVlOGVkZGZhOSk7CiAgICAgICAgICAgIAogICAgICAgIAogICAgICAgICAgICAKICAgICAgICAgICAgdmFyIHBvcHVwXzE3MDQwM2I2ODNiMDRhYjI5MGM4MGJkNDhiMjE2Y2E1ID0gTC5wb3B1cCh7bWF4V2lkdGg6ICczMDAnfSk7CgogICAgICAgICAgICAKICAgICAgICAgICAgICAgIHZhciBodG1sX2Q0ZmM4MDE3OGEyNjRhYWY5ODNiZGIxNTg4YjBmNzI3ID0gJCgnICAgICAgICAgPGRpdiBpZD0iaHRtbF9kNGZjODAxNzhhMjY0YWFmOTgzYmRiMTU4OGIwZjcyNyIgICAgICAgICAgICAgICAgIHN0eWxlPSJ3aWR0aDogMTAwLjAlOyBoZWlnaHQ6IDEwMC4wJTsiPiAgICAgICAgICAgICAgICAgQVlPVCBMSU1JVEVEOiBBaXJzcGFjZSBhYm92ZSAzMCBBdGtpbnNvbiBEcml2ZSwgTmV3cG9ydCwgUE8zMCAyTEo8L2Rpdj4gICAgICAgICAgICAgICAgICcpWzBdOwogICAgICAgICAgICAgICAgcG9wdXBfMTcwNDAzYjY4M2IwNGFiMjkwYzgwYmQ0OGIyMTZjYTUuc2V0Q29udGVudChodG1sX2Q0ZmM4MDE3OGEyNjRhYWY5ODNiZGIxNTg4YjBmNzI3KTsKICAgICAgICAgICAgCgogICAgICAgICAgICBjaXJjbGVfbWFya2VyX2I2YWI5ZTA2MTE3MDQyMzE4NzhjYzQ4MDFlNzQ2NzU4LmJpbmRQb3B1cChwb3B1cF8xNzA0MDNiNjgzYjA0YWIyOTBjODBiZDQ4YjIxNmNhNSk7CgogICAgICAgICAgICAKICAgICAgICAKICAgICAgICAKICAgICAgICAgICAgCgogICAgICAgICAgICB2YXIgY2lyY2xlX21hcmtlcl85MGQyODk5ZDE1NjA0NDZmYjQyMmRmYzliZTM4MDZmNSA9IEwuY2lyY2xlKAogICAgICAgICAgICAgICAgWzUwLjcxNTk1OTM0NjMsLTEuMzAyMzg3MjQzMTFdLAogICAgICAgICAgICAgICAgMTAsCiAgICAgICAgICAgICAgICB7CiAgICAgICAgICAgICAgICAgICAgY29sb3I6ICdyZWQnLAogICAgICAgICAgICAgICAgICAgIGZpbGxDb2xvcjogJ3JlZCcsCiAgICAgICAgICAgICAgICAgICAgZmlsbE9wYWNpdHk6IDAuNgogICAgICAgICAgICAgICAgICAgIH0KICAgICAgICAgICAgICAgICkKICAgICAgICAgICAgICAgIC5hZGRUbyhtYXBfNTgzMTQ2YWZmZTYzNGRkZmFmYmVhN2RlZThlZGRmYTkpOwogICAgICAgICAgICAKICAgICAgICAKICAgICAgICAgICAgCiAgICAgICAgICAgIHZhciBwb3B1cF9mN2QwZmQ4MDA2OTA0Yjg5YTlkZDJjN2I4ODkxOWUwMyA9IEwucG9wdXAoe21heFdpZHRoOiAnMzAwJ30pOwoKICAgICAgICAgICAgCiAgICAgICAgICAgICAgICB2YXIgaHRtbF9hNDM4ZDg3OGVhYzc0ZDVjODVlMjZkM2MzY2NlZmU1YiA9ICQoJyAgICAgICAgIDxkaXYgaWQ9Imh0bWxfYTQzOGQ4NzhlYWM3NGQ1Yzg1ZTI2ZDNjM2NjZWZlNWIiICAgICAgICAgICAgICAgICBzdHlsZT0id2lkdGg6IDEwMC4wJTsgaGVpZ2h0OiAxMDAuMCU7Ij4gICAgICAgICAgICAgICAgIEFZT1QgTElNSVRFRDogQWlyc3BhY2UgYWJvdmUgMzAgUGFydHJpZGdlIFJvYWQsIE5ld3BvcnQsIFBPMzAgNU5TPC9kaXY+ICAgICAgICAgICAgICAgICAnKVswXTsKICAgICAgICAgICAgICAgIHBvcHVwX2Y3ZDBmZDgwMDY5MDRiODlhOWRkMmM3Yjg4OTE5ZTAzLnNldENvbnRlbnQoaHRtbF9hNDM4ZDg3OGVhYzc0ZDVjODVlMjZkM2MzY2NlZmU1Yik7CiAgICAgICAgICAgIAoKICAgICAgICAgICAgY2lyY2xlX21hcmtlcl85MGQyODk5ZDE1NjA0NDZmYjQyMmRmYzliZTM4MDZmNS5iaW5kUG9wdXAocG9wdXBfZjdkMGZkODAwNjkwNGI4OWE5ZGQyYzdiODg5MTllMDMpOwoKICAgICAgICAgICAgCiAgICAgICAgCiAgICAgICAgCiAgICAgICAgICAgIAoKICAgICAgICAgICAgdmFyIGNpcmNsZV9tYXJrZXJfN2E5ZmNiZmQ1ZGJlNGZmNjg1Y2VkNmM4MzZiNmM5OWMgPSBMLmNpcmNsZSgKICAgICAgICAgICAgICAgIFs1MC43MjM4ODMzNTg5LC0xLjIyOTczNDE2ODQzXSwKICAgICAgICAgICAgICAgIDEwLAogICAgICAgICAgICAgICAgewogICAgICAgICAgICAgICAgICAgIGNvbG9yOiAncmVkJywKICAgICAgICAgICAgICAgICAgICBmaWxsQ29sb3I6ICdyZWQnLAogICAgICAgICAgICAgICAgICAgIGZpbGxPcGFjaXR5OiAwLjYKICAgICAgICAgICAgICAgICAgICB9CiAgICAgICAgICAgICAgICApCiAgICAgICAgICAgICAgICAuYWRkVG8obWFwXzU4MzE0NmFmZmU2MzRkZGZhZmJlYTdkZWU4ZWRkZmE5KTsKICAgICAgICAgICAgCiAgICAgICAgCiAgICAgICAgICAgIAogICAgICAgICAgICB2YXIgcG9wdXBfOWMyZTNmODY0MWM0NGZhZThlYWQ3YmQ0NDY0NGE1NDIgPSBMLnBvcHVwKHttYXhXaWR0aDogJzMwMCd9KTsKCiAgICAgICAgICAgIAogICAgICAgICAgICAgICAgdmFyIGh0bWxfOWE1NmYzMjg0MzBkNDExMzkyOGMxMGRkZjJjOTJkYmIgPSAkKCcgICAgICAgICA8ZGl2IGlkPSJodG1sXzlhNTZmMzI4NDMwZDQxMTM5MjhjMTBkZGYyYzkyZGJiIiAgICAgICAgICAgICAgICAgc3R5bGU9IndpZHRoOiAxMDAuMCU7IGhlaWdodDogMTAwLjAlOyI+ICAgICAgICAgICAgICAgICBBWU9UIExJTUlURUQ6IEFpcnNwYWNlIGFib3ZlIDE0IE1hcnkgUm9zZSBBdmVudWUsIFdvb3R0b24gQnJpZGdlLCBSeWRlLCBQTzMzIDRMTjwvZGl2PiAgICAgICAgICAgICAgICAgJylbMF07CiAgICAgICAgICAgICAgICBwb3B1cF85YzJlM2Y4NjQxYzQ0ZmFlOGVhZDdiZDQ0NjQ0YTU0Mi5zZXRDb250ZW50KGh0bWxfOWE1NmYzMjg0MzBkNDExMzkyOGMxMGRkZjJjOTJkYmIpOwogICAgICAgICAgICAKCiAgICAgICAgICAgIGNpcmNsZV9tYXJrZXJfN2E5ZmNiZmQ1ZGJlNGZmNjg1Y2VkNmM4MzZiNmM5OWMuYmluZFBvcHVwKHBvcHVwXzljMmUzZjg2NDFjNDRmYWU4ZWFkN2JkNDQ2NDRhNTQyKTsKCiAgICAgICAgICAgIAogICAgICAgIAogICAgICAgIAogICAgICAgICAgICAKCiAgICAgICAgICAgIHZhciBjaXJjbGVfbWFya2VyXzZjOWFjYThjMjJkMDQ4OWE5ZjUzYTNiMWVkOTMzYWI2ID0gTC5jaXJjbGUoCiAgICAgICAgICAgICAgICBbNTAuNjg0MDkxNTc0MSwtMS4yOTk4NTg4MjQ0NF0sCiAgICAgICAgICAgICAgICAxMCwKICAgICAgICAgICAgICAgIHsKICAgICAgICAgICAgICAgICAgICBjb2xvcjogJ3JlZCcsCiAgICAgICAgICAgICAgICAgICAgZmlsbENvbG9yOiAncmVkJywKICAgICAgICAgICAgICAgICAgICBmaWxsT3BhY2l0eTogMC42CiAgICAgICAgICAgICAgICAgICAgfQogICAgICAgICAgICAgICAgKQogICAgICAgICAgICAgICAgLmFkZFRvKG1hcF81ODMxNDZhZmZlNjM0ZGRmYWZiZWE3ZGVlOGVkZGZhOSk7CiAgICAgICAgICAgIAogICAgICAgIAogICAgICAgICAgICAKICAgICAgICAgICAgdmFyIHBvcHVwX2UwN2VhOTRkODRiZjRjNTNiZDUwNmVkNTliM2FmMmY0ID0gTC5wb3B1cCh7bWF4V2lkdGg6ICczMDAnfSk7CgogICAgICAgICAgICAKICAgICAgICAgICAgICAgIHZhciBodG1sXzNhNmIxMzRlMGViZjQ5Mzk4Njk4NTIxOGUwMmQyZjlmID0gJCgnICAgICAgICAgPGRpdiBpZD0iaHRtbF8zYTZiMTM0ZTBlYmY0OTM5ODY5ODUyMThlMDJkMmY5ZiIgICAgICAgICAgICAgICAgIHN0eWxlPSJ3aWR0aDogMTAwLjAlOyBoZWlnaHQ6IDEwMC4wJTsiPiAgICAgICAgICAgICAgICAgQVlPVCBMSU1JVEVEOiBBaXJzcGFjZSBhYm92ZSBCcm9va3NpZGUgRGFpcnksIE51bm5lcnkgTGFuZSwgTmV3cG9ydCwgUE8zMCAxWVI8L2Rpdj4gICAgICAgICAgICAgICAgICcpWzBdOwogICAgICAgICAgICAgICAgcG9wdXBfZTA3ZWE5NGQ4NGJmNGM1M2JkNTA2ZWQ1OWIzYWYyZjQuc2V0Q29udGVudChodG1sXzNhNmIxMzRlMGViZjQ5Mzk4Njk4NTIxOGUwMmQyZjlmKTsKICAgICAgICAgICAgCgogICAgICAgICAgICBjaXJjbGVfbWFya2VyXzZjOWFjYThjMjJkMDQ4OWE5ZjUzYTNiMWVkOTMzYWI2LmJpbmRQb3B1cChwb3B1cF9lMDdlYTk0ZDg0YmY0YzUzYmQ1MDZlZDU5YjNhZjJmNCk7CgogICAgICAgICAgICAKICAgICAgICAKICAgICAgICAKICAgICAgICAgICAgCgogICAgICAgICAgICB2YXIgY2lyY2xlX21hcmtlcl9iNzQwMGYxMTg1YTE0NDRmOTk1ZGRiNWM4MmEzNDIzYyA9IEwuY2lyY2xlKAogICAgICAgICAgICAgICAgWzUwLjc0NzUyNjk4MzcsLTEuMjgzNTkxMTQ2MzldLAogICAgICAgICAgICAgICAgMTAsCiAgICAgICAgICAgICAgICB7CiAgICAgICAgICAgICAgICAgICAgY29sb3I6ICdyZWQnLAogICAgICAgICAgICAgICAgICAgIGZpbGxDb2xvcjogJ3JlZCcsCiAgICAgICAgICAgICAgICAgICAgZmlsbE9wYWNpdHk6IDAuNgogICAgICAgICAgICAgICAgICAgIH0KICAgICAgICAgICAgICAgICkKICAgICAgICAgICAgICAgIC5hZGRUbyhtYXBfNTgzMTQ2YWZmZTYzNGRkZmFmYmVhN2RlZThlZGRmYTkpOwogICAgICAgICAgICAKICAgICAgICAKICAgICAgICAgICAgCiAgICAgICAgICAgIHZhciBwb3B1cF82NDc1NmJiNTA1ZGY0Y2UxYmM3MjljMzFhMzhhM2NiZSA9IEwucG9wdXAoe21heFdpZHRoOiAnMzAwJ30pOwoKICAgICAgICAgICAgCiAgICAgICAgICAgICAgICB2YXIgaHRtbF80NzM3NTU2NDAwZTc0ZWQ3OGMwNTg1MTlkNzYxMWFiYyA9ICQoJyAgICAgICAgIDxkaXYgaWQ9Imh0bWxfNDczNzU1NjQwMGU3NGVkNzhjMDU4NTE5ZDc2MTFhYmMiICAgICAgICAgICAgICAgICBzdHlsZT0id2lkdGg6IDEwMC4wJTsgaGVpZ2h0OiAxMDAuMCU7Ij4gICAgICAgICAgICAgICAgIEFZT1QgTElNSVRFRDogQWlyc3BhY2UgYWJvdmUgNjMgS2luZ3NsZWEgUGFyaywgRWFzdCBDb3dlcywgUE8zMiA2Slc8L2Rpdj4gICAgICAgICAgICAgICAgICcpWzBdOwogICAgICAgICAgICAgICAgcG9wdXBfNjQ3NTZiYjUwNWRmNGNlMWJjNzI5YzMxYTM4YTNjYmUuc2V0Q29udGVudChodG1sXzQ3Mzc1NTY0MDBlNzRlZDc4YzA1ODUxOWQ3NjExYWJjKTsKICAgICAgICAgICAgCgogICAgICAgICAgICBjaXJjbGVfbWFya2VyX2I3NDAwZjExODVhMTQ0NGY5OTVkZGI1YzgyYTM0MjNjLmJpbmRQb3B1cChwb3B1cF82NDc1NmJiNTA1ZGY0Y2UxYmM3MjljMzFhMzhhM2NiZSk7CgogICAgICAgICAgICAKICAgICAgICAKICAgICAgICAKICAgICAgICAgICAgCgogICAgICAgICAgICB2YXIgY2lyY2xlX21hcmtlcl80MDBlMjcwZWEyNTc0ZTQ3OTJiY2FmYzBkMmJmNjk3OSA9IEwuY2lyY2xlKAogICAgICAgICAgICAgICAgWzUwLjc2NTYwNDgxMzgsLTEuMzA5MzM0ODgyNjJdLAogICAgICAgICAgICAgICAgMTAsCiAgICAgICAgICAgICAgICB7CiAgICAgICAgICAgICAgICAgICAgY29sb3I6ICdyZWQnLAogICAgICAgICAgICAgICAgICAgIGZpbGxDb2xvcjogJ3JlZCcsCiAgICAgICAgICAgICAgICAgICAgZmlsbE9wYWNpdHk6IDAuNgogICAgICAgICAgICAgICAgICAgIH0KICAgICAgICAgICAgICAgICkKICAgICAgICAgICAgICAgIC5hZGRUbyhtYXBfNTgzMTQ2YWZmZTYzNGRkZmFmYmVhN2RlZThlZGRmYTkpOwogICAgICAgICAgICAKICAgICAgICAKICAgICAgICAgICAgCiAgICAgICAgICAgIHZhciBwb3B1cF81ZDVmNWQzMmQ5MTg0YTBlYjVmYzZkOTA4YzJhNzJhMiA9IEwucG9wdXAoe21heFdpZHRoOiAnMzAwJ30pOwoKICAgICAgICAgICAgCiAgICAgICAgICAgICAgICB2YXIgaHRtbF9kOWEzN2JhYmRkMGM0OTU5YWU0M2VmZTIxMmFhYjMyMyA9ICQoJyAgICAgICAgIDxkaXYgaWQ9Imh0bWxfZDlhMzdiYWJkZDBjNDk1OWFlNDNlZmUyMTJhYWIzMjMiICAgICAgICAgICAgICAgICBzdHlsZT0id2lkdGg6IDEwMC4wJTsgaGVpZ2h0OiAxMDAuMCU7Ij4gICAgICAgICAgICAgICAgIEdFTlRMRSBQVUxTRSBMSU1JVEVEOiBGbGF0IDcsIEVneXB0IFJlYWNoLCAzMyBCYXJpbmcgUm9hZCwgQ293ZXMgYW5kIHBhcmtpbmcgc3BhY2UsIFBPMzEgOERRPC9kaXY+ICAgICAgICAgICAgICAgICAnKVswXTsKICAgICAgICAgICAgICAgIHBvcHVwXzVkNWY1ZDMyZDkxODRhMGViNWZjNmQ5MDhjMmE3MmEyLnNldENvbnRlbnQoaHRtbF9kOWEzN2JhYmRkMGM0OTU5YWU0M2VmZTIxMmFhYjMyMyk7CiAgICAgICAgICAgIAoKICAgICAgICAgICAgY2lyY2xlX21hcmtlcl80MDBlMjcwZWEyNTc0ZTQ3OTJiY2FmYzBkMmJmNjk3OS5iaW5kUG9wdXAocG9wdXBfNWQ1ZjVkMzJkOTE4NGEwZWI1ZmM2ZDkwOGMyYTcyYTIpOwoKICAgICAgICAgICAgCiAgICAgICAgCiAgICAgICAgCiAgICAgICAgICAgIAoKICAgICAgICAgICAgdmFyIGNpcmNsZV9tYXJrZXJfNjZlY2Y3NGU4NmEzNDVlZmFhMjk5MWU4M2ZlMmQ1ZjYgPSBMLmNpcmNsZSgKICAgICAgICAgICAgICAgIFs1MC43Mjg3ODQxMjYzLC0xLjE2MzEzMjIyNzI4XSwKICAgICAgICAgICAgICAgIDEwLAogICAgICAgICAgICAgICAgewogICAgICAgICAgICAgICAgICAgIGNvbG9yOiAncmVkJywKICAgICAgICAgICAgICAgICAgICBmaWxsQ29sb3I6ICdyZWQnLAogICAgICAgICAgICAgICAgICAgIGZpbGxPcGFjaXR5OiAwLjYKICAgICAgICAgICAgICAgICAgICB9CiAgICAgICAgICAgICAgICApCiAgICAgICAgICAgICAgICAuYWRkVG8obWFwXzU4MzE0NmFmZmU2MzRkZGZhZmJlYTdkZWU4ZWRkZmE5KTsKICAgICAgICAgICAgCiAgICAgICAgCiAgICAgICAgICAgIAogICAgICAgICAgICB2YXIgcG9wdXBfNmQ2NzJkOTFiNjM2NDk4MTljYmRhYzdlOWNiMDNlNTMgPSBMLnBvcHVwKHttYXhXaWR0aDogJzMwMCd9KTsKCiAgICAgICAgICAgIAogICAgICAgICAgICAgICAgdmFyIGh0bWxfYTcwOTY1Y2RlZWM5NGI0OGE1NDk2ODc4Mjk4MmI2YjMgPSAkKCcgICAgICAgICA8ZGl2IGlkPSJodG1sX2E3MDk2NWNkZWVjOTRiNDhhNTQ5Njg3ODI5ODJiNmIzIiAgICAgICAgICAgICAgICAgc3R5bGU9IndpZHRoOiAxMDAuMCU7IGhlaWdodDogMTAwLjAlOyI+ICAgICAgICAgICAgICAgICBUSEUgR09WRVJOT1IgQU5EIENPTVBBTlkgT0YgVEhFIEJBTksgT0YgSVJFTEFORDogMTc3LCBIaWdoIFN0cmVldCwgUnlkZSwgUE8zMyAySFc8L2Rpdj4gICAgICAgICAgICAgICAgICcpWzBdOwogICAgICAgICAgICAgICAgcG9wdXBfNmQ2NzJkOTFiNjM2NDk4MTljYmRhYzdlOWNiMDNlNTMuc2V0Q29udGVudChodG1sX2E3MDk2NWNkZWVjOTRiNDhhNTQ5Njg3ODI5ODJiNmIzKTsKICAgICAgICAgICAgCgogICAgICAgICAgICBjaXJjbGVfbWFya2VyXzY2ZWNmNzRlODZhMzQ1ZWZhYTI5OTFlODNmZTJkNWY2LmJpbmRQb3B1cChwb3B1cF82ZDY3MmQ5MWI2MzY0OTgxOWNiZGFjN2U5Y2IwM2U1Myk7CgogICAgICAgICAgICAKICAgICAgICAKICAgICAgICAKICAgICAgICAgICAgCgogICAgICAgICAgICB2YXIgY2lyY2xlX21hcmtlcl9jZWI4N2IwYjA1NmQ0ZjBiOTAyNjc3NDdjOWZmYTU3YSA9IEwuY2lyY2xlKAogICAgICAgICAgICAgICAgWzUwLjY5OTA5NjYxNDIsLTEuMjkxNzQ4NjIxNjFdLAogICAgICAgICAgICAgICAgMTAsCiAgICAgICAgICAgICAgICB7CiAgICAgICAgICAgICAgICAgICAgY29sb3I6ICdyZWQnLAogICAgICAgICAgICAgICAgICAgIGZpbGxDb2xvcjogJ3JlZCcsCiAgICAgICAgICAgICAgICAgICAgZmlsbE9wYWNpdHk6IDAuNgogICAgICAgICAgICAgICAgICAgIH0KICAgICAgICAgICAgICAgICkKICAgICAgICAgICAgICAgIC5hZGRUbyhtYXBfNTgzMTQ2YWZmZTYzNGRkZmFmYmVhN2RlZThlZGRmYTkpOwogICAgICAgICAgICAKICAgICAgICAKICAgICAgICAgICAgCiAgICAgICAgICAgIHZhciBwb3B1cF9jZjlkOTU3NDhkYWQ0ZjE2OWY3MjFiYjUwZTg0YTY5YyA9IEwucG9wdXAoe21heFdpZHRoOiAnMzAwJ30pOwoKICAgICAgICAgICAgCiAgICAgICAgICAgICAgICB2YXIgaHRtbF84NGRkN2EwYzNlMTU0MGVlYWQ2ZmVmYTQwYmYxMjM5MyA9ICQoJyAgICAgICAgIDxkaXYgaWQ9Imh0bWxfODRkZDdhMGMzZTE1NDBlZWFkNmZlZmE0MGJmMTIzOTMiICAgICAgICAgICAgICAgICBzdHlsZT0id2lkdGg6IDEwMC4wJTsgaGVpZ2h0OiAxMDAuMCU7Ij4gICAgICAgICAgICAgICAgIEFCQUNVUyBMQU5EIDQgTElNSVRFRDogNTIsIFNvdXRoIFN0cmVldCwgTmV3cG9ydCwgUE8zMCAxSlE8L2Rpdj4gICAgICAgICAgICAgICAgICcpWzBdOwogICAgICAgICAgICAgICAgcG9wdXBfY2Y5ZDk1NzQ4ZGFkNGYxNjlmNzIxYmI1MGU4NGE2OWMuc2V0Q29udGVudChodG1sXzg0ZGQ3YTBjM2UxNTQwZWVhZDZmZWZhNDBiZjEyMzkzKTsKICAgICAgICAgICAgCgogICAgICAgICAgICBjaXJjbGVfbWFya2VyX2NlYjg3YjBiMDU2ZDRmMGI5MDI2Nzc0N2M5ZmZhNTdhLmJpbmRQb3B1cChwb3B1cF9jZjlkOTU3NDhkYWQ0ZjE2OWY3MjFiYjUwZTg0YTY5Yyk7CgogICAgICAgICAgICAKICAgICAgICAKICAgICAgICAKICAgICAgICAgICAgCgogICAgICAgICAgICB2YXIgY2lyY2xlX21hcmtlcl84YmFmZmFjYWM2MWI0ZGE3OWYxMjI4MWVhYzA0OTUwOSA9IEwuY2lyY2xlKAogICAgICAgICAgICAgICAgWzUwLjcyMzg4MzM1ODksLTEuMjI5NzM0MTY4NDNdLAogICAgICAgICAgICAgICAgMTAsCiAgICAgICAgICAgICAgICB7CiAgICAgICAgICAgICAgICAgICAgY29sb3I6ICdyZWQnLAogICAgICAgICAgICAgICAgICAgIGZpbGxDb2xvcjogJ3JlZCcsCiAgICAgICAgICAgICAgICAgICAgZmlsbE9wYWNpdHk6IDAuNgogICAgICAgICAgICAgICAgICAgIH0KICAgICAgICAgICAgICAgICkKICAgICAgICAgICAgICAgIC5hZGRUbyhtYXBfNTgzMTQ2YWZmZTYzNGRkZmFmYmVhN2RlZThlZGRmYTkpOwogICAgICAgICAgICAKICAgICAgICAKICAgICAgICAgICAgCiAgICAgICAgICAgIHZhciBwb3B1cF8wZmZhMzUwMTBmYzQ0NWZmYjIwZGQ0ZTE3MjhiM2Y3NSA9IEwucG9wdXAoe21heFdpZHRoOiAnMzAwJ30pOwoKICAgICAgICAgICAgCiAgICAgICAgICAgICAgICB2YXIgaHRtbF83Y2ZjMjdkZTQ3YzU0NDRiYWRkYmE2NTUxMGE2YmUxMyA9ICQoJyAgICAgICAgIDxkaXYgaWQ9Imh0bWxfN2NmYzI3ZGU0N2M1NDQ0YmFkZGJhNjU1MTBhNmJlMTMiICAgICAgICAgICAgICAgICBzdHlsZT0id2lkdGg6IDEwMC4wJTsgaGVpZ2h0OiAxMDAuMCU7Ij4gICAgICAgICAgICAgICAgIFdBUlJBV0VFIElOVkVTVE1FTlRTIExJTUlURUQ6IEFpcnNwYWNlIGFib3ZlIDIwIE1hcnkgUm9zZSBBdmVudWUsIFdvb3R0b24gQnJpZGdlLCBSeWRlLCBQTzMzIDRMTjwvZGl2PiAgICAgICAgICAgICAgICAgJylbMF07CiAgICAgICAgICAgICAgICBwb3B1cF8wZmZhMzUwMTBmYzQ0NWZmYjIwZGQ0ZTE3MjhiM2Y3NS5zZXRDb250ZW50KGh0bWxfN2NmYzI3ZGU0N2M1NDQ0YmFkZGJhNjU1MTBhNmJlMTMpOwogICAgICAgICAgICAKCiAgICAgICAgICAgIGNpcmNsZV9tYXJrZXJfOGJhZmZhY2FjNjFiNGRhNzlmMTIyODFlYWMwNDk1MDkuYmluZFBvcHVwKHBvcHVwXzBmZmEzNTAxMGZjNDQ1ZmZiMjBkZDRlMTcyOGIzZjc1KTsKCiAgICAgICAgICAgIAogICAgICAgIAogICAgICAgIAogICAgICAgICAgICAKCiAgICAgICAgICAgIHZhciBjaXJjbGVfbWFya2VyXzVjZTM2MTliYTM0NTRiZDE5ZTZiODBlMGE2ZjdiYjU1ID0gTC5jaXJjbGUoCiAgICAgICAgICAgICAgICBbNTAuNjMzMDI0NzkwMSwtMS4yMzYwNTUyNzkwMl0sCiAgICAgICAgICAgICAgICAxMCwKICAgICAgICAgICAgICAgIHsKICAgICAgICAgICAgICAgICAgICBjb2xvcjogJ3JlZCcsCiAgICAgICAgICAgICAgICAgICAgZmlsbENvbG9yOiAncmVkJywKICAgICAgICAgICAgICAgICAgICBmaWxsT3BhY2l0eTogMC42CiAgICAgICAgICAgICAgICAgICAgfQogICAgICAgICAgICAgICAgKQogICAgICAgICAgICAgICAgLmFkZFRvKG1hcF81ODMxNDZhZmZlNjM0ZGRmYWZiZWE3ZGVlOGVkZGZhOSk7CiAgICAgICAgICAgIAogICAgICAgIAogICAgICAgICAgICAKICAgICAgICAgICAgdmFyIHBvcHVwX2ZkZjhjMDg5Yjg4NjQ5Nzk4Yjc3OTIwNmFmYWEwOWQ2ID0gTC5wb3B1cCh7bWF4V2lkdGg6ICczMDAnfSk7CgogICAgICAgICAgICAKICAgICAgICAgICAgICAgIHZhciBodG1sXzA3OWEyYjVjYWI1MjQwMGY4ZWE1YzQwMDZiZGRjYmVkID0gJCgnICAgICAgICAgPGRpdiBpZD0iaHRtbF8wNzlhMmI1Y2FiNTI0MDBmOGVhNWM0MDA2YmRkY2JlZCIgICAgICAgICAgICAgICAgIHN0eWxlPSJ3aWR0aDogMTAwLjAlOyBoZWlnaHQ6IDEwMC4wJTsiPiAgICAgICAgICAgICAgICAgUkVEV09PRCBERVZFTE9QTUVOVFMgTElNSVRFRDogTGlubmV0IE1lYWQsIFJlZGhpbGwgTGFuZSwgU2FuZGZvcmQsIFZlbnRub3IsIFBPMzggM0VUPC9kaXY+ICAgICAgICAgICAgICAgICAnKVswXTsKICAgICAgICAgICAgICAgIHBvcHVwX2ZkZjhjMDg5Yjg4NjQ5Nzk4Yjc3OTIwNmFmYWEwOWQ2LnNldENvbnRlbnQoaHRtbF8wNzlhMmI1Y2FiNTI0MDBmOGVhNWM0MDA2YmRkY2JlZCk7CiAgICAgICAgICAgIAoKICAgICAgICAgICAgY2lyY2xlX21hcmtlcl81Y2UzNjE5YmEzNDU0YmQxOWU2YjgwZTBhNmY3YmI1NS5iaW5kUG9wdXAocG9wdXBfZmRmOGMwODliODg2NDk3OThiNzc5MjA2YWZhYTA5ZDYpOwoKICAgICAgICAgICAgCiAgICAgICAgCiAgICAgICAgCiAgICAgICAgICAgIAoKICAgICAgICAgICAgdmFyIGNpcmNsZV9tYXJrZXJfNjZjYjIwMmM1ZGRjNGI4NGJlOTdmNWZiYjZmOTQyNTYgPSBMLmNpcmNsZSgKICAgICAgICAgICAgICAgIFs1MC43NTkwODY2MzEsLTEuMjg3MTcxODIxNTNdLAogICAgICAgICAgICAgICAgMTAsCiAgICAgICAgICAgICAgICB7CiAgICAgICAgICAgICAgICAgICAgY29sb3I6ICdyZWQnLAogICAgICAgICAgICAgICAgICAgIGZpbGxDb2xvcjogJ3JlZCcsCiAgICAgICAgICAgICAgICAgICAgZmlsbE9wYWNpdHk6IDAuNgogICAgICAgICAgICAgICAgICAgIH0KICAgICAgICAgICAgICAgICkKICAgICAgICAgICAgICAgIC5hZGRUbyhtYXBfNTgzMTQ2YWZmZTYzNGRkZmFmYmVhN2RlZThlZGRmYTkpOwogICAgICAgICAgICAKICAgICAgICAKICAgICAgICAgICAgCiAgICAgICAgICAgIHZhciBwb3B1cF9hNTYxMWNiMDA0MDA0YmMzOTkwZDQ1OWRkOWY0NGY5ZiA9IEwucG9wdXAoe21heFdpZHRoOiAnMzAwJ30pOwoKICAgICAgICAgICAgCiAgICAgICAgICAgICAgICB2YXIgaHRtbF9hZTgxZjQ3NzU3M2M0YmUxODYyZWMyMzUwODRmMGQ4ZiA9ICQoJyAgICAgICAgIDxkaXYgaWQ9Imh0bWxfYWU4MWY0Nzc1NzNjNGJlMTg2MmVjMjM1MDg0ZjBkOGYiICAgICAgICAgICAgICAgICBzdHlsZT0id2lkdGg6IDEwMC4wJTsgaGVpZ2h0OiAxMDAuMCU7Ij4gICAgICAgICAgICAgICAgIE1FRElDWCBQUk9QRVJUSUVTIFYgTElNSVRFRDogRWFzdCBDb3dlcyBNZWRpY2FsIENlbnRyZSwgQ2h1cmNoIFBhdGgsIEVhc3QgQ293ZXMsIFBPMzIgNlJMPC9kaXY+ICAgICAgICAgICAgICAgICAnKVswXTsKICAgICAgICAgICAgICAgIHBvcHVwX2E1NjExY2IwMDQwMDRiYzM5OTBkNDU5ZGQ5ZjQ0ZjlmLnNldENvbnRlbnQoaHRtbF9hZTgxZjQ3NzU3M2M0YmUxODYyZWMyMzUwODRmMGQ4Zik7CiAgICAgICAgICAgIAoKICAgICAgICAgICAgY2lyY2xlX21hcmtlcl82NmNiMjAyYzVkZGM0Yjg0YmU5N2Y1ZmJiNmY5NDI1Ni5iaW5kUG9wdXAocG9wdXBfYTU2MTFjYjAwNDAwNGJjMzk5MGQ0NTlkZDlmNDRmOWYpOwoKICAgICAgICAgICAgCiAgICAgICAgCiAgICAgICAgCiAgICAgICAgICAgIAoKICAgICAgICAgICAgdmFyIGNpcmNsZV9tYXJrZXJfYzM3NTdiOGU4YzljNDg5Yjg3MDZhZTc5NGM3ZmEzOWYgPSBMLmNpcmNsZSgKICAgICAgICAgICAgICAgIFs1MC43NjU4Mjk1NjY5LC0xLjMwMDI3MDczMTMyXSwKICAgICAgICAgICAgICAgIDEwLAogICAgICAgICAgICAgICAgewogICAgICAgICAgICAgICAgICAgIGNvbG9yOiAncmVkJywKICAgICAgICAgICAgICAgICAgICBmaWxsQ29sb3I6ICdyZWQnLAogICAgICAgICAgICAgICAgICAgIGZpbGxPcGFjaXR5OiAwLjYKICAgICAgICAgICAgICAgICAgICB9CiAgICAgICAgICAgICAgICApCiAgICAgICAgICAgICAgICAuYWRkVG8obWFwXzU4MzE0NmFmZmU2MzRkZGZhZmJlYTdkZWU4ZWRkZmE5KTsKICAgICAgICAgICAgCiAgICAgICAgCiAgICAgICAgICAgIAogICAgICAgICAgICB2YXIgcG9wdXBfMDEyNmU4NzE3YjAxNDQ3ZGJmNmY4OWZhMDRmMTU0NjUgPSBMLnBvcHVwKHttYXhXaWR0aDogJzMwMCd9KTsKCiAgICAgICAgICAgIAogICAgICAgICAgICAgICAgdmFyIGh0bWxfMDg2OTU3NDQ2NWFhNGNlOGJiYmNlYWRlYzAwMDg3ODQgPSAkKCcgICAgICAgICA8ZGl2IGlkPSJodG1sXzA4Njk1NzQ0NjVhYTRjZThiYmJjZWFkZWMwMDA4Nzg0IiAgICAgICAgICAgICAgICAgc3R5bGU9IndpZHRoOiAxMDAuMCU7IGhlaWdodDogMTAwLjAlOyI+ICAgICAgICAgICAgICAgICBUSEUgQlVCQkxZIENPTVBBTlkgTElNSVRFRDogRmxhdCAxNSwgVGhlIEdsb3N0ZXIsIFRoZSBQYXJhZGUsIENvd2VzIGFuZCBwYXJraW5nIHNwYWNlIDUsIFBPMzEgN1FEPC9kaXY+ICAgICAgICAgICAgICAgICAnKVswXTsKICAgICAgICAgICAgICAgIHBvcHVwXzAxMjZlODcxN2IwMTQ0N2RiZjZmODlmYTA0ZjE1NDY1LnNldENvbnRlbnQoaHRtbF8wODY5NTc0NDY1YWE0Y2U4YmJiY2VhZGVjMDAwODc4NCk7CiAgICAgICAgICAgIAoKICAgICAgICAgICAgY2lyY2xlX21hcmtlcl9jMzc1N2I4ZThjOWM0ODliODcwNmFlNzk0YzdmYTM5Zi5iaW5kUG9wdXAocG9wdXBfMDEyNmU4NzE3YjAxNDQ3ZGJmNmY4OWZhMDRmMTU0NjUpOwoKICAgICAgICAgICAgCiAgICAgICAgCiAgICAgICAgCiAgICAgICAgICAgIAoKICAgICAgICAgICAgdmFyIGNpcmNsZV9tYXJrZXJfYWEyODdjYWYyMTZlNDkxY2I2YWIxYjE0NWUxMzQ2MzYgPSBMLmNpcmNsZSgKICAgICAgICAgICAgICAgIFs1MC43MDkyNjEyODcyLC0xLjMwNDE1NzgwOTY5XSwKICAgICAgICAgICAgICAgIDEwLAogICAgICAgICAgICAgICAgewogICAgICAgICAgICAgICAgICAgIGNvbG9yOiAncmVkJywKICAgICAgICAgICAgICAgICAgICBmaWxsQ29sb3I6ICdyZWQnLAogICAgICAgICAgICAgICAgICAgIGZpbGxPcGFjaXR5OiAwLjYKICAgICAgICAgICAgICAgICAgICB9CiAgICAgICAgICAgICAgICApCiAgICAgICAgICAgICAgICAuYWRkVG8obWFwXzU4MzE0NmFmZmU2MzRkZGZhZmJlYTdkZWU4ZWRkZmE5KTsKICAgICAgICAgICAgCiAgICAgICAgCiAgICAgICAgICAgIAogICAgICAgICAgICB2YXIgcG9wdXBfODhjMDgzM2NkNGQ2NGQ0Y2I5NzE0ZTJlNjAxMTk2YjkgPSBMLnBvcHVwKHttYXhXaWR0aDogJzMwMCd9KTsKCiAgICAgICAgICAgIAogICAgICAgICAgICAgICAgdmFyIGh0bWxfZDA5NDRjZWRkYjBlNDMyYzhjMTZkZTIyNWQ1MzA2ODQgPSAkKCcgICAgICAgICA8ZGl2IGlkPSJodG1sX2QwOTQ0Y2VkZGIwZTQzMmM4YzE2ZGUyMjVkNTMwNjg0IiAgICAgICAgICAgICAgICAgc3R5bGU9IndpZHRoOiAxMDAuMCU7IGhlaWdodDogMTAwLjAlOyI+ICAgICAgICAgICAgICAgICBSRURXT09EIERFVkVMT1BNRU5UUyBMSU1JVEVEOiAxMSwgSGFtcHNoaXJlIENyZXNjZW50LCBOZXdwb3J0LCBQTzMwIDVSWDwvZGl2PiAgICAgICAgICAgICAgICAgJylbMF07CiAgICAgICAgICAgICAgICBwb3B1cF84OGMwODMzY2Q0ZDY0ZDRjYjk3MTRlMmU2MDExOTZiOS5zZXRDb250ZW50KGh0bWxfZDA5NDRjZWRkYjBlNDMyYzhjMTZkZTIyNWQ1MzA2ODQpOwogICAgICAgICAgICAKCiAgICAgICAgICAgIGNpcmNsZV9tYXJrZXJfYWEyODdjYWYyMTZlNDkxY2I2YWIxYjE0NWUxMzQ2MzYuYmluZFBvcHVwKHBvcHVwXzg4YzA4MzNjZDRkNjRkNGNiOTcxNGUyZTYwMTE5NmI5KTsKCiAgICAgICAgICAgIAogICAgICAgIAogICAgICAgIAogICAgICAgICAgICAKCiAgICAgICAgICAgIHZhciBjaXJjbGVfbWFya2VyX2Y5NjQ0ZjY4N2VjMjQ3NWM4YjRkZjgyY2RkYmM4ZDdiID0gTC5jaXJjbGUoCiAgICAgICAgICAgICAgICBbNTAuNzAwODcwMzA4NCwtMS4yOTUwNjM3MDU2M10sCiAgICAgICAgICAgICAgICAxMCwKICAgICAgICAgICAgICAgIHsKICAgICAgICAgICAgICAgICAgICBjb2xvcjogJ3JlZCcsCiAgICAgICAgICAgICAgICAgICAgZmlsbENvbG9yOiAncmVkJywKICAgICAgICAgICAgICAgICAgICBmaWxsT3BhY2l0eTogMC42CiAgICAgICAgICAgICAgICAgICAgfQogICAgICAgICAgICAgICAgKQogICAgICAgICAgICAgICAgLmFkZFRvKG1hcF81ODMxNDZhZmZlNjM0ZGRmYWZiZWE3ZGVlOGVkZGZhOSk7CiAgICAgICAgICAgIAogICAgICAgIAogICAgICAgICAgICAKICAgICAgICAgICAgdmFyIHBvcHVwXzc0NGNmYzRjN2UzYjRkNDY5MWMyMDM1YTZmMmRlZWQ3ID0gTC5wb3B1cCh7bWF4V2lkdGg6ICczMDAnfSk7CgogICAgICAgICAgICAKICAgICAgICAgICAgICAgIHZhciBodG1sXzI1NmVkOTA1ZDY4YzRiYzM5ZWM2MzU0ZmUxMzY0MjQxID0gJCgnICAgICAgICAgPGRpdiBpZD0iaHRtbF8yNTZlZDkwNWQ2OGM0YmMzOWVjNjM1NGZlMTM2NDI0MSIgICAgICAgICAgICAgICAgIHN0eWxlPSJ3aWR0aDogMTAwLjAlOyBoZWlnaHQ6IDEwMC4wJTsiPiAgICAgICAgICAgICAgICAgSEFUVE9OIENPTlNVTFRBTlRTIExJTUlURUQ6IEZsYXQgMSwgSGVsbGVyc2xlYSBDb3VydCwgMyBMdWdsZXkgU3RyZWV0LCBOZXdwb3J0LCBQTzMwIDVIRDwvZGl2PiAgICAgICAgICAgICAgICAgJylbMF07CiAgICAgICAgICAgICAgICBwb3B1cF83NDRjZmM0YzdlM2I0ZDQ2OTFjMjAzNWE2ZjJkZWVkNy5zZXRDb250ZW50KGh0bWxfMjU2ZWQ5MDVkNjhjNGJjMzllYzYzNTRmZTEzNjQyNDEpOwogICAgICAgICAgICAKCiAgICAgICAgICAgIGNpcmNsZV9tYXJrZXJfZjk2NDRmNjg3ZWMyNDc1YzhiNGRmODJjZGRiYzhkN2IuYmluZFBvcHVwKHBvcHVwXzc0NGNmYzRjN2UzYjRkNDY5MWMyMDM1YTZmMmRlZWQ3KTsKCiAgICAgICAgICAgIAogICAgICAgIAogICAgICAgIAogICAgICAgICAgICAKCiAgICAgICAgICAgIHZhciBjaXJjbGVfbWFya2VyXzAzMzE4NDI1NDNlNzQ3YmY5OTMyNzRkMmY2YTMwMGEzID0gTC5jaXJjbGUoCiAgICAgICAgICAgICAgICBbNTAuNjMwNDIxMjkwNywtMS4xNzIxODkxMjgzNF0sCiAgICAgICAgICAgICAgICAxMCwKICAgICAgICAgICAgICAgIHsKICAgICAgICAgICAgICAgICAgICBjb2xvcjogJ3JlZCcsCiAgICAgICAgICAgICAgICAgICAgZmlsbENvbG9yOiAncmVkJywKICAgICAgICAgICAgICAgICAgICBmaWxsT3BhY2l0eTogMC42CiAgICAgICAgICAgICAgICAgICAgfQogICAgICAgICAgICAgICAgKQogICAgICAgICAgICAgICAgLmFkZFRvKG1hcF81ODMxNDZhZmZlNjM0ZGRmYWZiZWE3ZGVlOGVkZGZhOSk7CiAgICAgICAgICAgIAogICAgICAgIAogICAgICAgICAgICAKICAgICAgICAgICAgdmFyIHBvcHVwX2FiNDYzMTE5Zjk1MjRhN2ZhOGJmNzliZDA1YjAwMzg1ID0gTC5wb3B1cCh7bWF4V2lkdGg6ICczMDAnfSk7CgogICAgICAgICAgICAKICAgICAgICAgICAgICAgIHZhciBodG1sX2ExNTUyY2Y0MTE1MTQ5M2I5ZWQ5NzQ5YTc3NDEzOGIwID0gJCgnICAgICAgICAgPGRpdiBpZD0iaHRtbF9hMTU1MmNmNDExNTE0OTNiOWVkOTc0OWE3NzQxMzhiMCIgICAgICAgICAgICAgICAgIHN0eWxlPSJ3aWR0aDogMTAwLjAlOyBoZWlnaHQ6IDEwMC4wJTsiPiAgICAgICAgICAgICAgICAgQVNUT1JJQSBHTE9SWSBJTkM6IDM1LCBhbmQgT2NlYW4gVmlldyBIb3RlbCwgMzctMzggRXNwbGFuYWRlLCBTaGFua2xpbiwgUE8zNyA2Qko8L2Rpdj4gICAgICAgICAgICAgICAgICcpWzBdOwogICAgICAgICAgICAgICAgcG9wdXBfYWI0NjMxMTlmOTUyNGE3ZmE4YmY3OWJkMDViMDAzODUuc2V0Q29udGVudChodG1sX2ExNTUyY2Y0MTE1MTQ5M2I5ZWQ5NzQ5YTc3NDEzOGIwKTsKICAgICAgICAgICAgCgogICAgICAgICAgICBjaXJjbGVfbWFya2VyXzAzMzE4NDI1NDNlNzQ3YmY5OTMyNzRkMmY2YTMwMGEzLmJpbmRQb3B1cChwb3B1cF9hYjQ2MzExOWY5NTI0YTdmYThiZjc5YmQwNWIwMDM4NSk7CgogICAgICAgICAgICAKICAgICAgICAKICAgICAgICAKICAgICAgICAgICAgCgogICAgICAgICAgICB2YXIgY2lyY2xlX21hcmtlcl9mNDlhY2ZjNjAxZWU0MzhjOGVkYmNiZmM4MGU1Mjg4MyA9IEwuY2lyY2xlKAogICAgICAgICAgICAgICAgWzUwLjc0ODU4NDc3MjMsLTEuMzI1MjQ4MDc4MzhdLAogICAgICAgICAgICAgICAgMTAsCiAgICAgICAgICAgICAgICB7CiAgICAgICAgICAgICAgICAgICAgY29sb3I6ICdyZWQnLAogICAgICAgICAgICAgICAgICAgIGZpbGxDb2xvcjogJ3JlZCcsCiAgICAgICAgICAgICAgICAgICAgZmlsbE9wYWNpdHk6IDAuNgogICAgICAgICAgICAgICAgICAgIH0KICAgICAgICAgICAgICAgICkKICAgICAgICAgICAgICAgIC5hZGRUbyhtYXBfNTgzMTQ2YWZmZTYzNGRkZmFmYmVhN2RlZThlZGRmYTkpOwogICAgICAgICAgICAKICAgICAgICAKICAgICAgICAgICAgCiAgICAgICAgICAgIHZhciBwb3B1cF9kMWJkZmZmM2EwYzA0ODZhOTdlNGVmYWYyNjBkNzIyYiA9IEwucG9wdXAoe21heFdpZHRoOiAnMzAwJ30pOwoKICAgICAgICAgICAgCiAgICAgICAgICAgICAgICB2YXIgaHRtbF9jZWY4ZTMzZDM5OGU0OWZkYWY0ZmNlMWEzZmE5NmNkMCA9ICQoJyAgICAgICAgIDxkaXYgaWQ9Imh0bWxfY2VmOGUzM2QzOThlNDlmZGFmNGZjZTFhM2ZhOTZjZDAiICAgICAgICAgICAgICAgICBzdHlsZT0id2lkdGg6IDEwMC4wJTsgaGVpZ2h0OiAxMDAuMCU7Ij4gICAgICAgICAgICAgICAgIFNVTk5JTkdEQUxFIElOVkVTVE1FTlRTIExJTUlURUQ6IDc0LCBHdXJuYXJkIFBpbmVzLCBDb2NrbGV0b24gTGFuZSwgQ293ZXMsIFBPMzEgOFJGPC9kaXY+ICAgICAgICAgICAgICAgICAnKVswXTsKICAgICAgICAgICAgICAgIHBvcHVwX2QxYmRmZmYzYTBjMDQ4NmE5N2U0ZWZhZjI2MGQ3MjJiLnNldENvbnRlbnQoaHRtbF9jZWY4ZTMzZDM5OGU0OWZkYWY0ZmNlMWEzZmE5NmNkMCk7CiAgICAgICAgICAgIAoKICAgICAgICAgICAgY2lyY2xlX21hcmtlcl9mNDlhY2ZjNjAxZWU0MzhjOGVkYmNiZmM4MGU1Mjg4My5iaW5kUG9wdXAocG9wdXBfZDFiZGZmZjNhMGMwNDg2YTk3ZTRlZmFmMjYwZDcyMmIpOwoKICAgICAgICAgICAgCiAgICAgICAgCiAgICAgICAgCiAgICAgICAgICAgIAoKICAgICAgICAgICAgdmFyIGNpcmNsZV9tYXJrZXJfYTc2MWNlOWFkN2FmNDc0MGI1NmM3ZTI4MGRlZGI4ZjAgPSBMLmNpcmNsZSgKICAgICAgICAgICAgICAgIFs1MC43MTU2NDg5MzY1LC0xLjE0ODY5MTQ4NjIyXSwKICAgICAgICAgICAgICAgIDEwLAogICAgICAgICAgICAgICAgewogICAgICAgICAgICAgICAgICAgIGNvbG9yOiAncmVkJywKICAgICAgICAgICAgICAgICAgICBmaWxsQ29sb3I6ICdyZWQnLAogICAgICAgICAgICAgICAgICAgIGZpbGxPcGFjaXR5OiAwLjYKICAgICAgICAgICAgICAgICAgICB9CiAgICAgICAgICAgICAgICApCiAgICAgICAgICAgICAgICAuYWRkVG8obWFwXzU4MzE0NmFmZmU2MzRkZGZhZmJlYTdkZWU4ZWRkZmE5KTsKICAgICAgICAgICAgCiAgICAgICAgCiAgICAgICAgICAgIAogICAgICAgICAgICB2YXIgcG9wdXBfM2Q0MTM0ZDYwMDE2NGYwMGFlNjMxMmZkNTAxMzIwMzUgPSBMLnBvcHVwKHttYXhXaWR0aDogJzMwMCd9KTsKCiAgICAgICAgICAgIAogICAgICAgICAgICAgICAgdmFyIGh0bWxfYTFiYjM0MTJkYTk1NDMxOTlmZTExZDZhYzQ3MjUxYTggPSAkKCcgICAgICAgICA8ZGl2IGlkPSJodG1sX2ExYmIzNDEyZGE5NTQzMTk5ZmUxMWQ2YWM0NzI1MWE4IiAgICAgICAgICAgICAgICAgc3R5bGU9IndpZHRoOiAxMDAuMCU7IGhlaWdodDogMTAwLjAlOyI+ICAgICAgICAgICAgICAgICBQRU5OWUZFQVRIRVJTIFBST1BFUlRZIENPTVBBTlkgTElNSVRFRDogTGFuZCBvbiB0aGUgc291dGgtZWFzdCBzaWRlIG9mIEdyZWF0IFByZXN0b24gUm9hZCwgUnlkZSwgUE8zMyAxQVk8L2Rpdj4gICAgICAgICAgICAgICAgICcpWzBdOwogICAgICAgICAgICAgICAgcG9wdXBfM2Q0MTM0ZDYwMDE2NGYwMGFlNjMxMmZkNTAxMzIwMzUuc2V0Q29udGVudChodG1sX2ExYmIzNDEyZGE5NTQzMTk5ZmUxMWQ2YWM0NzI1MWE4KTsKICAgICAgICAgICAgCgogICAgICAgICAgICBjaXJjbGVfbWFya2VyX2E3NjFjZTlhZDdhZjQ3NDBiNTZjN2UyODBkZWRiOGYwLmJpbmRQb3B1cChwb3B1cF8zZDQxMzRkNjAwMTY0ZjAwYWU2MzEyZmQ1MDEzMjAzNSk7CgogICAgICAgICAgICAKICAgICAgICAKICAgICAgICAKICAgICAgICAgICAgCgogICAgICAgICAgICB2YXIgY2lyY2xlX21hcmtlcl9hMWRhNTdmYzYyZTI0MTVhOGRiMmE2YjY3NDA3Y2NmZSA9IEwuY2lyY2xlKAogICAgICAgICAgICAgICAgWzUwLjU5NTI2ODE5MTQsLTEuMjA1ODY2MzIyOTNdLAogICAgICAgICAgICAgICAgMTAsCiAgICAgICAgICAgICAgICB7CiAgICAgICAgICAgICAgICAgICAgY29sb3I6ICdyZWQnLAogICAgICAgICAgICAgICAgICAgIGZpbGxDb2xvcjogJ3JlZCcsCiAgICAgICAgICAgICAgICAgICAgZmlsbE9wYWNpdHk6IDAuNgogICAgICAgICAgICAgICAgICAgIH0KICAgICAgICAgICAgICAgICkKICAgICAgICAgICAgICAgIC5hZGRUbyhtYXBfNTgzMTQ2YWZmZTYzNGRkZmFmYmVhN2RlZThlZGRmYTkpOwogICAgICAgICAgICAKICAgICAgICAKICAgICAgICAgICAgCiAgICAgICAgICAgIHZhciBwb3B1cF81NDUxNzRhMjBmNzk0YTdkYTQ0ZmI5YTM1NjM5MDdjOCA9IEwucG9wdXAoe21heFdpZHRoOiAnMzAwJ30pOwoKICAgICAgICAgICAgCiAgICAgICAgICAgICAgICB2YXIgaHRtbF9mMDY3OWU1NWUxNjM0OGJmYjBjMzlmOTk0M2QyNWM0ZiA9ICQoJyAgICAgICAgIDxkaXYgaWQ9Imh0bWxfZjA2NzllNTVlMTYzNDhiZmIwYzM5Zjk5NDNkMjVjNGYiICAgICAgICAgICAgICAgICBzdHlsZT0id2lkdGg6IDEwMC4wJTsgaGVpZ2h0OiAxMDAuMCU7Ij4gICAgICAgICAgICAgICAgIEtZTlVOQSBHUk9VUCBMSU1JVEVEOiBGbGF0IDIsIFRoZSBNZXRyb3BvbGUsIEVzcGxhbmFkZSwgVmVudG5vciBhbmQgcGFya2luZyBzcGFjZSwgUE8zOCAxUlk8L2Rpdj4gICAgICAgICAgICAgICAgICcpWzBdOwogICAgICAgICAgICAgICAgcG9wdXBfNTQ1MTc0YTIwZjc5NGE3ZGE0NGZiOWEzNTYzOTA3Yzguc2V0Q29udGVudChodG1sX2YwNjc5ZTU1ZTE2MzQ4YmZiMGMzOWY5OTQzZDI1YzRmKTsKICAgICAgICAgICAgCgogICAgICAgICAgICBjaXJjbGVfbWFya2VyX2ExZGE1N2ZjNjJlMjQxNWE4ZGIyYTZiNjc0MDdjY2ZlLmJpbmRQb3B1cChwb3B1cF81NDUxNzRhMjBmNzk0YTdkYTQ0ZmI5YTM1NjM5MDdjOCk7CgogICAgICAgICAgICAKICAgICAgICAKICAgICAgICAKICAgICAgICAgICAgCgogICAgICAgICAgICB2YXIgY2lyY2xlX21hcmtlcl83ZTAzOTA2YjQ1NGM0MTM4YjFiZGQxNmY2MTVhZTJkMCA9IEwuY2lyY2xlKAogICAgICAgICAgICAgICAgWzUwLjcwMDI5MzY4NDgsLTEuMzA4Mzk2ODYxNjldLAogICAgICAgICAgICAgICAgMTAsCiAgICAgICAgICAgICAgICB7CiAgICAgICAgICAgICAgICAgICAgY29sb3I6ICdyZWQnLAogICAgICAgICAgICAgICAgICAgIGZpbGxDb2xvcjogJ3JlZCcsCiAgICAgICAgICAgICAgICAgICAgZmlsbE9wYWNpdHk6IDAuNgogICAgICAgICAgICAgICAgICAgIH0KICAgICAgICAgICAgICAgICkKICAgICAgICAgICAgICAgIC5hZGRUbyhtYXBfNTgzMTQ2YWZmZTYzNGRkZmFmYmVhN2RlZThlZGRmYTkpOwogICAgICAgICAgICAKICAgICAgICAKICAgICAgICAgICAgCiAgICAgICAgICAgIHZhciBwb3B1cF80MTE4NmQzZjZiMjM0YjdjYTE4ZWJiMzRjMDFhNmQwOSA9IEwucG9wdXAoe21heFdpZHRoOiAnMzAwJ30pOwoKICAgICAgICAgICAgCiAgICAgICAgICAgICAgICB2YXIgaHRtbF8yYTk1ZjE2NjAyOTc0ODU4OGJmZGE1ZmY2NTI2YzM0ZCA9ICQoJyAgICAgICAgIDxkaXYgaWQ9Imh0bWxfMmE5NWYxNjYwMjk3NDg1ODhiZmRhNWZmNjUyNmMzNGQiICAgICAgICAgICAgICAgICBzdHlsZT0id2lkdGg6IDEwMC4wJTsgaGVpZ2h0OiAxMDAuMCU7Ij4gICAgICAgICAgICAgICAgIEFYSUFMIElOVkVTVE1FTlRTIEFORCBUUkFESU5HIExJTUlURUQ6IDEwMywgU3lsdmFuIERyaXZlLCBOZXdwb3J0LCBQTzMwIDVFUTwvZGl2PiAgICAgICAgICAgICAgICAgJylbMF07CiAgICAgICAgICAgICAgICBwb3B1cF80MTE4NmQzZjZiMjM0YjdjYTE4ZWJiMzRjMDFhNmQwOS5zZXRDb250ZW50KGh0bWxfMmE5NWYxNjYwMjk3NDg1ODhiZmRhNWZmNjUyNmMzNGQpOwogICAgICAgICAgICAKCiAgICAgICAgICAgIGNpcmNsZV9tYXJrZXJfN2UwMzkwNmI0NTRjNDEzOGIxYmRkMTZmNjE1YWUyZDAuYmluZFBvcHVwKHBvcHVwXzQxMTg2ZDNmNmIyMzRiN2NhMThlYmIzNGMwMWE2ZDA5KTsKCiAgICAgICAgICAgIAogICAgICAgIAogICAgICAgIAogICAgICAgICAgICAKCiAgICAgICAgICAgIHZhciBjaXJjbGVfbWFya2VyXzllMTI1NTEzMjYwYTRkNzhhMDJlYjZiYzlmZjVjYjNlID0gTC5jaXJjbGUoCiAgICAgICAgICAgICAgICBbNTAuNzE4NjM5MjQwMywtMS4xNDkzMzE0NDEyOF0sCiAgICAgICAgICAgICAgICAxMCwKICAgICAgICAgICAgICAgIHsKICAgICAgICAgICAgICAgICAgICBjb2xvcjogJ3JlZCcsCiAgICAgICAgICAgICAgICAgICAgZmlsbENvbG9yOiAncmVkJywKICAgICAgICAgICAgICAgICAgICBmaWxsT3BhY2l0eTogMC42CiAgICAgICAgICAgICAgICAgICAgfQogICAgICAgICAgICAgICAgKQogICAgICAgICAgICAgICAgLmFkZFRvKG1hcF81ODMxNDZhZmZlNjM0ZGRmYWZiZWE3ZGVlOGVkZGZhOSk7CiAgICAgICAgICAgIAogICAgICAgIAogICAgICAgICAgICAKICAgICAgICAgICAgdmFyIHBvcHVwXzQ0NjNjYWE2OTY0NjQ4MzBiMGUxNGIwMTY1ZDBjOTE5ID0gTC5wb3B1cCh7bWF4V2lkdGg6ICczMDAnfSk7CgogICAgICAgICAgICAKICAgICAgICAgICAgICAgIHZhciBodG1sXzM3ODZmM2E2NDYwNDQyYTE4NjYzYmRmMzRmNDEzYzlmID0gJCgnICAgICAgICAgPGRpdiBpZD0iaHRtbF8zNzg2ZjNhNjQ2MDQ0MmExODY2M2JkZjM0ZjQxM2M5ZiIgICAgICAgICAgICAgICAgIHN0eWxlPSJ3aWR0aDogMTAwLjAlOyBoZWlnaHQ6IDEwMC4wJTsiPiAgICAgICAgICAgICAgICAgSE9SSVpPTiBUUlVTVEVFUyAoSkVSU0VZKSBMSU1JVEVEOiBGbGF0IEIsIDQxIEhpZ2ggUGFyayBSb2FkLCBSeWRlLCBQTzMzIDFCWDwvZGl2PiAgICAgICAgICAgICAgICAgJylbMF07CiAgICAgICAgICAgICAgICBwb3B1cF80NDYzY2FhNjk2NDY0ODMwYjBlMTRiMDE2NWQwYzkxOS5zZXRDb250ZW50KGh0bWxfMzc4NmYzYTY0NjA0NDJhMTg2NjNiZGYzNGY0MTNjOWYpOwogICAgICAgICAgICAKCiAgICAgICAgICAgIGNpcmNsZV9tYXJrZXJfOWUxMjU1MTMyNjBhNGQ3OGEwMmViNmJjOWZmNWNiM2UuYmluZFBvcHVwKHBvcHVwXzQ0NjNjYWE2OTY0NjQ4MzBiMGUxNGIwMTY1ZDBjOTE5KTsKCiAgICAgICAgICAgIAogICAgICAgIAogICAgICAgIAogICAgICAgICAgICAKCiAgICAgICAgICAgIHZhciBjaXJjbGVfbWFya2VyXzMxNDM4MTAwMDI2NDQ3Y2RiMWNjNTE1NmM5YWIyMGQwID0gTC5jaXJjbGUoCiAgICAgICAgICAgICAgICBbNTAuNzE4NjM5MjQwMywtMS4xNDkzMzE0NDEyOF0sCiAgICAgICAgICAgICAgICAxMCwKICAgICAgICAgICAgICAgIHsKICAgICAgICAgICAgICAgICAgICBjb2xvcjogJ3JlZCcsCiAgICAgICAgICAgICAgICAgICAgZmlsbENvbG9yOiAncmVkJywKICAgICAgICAgICAgICAgICAgICBmaWxsT3BhY2l0eTogMC42CiAgICAgICAgICAgICAgICAgICAgfQogICAgICAgICAgICAgICAgKQogICAgICAgICAgICAgICAgLmFkZFRvKG1hcF81ODMxNDZhZmZlNjM0ZGRmYWZiZWE3ZGVlOGVkZGZhOSk7CiAgICAgICAgICAgIAogICAgICAgIAogICAgICAgICAgICAKICAgICAgICAgICAgdmFyIHBvcHVwXzIwYTVjMDA2MTVmMzQxNmY4MmE2MmYwM2M4NTA3NTA3ID0gTC5wb3B1cCh7bWF4V2lkdGg6ICczMDAnfSk7CgogICAgICAgICAgICAKICAgICAgICAgICAgICAgIHZhciBodG1sX2RmYzQ2NWM3OTcwMTQyOWRhNTFjZWM0ZWY2NTlhZmQ4ID0gJCgnICAgICAgICAgPGRpdiBpZD0iaHRtbF9kZmM0NjVjNzk3MDE0MjlkYTUxY2VjNGVmNjU5YWZkOCIgICAgICAgICAgICAgICAgIHN0eWxlPSJ3aWR0aDogMTAwLjAlOyBoZWlnaHQ6IDEwMC4wJTsiPiAgICAgICAgICAgICAgICAgSE9SSVpPTiBUUlVTVEVFUyAoSkVSU0VZKSBMSU1JVEVEOiA0MUEsIEhpZ2ggUGFyayBSb2FkLCBSeWRlLCBQTzMzIDFCWDwvZGl2PiAgICAgICAgICAgICAgICAgJylbMF07CiAgICAgICAgICAgICAgICBwb3B1cF8yMGE1YzAwNjE1ZjM0MTZmODJhNjJmMDNjODUwNzUwNy5zZXRDb250ZW50KGh0bWxfZGZjNDY1Yzc5NzAxNDI5ZGE1MWNlYzRlZjY1OWFmZDgpOwogICAgICAgICAgICAKCiAgICAgICAgICAgIGNpcmNsZV9tYXJrZXJfMzE0MzgxMDAwMjY0NDdjZGIxY2M1MTU2YzlhYjIwZDAuYmluZFBvcHVwKHBvcHVwXzIwYTVjMDA2MTVmMzQxNmY4MmE2MmYwM2M4NTA3NTA3KTsKCiAgICAgICAgICAgIAogICAgICAgIAogICAgICAgIAogICAgICAgICAgICAKCiAgICAgICAgICAgIHZhciBjaXJjbGVfbWFya2VyXzljNjFmZTgwZmYxMzQzOGM4ZDM4NGRhZDYzZDVhOTY0ID0gTC5jaXJjbGUoCiAgICAgICAgICAgICAgICBbNTAuNzE4NjM5MjQwMywtMS4xNDkzMzE0NDEyOF0sCiAgICAgICAgICAgICAgICAxMCwKICAgICAgICAgICAgICAgIHsKICAgICAgICAgICAgICAgICAgICBjb2xvcjogJ3JlZCcsCiAgICAgICAgICAgICAgICAgICAgZmlsbENvbG9yOiAncmVkJywKICAgICAgICAgICAgICAgICAgICBmaWxsT3BhY2l0eTogMC42CiAgICAgICAgICAgICAgICAgICAgfQogICAgICAgICAgICAgICAgKQogICAgICAgICAgICAgICAgLmFkZFRvKG1hcF81ODMxNDZhZmZlNjM0ZGRmYWZiZWE3ZGVlOGVkZGZhOSk7CiAgICAgICAgICAgIAogICAgICAgIAogICAgICAgICAgICAKICAgICAgICAgICAgdmFyIHBvcHVwXzQ0NmJlY2IzYzBjYzQzYTg5Zjc3YmMzOGQ3OTVhZTE3ID0gTC5wb3B1cCh7bWF4V2lkdGg6ICczMDAnfSk7CgogICAgICAgICAgICAKICAgICAgICAgICAgICAgIHZhciBodG1sX2E5Y2ZmMWQ1MTk3YzQ0Mzg5MTcxNWY2NDQyODhjZWFmID0gJCgnICAgICAgICAgPGRpdiBpZD0iaHRtbF9hOWNmZjFkNTE5N2M0NDM4OTE3MTVmNjQ0Mjg4Y2VhZiIgICAgICAgICAgICAgICAgIHN0eWxlPSJ3aWR0aDogMTAwLjAlOyBoZWlnaHQ6IDEwMC4wJTsiPiAgICAgICAgICAgICAgICAgSE9SSVpPTiBUUlVTVEVFUyAoSkVSU0VZKSBMSU1JVEVEOiA0MSwgSGlnaCBQYXJrIFJvYWQsIFJ5ZGUsIFBPMzMgMUJYPC9kaXY+ICAgICAgICAgICAgICAgICAnKVswXTsKICAgICAgICAgICAgICAgIHBvcHVwXzQ0NmJlY2IzYzBjYzQzYTg5Zjc3YmMzOGQ3OTVhZTE3LnNldENvbnRlbnQoaHRtbF9hOWNmZjFkNTE5N2M0NDM4OTE3MTVmNjQ0Mjg4Y2VhZik7CiAgICAgICAgICAgIAoKICAgICAgICAgICAgY2lyY2xlX21hcmtlcl85YzYxZmU4MGZmMTM0MzhjOGQzODRkYWQ2M2Q1YTk2NC5iaW5kUG9wdXAocG9wdXBfNDQ2YmVjYjNjMGNjNDNhODlmNzdiYzM4ZDc5NWFlMTcpOwoKICAgICAgICAgICAgCiAgICAgICAgCiAgICAgICAgCiAgICAgICAgICAgIAoKICAgICAgICAgICAgdmFyIGNpcmNsZV9tYXJrZXJfNTEwNGIwMDAwYzNjNGQ5ZTliMDViZWFiMGZiZDJiNjcgPSBMLmNpcmNsZSgKICAgICAgICAgICAgICAgIFs1MC43NTY5MDE1OTQ3LC0xLjMwMDU3Mzk0MzI2XSwKICAgICAgICAgICAgICAgIDEwLAogICAgICAgICAgICAgICAgewogICAgICAgICAgICAgICAgICAgIGNvbG9yOiAncmVkJywKICAgICAgICAgICAgICAgICAgICBmaWxsQ29sb3I6ICdyZWQnLAogICAgICAgICAgICAgICAgICAgIGZpbGxPcGFjaXR5OiAwLjYKICAgICAgICAgICAgICAgICAgICB9CiAgICAgICAgICAgICAgICApCiAgICAgICAgICAgICAgICAuYWRkVG8obWFwXzU4MzE0NmFmZmU2MzRkZGZhZmJlYTdkZWU4ZWRkZmE5KTsKICAgICAgICAgICAgCiAgICAgICAgCiAgICAgICAgICAgIAogICAgICAgICAgICB2YXIgcG9wdXBfYWY0NWQwMTgwY2FiNGE5MmIwZDE3ZTMxNmM3YmZiMWYgPSBMLnBvcHVwKHttYXhXaWR0aDogJzMwMCd9KTsKCiAgICAgICAgICAgIAogICAgICAgICAgICAgICAgdmFyIGh0bWxfOWZmNGJlNjJmODMxNGM3MWJlYzg1NDY2ZTdmMDczZjYgPSAkKCcgICAgICAgICA8ZGl2IGlkPSJodG1sXzlmZjRiZTYyZjgzMTRjNzFiZWM4NTQ2NmU3ZjA3M2Y2IiAgICAgICAgICAgICAgICAgc3R5bGU9IndpZHRoOiAxMDAuMCU7IGhlaWdodDogMTAwLjAlOyI+ICAgICAgICAgICAgICAgICBTT1VUSCBIRUFEIExJTUlURUQ6IDY1LCBNaWxsIEhpbGwgUm9hZCwgQ293ZXMsIFBPMzEgN0VRPC9kaXY+ICAgICAgICAgICAgICAgICAnKVswXTsKICAgICAgICAgICAgICAgIHBvcHVwX2FmNDVkMDE4MGNhYjRhOTJiMGQxN2UzMTZjN2JmYjFmLnNldENvbnRlbnQoaHRtbF85ZmY0YmU2MmY4MzE0YzcxYmVjODU0NjZlN2YwNzNmNik7CiAgICAgICAgICAgIAoKICAgICAgICAgICAgY2lyY2xlX21hcmtlcl81MTA0YjAwMDBjM2M0ZDllOWIwNWJlYWIwZmJkMmI2Ny5iaW5kUG9wdXAocG9wdXBfYWY0NWQwMTgwY2FiNGE5MmIwZDE3ZTMxNmM3YmZiMWYpOwoKICAgICAgICAgICAgCiAgICAgICAgCiAgICAgICAgCiAgICAgICAgICAgIAoKICAgICAgICAgICAgdmFyIGNpcmNsZV9tYXJrZXJfNTc3Njc1Y2M0OWMxNGM5MzgyYjkxMjM5NzNlOWU5MzIgPSBMLmNpcmNsZSgKICAgICAgICAgICAgICAgIFs1MC42ODA2MDU1OTEzLC0xLjU0NTcwODM5MDQ5XSwKICAgICAgICAgICAgICAgIDEwLAogICAgICAgICAgICAgICAgewogICAgICAgICAgICAgICAgICAgIGNvbG9yOiAncmVkJywKICAgICAgICAgICAgICAgICAgICBmaWxsQ29sb3I6ICdyZWQnLAogICAgICAgICAgICAgICAgICAgIGZpbGxPcGFjaXR5OiAwLjYKICAgICAgICAgICAgICAgICAgICB9CiAgICAgICAgICAgICAgICApCiAgICAgICAgICAgICAgICAuYWRkVG8obWFwXzU4MzE0NmFmZmU2MzRkZGZhZmJlYTdkZWU4ZWRkZmE5KTsKICAgICAgICAgICAgCiAgICAgICAgCiAgICAgICAgICAgIAogICAgICAgICAgICB2YXIgcG9wdXBfN2U1NjNmMWUxM2M1NGE2Mjk4NjdkOGIwOWUyZmJiOGQgPSBMLnBvcHVwKHttYXhXaWR0aDogJzMwMCd9KTsKCiAgICAgICAgICAgIAogICAgICAgICAgICAgICAgdmFyIGh0bWxfY2RlYWVjZWMyZjQ2NGEyMWIwMjllNmIyNGQyN2UxNTcgPSAkKCcgICAgICAgICA8ZGl2IGlkPSJodG1sX2NkZWFlY2VjMmY0NjRhMjFiMDI5ZTZiMjRkMjdlMTU3IiAgICAgICAgICAgICAgICAgc3R5bGU9IndpZHRoOiAxMDAuMCU7IGhlaWdodDogMTAwLjAlOyI+ICAgICAgICAgICAgICAgICBDQU5JQ0UgSE9MRElOR1MgTElNSVRFRDogV2F0ZXJmcm9udCBSZXN0YXVyYW50LCBUaGUgUHJvbWVuYWRlLCBUb3RsYW5kIEJheSwgUE8zOSAwSlU8L2Rpdj4gICAgICAgICAgICAgICAgICcpWzBdOwogICAgICAgICAgICAgICAgcG9wdXBfN2U1NjNmMWUxM2M1NGE2Mjk4NjdkOGIwOWUyZmJiOGQuc2V0Q29udGVudChodG1sX2NkZWFlY2VjMmY0NjRhMjFiMDI5ZTZiMjRkMjdlMTU3KTsKICAgICAgICAgICAgCgogICAgICAgICAgICBjaXJjbGVfbWFya2VyXzU3NzY3NWNjNDljMTRjOTM4MmI5MTIzOTczZTllOTMyLmJpbmRQb3B1cChwb3B1cF83ZTU2M2YxZTEzYzU0YTYyOTg2N2Q4YjA5ZTJmYmI4ZCk7CgogICAgICAgICAgICAKICAgICAgICAKICAgICAgICAKICAgICAgICAgICAgCgogICAgICAgICAgICB2YXIgY2lyY2xlX21hcmtlcl84YzI2OGFhOTUxNGM0MjY5ODYxZmYzNWQ5MjM0NTc3NiA9IEwuY2lyY2xlKAogICAgICAgICAgICAgICAgWzUwLjcwNjA4NzE0MywtMS40OTg2NTgyOTkxXSwKICAgICAgICAgICAgICAgIDEwLAogICAgICAgICAgICAgICAgewogICAgICAgICAgICAgICAgICAgIGNvbG9yOiAncmVkJywKICAgICAgICAgICAgICAgICAgICBmaWxsQ29sb3I6ICdyZWQnLAogICAgICAgICAgICAgICAgICAgIGZpbGxPcGFjaXR5OiAwLjYKICAgICAgICAgICAgICAgICAgICB9CiAgICAgICAgICAgICAgICApCiAgICAgICAgICAgICAgICAuYWRkVG8obWFwXzU4MzE0NmFmZmU2MzRkZGZhZmJlYTdkZWU4ZWRkZmE5KTsKICAgICAgICAgICAgCiAgICAgICAgCiAgICAgICAgICAgIAogICAgICAgICAgICB2YXIgcG9wdXBfZWYyMjgxY2E0NDBhNGZjZWFlODdiZDkyYThhNTkyNDMgPSBMLnBvcHVwKHttYXhXaWR0aDogJzMwMCd9KTsKCiAgICAgICAgICAgIAogICAgICAgICAgICAgICAgdmFyIGh0bWxfMzZlZWFmMjI5NWE5NDVjM2E3ODMwYjNjNjg5NDZhMjIgPSAkKCcgICAgICAgICA8ZGl2IGlkPSJodG1sXzM2ZWVhZjIyOTVhOTQ1YzNhNzgzMGIzYzY4OTQ2YTIyIiAgICAgICAgICAgICAgICAgc3R5bGU9IndpZHRoOiAxMDAuMCU7IGhlaWdodDogMTAwLjAlOyI+ICAgICAgICAgICAgICAgICBBWElBTCBJTlZFU1RNRU5UUyBBTkQgVFJBRElORyBMSU1JVEVEOiBSdXNzZWxscywgSGlnaCBTdHJlZXQsIFlhcm1vdXRoLCBQTzQxIDBQTDwvZGl2PiAgICAgICAgICAgICAgICAgJylbMF07CiAgICAgICAgICAgICAgICBwb3B1cF9lZjIyODFjYTQ0MGE0ZmNlYWU4N2JkOTJhOGE1OTI0My5zZXRDb250ZW50KGh0bWxfMzZlZWFmMjI5NWE5NDVjM2E3ODMwYjNjNjg5NDZhMjIpOwogICAgICAgICAgICAKCiAgICAgICAgICAgIGNpcmNsZV9tYXJrZXJfOGMyNjhhYTk1MTRjNDI2OTg2MWZmMzVkOTIzNDU3NzYuYmluZFBvcHVwKHBvcHVwX2VmMjI4MWNhNDQwYTRmY2VhZTg3YmQ5MmE4YTU5MjQzKTsKCiAgICAgICAgICAgIAogICAgICAgIAogICAgICAgIAogICAgICAgICAgICAKCiAgICAgICAgICAgIHZhciBjaXJjbGVfbWFya2VyXzA1MmRlMTNjOGYwMzQzOTlhNDc3NzVhZGMzMDcwYWQ0ID0gTC5jaXJjbGUoCiAgICAgICAgICAgICAgICBbNTAuNzMwMTgxNTQxNCwtMS4xNjIzNzA1NDY1M10sCiAgICAgICAgICAgICAgICAxMCwKICAgICAgICAgICAgICAgIHsKICAgICAgICAgICAgICAgICAgICBjb2xvcjogJ3JlZCcsCiAgICAgICAgICAgICAgICAgICAgZmlsbENvbG9yOiAncmVkJywKICAgICAgICAgICAgICAgICAgICBmaWxsT3BhY2l0eTogMC42CiAgICAgICAgICAgICAgICAgICAgfQogICAgICAgICAgICAgICAgKQogICAgICAgICAgICAgICAgLmFkZFRvKG1hcF81ODMxNDZhZmZlNjM0ZGRmYWZiZWE3ZGVlOGVkZGZhOSk7CiAgICAgICAgICAgIAogICAgICAgIAogICAgICAgICAgICAKICAgICAgICAgICAgdmFyIHBvcHVwX2I1ZTdlZjgzOTFhYTQyNDViMjE5N2UyODllNjRhZGFmID0gTC5wb3B1cCh7bWF4V2lkdGg6ICczMDAnfSk7CgogICAgICAgICAgICAKICAgICAgICAgICAgICAgIHZhciBodG1sXzhkZWE4MDkyMWQ2ZDRhODA4ZGI1MTdjNGNmMGUzNTdlID0gJCgnICAgICAgICAgPGRpdiBpZD0iaHRtbF84ZGVhODA5MjFkNmQ0YTgwOGRiNTE3YzRjZjBlMzU3ZSIgICAgICAgICAgICAgICAgIHN0eWxlPSJ3aWR0aDogMTAwLjAlOyBoZWlnaHQ6IDEwMC4wJTsiPiAgICAgICAgICAgICAgICAgQ0FTVExFIFRSVVNUICZhbXA7IE1BTkFHRU1FTlQgU0VSVklDRVMgTElNSVRFRDogTGFuZCBmb3JtaW5nIHBhcnQgb2YgMzYgVW5pb24gU3RyZWV0LCBSeWRlLCBQTzMzIDJMRTwvZGl2PiAgICAgICAgICAgICAgICAgJylbMF07CiAgICAgICAgICAgICAgICBwb3B1cF9iNWU3ZWY4MzkxYWE0MjQ1YjIxOTdlMjg5ZTY0YWRhZi5zZXRDb250ZW50KGh0bWxfOGRlYTgwOTIxZDZkNGE4MDhkYjUxN2M0Y2YwZTM1N2UpOwogICAgICAgICAgICAKCiAgICAgICAgICAgIGNpcmNsZV9tYXJrZXJfMDUyZGUxM2M4ZjAzNDM5OWE0Nzc3NWFkYzMwNzBhZDQuYmluZFBvcHVwKHBvcHVwX2I1ZTdlZjgzOTFhYTQyNDViMjE5N2UyODllNjRhZGFmKTsKCiAgICAgICAgICAgIAogICAgICAgIAogICAgICAgIAogICAgICAgICAgICAKCiAgICAgICAgICAgIHZhciBjaXJjbGVfbWFya2VyX2Q5YmM3M2Y1YTMwODRlZjc4OTdkNzY3YWE3MjRjNjZlID0gTC5jaXJjbGUoCiAgICAgICAgICAgICAgICBbNTAuNzE4ODE4MzI5MSwtMS4xMTMwMjE2NDY0M10sCiAgICAgICAgICAgICAgICAxMCwKICAgICAgICAgICAgICAgIHsKICAgICAgICAgICAgICAgICAgICBjb2xvcjogJ3JlZCcsCiAgICAgICAgICAgICAgICAgICAgZmlsbENvbG9yOiAncmVkJywKICAgICAgICAgICAgICAgICAgICBmaWxsT3BhY2l0eTogMC42CiAgICAgICAgICAgICAgICAgICAgfQogICAgICAgICAgICAgICAgKQogICAgICAgICAgICAgICAgLmFkZFRvKG1hcF81ODMxNDZhZmZlNjM0ZGRmYWZiZWE3ZGVlOGVkZGZhOSk7CiAgICAgICAgICAgIAogICAgICAgIAogICAgICAgICAgICAKICAgICAgICAgICAgdmFyIHBvcHVwXzVjMTBhYmRlZjkwNDRjZmZiMTA4YzRiZGJhNmNkODM3ID0gTC5wb3B1cCh7bWF4V2lkdGg6ICczMDAnfSk7CgogICAgICAgICAgICAKICAgICAgICAgICAgICAgIHZhciBodG1sXzRmY2VmNWRhYTFmNzQzYjc4NzMzYzdjOTE5OTFlMWM5ID0gJCgnICAgICAgICAgPGRpdiBpZD0iaHRtbF80ZmNlZjVkYWExZjc0M2I3ODczM2M3YzkxOTkxZTFjOSIgICAgICAgICAgICAgICAgIHN0eWxlPSJ3aWR0aDogMTAwLjAlOyBoZWlnaHQ6IDEwMC4wJTsiPiAgICAgICAgICAgICAgICAgQUJST04gTElNSVRFRDogRmxhdCA0LCBTYW5kbGFuZHMsIFN0ZXluZSBSb2FkLCBTZWF2aWV3LCBQTzM0IDVCSDwvZGl2PiAgICAgICAgICAgICAgICAgJylbMF07CiAgICAgICAgICAgICAgICBwb3B1cF81YzEwYWJkZWY5MDQ0Y2ZmYjEwOGM0YmRiYTZjZDgzNy5zZXRDb250ZW50KGh0bWxfNGZjZWY1ZGFhMWY3NDNiNzg3MzNjN2M5MTk5MWUxYzkpOwogICAgICAgICAgICAKCiAgICAgICAgICAgIGNpcmNsZV9tYXJrZXJfZDliYzczZjVhMzA4NGVmNzg5N2Q3NjdhYTcyNGM2NmUuYmluZFBvcHVwKHBvcHVwXzVjMTBhYmRlZjkwNDRjZmZiMTA4YzRiZGJhNmNkODM3KTsKCiAgICAgICAgICAgIAogICAgICAgIAogICAgICAgIAogICAgICAgICAgICAKCiAgICAgICAgICAgIHZhciBjaXJjbGVfbWFya2VyX2M5YzU5YTA0OWNhNjRjNDk4MmRiMDRkNmM4ZDRkN2E0ID0gTC5jaXJjbGUoCiAgICAgICAgICAgICAgICBbNTAuNzAzNDI2NzE5NCwtMS4yOTEwMTc4NTU2M10sCiAgICAgICAgICAgICAgICAxMCwKICAgICAgICAgICAgICAgIHsKICAgICAgICAgICAgICAgICAgICBjb2xvcjogJ3JlZCcsCiAgICAgICAgICAgICAgICAgICAgZmlsbENvbG9yOiAncmVkJywKICAgICAgICAgICAgICAgICAgICBmaWxsT3BhY2l0eTogMC42CiAgICAgICAgICAgICAgICAgICAgfQogICAgICAgICAgICAgICAgKQogICAgICAgICAgICAgICAgLmFkZFRvKG1hcF81ODMxNDZhZmZlNjM0ZGRmYWZiZWE3ZGVlOGVkZGZhOSk7CiAgICAgICAgICAgIAogICAgICAgIAogICAgICAgICAgICAKICAgICAgICAgICAgdmFyIHBvcHVwXzk0NDE1NGRmMTg5ODQwNmVhODViN2M5YjMwMGViM2IwID0gTC5wb3B1cCh7bWF4V2lkdGg6ICczMDAnfSk7CgogICAgICAgICAgICAKICAgICAgICAgICAgICAgIHZhciBodG1sXzA3ZWExZDU5NzdlZjQ3YzBhMmVhZGIzOTAwMGExMTk3ID0gJCgnICAgICAgICAgPGRpdiBpZD0iaHRtbF8wN2VhMWQ1OTc3ZWY0N2MwYTJlYWRiMzkwMDBhMTE5NyIgICAgICAgICAgICAgICAgIHN0eWxlPSJ3aWR0aDogMTAwLjAlOyBoZWlnaHQ6IDEwMC4wJTsiPiAgICAgICAgICAgICAgICAgREVWT05QT1JUIElOVEVSTkFUSU9OQUwgRk9VTkRBVElPTjogRmxhdCAzLCBDYXJwZW50ZXJzIFF1YXksIExpdHRsZSBMb25kb24sIE5ld3BvcnQsIFBPMzAgNVhUPC9kaXY+ICAgICAgICAgICAgICAgICAnKVswXTsKICAgICAgICAgICAgICAgIHBvcHVwXzk0NDE1NGRmMTg5ODQwNmVhODViN2M5YjMwMGViM2IwLnNldENvbnRlbnQoaHRtbF8wN2VhMWQ1OTc3ZWY0N2MwYTJlYWRiMzkwMDBhMTE5Nyk7CiAgICAgICAgICAgIAoKICAgICAgICAgICAgY2lyY2xlX21hcmtlcl9jOWM1OWEwNDljYTY0YzQ5ODJkYjA0ZDZjOGQ0ZDdhNC5iaW5kUG9wdXAocG9wdXBfOTQ0MTU0ZGYxODk4NDA2ZWE4NWI3YzliMzAwZWIzYjApOwoKICAgICAgICAgICAgCiAgICAgICAgCiAgICAgICAgCiAgICAgICAgICAgIAoKICAgICAgICAgICAgdmFyIGNpcmNsZV9tYXJrZXJfMDg3ODNkNTQxZTFhNGM2NTk4NzkxZmZkNjI4YmFlN2EgPSBMLmNpcmNsZSgKICAgICAgICAgICAgICAgIFs1MC42Mzk2NzU4LC0xLjMwNTg5MjU2ODg1XSwKICAgICAgICAgICAgICAgIDEwLAogICAgICAgICAgICAgICAgewogICAgICAgICAgICAgICAgICAgIGNvbG9yOiAncmVkJywKICAgICAgICAgICAgICAgICAgICBmaWxsQ29sb3I6ICdyZWQnLAogICAgICAgICAgICAgICAgICAgIGZpbGxPcGFjaXR5OiAwLjYKICAgICAgICAgICAgICAgICAgICB9CiAgICAgICAgICAgICAgICApCiAgICAgICAgICAgICAgICAuYWRkVG8obWFwXzU4MzE0NmFmZmU2MzRkZGZhZmJlYTdkZWU4ZWRkZmE5KTsKICAgICAgICAgICAgCiAgICAgICAgCiAgICAgICAgICAgIAogICAgICAgICAgICB2YXIgcG9wdXBfYTAzYzQzZmY5MWVjNGMxOTljNjc5NGEyNDkxN2JmMTggPSBMLnBvcHVwKHttYXhXaWR0aDogJzMwMCd9KTsKCiAgICAgICAgICAgIAogICAgICAgICAgICAgICAgdmFyIGh0bWxfNDRmOTlkNjA2ZGQ1NGFmMDlhODY0YjVhMjBiOWZmZmIgPSAkKCcgICAgICAgICA8ZGl2IGlkPSJodG1sXzQ0Zjk5ZDYwNmRkNTRhZjA5YTg2NGI1YTIwYjlmZmZiIiAgICAgICAgICAgICAgICAgc3R5bGU9IndpZHRoOiAxMDAuMCU7IGhlaWdodDogMTAwLjAlOyI+ICAgICAgICAgICAgICAgICBGT1JUUkVTUyBJTlRFUk5BVElPTkFMIFNFUlZJQ0VTIExJTUlURUQ6IEtlZXBlcnMgQ290dGFnZSwgNCBSb3NsaW4gQ290dGFnZXMsIENoaWxsZXJ0b24sIE5ld3BvcnQsIFBPMzAgM0hHPC9kaXY+ICAgICAgICAgICAgICAgICAnKVswXTsKICAgICAgICAgICAgICAgIHBvcHVwX2EwM2M0M2ZmOTFlYzRjMTk5YzY3OTRhMjQ5MTdiZjE4LnNldENvbnRlbnQoaHRtbF80NGY5OWQ2MDZkZDU0YWYwOWE4NjRiNWEyMGI5ZmZmYik7CiAgICAgICAgICAgIAoKICAgICAgICAgICAgY2lyY2xlX21hcmtlcl8wODc4M2Q1NDFlMWE0YzY1OTg3OTFmZmQ2MjhiYWU3YS5iaW5kUG9wdXAocG9wdXBfYTAzYzQzZmY5MWVjNGMxOTljNjc5NGEyNDkxN2JmMTgpOwoKICAgICAgICAgICAgCiAgICAgICAgCiAgICAgICAgCiAgICAgICAgICAgIAoKICAgICAgICAgICAgdmFyIGNpcmNsZV9tYXJrZXJfODcyMzA3MDAxMWVhNDAyNmIwMDlhYjdiMTdhNGZkYjIgPSBMLmNpcmNsZSgKICAgICAgICAgICAgICAgIFs1MC42Mzk2NzU4LC0xLjMwNTg5MjU2ODg1XSwKICAgICAgICAgICAgICAgIDEwLAogICAgICAgICAgICAgICAgewogICAgICAgICAgICAgICAgICAgIGNvbG9yOiAncmVkJywKICAgICAgICAgICAgICAgICAgICBmaWxsQ29sb3I6ICdyZWQnLAogICAgICAgICAgICAgICAgICAgIGZpbGxPcGFjaXR5OiAwLjYKICAgICAgICAgICAgICAgICAgICB9CiAgICAgICAgICAgICAgICApCiAgICAgICAgICAgICAgICAuYWRkVG8obWFwXzU4MzE0NmFmZmU2MzRkZGZhZmJlYTdkZWU4ZWRkZmE5KTsKICAgICAgICAgICAgCiAgICAgICAgCiAgICAgICAgICAgIAogICAgICAgICAgICB2YXIgcG9wdXBfMjFhNzI0MGQ4ODcyNDlkNGE2NDM4OWE5ZTVjZTM3ZTEgPSBMLnBvcHVwKHttYXhXaWR0aDogJzMwMCd9KTsKCiAgICAgICAgICAgIAogICAgICAgICAgICAgICAgdmFyIGh0bWxfYzE0MDQ2MzkzNGI1NDAxZWFjYjBkMDljNmViZDY0ODggPSAkKCcgICAgICAgICA8ZGl2IGlkPSJodG1sX2MxNDA0NjM5MzRiNTQwMWVhY2IwZDA5YzZlYmQ2NDg4IiAgICAgICAgICAgICAgICAgc3R5bGU9IndpZHRoOiAxMDAuMCU7IGhlaWdodDogMTAwLjAlOyI+ICAgICAgICAgICAgICAgICBGT1JUUkVTUyBJTlRFUk5BVElPTkFMIFNFUlZJQ0VTIExJTUlURUQ6IDMsIFJvc2xpbiBDb3R0YWdlcywgQ2hpbGxlcnRvbiwgTmV3cG9ydCwgUE8zMCAzSEc8L2Rpdj4gICAgICAgICAgICAgICAgICcpWzBdOwogICAgICAgICAgICAgICAgcG9wdXBfMjFhNzI0MGQ4ODcyNDlkNGE2NDM4OWE5ZTVjZTM3ZTEuc2V0Q29udGVudChodG1sX2MxNDA0NjM5MzRiNTQwMWVhY2IwZDA5YzZlYmQ2NDg4KTsKICAgICAgICAgICAgCgogICAgICAgICAgICBjaXJjbGVfbWFya2VyXzg3MjMwNzAwMTFlYTQwMjZiMDA5YWI3YjE3YTRmZGIyLmJpbmRQb3B1cChwb3B1cF8yMWE3MjQwZDg4NzI0OWQ0YTY0Mzg5YTllNWNlMzdlMSk7CgogICAgICAgICAgICAKICAgICAgICAKICAgICAgICAKICAgICAgICAgICAgCgogICAgICAgICAgICB2YXIgY2lyY2xlX21hcmtlcl9mNDFlYzAwMDI3ZjQ0OTNhYTc4YWIyNmU3OTFiNmM2YSA9IEwuY2lyY2xlKAogICAgICAgICAgICAgICAgWzUwLjc0MDk5OTMyMjgsLTEuMjI4NzczMjM0NjRdLAogICAgICAgICAgICAgICAgMTAsCiAgICAgICAgICAgICAgICB7CiAgICAgICAgICAgICAgICAgICAgY29sb3I6ICdyZWQnLAogICAgICAgICAgICAgICAgICAgIGZpbGxDb2xvcjogJ3JlZCcsCiAgICAgICAgICAgICAgICAgICAgZmlsbE9wYWNpdHk6IDAuNgogICAgICAgICAgICAgICAgICAgIH0KICAgICAgICAgICAgICAgICkKICAgICAgICAgICAgICAgIC5hZGRUbyhtYXBfNTgzMTQ2YWZmZTYzNGRkZmFmYmVhN2RlZThlZGRmYTkpOwogICAgICAgICAgICAKICAgICAgICAKICAgICAgICAgICAgCiAgICAgICAgICAgIHZhciBwb3B1cF9kYjU5ZjZiZDQxY2Y0ZDYzOWQxOGQ5MTVkOWMzOGZiZSA9IEwucG9wdXAoe21heFdpZHRoOiAnMzAwJ30pOwoKICAgICAgICAgICAgCiAgICAgICAgICAgICAgICB2YXIgaHRtbF82ZDg2YjdlMzVkYzA0NGFlODMwZDhjZWNmYTc2MzYyZiA9ICQoJyAgICAgICAgIDxkaXYgaWQ9Imh0bWxfNmQ4NmI3ZTM1ZGMwNDRhZTgzMGQ4Y2VjZmE3NjM2MmYiICAgICAgICAgICAgICAgICBzdHlsZT0id2lkdGg6IDEwMC4wJTsgaGVpZ2h0OiAxMDAuMCU7Ij4gICAgICAgICAgICAgICAgIEtMRUlOV09SVCBCRU5TT04gKEdVRVJOU0VZKSBMSU1JVEVEOiBUaGUgQnVuZ2Fsb3csIFdvb2RzaWRlIEJlYWNoLCBMb3dlciBXb29kc2lkZSBSb2FkLCBXb290dG9uIEJyaWRnZSwgUnlkZSwgUE8zMyA0SlQ8L2Rpdj4gICAgICAgICAgICAgICAgICcpWzBdOwogICAgICAgICAgICAgICAgcG9wdXBfZGI1OWY2YmQ0MWNmNGQ2MzlkMThkOTE1ZDljMzhmYmUuc2V0Q29udGVudChodG1sXzZkODZiN2UzNWRjMDQ0YWU4MzBkOGNlY2ZhNzYzNjJmKTsKICAgICAgICAgICAgCgogICAgICAgICAgICBjaXJjbGVfbWFya2VyX2Y0MWVjMDAwMjdmNDQ5M2FhNzhhYjI2ZTc5MWI2YzZhLmJpbmRQb3B1cChwb3B1cF9kYjU5ZjZiZDQxY2Y0ZDYzOWQxOGQ5MTVkOWMzOGZiZSk7CgogICAgICAgICAgICAKICAgICAgICAKICAgICAgICAKICAgICAgICAgICAgCgogICAgICAgICAgICB2YXIgY2lyY2xlX21hcmtlcl85ZjU3Mzk3ZjM1OGU0MmRjODM0NzhlNGYzODIwMjRmZiA9IEwuY2lyY2xlKAogICAgICAgICAgICAgICAgWzUwLjcyNDIyNjQ0MzEsLTEuMTM1MDIwNTM1NzFdLAogICAgICAgICAgICAgICAgMTAsCiAgICAgICAgICAgICAgICB7CiAgICAgICAgICAgICAgICAgICAgY29sb3I6ICdyZWQnLAogICAgICAgICAgICAgICAgICAgIGZpbGxDb2xvcjogJ3JlZCcsCiAgICAgICAgICAgICAgICAgICAgZmlsbE9wYWNpdHk6IDAuNgogICAgICAgICAgICAgICAgICAgIH0KICAgICAgICAgICAgICAgICkKICAgICAgICAgICAgICAgIC5hZGRUbyhtYXBfNTgzMTQ2YWZmZTYzNGRkZmFmYmVhN2RlZThlZGRmYTkpOwogICAgICAgICAgICAKICAgICAgICAKICAgICAgICAgICAgCiAgICAgICAgICAgIHZhciBwb3B1cF82ZTVjZGM4YjFmYzA0MzlmODk5MDRjNDBkZWI1NDc4ZSA9IEwucG9wdXAoe21heFdpZHRoOiAnMzAwJ30pOwoKICAgICAgICAgICAgCiAgICAgICAgICAgICAgICB2YXIgaHRtbF8zNzAxOWJlYmUzYjY0YThmODhmZjljMzg0YzRiNzZlZCA9ICQoJyAgICAgICAgIDxkaXYgaWQ9Imh0bWxfMzcwMTliZWJlM2I2NGE4Zjg4ZmY5YzM4NGM0Yjc2ZWQiICAgICAgICAgICAgICAgICBzdHlsZT0id2lkdGg6IDEwMC4wJTsgaGVpZ2h0OiAxMDAuMCU7Ij4gICAgICAgICAgICAgICAgIEdMRU4gT1JSSU4gTElNSVRFRDogSGFyY291cnQgU2FuZHMgSG9saWRheSBWaWxsYWdlLCBQdWNrcG9vbCBIaWxsLCBSeWRlLCBQTzMzIDFQSjwvZGl2PiAgICAgICAgICAgICAgICAgJylbMF07CiAgICAgICAgICAgICAgICBwb3B1cF82ZTVjZGM4YjFmYzA0MzlmODk5MDRjNDBkZWI1NDc4ZS5zZXRDb250ZW50KGh0bWxfMzcwMTliZWJlM2I2NGE4Zjg4ZmY5YzM4NGM0Yjc2ZWQpOwogICAgICAgICAgICAKCiAgICAgICAgICAgIGNpcmNsZV9tYXJrZXJfOWY1NzM5N2YzNThlNDJkYzgzNDc4ZTRmMzgyMDI0ZmYuYmluZFBvcHVwKHBvcHVwXzZlNWNkYzhiMWZjMDQzOWY4OTkwNGM0MGRlYjU0NzhlKTsKCiAgICAgICAgICAgIAogICAgICAgIAogICAgICAgIAogICAgICAgICAgICAKCiAgICAgICAgICAgIHZhciBjaXJjbGVfbWFya2VyX2M4MWE2ZjNhZjdmYTRkZGU4OGVlZWM2ZjVjMmI4ZmY3ID0gTC5jaXJjbGUoCiAgICAgICAgICAgICAgICBbNTAuNzAwMzAwNjg0MSwtMS4yOTE1ODg4OTI0OV0sCiAgICAgICAgICAgICAgICAxMCwKICAgICAgICAgICAgICAgIHsKICAgICAgICAgICAgICAgICAgICBjb2xvcjogJ3JlZCcsCiAgICAgICAgICAgICAgICAgICAgZmlsbENvbG9yOiAncmVkJywKICAgICAgICAgICAgICAgICAgICBmaWxsT3BhY2l0eTogMC42CiAgICAgICAgICAgICAgICAgICAgfQogICAgICAgICAgICAgICAgKQogICAgICAgICAgICAgICAgLmFkZFRvKG1hcF81ODMxNDZhZmZlNjM0ZGRmYWZiZWE3ZGVlOGVkZGZhOSk7CiAgICAgICAgICAgIAogICAgICAgIAogICAgICAgICAgICAKICAgICAgICAgICAgdmFyIHBvcHVwXzZmNmE3NDkyYTA3MzQwMWJhNzczZDIzOTdiNTRkNDgzID0gTC5wb3B1cCh7bWF4V2lkdGg6ICczMDAnfSk7CgogICAgICAgICAgICAKICAgICAgICAgICAgICAgIHZhciBodG1sX2JkOGY4OGQzZGUyODRmMzViODIzMGZmOWU2MzIwMmQwID0gJCgnICAgICAgICAgPGRpdiBpZD0iaHRtbF9iZDhmODhkM2RlMjg0ZjM1YjgyMzBmZjllNjMyMDJkMCIgICAgICAgICAgICAgICAgIHN0eWxlPSJ3aWR0aDogMTAwLjAlOyBoZWlnaHQ6IDEwMC4wJTsiPiAgICAgICAgICAgICAgICAgQ0hFVkVSVE9OIElOVkVTVE1FTlRTIExURDogMjcsIEhpZ2ggU3RyZWV0LCBOZXdwb3J0LCBQTzMwIDFTUzwvZGl2PiAgICAgICAgICAgICAgICAgJylbMF07CiAgICAgICAgICAgICAgICBwb3B1cF82ZjZhNzQ5MmEwNzM0MDFiYTc3M2QyMzk3YjU0ZDQ4My5zZXRDb250ZW50KGh0bWxfYmQ4Zjg4ZDNkZTI4NGYzNWI4MjMwZmY5ZTYzMjAyZDApOwogICAgICAgICAgICAKCiAgICAgICAgICAgIGNpcmNsZV9tYXJrZXJfYzgxYTZmM2FmN2ZhNGRkZTg4ZWVlYzZmNWMyYjhmZjcuYmluZFBvcHVwKHBvcHVwXzZmNmE3NDkyYTA3MzQwMWJhNzczZDIzOTdiNTRkNDgzKTsKCiAgICAgICAgICAgIAogICAgICAgIAogICAgICAgIAogICAgICAgICAgICAKCiAgICAgICAgICAgIHZhciBjaXJjbGVfbWFya2VyX2Y4Y2JmNDczNTZlMTQwMTc5ZWFkN2MzZjU5NTQ1ZGY0ID0gTC5jaXJjbGUoCiAgICAgICAgICAgICAgICBbNTAuNzI1NTEyOTg0OCwtMS4yNzM0NzExMjIzMl0sCiAgICAgICAgICAgICAgICAxMCwKICAgICAgICAgICAgICAgIHsKICAgICAgICAgICAgICAgICAgICBjb2xvcjogJ3JlZCcsCiAgICAgICAgICAgICAgICAgICAgZmlsbENvbG9yOiAncmVkJywKICAgICAgICAgICAgICAgICAgICBmaWxsT3BhY2l0eTogMC42CiAgICAgICAgICAgICAgICAgICAgfQogICAgICAgICAgICAgICAgKQogICAgICAgICAgICAgICAgLmFkZFRvKG1hcF81ODMxNDZhZmZlNjM0ZGRmYWZiZWE3ZGVlOGVkZGZhOSk7CiAgICAgICAgICAgIAogICAgICAgIAogICAgICAgICAgICAKICAgICAgICAgICAgdmFyIHBvcHVwX2JiMTM0ZjI2N2JjMjRmMDQ5NTg1NmMxZmQ1MzEyYTJiID0gTC5wb3B1cCh7bWF4V2lkdGg6ICczMDAnfSk7CgogICAgICAgICAgICAKICAgICAgICAgICAgICAgIHZhciBodG1sXzlkZGFmNWU4NzQ5ZjRmY2FhNzhhN2IxNGM4MGY5YzRiID0gJCgnICAgICAgICAgPGRpdiBpZD0iaHRtbF85ZGRhZjVlODc0OWY0ZmNhYTc4YTdiMTRjODBmOWM0YiIgICAgICAgICAgICAgICAgIHN0eWxlPSJ3aWR0aDogMTAwLjAlOyBoZWlnaHQ6IDEwMC4wJTsiPiAgICAgICAgICAgICAgICAgVFJFTUJFU1QgUFJPUEVSVElFUyBMSU1JVEVEOiA4LCBDb3Jtb3JhbnQgR3JvdmUsIE5ld3BvcnQsIFBPMzAgMkRZPC9kaXY+ICAgICAgICAgICAgICAgICAnKVswXTsKICAgICAgICAgICAgICAgIHBvcHVwX2JiMTM0ZjI2N2JjMjRmMDQ5NTg1NmMxZmQ1MzEyYTJiLnNldENvbnRlbnQoaHRtbF85ZGRhZjVlODc0OWY0ZmNhYTc4YTdiMTRjODBmOWM0Yik7CiAgICAgICAgICAgIAoKICAgICAgICAgICAgY2lyY2xlX21hcmtlcl9mOGNiZjQ3MzU2ZTE0MDE3OWVhZDdjM2Y1OTU0NWRmNC5iaW5kUG9wdXAocG9wdXBfYmIxMzRmMjY3YmMyNGYwNDk1ODU2YzFmZDUzMTJhMmIpOwoKICAgICAgICAgICAgCiAgICAgICAgCiAgICAgICAgCiAgICAgICAgICAgIAoKICAgICAgICAgICAgdmFyIGNpcmNsZV9tYXJrZXJfNzM1NzdmNmQwNjE0NGU0ODgxMGEzYWU5NGI3ODlkYzQgPSBMLmNpcmNsZSgKICAgICAgICAgICAgICAgIFs1MC42NzUzNTUzNzY0LC0xLjU0NjExMjg0OTY3XSwKICAgICAgICAgICAgICAgIDEwLAogICAgICAgICAgICAgICAgewogICAgICAgICAgICAgICAgICAgIGNvbG9yOiAncmVkJywKICAgICAgICAgICAgICAgICAgICBmaWxsQ29sb3I6ICdyZWQnLAogICAgICAgICAgICAgICAgICAgIGZpbGxPcGFjaXR5OiAwLjYKICAgICAgICAgICAgICAgICAgICB9CiAgICAgICAgICAgICAgICApCiAgICAgICAgICAgICAgICAuYWRkVG8obWFwXzU4MzE0NmFmZmU2MzRkZGZhZmJlYTdkZWU4ZWRkZmE5KTsKICAgICAgICAgICAgCiAgICAgICAgCiAgICAgICAgICAgIAogICAgICAgICAgICB2YXIgcG9wdXBfYWRmZTEwYzgyNTU4NGIyNThkMzVmMzY4Yjg3ODA2MmEgPSBMLnBvcHVwKHttYXhXaWR0aDogJzMwMCd9KTsKCiAgICAgICAgICAgIAogICAgICAgICAgICAgICAgdmFyIGh0bWxfNzhjNjY0OGYxZmFhNDA1MGFjMTNmOTVjYjIxNTA0OGYgPSAkKCcgICAgICAgICA8ZGl2IGlkPSJodG1sXzc4YzY2NDhmMWZhYTQwNTBhYzEzZjk1Y2IyMTUwNDhmIiAgICAgICAgICAgICAgICAgc3R5bGU9IndpZHRoOiAxMDAuMCU7IGhlaWdodDogMTAwLjAlOyI+ICAgICAgICAgICAgICAgICBMSU5HV09PRCBMSU1JVEVEOiBMaW5nd29vZCwgQWx1bSBCYXkgTmV3IFJvYWQsIFRvdGxhbmQgQmF5LCBQTzM5IDBFUzwvZGl2PiAgICAgICAgICAgICAgICAgJylbMF07CiAgICAgICAgICAgICAgICBwb3B1cF9hZGZlMTBjODI1NTg0YjI1OGQzNWYzNjhiODc4MDYyYS5zZXRDb250ZW50KGh0bWxfNzhjNjY0OGYxZmFhNDA1MGFjMTNmOTVjYjIxNTA0OGYpOwogICAgICAgICAgICAKCiAgICAgICAgICAgIGNpcmNsZV9tYXJrZXJfNzM1NzdmNmQwNjE0NGU0ODgxMGEzYWU5NGI3ODlkYzQuYmluZFBvcHVwKHBvcHVwX2FkZmUxMGM4MjU1ODRiMjU4ZDM1ZjM2OGI4NzgwNjJhKTsKCiAgICAgICAgICAgIAogICAgICAgIAogICAgICAgIAogICAgICAgICAgICAKCiAgICAgICAgICAgIHZhciBjaXJjbGVfbWFya2VyXzI5NzY2ZTVhZGI3MDQ0MjM5OTdlMTVhN2JkMjZlNTM4ID0gTC5jaXJjbGUoCiAgICAgICAgICAgICAgICBbNTAuNzIyODk0NzAzMSwtMS4xMjI4NzU2OTkxNF0sCiAgICAgICAgICAgICAgICAxMCwKICAgICAgICAgICAgICAgIHsKICAgICAgICAgICAgICAgICAgICBjb2xvcjogJ3JlZCcsCiAgICAgICAgICAgICAgICAgICAgZmlsbENvbG9yOiAncmVkJywKICAgICAgICAgICAgICAgICAgICBmaWxsT3BhY2l0eTogMC42CiAgICAgICAgICAgICAgICAgICAgfQogICAgICAgICAgICAgICAgKQogICAgICAgICAgICAgICAgLmFkZFRvKG1hcF81ODMxNDZhZmZlNjM0ZGRmYWZiZWE3ZGVlOGVkZGZhOSk7CiAgICAgICAgICAgIAogICAgICAgIAogICAgICAgICAgICAKICAgICAgICAgICAgdmFyIHBvcHVwXzExMzRhZWFkMzE0ODRiOGZiNmI0M2E1YTUxZThmMDAyID0gTC5wb3B1cCh7bWF4V2lkdGg6ICczMDAnfSk7CgogICAgICAgICAgICAKICAgICAgICAgICAgICAgIHZhciBodG1sX2IyYmZjZDUwYmQ1YTQyNjM4OGIyMTY0NjYwMjhkZTY3ID0gJCgnICAgICAgICAgPGRpdiBpZD0iaHRtbF9iMmJmY2Q1MGJkNWE0MjYzODhiMjE2NDY2MDI4ZGU2NyIgICAgICAgICAgICAgICAgIHN0eWxlPSJ3aWR0aDogMTAwLjAlOyBoZWlnaHQ6IDEwMC4wJTsiPiAgICAgICAgICAgICAgICAgU1BFUk8gTElNSVRFRDogUmVkIEhvdXNlLCBPYWtoaWxsIFJvYWQsIFNlYXZpZXcsIFBPMzQgNUFMPC9kaXY+ICAgICAgICAgICAgICAgICAnKVswXTsKICAgICAgICAgICAgICAgIHBvcHVwXzExMzRhZWFkMzE0ODRiOGZiNmI0M2E1YTUxZThmMDAyLnNldENvbnRlbnQoaHRtbF9iMmJmY2Q1MGJkNWE0MjYzODhiMjE2NDY2MDI4ZGU2Nyk7CiAgICAgICAgICAgIAoKICAgICAgICAgICAgY2lyY2xlX21hcmtlcl8yOTc2NmU1YWRiNzA0NDIzOTk3ZTE1YTdiZDI2ZTUzOC5iaW5kUG9wdXAocG9wdXBfMTEzNGFlYWQzMTQ4NGI4ZmI2YjQzYTVhNTFlOGYwMDIpOwoKICAgICAgICAgICAgCiAgICAgICAgCiAgICAgICAgCiAgICAgICAgICAgIAoKICAgICAgICAgICAgdmFyIGNpcmNsZV9tYXJrZXJfNjNlNWY5NjJiZjI4NDQxNzliNWJjNzJkOGViMjg2MGUgPSBMLmNpcmNsZSgKICAgICAgICAgICAgICAgIFs1MC43MjM4OTU4NjE0LC0xLjEyMzI2Nzg2MTI4XSwKICAgICAgICAgICAgICAgIDEwLAogICAgICAgICAgICAgICAgewogICAgICAgICAgICAgICAgICAgIGNvbG9yOiAncmVkJywKICAgICAgICAgICAgICAgICAgICBmaWxsQ29sb3I6ICdyZWQnLAogICAgICAgICAgICAgICAgICAgIGZpbGxPcGFjaXR5OiAwLjYKICAgICAgICAgICAgICAgICAgICB9CiAgICAgICAgICAgICAgICApCiAgICAgICAgICAgICAgICAuYWRkVG8obWFwXzU4MzE0NmFmZmU2MzRkZGZhZmJlYTdkZWU4ZWRkZmE5KTsKICAgICAgICAgICAgCiAgICAgICAgCiAgICAgICAgICAgIAogICAgICAgICAgICB2YXIgcG9wdXBfNjZiYmRiNjFkOGVmNGMzNGE5ZGEzYmQ5MjU3ZTJmODEgPSBMLnBvcHVwKHttYXhXaWR0aDogJzMwMCd9KTsKCiAgICAgICAgICAgIAogICAgICAgICAgICAgICAgdmFyIGh0bWxfNzFhZjk5NWY3ZmQ3NDlmZDhmMjVhNDUzNDE2YjE1NjUgPSAkKCcgICAgICAgICA8ZGl2IGlkPSJodG1sXzcxYWY5OTVmN2ZkNzQ5ZmQ4ZjI1YTQ1MzQxNmIxNTY1IiAgICAgICAgICAgICAgICAgc3R5bGU9IndpZHRoOiAxMDAuMCU7IGhlaWdodDogMTAwLjAlOyI+ICAgICAgICAgICAgICAgICBEQVRBUExBTiBMTEM6IEhhdmVuIEhvdXNlLCBTcHJpbmd2YWxlIFJvYWQsIFNlYXZpZXcsIFBPMzQgNUFOPC9kaXY+ICAgICAgICAgICAgICAgICAnKVswXTsKICAgICAgICAgICAgICAgIHBvcHVwXzY2YmJkYjYxZDhlZjRjMzRhOWRhM2JkOTI1N2UyZjgxLnNldENvbnRlbnQoaHRtbF83MWFmOTk1ZjdmZDc0OWZkOGYyNWE0NTM0MTZiMTU2NSk7CiAgICAgICAgICAgIAoKICAgICAgICAgICAgY2lyY2xlX21hcmtlcl82M2U1Zjk2MmJmMjg0NDE3OWI1YmM3MmQ4ZWIyODYwZS5iaW5kUG9wdXAocG9wdXBfNjZiYmRiNjFkOGVmNGMzNGE5ZGEzYmQ5MjU3ZTJmODEpOwoKICAgICAgICAgICAgCiAgICAgICAgCiAgICAgICAgCiAgICAgICAgICAgIAoKICAgICAgICAgICAgdmFyIGNpcmNsZV9tYXJrZXJfMjMwMzhkNDBhNGIwNGQ4Yjk3OTFiMzQyMGUyYWJkYzYgPSBMLmNpcmNsZSgKICAgICAgICAgICAgICAgIFs1MC43NjI4ODkwMzUzLC0xLjMwMDI4NjIxNTA4XSwKICAgICAgICAgICAgICAgIDEwLAogICAgICAgICAgICAgICAgewogICAgICAgICAgICAgICAgICAgIGNvbG9yOiAncmVkJywKICAgICAgICAgICAgICAgICAgICBmaWxsQ29sb3I6ICdyZWQnLAogICAgICAgICAgICAgICAgICAgIGZpbGxPcGFjaXR5OiAwLjYKICAgICAgICAgICAgICAgICAgICB9CiAgICAgICAgICAgICAgICApCiAgICAgICAgICAgICAgICAuYWRkVG8obWFwXzU4MzE0NmFmZmU2MzRkZGZhZmJlYTdkZWU4ZWRkZmE5KTsKICAgICAgICAgICAgCiAgICAgICAgCiAgICAgICAgICAgIAogICAgICAgICAgICB2YXIgcG9wdXBfMjY4MWVjYzE5MDUyNGZhNzk1OWFmMmViN2ViZmJkYzQgPSBMLnBvcHVwKHttYXhXaWR0aDogJzMwMCd9KTsKCiAgICAgICAgICAgIAogICAgICAgICAgICAgICAgdmFyIGh0bWxfY2VmMmJiYWE0Zjc2NGQyZWI4YzZmZmFkYzU4YTliZmYgPSAkKCcgICAgICAgICA8ZGl2IGlkPSJodG1sX2NlZjJiYmFhNGY3NjRkMmViOGM2ZmZhZGM1OGE5YmZmIiAgICAgICAgICAgICAgICAgc3R5bGU9IndpZHRoOiAxMDAuMCU7IGhlaWdodDogMTAwLjAlOyI+ICAgICAgICAgICAgICAgICBCUkFDS05FTEwgRU5URVJQUklTRVMgTElNSVRFRDogQ293ZXMgQ29uZ3JlZ2F0aW9uYWwgQ2h1cmNoLCBVbmlvbiBSb2FkLCBDb3dlcywgUE8zMSA3VFA8L2Rpdj4gICAgICAgICAgICAgICAgICcpWzBdOwogICAgICAgICAgICAgICAgcG9wdXBfMjY4MWVjYzE5MDUyNGZhNzk1OWFmMmViN2ViZmJkYzQuc2V0Q29udGVudChodG1sX2NlZjJiYmFhNGY3NjRkMmViOGM2ZmZhZGM1OGE5YmZmKTsKICAgICAgICAgICAgCgogICAgICAgICAgICBjaXJjbGVfbWFya2VyXzIzMDM4ZDQwYTRiMDRkOGI5NzkxYjM0MjBlMmFiZGM2LmJpbmRQb3B1cChwb3B1cF8yNjgxZWNjMTkwNTI0ZmE3OTU5YWYyZWI3ZWJmYmRjNCk7CgogICAgICAgICAgICAKICAgICAgICAKICAgICAgICAKICAgICAgICAgICAgCgogICAgICAgICAgICB2YXIgY2lyY2xlX21hcmtlcl9lZDljMzA4OTI5YzE0YzlkYWMwZDVjMWU5YWMzNTNiZSA9IEwuY2lyY2xlKAogICAgICAgICAgICAgICAgWzUwLjY1NzQwNDIxNzUsLTEuMTUwMjUzODM0MDVdLAogICAgICAgICAgICAgICAgMTAsCiAgICAgICAgICAgICAgICB7CiAgICAgICAgICAgICAgICAgICAgY29sb3I6ICdyZWQnLAogICAgICAgICAgICAgICAgICAgIGZpbGxDb2xvcjogJ3JlZCcsCiAgICAgICAgICAgICAgICAgICAgZmlsbE9wYWNpdHk6IDAuNgogICAgICAgICAgICAgICAgICAgIH0KICAgICAgICAgICAgICAgICkKICAgICAgICAgICAgICAgIC5hZGRUbyhtYXBfNTgzMTQ2YWZmZTYzNGRkZmFmYmVhN2RlZThlZGRmYTkpOwogICAgICAgICAgICAKICAgICAgICAKICAgICAgICAgICAgCiAgICAgICAgICAgIHZhciBwb3B1cF81MTlhNDhjMDhlOTI0MjBkOWExZmI2MTQ5MTU1NGZhZCA9IEwucG9wdXAoe21heFdpZHRoOiAnMzAwJ30pOwoKICAgICAgICAgICAgCiAgICAgICAgICAgICAgICB2YXIgaHRtbF8yYmI2Njc3ZDk1MGM0YTI5YWIyZDRiYTQ1MmQ5ZDVmYiA9ICQoJyAgICAgICAgIDxkaXYgaWQ9Imh0bWxfMmJiNjY3N2Q5NTBjNGEyOWFiMmQ0YmE0NTJkOWQ1ZmIiICAgICAgICAgICAgICAgICBzdHlsZT0id2lkdGg6IDEwMC4wJTsgaGVpZ2h0OiAxMDAuMCU7Ij4gICAgICAgICAgICAgICAgIERBTVNFTEZMWSBMSU1JVEVEOiBCdXJsaW5ndG9uIEhvdGVsLCA1LTkgQXZlbnVlIFJvYWQsIFNhbmRvd24sIFBPMzYgOEJOPC9kaXY+ICAgICAgICAgICAgICAgICAnKVswXTsKICAgICAgICAgICAgICAgIHBvcHVwXzUxOWE0OGMwOGU5MjQyMGQ5YTFmYjYxNDkxNTU0ZmFkLnNldENvbnRlbnQoaHRtbF8yYmI2Njc3ZDk1MGM0YTI5YWIyZDRiYTQ1MmQ5ZDVmYik7CiAgICAgICAgICAgIAoKICAgICAgICAgICAgY2lyY2xlX21hcmtlcl9lZDljMzA4OTI5YzE0YzlkYWMwZDVjMWU5YWMzNTNiZS5iaW5kUG9wdXAocG9wdXBfNTE5YTQ4YzA4ZTkyNDIwZDlhMWZiNjE0OTE1NTRmYWQpOwoKICAgICAgICAgICAgCiAgICAgICAgCiAgICAgICAgCiAgICAgICAgICAgIAoKICAgICAgICAgICAgdmFyIGNpcmNsZV9tYXJrZXJfMTE4ZTdiNzMxMTQ1NDA5NmFjMGY4NTBmZTVjODMxYjAgPSBMLmNpcmNsZSgKICAgICAgICAgICAgICAgIFs1MC42OTc5NDQyOTg2LC0xLjI5NTk5OTU4NjA4XSwKICAgICAgICAgICAgICAgIDEwLAogICAgICAgICAgICAgICAgewogICAgICAgICAgICAgICAgICAgIGNvbG9yOiAncmVkJywKICAgICAgICAgICAgICAgICAgICBmaWxsQ29sb3I6ICdyZWQnLAogICAgICAgICAgICAgICAgICAgIGZpbGxPcGFjaXR5OiAwLjYKICAgICAgICAgICAgICAgICAgICB9CiAgICAgICAgICAgICAgICApCiAgICAgICAgICAgICAgICAuYWRkVG8obWFwXzU4MzE0NmFmZmU2MzRkZGZhZmJlYTdkZWU4ZWRkZmE5KTsKICAgICAgICAgICAgCiAgICAgICAgCiAgICAgICAgICAgIAogICAgICAgICAgICB2YXIgcG9wdXBfMDc3OWU5NWViZmJkNGZiNWI1MmYzMThlM2JjY2QxNDIgPSBMLnBvcHVwKHttYXhXaWR0aDogJzMwMCd9KTsKCiAgICAgICAgICAgIAogICAgICAgICAgICAgICAgdmFyIGh0bWxfNTE4NTIyMTQyZTQ0NDI5M2EwOTdiN2RkOTlmODllODcgPSAkKCcgICAgICAgICA8ZGl2IGlkPSJodG1sXzUxODUyMjE0MmU0NDQyOTNhMDk3YjdkZDk5Zjg5ZTg3IiAgICAgICAgICAgICAgICAgc3R5bGU9IndpZHRoOiAxMDAuMCU7IGhlaWdodDogMTAwLjAlOyI+ICAgICAgICAgICAgICAgICBSRURXT09EIERFVkVMT1BNRU5UUyBMSU1JVEVEOiA0MCwgQ2hhcGVsIFN0cmVldCwgTmV3cG9ydCwgUE8zMCAxUFo8L2Rpdj4gICAgICAgICAgICAgICAgICcpWzBdOwogICAgICAgICAgICAgICAgcG9wdXBfMDc3OWU5NWViZmJkNGZiNWI1MmYzMThlM2JjY2QxNDIuc2V0Q29udGVudChodG1sXzUxODUyMjE0MmU0NDQyOTNhMDk3YjdkZDk5Zjg5ZTg3KTsKICAgICAgICAgICAgCgogICAgICAgICAgICBjaXJjbGVfbWFya2VyXzExOGU3YjczMTE0NTQwOTZhYzBmODUwZmU1YzgzMWIwLmJpbmRQb3B1cChwb3B1cF8wNzc5ZTk1ZWJmYmQ0ZmI1YjUyZjMxOGUzYmNjZDE0Mik7CgogICAgICAgICAgICAKICAgICAgICAKICAgICAgICAKICAgICAgICAgICAgCgogICAgICAgICAgICB2YXIgY2lyY2xlX21hcmtlcl82MmE1ZGExZWNjNTY0ZTE0OWE0ODhkOGVjNzc5NTk2OCA9IEwuY2lyY2xlKAogICAgICAgICAgICAgICAgWzUwLjcyNTQwNzgwMjMsLTEuMTgwMjkyNjU1NzNdLAogICAgICAgICAgICAgICAgMTAsCiAgICAgICAgICAgICAgICB7CiAgICAgICAgICAgICAgICAgICAgY29sb3I6ICdyZWQnLAogICAgICAgICAgICAgICAgICAgIGZpbGxDb2xvcjogJ3JlZCcsCiAgICAgICAgICAgICAgICAgICAgZmlsbE9wYWNpdHk6IDAuNgogICAgICAgICAgICAgICAgICAgIH0KICAgICAgICAgICAgICAgICkKICAgICAgICAgICAgICAgIC5hZGRUbyhtYXBfNTgzMTQ2YWZmZTYzNGRkZmFmYmVhN2RlZThlZGRmYTkpOwogICAgICAgICAgICAKICAgICAgICAKICAgICAgICAgICAgCiAgICAgICAgICAgIHZhciBwb3B1cF83ODE3ZTliN2I4NDY0M2ZhODQ5OWVlZjYxOWY2MzFkYSA9IEwucG9wdXAoe21heFdpZHRoOiAnMzAwJ30pOwoKICAgICAgICAgICAgCiAgICAgICAgICAgICAgICB2YXIgaHRtbF8yZTVhYjhlNmQ2ZjQ0NmVhYjA1ODhmYzNjM2UzM2JjZSA9ICQoJyAgICAgICAgIDxkaXYgaWQ9Imh0bWxfMmU1YWI4ZTZkNmY0NDZlYWIwNTg4ZmMzYzNlMzNiY2UiICAgICAgICAgICAgICAgICBzdHlsZT0id2lkdGg6IDEwMC4wJTsgaGVpZ2h0OiAxMDAuMCU7Ij4gICAgICAgICAgICAgICAgIFJFRFdPT0QgREVWRUxPUE1FTlRTIExJTUlURUQ6IDIsIFdlbGxpbmd0b24gUm9hZCwgUnlkZSwgUE8zMyAzUVI8L2Rpdj4gICAgICAgICAgICAgICAgICcpWzBdOwogICAgICAgICAgICAgICAgcG9wdXBfNzgxN2U5YjdiODQ2NDNmYTg0OTllZWY2MTlmNjMxZGEuc2V0Q29udGVudChodG1sXzJlNWFiOGU2ZDZmNDQ2ZWFiMDU4OGZjM2MzZTMzYmNlKTsKICAgICAgICAgICAgCgogICAgICAgICAgICBjaXJjbGVfbWFya2VyXzYyYTVkYTFlY2M1NjRlMTQ5YTQ4OGQ4ZWM3Nzk1OTY4LmJpbmRQb3B1cChwb3B1cF83ODE3ZTliN2I4NDY0M2ZhODQ5OWVlZjYxOWY2MzFkYSk7CgogICAgICAgICAgICAKICAgICAgICAKICAgICAgICAKICAgICAgICAgICAgCgogICAgICAgICAgICB2YXIgY2lyY2xlX21hcmtlcl83ODYyZjU0NDhjZTQ0Nzg2OGYyNzFlNWFkNmExOGY5MCA9IEwuY2lyY2xlKAogICAgICAgICAgICAgICAgWzUwLjcyNTcxOTY4NDUsLTEuMTYzNDI3NjUzNjddLAogICAgICAgICAgICAgICAgMTAsCiAgICAgICAgICAgICAgICB7CiAgICAgICAgICAgICAgICAgICAgY29sb3I6ICdyZWQnLAogICAgICAgICAgICAgICAgICAgIGZpbGxDb2xvcjogJ3JlZCcsCiAgICAgICAgICAgICAgICAgICAgZmlsbE9wYWNpdHk6IDAuNgogICAgICAgICAgICAgICAgICAgIH0KICAgICAgICAgICAgICAgICkKICAgICAgICAgICAgICAgIC5hZGRUbyhtYXBfNTgzMTQ2YWZmZTYzNGRkZmFmYmVhN2RlZThlZGRmYTkpOwogICAgICAgICAgICAKICAgICAgICAKICAgICAgICAgICAgCiAgICAgICAgICAgIHZhciBwb3B1cF8xZWU1ZjQxMzg3YjI0Njc2YWNhNDg4ZGFkOGM2NDNhNCA9IEwucG9wdXAoe21heFdpZHRoOiAnMzAwJ30pOwoKICAgICAgICAgICAgCiAgICAgICAgICAgICAgICB2YXIgaHRtbF9iNzQ1ZDg1OWQ3ODc0MmQ0OWM2ZmZjZGIzMWUzNDZkMyA9ICQoJyAgICAgICAgIDxkaXYgaWQ9Imh0bWxfYjc0NWQ4NTlkNzg3NDJkNDljNmZmY2RiMzFlMzQ2ZDMiICAgICAgICAgICAgICAgICBzdHlsZT0id2lkdGg6IDEwMC4wJTsgaGVpZ2h0OiAxMDAuMCU7Ij4gICAgICAgICAgICAgICAgIFdBTERFTiBJTlZFU1RNRU5UUyBMSU1JVEVEOiAxMjQsIEhpZ2ggU3RyZWV0LCBSeWRlLCBQTzMzIDJTVTwvZGl2PiAgICAgICAgICAgICAgICAgJylbMF07CiAgICAgICAgICAgICAgICBwb3B1cF8xZWU1ZjQxMzg3YjI0Njc2YWNhNDg4ZGFkOGM2NDNhNC5zZXRDb250ZW50KGh0bWxfYjc0NWQ4NTlkNzg3NDJkNDljNmZmY2RiMzFlMzQ2ZDMpOwogICAgICAgICAgICAKCiAgICAgICAgICAgIGNpcmNsZV9tYXJrZXJfNzg2MmY1NDQ4Y2U0NDc4NjhmMjcxZTVhZDZhMThmOTAuYmluZFBvcHVwKHBvcHVwXzFlZTVmNDEzODdiMjQ2NzZhY2E0ODhkYWQ4YzY0M2E0KTsKCiAgICAgICAgICAgIAogICAgICAgIAogICAgICAgIAogICAgICAgICAgICAKCiAgICAgICAgICAgIHZhciBjaXJjbGVfbWFya2VyX2YyYTAwMjk5Mjk2ODRkYWI5ZThiNzNiYzFmODc2N2MxID0gTC5jaXJjbGUoCiAgICAgICAgICAgICAgICBbNTAuNzU5MDE4OTk5NywtMS4yOTM3OTM4MjIzOF0sCiAgICAgICAgICAgICAgICAxMCwKICAgICAgICAgICAgICAgIHsKICAgICAgICAgICAgICAgICAgICBjb2xvcjogJ3JlZCcsCiAgICAgICAgICAgICAgICAgICAgZmlsbENvbG9yOiAncmVkJywKICAgICAgICAgICAgICAgICAgICBmaWxsT3BhY2l0eTogMC42CiAgICAgICAgICAgICAgICAgICAgfQogICAgICAgICAgICAgICAgKQogICAgICAgICAgICAgICAgLmFkZFRvKG1hcF81ODMxNDZhZmZlNjM0ZGRmYWZiZWE3ZGVlOGVkZGZhOSk7CiAgICAgICAgICAgIAogICAgICAgIAogICAgICAgICAgICAKICAgICAgICAgICAgdmFyIHBvcHVwXzc2NWU4ZGM5NWZkZTRmNjE4NTFiNWEyNWQ3NzM0YjhkID0gTC5wb3B1cCh7bWF4V2lkdGg6ICczMDAnfSk7CgogICAgICAgICAgICAKICAgICAgICAgICAgICAgIHZhciBodG1sXzAwMDk1OTk5ZTI1ZjQzNjg4YTcxZTA1ODBkMjkxOWI4ID0gJCgnICAgICAgICAgPGRpdiBpZD0iaHRtbF8wMDA5NTk5OWUyNWY0MzY4OGE3MWUwNTgwZDI5MTliOCIgICAgICAgICAgICAgICAgIHN0eWxlPSJ3aWR0aDogMTAwLjAlOyBoZWlnaHQ6IDEwMC4wJTsiPiAgICAgICAgICAgICAgICAgRlJFU0hXQVRFUiBCQVkgTElNSVRFRDogQXBhcnRtZW50IDEsIE1hcmludXMsIE1lZGluYSBSb2FkLCBDb3dlcywgUE8zMSA3WEY8L2Rpdj4gICAgICAgICAgICAgICAgICcpWzBdOwogICAgICAgICAgICAgICAgcG9wdXBfNzY1ZThkYzk1ZmRlNGY2MTg1MWI1YTI1ZDc3MzRiOGQuc2V0Q29udGVudChodG1sXzAwMDk1OTk5ZTI1ZjQzNjg4YTcxZTA1ODBkMjkxOWI4KTsKICAgICAgICAgICAgCgogICAgICAgICAgICBjaXJjbGVfbWFya2VyX2YyYTAwMjk5Mjk2ODRkYWI5ZThiNzNiYzFmODc2N2MxLmJpbmRQb3B1cChwb3B1cF83NjVlOGRjOTVmZGU0ZjYxODUxYjVhMjVkNzczNGI4ZCk7CgogICAgICAgICAgICAKICAgICAgICAKICAgICAgICAKICAgICAgICAgICAgCgogICAgICAgICAgICB2YXIgY2lyY2xlX21hcmtlcl9lZDJlNmQ0NjEzNjk0MTMwOGY2ZTM0ZWU2ZGU5NmFlNCA9IEwuY2lyY2xlKAogICAgICAgICAgICAgICAgWzUwLjcwMDE3MTAxOTQsLTEuMzA0NDA1NTcwMDZdLAogICAgICAgICAgICAgICAgMTAsCiAgICAgICAgICAgICAgICB7CiAgICAgICAgICAgICAgICAgICAgY29sb3I6ICdyZWQnLAogICAgICAgICAgICAgICAgICAgIGZpbGxDb2xvcjogJ3JlZCcsCiAgICAgICAgICAgICAgICAgICAgZmlsbE9wYWNpdHk6IDAuNgogICAgICAgICAgICAgICAgICAgIH0KICAgICAgICAgICAgICAgICkKICAgICAgICAgICAgICAgIC5hZGRUbyhtYXBfNTgzMTQ2YWZmZTYzNGRkZmFmYmVhN2RlZThlZGRmYTkpOwogICAgICAgICAgICAKICAgICAgICAKICAgICAgICAgICAgCiAgICAgICAgICAgIHZhciBwb3B1cF9lOWYzZTA5Yzk0Nzk0M2E3YmI2MzNkZWRjNTg2ZDk4NCA9IEwucG9wdXAoe21heFdpZHRoOiAnMzAwJ30pOwoKICAgICAgICAgICAgCiAgICAgICAgICAgICAgICB2YXIgaHRtbF8wYWNlZGM0MWM4NzE0NTg0ODllYWZhZDAxZTliZGEzZiA9ICQoJyAgICAgICAgIDxkaXYgaWQ9Imh0bWxfMGFjZWRjNDFjODcxNDU4NDg5ZWFmYWQwMWU5YmRhM2YiICAgICAgICAgICAgICAgICBzdHlsZT0id2lkdGg6IDEwMC4wJTsgaGVpZ2h0OiAxMDAuMCU7Ij4gICAgICAgICAgICAgICAgIFNIRVJJREFOIEhPTERJTkdTIExJTUlURUQ6IDUsIFNub3diZXJyeSBSb2FkLCBOZXdwb3J0LCBQTzMwIDVFWjwvZGl2PiAgICAgICAgICAgICAgICAgJylbMF07CiAgICAgICAgICAgICAgICBwb3B1cF9lOWYzZTA5Yzk0Nzk0M2E3YmI2MzNkZWRjNTg2ZDk4NC5zZXRDb250ZW50KGh0bWxfMGFjZWRjNDFjODcxNDU4NDg5ZWFmYWQwMWU5YmRhM2YpOwogICAgICAgICAgICAKCiAgICAgICAgICAgIGNpcmNsZV9tYXJrZXJfZWQyZTZkNDYxMzY5NDEzMDhmNmUzNGVlNmRlOTZhZTQuYmluZFBvcHVwKHBvcHVwX2U5ZjNlMDljOTQ3OTQzYTdiYjYzM2RlZGM1ODZkOTg0KTsKCiAgICAgICAgICAgIAogICAgICAgIAogICAgICAgIAogICAgICAgICAgICAKCiAgICAgICAgICAgIHZhciBjaXJjbGVfbWFya2VyX2VmNjI5YmIzYmU4NDQ3YzJhMWY0MTgzYjNkOWNmNGJjID0gTC5jaXJjbGUoCiAgICAgICAgICAgICAgICBbNTAuNzA1MDI4NjAxNCwtMS40OTkyNjQzNTQ4OV0sCiAgICAgICAgICAgICAgICAxMCwKICAgICAgICAgICAgICAgIHsKICAgICAgICAgICAgICAgICAgICBjb2xvcjogJ3JlZCcsCiAgICAgICAgICAgICAgICAgICAgZmlsbENvbG9yOiAncmVkJywKICAgICAgICAgICAgICAgICAgICBmaWxsT3BhY2l0eTogMC42CiAgICAgICAgICAgICAgICAgICAgfQogICAgICAgICAgICAgICAgKQogICAgICAgICAgICAgICAgLmFkZFRvKG1hcF81ODMxNDZhZmZlNjM0ZGRmYWZiZWE3ZGVlOGVkZGZhOSk7CiAgICAgICAgICAgIAogICAgICAgIAogICAgICAgICAgICAKICAgICAgICAgICAgdmFyIHBvcHVwX2Y5OWZmMGY0ODJlMjQyZmRhMGQ0NDdlZjM4YTM2MmEyID0gTC5wb3B1cCh7bWF4V2lkdGg6ICczMDAnfSk7CgogICAgICAgICAgICAKICAgICAgICAgICAgICAgIHZhciBodG1sXzM2YmU1ODY2Y2U0NzQxNmRiM2FlZmEyNTYyYjY3ZDMwID0gJCgnICAgICAgICAgPGRpdiBpZD0iaHRtbF8zNmJlNTg2NmNlNDc0MTZkYjNhZWZhMjU2MmI2N2QzMCIgICAgICAgICAgICAgICAgIHN0eWxlPSJ3aWR0aDogMTAwLjAlOyBoZWlnaHQ6IDEwMC4wJTsiPiAgICAgICAgICAgICAgICAgRklOQU5DSUFMIENPTlNVTFRBTlRTIChKRVJTRVkpIExJTUlURUQ6IEdyb3ZlIENvdHRhZ2UsIFN0IEphbWVzIFN0cmVldCwgWWFybW91dGgsIFBPNDEgME5VPC9kaXY+ICAgICAgICAgICAgICAgICAnKVswXTsKICAgICAgICAgICAgICAgIHBvcHVwX2Y5OWZmMGY0ODJlMjQyZmRhMGQ0NDdlZjM4YTM2MmEyLnNldENvbnRlbnQoaHRtbF8zNmJlNTg2NmNlNDc0MTZkYjNhZWZhMjU2MmI2N2QzMCk7CiAgICAgICAgICAgIAoKICAgICAgICAgICAgY2lyY2xlX21hcmtlcl9lZjYyOWJiM2JlODQ0N2MyYTFmNDE4M2IzZDljZjRiYy5iaW5kUG9wdXAocG9wdXBfZjk5ZmYwZjQ4MmUyNDJmZGEwZDQ0N2VmMzhhMzYyYTIpOwoKICAgICAgICAgICAgCiAgICAgICAgCiAgICAgICAgCiAgICAgICAgICAgIAoKICAgICAgICAgICAgdmFyIGNpcmNsZV9tYXJrZXJfY2U5ZDJkMTUzYTI0NDc4MGExZmEwNWI1OTk5ZGFjYjAgPSBMLmNpcmNsZSgKICAgICAgICAgICAgICAgIFs1MC42NTYxNDc0NDA0LC0xLjE1NTUxMDgwODkxXSwKICAgICAgICAgICAgICAgIDEwLAogICAgICAgICAgICAgICAgewogICAgICAgICAgICAgICAgICAgIGNvbG9yOiAncmVkJywKICAgICAgICAgICAgICAgICAgICBmaWxsQ29sb3I6ICdyZWQnLAogICAgICAgICAgICAgICAgICAgIGZpbGxPcGFjaXR5OiAwLjYKICAgICAgICAgICAgICAgICAgICB9CiAgICAgICAgICAgICAgICApCiAgICAgICAgICAgICAgICAuYWRkVG8obWFwXzU4MzE0NmFmZmU2MzRkZGZhZmJlYTdkZWU4ZWRkZmE5KTsKICAgICAgICAgICAgCiAgICAgICAgCiAgICAgICAgICAgIAogICAgICAgICAgICB2YXIgcG9wdXBfODEyMjRiZGMyMWY2NDZhNDhkNTM1ZmE0ZTBmOWRkYjcgPSBMLnBvcHVwKHttYXhXaWR0aDogJzMwMCd9KTsKCiAgICAgICAgICAgIAogICAgICAgICAgICAgICAgdmFyIGh0bWxfNjVkYjMwNjk3ODYzNGYxMThhMzkyMDBkYjIzNWVjZDUgPSAkKCcgICAgICAgICA8ZGl2IGlkPSJodG1sXzY1ZGIzMDY5Nzg2MzRmMTE4YTM5MjAwZGIyMzVlY2Q1IiAgICAgICAgICAgICAgICAgc3R5bGU9IndpZHRoOiAxMDAuMCU7IGhlaWdodDogMTAwLjAlOyI+ICAgICAgICAgICAgICAgICBYWVogTElNSVRFRDogODAsIFN0YXRpb24gQXZlbnVlLCBTYW5kb3duLCBQTzM2IDhIQjwvZGl2PiAgICAgICAgICAgICAgICAgJylbMF07CiAgICAgICAgICAgICAgICBwb3B1cF84MTIyNGJkYzIxZjY0NmE0OGQ1MzVmYTRlMGY5ZGRiNy5zZXRDb250ZW50KGh0bWxfNjVkYjMwNjk3ODYzNGYxMThhMzkyMDBkYjIzNWVjZDUpOwogICAgICAgICAgICAKCiAgICAgICAgICAgIGNpcmNsZV9tYXJrZXJfY2U5ZDJkMTUzYTI0NDc4MGExZmEwNWI1OTk5ZGFjYjAuYmluZFBvcHVwKHBvcHVwXzgxMjI0YmRjMjFmNjQ2YTQ4ZDUzNWZhNGUwZjlkZGI3KTsKCiAgICAgICAgICAgIAogICAgICAgIAogICAgICAgIAogICAgICAgICAgICAKCiAgICAgICAgICAgIHZhciBjaXJjbGVfbWFya2VyXzlhNzVjMjdjYjllZjRjMDY4ZDdiMjBlMjRhNDg5MWRiID0gTC5jaXJjbGUoCiAgICAgICAgICAgICAgICBbNTAuNjk5NjM0NDE0NiwtMS4yOTE0NTczMjg5OV0sCiAgICAgICAgICAgICAgICAxMCwKICAgICAgICAgICAgICAgIHsKICAgICAgICAgICAgICAgICAgICBjb2xvcjogJ3JlZCcsCiAgICAgICAgICAgICAgICAgICAgZmlsbENvbG9yOiAncmVkJywKICAgICAgICAgICAgICAgICAgICBmaWxsT3BhY2l0eTogMC42CiAgICAgICAgICAgICAgICAgICAgfQogICAgICAgICAgICAgICAgKQogICAgICAgICAgICAgICAgLmFkZFRvKG1hcF81ODMxNDZhZmZlNjM0ZGRmYWZiZWE3ZGVlOGVkZGZhOSk7CiAgICAgICAgICAgIAogICAgICAgIAogICAgICAgICAgICAKICAgICAgICAgICAgdmFyIHBvcHVwX2FlMzM2YjM5MGViNDQ5NmNiMmU0NGUzNGY4NGM4Yzg2ID0gTC5wb3B1cCh7bWF4V2lkdGg6ICczMDAnfSk7CgogICAgICAgICAgICAKICAgICAgICAgICAgICAgIHZhciBodG1sXzlhNWNiNDdlYzI2ZTQxZDFiNzEyZTYwOTMyZmVlYWQyID0gJCgnICAgICAgICAgPGRpdiBpZD0iaHRtbF85YTVjYjQ3ZWMyNmU0MWQxYjcxMmU2MDkzMmZlZWFkMiIgICAgICAgICAgICAgICAgIHN0eWxlPSJ3aWR0aDogMTAwLjAlOyBoZWlnaHQ6IDEwMC4wJTsiPiAgICAgICAgICAgICAgICAgVElGRklFTEQgTElNSVRFRDogMWEsIFB5bGUgU3RyZWV0LCBOZXdwb3J0LCBQTzMwIDFKVzwvZGl2PiAgICAgICAgICAgICAgICAgJylbMF07CiAgICAgICAgICAgICAgICBwb3B1cF9hZTMzNmIzOTBlYjQ0OTZjYjJlNDRlMzRmODRjOGM4Ni5zZXRDb250ZW50KGh0bWxfOWE1Y2I0N2VjMjZlNDFkMWI3MTJlNjA5MzJmZWVhZDIpOwogICAgICAgICAgICAKCiAgICAgICAgICAgIGNpcmNsZV9tYXJrZXJfOWE3NWMyN2NiOWVmNGMwNjhkN2IyMGUyNGE0ODkxZGIuYmluZFBvcHVwKHBvcHVwX2FlMzM2YjM5MGViNDQ5NmNiMmU0NGUzNGY4NGM4Yzg2KTsKCiAgICAgICAgICAgIAogICAgICAgIAogICAgICAgIAogICAgICAgICAgICAKCiAgICAgICAgICAgIHZhciBjaXJjbGVfbWFya2VyXzgyNWU1NzUzOGExNjQzNmFhZjBlODU4ZjE5NmFkMmQ4ID0gTC5jaXJjbGUoCiAgICAgICAgICAgICAgICBbNTAuNjk5MDk2NjE0MiwtMS4yOTE3NDg2MjE2MV0sCiAgICAgICAgICAgICAgICAxMCwKICAgICAgICAgICAgICAgIHsKICAgICAgICAgICAgICAgICAgICBjb2xvcjogJ3JlZCcsCiAgICAgICAgICAgICAgICAgICAgZmlsbENvbG9yOiAncmVkJywKICAgICAgICAgICAgICAgICAgICBmaWxsT3BhY2l0eTogMC42CiAgICAgICAgICAgICAgICAgICAgfQogICAgICAgICAgICAgICAgKQogICAgICAgICAgICAgICAgLmFkZFRvKG1hcF81ODMxNDZhZmZlNjM0ZGRmYWZiZWE3ZGVlOGVkZGZhOSk7CiAgICAgICAgICAgIAogICAgICAgIAogICAgICAgICAgICAKICAgICAgICAgICAgdmFyIHBvcHVwXzY1NzU4NzI0YTBlZjQ1MjI4NjhkZDU2YTM3YjBmODFmID0gTC5wb3B1cCh7bWF4V2lkdGg6ICczMDAnfSk7CgogICAgICAgICAgICAKICAgICAgICAgICAgICAgIHZhciBodG1sX2EwMmQ3YTIyNjAyNzRlMDI5NDI4ZWEzZmQyMDliZTRmID0gJCgnICAgICAgICAgPGRpdiBpZD0iaHRtbF9hMDJkN2EyMjYwMjc0ZTAyOTQyOGVhM2ZkMjA5YmU0ZiIgICAgICAgICAgICAgICAgIHN0eWxlPSJ3aWR0aDogMTAwLjAlOyBoZWlnaHQ6IDEwMC4wJTsiPiAgICAgICAgICAgICAgICAgVElGRklFTEQgTElNSVRFRDogNzEsIFNvdXRoIFN0cmVldCwgTmV3cG9ydCwgUE8zMCAxSlE8L2Rpdj4gICAgICAgICAgICAgICAgICcpWzBdOwogICAgICAgICAgICAgICAgcG9wdXBfNjU3NTg3MjRhMGVmNDUyMjg2OGRkNTZhMzdiMGY4MWYuc2V0Q29udGVudChodG1sX2EwMmQ3YTIyNjAyNzRlMDI5NDI4ZWEzZmQyMDliZTRmKTsKICAgICAgICAgICAgCgogICAgICAgICAgICBjaXJjbGVfbWFya2VyXzgyNWU1NzUzOGExNjQzNmFhZjBlODU4ZjE5NmFkMmQ4LmJpbmRQb3B1cChwb3B1cF82NTc1ODcyNGEwZWY0NTIyODY4ZGQ1NmEzN2IwZjgxZik7CgogICAgICAgICAgICAKICAgICAgICAKICAgICAgICAKICAgICAgICAgICAgCgogICAgICAgICAgICB2YXIgY2lyY2xlX21hcmtlcl9jOTk1YWNmMTI1YzM0ZWUxYTJmZDEyYTg1MjljOGE5OSA9IEwuY2lyY2xlKAogICAgICAgICAgICAgICAgWzUwLjY5OTYzNDQxNDYsLTEuMjkxNDU3MzI4OTldLAogICAgICAgICAgICAgICAgMTAsCiAgICAgICAgICAgICAgICB7CiAgICAgICAgICAgICAgICAgICAgY29sb3I6ICdyZWQnLAogICAgICAgICAgICAgICAgICAgIGZpbGxDb2xvcjogJ3JlZCcsCiAgICAgICAgICAgICAgICAgICAgZmlsbE9wYWNpdHk6IDAuNgogICAgICAgICAgICAgICAgICAgIH0KICAgICAgICAgICAgICAgICkKICAgICAgICAgICAgICAgIC5hZGRUbyhtYXBfNTgzMTQ2YWZmZTYzNGRkZmFmYmVhN2RlZThlZGRmYTkpOwogICAgICAgICAgICAKICAgICAgICAKICAgICAgICAgICAgCiAgICAgICAgICAgIHZhciBwb3B1cF9kNWZjMTg2ZWE1MDk0MDU1YWYwZmU5ZWZjODAxYzhlZCA9IEwucG9wdXAoe21heFdpZHRoOiAnMzAwJ30pOwoKICAgICAgICAgICAgCiAgICAgICAgICAgICAgICB2YXIgaHRtbF8yMDcwZDg0Zjg0ODY0NjVlYTliZDFjNzA2MmRhMGE1MCA9ICQoJyAgICAgICAgIDxkaXYgaWQ9Imh0bWxfMjA3MGQ4NGY4NDg2NDY1ZWE5YmQxYzcwNjJkYTBhNTAiICAgICAgICAgICAgICAgICBzdHlsZT0id2lkdGg6IDEwMC4wJTsgaGVpZ2h0OiAxMDAuMCU7Ij4gICAgICAgICAgICAgICAgIFRJRkZJRUxEIExJTUlURUQ6IDIsIDMgYW5kIDQgUHlsZSBTdHJlZXQsIE5ld3BvcnQsIFBPMzAgMUpXPC9kaXY+ICAgICAgICAgICAgICAgICAnKVswXTsKICAgICAgICAgICAgICAgIHBvcHVwX2Q1ZmMxODZlYTUwOTQwNTVhZjBmZTllZmM4MDFjOGVkLnNldENvbnRlbnQoaHRtbF8yMDcwZDg0Zjg0ODY0NjVlYTliZDFjNzA2MmRhMGE1MCk7CiAgICAgICAgICAgIAoKICAgICAgICAgICAgY2lyY2xlX21hcmtlcl9jOTk1YWNmMTI1YzM0ZWUxYTJmZDEyYTg1MjljOGE5OS5iaW5kUG9wdXAocG9wdXBfZDVmYzE4NmVhNTA5NDA1NWFmMGZlOWVmYzgwMWM4ZWQpOwoKICAgICAgICAgICAgCiAgICAgICAgCiAgICAgICAgCiAgICAgICAgICAgIAoKICAgICAgICAgICAgdmFyIGNpcmNsZV9tYXJrZXJfNjVlOTQ2NzVkMDI0NDA0NDlkMDEzNTA3YWM2OWVmNDYgPSBMLmNpcmNsZSgKICAgICAgICAgICAgICAgIFs1MC42OTk2MzQ0MTQ2LC0xLjI5MTQ1NzMyODk5XSwKICAgICAgICAgICAgICAgIDEwLAogICAgICAgICAgICAgICAgewogICAgICAgICAgICAgICAgICAgIGNvbG9yOiAncmVkJywKICAgICAgICAgICAgICAgICAgICBmaWxsQ29sb3I6ICdyZWQnLAogICAgICAgICAgICAgICAgICAgIGZpbGxPcGFjaXR5OiAwLjYKICAgICAgICAgICAgICAgICAgICB9CiAgICAgICAgICAgICAgICApCiAgICAgICAgICAgICAgICAuYWRkVG8obWFwXzU4MzE0NmFmZmU2MzRkZGZhZmJlYTdkZWU4ZWRkZmE5KTsKICAgICAgICAgICAgCiAgICAgICAgCiAgICAgICAgICAgIAogICAgICAgICAgICB2YXIgcG9wdXBfYTRmYTY5YjU0YzVjNGZkYjlkY2NjNTA1NmU3NWM2ZjUgPSBMLnBvcHVwKHttYXhXaWR0aDogJzMwMCd9KTsKCiAgICAgICAgICAgIAogICAgICAgICAgICAgICAgdmFyIGh0bWxfOGYzM2U2NTQ3MWZkNDFhNjgyNDE2M2YzOGI4YjhmZjMgPSAkKCcgICAgICAgICA8ZGl2IGlkPSJodG1sXzhmMzNlNjU0NzFmZDQxYTY4MjQxNjNmMzhiOGI4ZmYzIiAgICAgICAgICAgICAgICAgc3R5bGU9IndpZHRoOiAxMDAuMCU7IGhlaWdodDogMTAwLjAlOyI+ICAgICAgICAgICAgICAgICBUSUZGSUVMRCBMSU1JVEVEOiAxYiwgUHlsZSBTdHJlZXQsIE5ld3BvcnQsIFBPMzAgMUpXPC9kaXY+ICAgICAgICAgICAgICAgICAnKVswXTsKICAgICAgICAgICAgICAgIHBvcHVwX2E0ZmE2OWI1NGM1YzRmZGI5ZGNjYzUwNTZlNzVjNmY1LnNldENvbnRlbnQoaHRtbF84ZjMzZTY1NDcxZmQ0MWE2ODI0MTYzZjM4YjhiOGZmMyk7CiAgICAgICAgICAgIAoKICAgICAgICAgICAgY2lyY2xlX21hcmtlcl82NWU5NDY3NWQwMjQ0MDQ0OWQwMTM1MDdhYzY5ZWY0Ni5iaW5kUG9wdXAocG9wdXBfYTRmYTY5YjU0YzVjNGZkYjlkY2NjNTA1NmU3NWM2ZjUpOwoKICAgICAgICAgICAgCiAgICAgICAgCiAgICAgICAgCiAgICAgICAgICAgIAoKICAgICAgICAgICAgdmFyIGNpcmNsZV9tYXJrZXJfNDI1YTMyNTQwMzQ1NDMxMTk1M2Y2NDkxZTI5ZTE5ZTMgPSBMLmNpcmNsZSgKICAgICAgICAgICAgICAgIFs1MC42OTk2MzQ0MTQ2LC0xLjI5MTQ1NzMyODk5XSwKICAgICAgICAgICAgICAgIDEwLAogICAgICAgICAgICAgICAgewogICAgICAgICAgICAgICAgICAgIGNvbG9yOiAncmVkJywKICAgICAgICAgICAgICAgICAgICBmaWxsQ29sb3I6ICdyZWQnLAogICAgICAgICAgICAgICAgICAgIGZpbGxPcGFjaXR5OiAwLjYKICAgICAgICAgICAgICAgICAgICB9CiAgICAgICAgICAgICAgICApCiAgICAgICAgICAgICAgICAuYWRkVG8obWFwXzU4MzE0NmFmZmU2MzRkZGZhZmJlYTdkZWU4ZWRkZmE5KTsKICAgICAgICAgICAgCiAgICAgICAgCiAgICAgICAgICAgIAogICAgICAgICAgICB2YXIgcG9wdXBfN2NjOWI5YmI0MjNmNGE1N2JhZjNiNDRmNWI5NDUxMmQgPSBMLnBvcHVwKHttYXhXaWR0aDogJzMwMCd9KTsKCiAgICAgICAgICAgIAogICAgICAgICAgICAgICAgdmFyIGh0bWxfYjgyMDdlOGQ0ZDJhNDkyNzkxYTEwNDlkM2JmMzdjOGQgPSAkKCcgICAgICAgICA8ZGl2IGlkPSJodG1sX2I4MjA3ZThkNGQyYTQ5Mjc5MWExMDQ5ZDNiZjM3YzhkIiAgICAgICAgICAgICAgICAgc3R5bGU9IndpZHRoOiAxMDAuMCU7IGhlaWdodDogMTAwLjAlOyI+ICAgICAgICAgICAgICAgICBUSUZGSUVMRCBMSU1JVEVEOiAxLCBQeWxlIFN0cmVldCwgTmV3cG9ydCwgUE8zMCAxSlc8L2Rpdj4gICAgICAgICAgICAgICAgICcpWzBdOwogICAgICAgICAgICAgICAgcG9wdXBfN2NjOWI5YmI0MjNmNGE1N2JhZjNiNDRmNWI5NDUxMmQuc2V0Q29udGVudChodG1sX2I4MjA3ZThkNGQyYTQ5Mjc5MWExMDQ5ZDNiZjM3YzhkKTsKICAgICAgICAgICAgCgogICAgICAgICAgICBjaXJjbGVfbWFya2VyXzQyNWEzMjU0MDM0NTQzMTE5NTNmNjQ5MWUyOWUxOWUzLmJpbmRQb3B1cChwb3B1cF83Y2M5YjliYjQyM2Y0YTU3YmFmM2I0NGY1Yjk0NTEyZCk7CgogICAgICAgICAgICAKICAgICAgICAKICAgICAgICAKICAgICAgICAgICAgCgogICAgICAgICAgICB2YXIgY2lyY2xlX21hcmtlcl81YjVhNWNhMWU0NjE0ZDBiYWZhNmIzNjNlZDA4NDk3MCA9IEwuY2lyY2xlKAogICAgICAgICAgICAgICAgWzUwLjcwOTMxNTg0OSwtMS4yOTY3NjQwODg0NF0sCiAgICAgICAgICAgICAgICAxMCwKICAgICAgICAgICAgICAgIHsKICAgICAgICAgICAgICAgICAgICBjb2xvcjogJ3JlZCcsCiAgICAgICAgICAgICAgICAgICAgZmlsbENvbG9yOiAncmVkJywKICAgICAgICAgICAgICAgICAgICBmaWxsT3BhY2l0eTogMC42CiAgICAgICAgICAgICAgICAgICAgfQogICAgICAgICAgICAgICAgKQogICAgICAgICAgICAgICAgLmFkZFRvKG1hcF81ODMxNDZhZmZlNjM0ZGRmYWZiZWE3ZGVlOGVkZGZhOSk7CiAgICAgICAgICAgIAogICAgICAgIAogICAgICAgICAgICAKICAgICAgICAgICAgdmFyIHBvcHVwXzU2YTZhNTdhZDYzYzQyMzJiMGVlZWY4ZWNmZDJjNzZhID0gTC5wb3B1cCh7bWF4V2lkdGg6ICczMDAnfSk7CgogICAgICAgICAgICAKICAgICAgICAgICAgICAgIHZhciBodG1sXzAyOGExY2QyYmQ1ZTQyYjI4ZWM1MjI2YmEyMzk1OTA2ID0gJCgnICAgICAgICAgPGRpdiBpZD0iaHRtbF8wMjhhMWNkMmJkNWU0MmIyOGVjNTIyNmJhMjM5NTkwNiIgICAgICAgICAgICAgICAgIHN0eWxlPSJ3aWR0aDogMTAwLjAlOyBoZWlnaHQ6IDEwMC4wJTsiPiAgICAgICAgICAgICAgICAgSEFUVE9OIENPTlNVTFRBTlRTIExJTUlURUQ6IDE2LCBEYWlzaCBXYXksIE5ld3BvcnQsIFBPMzAgNVhCPC9kaXY+ICAgICAgICAgICAgICAgICAnKVswXTsKICAgICAgICAgICAgICAgIHBvcHVwXzU2YTZhNTdhZDYzYzQyMzJiMGVlZWY4ZWNmZDJjNzZhLnNldENvbnRlbnQoaHRtbF8wMjhhMWNkMmJkNWU0MmIyOGVjNTIyNmJhMjM5NTkwNik7CiAgICAgICAgICAgIAoKICAgICAgICAgICAgY2lyY2xlX21hcmtlcl81YjVhNWNhMWU0NjE0ZDBiYWZhNmIzNjNlZDA4NDk3MC5iaW5kUG9wdXAocG9wdXBfNTZhNmE1N2FkNjNjNDIzMmIwZWVlZjhlY2ZkMmM3NmEpOwoKICAgICAgICAgICAgCiAgICAgICAgCiAgICAgICAgCiAgICAgICAgICAgIAoKICAgICAgICAgICAgdmFyIGNpcmNsZV9tYXJrZXJfOGIzY2RlNDBhY2VhNDRmNWJlNDMwMjVmNjE5MDBkMTAgPSBMLmNpcmNsZSgKICAgICAgICAgICAgICAgIFs1MC43MDkzMTU4NDksLTEuMjk2NzY0MDg4NDRdLAogICAgICAgICAgICAgICAgMTAsCiAgICAgICAgICAgICAgICB7CiAgICAgICAgICAgICAgICAgICAgY29sb3I6ICdyZWQnLAogICAgICAgICAgICAgICAgICAgIGZpbGxDb2xvcjogJ3JlZCcsCiAgICAgICAgICAgICAgICAgICAgZmlsbE9wYWNpdHk6IDAuNgogICAgICAgICAgICAgICAgICAgIH0KICAgICAgICAgICAgICAgICkKICAgICAgICAgICAgICAgIC5hZGRUbyhtYXBfNTgzMTQ2YWZmZTYzNGRkZmFmYmVhN2RlZThlZGRmYTkpOwogICAgICAgICAgICAKICAgICAgICAKICAgICAgICAgICAgCiAgICAgICAgICAgIHZhciBwb3B1cF83NTI5NWQ4NTE4YWQ0ZGRhYjI2MjliYzlhNjZjMzc3NSA9IEwucG9wdXAoe21heFdpZHRoOiAnMzAwJ30pOwoKICAgICAgICAgICAgCiAgICAgICAgICAgICAgICB2YXIgaHRtbF8yMTgzOGJiNzkxYmY0MTAzYjQ1YzU2N2U0MjI3ZmNiMCA9ICQoJyAgICAgICAgIDxkaXYgaWQ9Imh0bWxfMjE4MzhiYjc5MWJmNDEwM2I0NWM1NjdlNDIyN2ZjYjAiICAgICAgICAgICAgICAgICBzdHlsZT0id2lkdGg6IDEwMC4wJTsgaGVpZ2h0OiAxMDAuMCU7Ij4gICAgICAgICAgICAgICAgIEhBVFRPTiBDT05TVUxUQU5UUyBMSU1JVEVEOiAxNCwgRGFpc2ggV2F5LCBEb2Rub3IgSW5kdXN0cmlhbCBFc3RhdGUsIE5ld3BvcnQsIFBPMzAgNVhCPC9kaXY+ICAgICAgICAgICAgICAgICAnKVswXTsKICAgICAgICAgICAgICAgIHBvcHVwXzc1Mjk1ZDg1MThhZDRkZGFiMjYyOWJjOWE2NmMzNzc1LnNldENvbnRlbnQoaHRtbF8yMTgzOGJiNzkxYmY0MTAzYjQ1YzU2N2U0MjI3ZmNiMCk7CiAgICAgICAgICAgIAoKICAgICAgICAgICAgY2lyY2xlX21hcmtlcl84YjNjZGU0MGFjZWE0NGY1YmU0MzAyNWY2MTkwMGQxMC5iaW5kUG9wdXAocG9wdXBfNzUyOTVkODUxOGFkNGRkYWIyNjI5YmM5YTY2YzM3NzUpOwoKICAgICAgICAgICAgCiAgICAgICAgCiAgICAgICAgCiAgICAgICAgICAgIAoKICAgICAgICAgICAgdmFyIGNpcmNsZV9tYXJrZXJfOGM4NGZmZDk0MmJhNGEyZWE4MzdmMjA3N2U2YTY4ZTggPSBMLmNpcmNsZSgKICAgICAgICAgICAgICAgIFs1MC43NjA2NDczMjEyLC0xLjI5OTg2NTkzMjg4XSwKICAgICAgICAgICAgICAgIDEwLAogICAgICAgICAgICAgICAgewogICAgICAgICAgICAgICAgICAgIGNvbG9yOiAncmVkJywKICAgICAgICAgICAgICAgICAgICBmaWxsQ29sb3I6ICdyZWQnLAogICAgICAgICAgICAgICAgICAgIGZpbGxPcGFjaXR5OiAwLjYKICAgICAgICAgICAgICAgICAgICB9CiAgICAgICAgICAgICAgICApCiAgICAgICAgICAgICAgICAuYWRkVG8obWFwXzU4MzE0NmFmZmU2MzRkZGZhZmJlYTdkZWU4ZWRkZmE5KTsKICAgICAgICAgICAgCiAgICAgICAgCiAgICAgICAgICAgIAogICAgICAgICAgICB2YXIgcG9wdXBfNDg1ZTY2ZWNiOGEzNDM3ZjhhNjc1ZGFlYmMyY2U0MWMgPSBMLnBvcHVwKHttYXhXaWR0aDogJzMwMCd9KTsKCiAgICAgICAgICAgIAogICAgICAgICAgICAgICAgdmFyIGh0bWxfNzIwOTI3NzhjMTQxNGJlOWFjMGQ1ODgxZTNlYWRiZDIgPSAkKCcgICAgICAgICA8ZGl2IGlkPSJodG1sXzcyMDkyNzc4YzE0MTRiZTlhYzBkNTg4MWUzZWFkYmQyIiAgICAgICAgICAgICAgICAgc3R5bGU9IndpZHRoOiAxMDAuMCU7IGhlaWdodDogMTAwLjAlOyI+ICAgICAgICAgICAgICAgICBCQUxBTkRBIEVTVEFURVMgTElNSVRFRDogNSwgUHJpbmNlc3MgQmVhdHJpY2UgQ291cnQsIDIzIERlbm1hcmsgUm9hZCwgQ293ZXMgYW5kIHBhcmtpbmcgc3BhY2UsIFBPMzEgN0RRPC9kaXY+ICAgICAgICAgICAgICAgICAnKVswXTsKICAgICAgICAgICAgICAgIHBvcHVwXzQ4NWU2NmVjYjhhMzQzN2Y4YTY3NWRhZWJjMmNlNDFjLnNldENvbnRlbnQoaHRtbF83MjA5Mjc3OGMxNDE0YmU5YWMwZDU4ODFlM2VhZGJkMik7CiAgICAgICAgICAgIAoKICAgICAgICAgICAgY2lyY2xlX21hcmtlcl84Yzg0ZmZkOTQyYmE0YTJlYTgzN2YyMDc3ZTZhNjhlOC5iaW5kUG9wdXAocG9wdXBfNDg1ZTY2ZWNiOGEzNDM3ZjhhNjc1ZGFlYmMyY2U0MWMpOwoKICAgICAgICAgICAgCiAgICAgICAgCiAgICAgICAgCiAgICAgICAgICAgIAoKICAgICAgICAgICAgdmFyIGNpcmNsZV9tYXJrZXJfZjZkMWVlMjBiOWM4NGMwYWJiNzFkYWY3MGMxN2YxOTYgPSBMLmNpcmNsZSgKICAgICAgICAgICAgICAgIFs1MC43NjA2NDczMjEyLC0xLjI5OTg2NTkzMjg4XSwKICAgICAgICAgICAgICAgIDEwLAogICAgICAgICAgICAgICAgewogICAgICAgICAgICAgICAgICAgIGNvbG9yOiAncmVkJywKICAgICAgICAgICAgICAgICAgICBmaWxsQ29sb3I6ICdyZWQnLAogICAgICAgICAgICAgICAgICAgIGZpbGxPcGFjaXR5OiAwLjYKICAgICAgICAgICAgICAgICAgICB9CiAgICAgICAgICAgICAgICApCiAgICAgICAgICAgICAgICAuYWRkVG8obWFwXzU4MzE0NmFmZmU2MzRkZGZhZmJlYTdkZWU4ZWRkZmE5KTsKICAgICAgICAgICAgCiAgICAgICAgCiAgICAgICAgICAgIAogICAgICAgICAgICB2YXIgcG9wdXBfODNlMTg5NzA5NjIwNGE1N2FkZDg1ZWRmYjAwOGI5ZDIgPSBMLnBvcHVwKHttYXhXaWR0aDogJzMwMCd9KTsKCiAgICAgICAgICAgIAogICAgICAgICAgICAgICAgdmFyIGh0bWxfYjk0Yzc3Y2Y0OGVmNGNlNDhiZmRjNjRiMzMzNDgzYWEgPSAkKCcgICAgICAgICA8ZGl2IGlkPSJodG1sX2I5NGM3N2NmNDhlZjRjZTQ4YmZkYzY0YjMzMzQ4M2FhIiAgICAgICAgICAgICAgICAgc3R5bGU9IndpZHRoOiAxMDAuMCU7IGhlaWdodDogMTAwLjAlOyI+ICAgICAgICAgICAgICAgICBHSUFOTkEgREVWRUxPUE1FTlRTIExJTUlURUQ6IEZsYXQgMTQsIFByaW5jZXNzIEJlYXRyaWNlIENvdXJ0LCAyMyBEZW5tYXJrIFJvYWQsIENvd2VzLCBQTzMxIDdEUTwvZGl2PiAgICAgICAgICAgICAgICAgJylbMF07CiAgICAgICAgICAgICAgICBwb3B1cF84M2UxODk3MDk2MjA0YTU3YWRkODVlZGZiMDA4YjlkMi5zZXRDb250ZW50KGh0bWxfYjk0Yzc3Y2Y0OGVmNGNlNDhiZmRjNjRiMzMzNDgzYWEpOwogICAgICAgICAgICAKCiAgICAgICAgICAgIGNpcmNsZV9tYXJrZXJfZjZkMWVlMjBiOWM4NGMwYWJiNzFkYWY3MGMxN2YxOTYuYmluZFBvcHVwKHBvcHVwXzgzZTE4OTcwOTYyMDRhNTdhZGQ4NWVkZmIwMDhiOWQyKTsKCiAgICAgICAgICAgIAogICAgICAgIAogICAgICAgIAogICAgICAgICAgICAKCiAgICAgICAgICAgIHZhciBjaXJjbGVfbWFya2VyXzE2MzRlMjQ3ODYyNjQ5ZTY5NmViM2RiMWIxZDU0ZjM3ID0gTC5jaXJjbGUoCiAgICAgICAgICAgICAgICBbNTAuNzYwNjQ3MzIxMiwtMS4yOTk4NjU5MzI4OF0sCiAgICAgICAgICAgICAgICAxMCwKICAgICAgICAgICAgICAgIHsKICAgICAgICAgICAgICAgICAgICBjb2xvcjogJ3JlZCcsCiAgICAgICAgICAgICAgICAgICAgZmlsbENvbG9yOiAncmVkJywKICAgICAgICAgICAgICAgICAgICBmaWxsT3BhY2l0eTogMC42CiAgICAgICAgICAgICAgICAgICAgfQogICAgICAgICAgICAgICAgKQogICAgICAgICAgICAgICAgLmFkZFRvKG1hcF81ODMxNDZhZmZlNjM0ZGRmYWZiZWE3ZGVlOGVkZGZhOSk7CiAgICAgICAgICAgIAogICAgICAgIAogICAgICAgICAgICAKICAgICAgICAgICAgdmFyIHBvcHVwX2E4YmM5MDliZTU2ZjQzNDk5MzI1ZGY3NjMzZDgwZmM3ID0gTC5wb3B1cCh7bWF4V2lkdGg6ICczMDAnfSk7CgogICAgICAgICAgICAKICAgICAgICAgICAgICAgIHZhciBodG1sXzQwNDIzOTY0ZDQ0YTQ0MTRiOTY5OTUxOTZjOGExMDA0ID0gJCgnICAgICAgICAgPGRpdiBpZD0iaHRtbF80MDQyMzk2NGQ0NGE0NDE0Yjk2OTk1MTk2YzhhMTAwNCIgICAgICAgICAgICAgICAgIHN0eWxlPSJ3aWR0aDogMTAwLjAlOyBoZWlnaHQ6IDEwMC4wJTsiPiAgICAgICAgICAgICAgICAgR0lBTk5BIERFVkVMT1BNRU5UUyBMSU1JVEVEOiBGbGF0IDQsIFByaW5jZXNzIEJlYXRyaWNlIENvdXJ0LCAyMyBEZW5tYXJrIFJvYWQsIENvd2VzIGFuZCBwYXJraW5nIHNwYWNlLCBQTzMxIDdEUTwvZGl2PiAgICAgICAgICAgICAgICAgJylbMF07CiAgICAgICAgICAgICAgICBwb3B1cF9hOGJjOTA5YmU1NmY0MzQ5OTMyNWRmNzYzM2Q4MGZjNy5zZXRDb250ZW50KGh0bWxfNDA0MjM5NjRkNDRhNDQxNGI5Njk5NTE5NmM4YTEwMDQpOwogICAgICAgICAgICAKCiAgICAgICAgICAgIGNpcmNsZV9tYXJrZXJfMTYzNGUyNDc4NjI2NDllNjk2ZWIzZGIxYjFkNTRmMzcuYmluZFBvcHVwKHBvcHVwX2E4YmM5MDliZTU2ZjQzNDk5MzI1ZGY3NjMzZDgwZmM3KTsKCiAgICAgICAgICAgIAogICAgICAgIAogICAgICAgIAogICAgICAgICAgICAKCiAgICAgICAgICAgIHZhciBjaXJjbGVfbWFya2VyXzVlZWJjMjU1YzVkMDQ2NDBhNTJjMTEwMzFlMzkzMGNhID0gTC5jaXJjbGUoCiAgICAgICAgICAgICAgICBbNTAuNjc1MDI3MDQ2NiwtMS4xNDM2NTIwODk2Ml0sCiAgICAgICAgICAgICAgICAxMCwKICAgICAgICAgICAgICAgIHsKICAgICAgICAgICAgICAgICAgICBjb2xvcjogJ3JlZCcsCiAgICAgICAgICAgICAgICAgICAgZmlsbENvbG9yOiAncmVkJywKICAgICAgICAgICAgICAgICAgICBmaWxsT3BhY2l0eTogMC42CiAgICAgICAgICAgICAgICAgICAgfQogICAgICAgICAgICAgICAgKQogICAgICAgICAgICAgICAgLmFkZFRvKG1hcF81ODMxNDZhZmZlNjM0ZGRmYWZiZWE3ZGVlOGVkZGZhOSk7CiAgICAgICAgICAgIAogICAgICAgIAogICAgICAgICAgICAKICAgICAgICAgICAgdmFyIHBvcHVwXzRiMTFlNGIxODAxMDQ0ZDlhNWNkNzAzYzdhMWRlMzE3ID0gTC5wb3B1cCh7bWF4V2lkdGg6ICczMDAnfSk7CgogICAgICAgICAgICAKICAgICAgICAgICAgICAgIHZhciBodG1sXzU2YmRjOThmYTIzZTQ4ZjE5MjZkOTY5ZDA2NWE5ZGQxID0gJCgnICAgICAgICAgPGRpdiBpZD0iaHRtbF81NmJkYzk4ZmEyM2U0OGYxOTI2ZDk2OWQwNjVhOWRkMSIgICAgICAgICAgICAgICAgIHN0eWxlPSJ3aWR0aDogMTAwLjAlOyBoZWlnaHQ6IDEwMC4wJTsiPiAgICAgICAgICAgICAgICAgWFlaIExJTUlURUQ6IDczLCBOZXcgUm9hZCwgQnJhZGluZywgU2FuZG93biwgUE8zNiAwQUc8L2Rpdj4gICAgICAgICAgICAgICAgICcpWzBdOwogICAgICAgICAgICAgICAgcG9wdXBfNGIxMWU0YjE4MDEwNDRkOWE1Y2Q3MDNjN2ExZGUzMTcuc2V0Q29udGVudChodG1sXzU2YmRjOThmYTIzZTQ4ZjE5MjZkOTY5ZDA2NWE5ZGQxKTsKICAgICAgICAgICAgCgogICAgICAgICAgICBjaXJjbGVfbWFya2VyXzVlZWJjMjU1YzVkMDQ2NDBhNTJjMTEwMzFlMzkzMGNhLmJpbmRQb3B1cChwb3B1cF80YjExZTRiMTgwMTA0NGQ5YTVjZDcwM2M3YTFkZTMxNyk7CgogICAgICAgICAgICAKICAgICAgICAKICAgICAgICAKICAgICAgICAgICAgCgogICAgICAgICAgICB2YXIgY2lyY2xlX21hcmtlcl8xZWViNDBkZmY1MTQ0MThmYmY4NjNiZDI2NjZlM2QyMyA9IEwuY2lyY2xlKAogICAgICAgICAgICAgICAgWzUwLjY4NjA5OTA2MzQsLTEuMDc0NDU1MjExNF0sCiAgICAgICAgICAgICAgICAxMCwKICAgICAgICAgICAgICAgIHsKICAgICAgICAgICAgICAgICAgICBjb2xvcjogJ3JlZCcsCiAgICAgICAgICAgICAgICAgICAgZmlsbENvbG9yOiAncmVkJywKICAgICAgICAgICAgICAgICAgICBmaWxsT3BhY2l0eTogMC42CiAgICAgICAgICAgICAgICAgICAgfQogICAgICAgICAgICAgICAgKQogICAgICAgICAgICAgICAgLmFkZFRvKG1hcF81ODMxNDZhZmZlNjM0ZGRmYWZiZWE3ZGVlOGVkZGZhOSk7CiAgICAgICAgICAgIAogICAgICAgIAogICAgICAgICAgICAKICAgICAgICAgICAgdmFyIHBvcHVwXzZhMzI0Mjk1NmI2YTQwNTdiMWY1NDc4ZGY5N2RiODFiID0gTC5wb3B1cCh7bWF4V2lkdGg6ICczMDAnfSk7CgogICAgICAgICAgICAKICAgICAgICAgICAgICAgIHZhciBodG1sXzQ3MWM4Y2QyNTcwMTQzYzg5YjQ4YTVkODYzZDZhMjRlID0gJCgnICAgICAgICAgPGRpdiBpZD0iaHRtbF80NzFjOGNkMjU3MDE0M2M4OWI0OGE1ZDg2M2Q2YTI0ZSIgICAgICAgICAgICAgICAgIHN0eWxlPSJ3aWR0aDogMTAwLjAlOyBoZWlnaHQ6IDEwMC4wJTsiPiAgICAgICAgICAgICAgICAgRVRIRUwgUE9JTlQgTElNSVRFRDogRmFybSBMYW5lIENvdHRhZ2UsIEZvcmVsYW5kIEZhcm0gTGFuZSwgQmVtYnJpZGdlLCBQTzM1IDVUSjwvZGl2PiAgICAgICAgICAgICAgICAgJylbMF07CiAgICAgICAgICAgICAgICBwb3B1cF82YTMyNDI5NTZiNmE0MDU3YjFmNTQ3OGRmOTdkYjgxYi5zZXRDb250ZW50KGh0bWxfNDcxYzhjZDI1NzAxNDNjODliNDhhNWQ4NjNkNmEyNGUpOwogICAgICAgICAgICAKCiAgICAgICAgICAgIGNpcmNsZV9tYXJrZXJfMWVlYjQwZGZmNTE0NDE4ZmJmODYzYmQyNjY2ZTNkMjMuYmluZFBvcHVwKHBvcHVwXzZhMzI0Mjk1NmI2YTQwNTdiMWY1NDc4ZGY5N2RiODFiKTsKCiAgICAgICAgICAgIAogICAgICAgIAogICAgICAgIAogICAgICAgICAgICAKCiAgICAgICAgICAgIHZhciBjaXJjbGVfbWFya2VyXzA2NzYzYTg0M2ZmMzRiYmFhMzdmNGEyZTk1ODEzMDEyID0gTC5jaXJjbGUoCiAgICAgICAgICAgICAgICBbNTAuNzI4NzQxMzQ5NCwtMS4xNjQ2OTE1MzY5NF0sCiAgICAgICAgICAgICAgICAxMCwKICAgICAgICAgICAgICAgIHsKICAgICAgICAgICAgICAgICAgICBjb2xvcjogJ3JlZCcsCiAgICAgICAgICAgICAgICAgICAgZmlsbENvbG9yOiAncmVkJywKICAgICAgICAgICAgICAgICAgICBmaWxsT3BhY2l0eTogMC42CiAgICAgICAgICAgICAgICAgICAgfQogICAgICAgICAgICAgICAgKQogICAgICAgICAgICAgICAgLmFkZFRvKG1hcF81ODMxNDZhZmZlNjM0ZGRmYWZiZWE3ZGVlOGVkZGZhOSk7CiAgICAgICAgICAgIAogICAgICAgIAogICAgICAgICAgICAKICAgICAgICAgICAgdmFyIHBvcHVwXzU1MTg1N2FmMjQyZDQ0Y2E4NjFjMjk0YjVkYmU5M2JlID0gTC5wb3B1cCh7bWF4V2lkdGg6ICczMDAnfSk7CgogICAgICAgICAgICAKICAgICAgICAgICAgICAgIHZhciBodG1sXzY4YjUyNTU1MjIwZjQ1OTFhMzE4MTU5YjBlNWEyYmMwID0gJCgnICAgICAgICAgPGRpdiBpZD0iaHRtbF82OGI1MjU1NTIyMGY0NTkxYTMxODE1OWIwZTVhMmJjMCIgICAgICAgICAgICAgICAgIHN0eWxlPSJ3aWR0aDogMTAwLjAlOyBoZWlnaHQ6IDEwMC4wJTsiPiAgICAgICAgICAgICAgICAgSFBVVCBUUlVTVEVFIE5PLjEgTElNSVRFRDogMTUsIFZpY3RvcmlhIFN0cmVldCwgUnlkZSwgUE8zMyAyUFU8L2Rpdj4gICAgICAgICAgICAgICAgICcpWzBdOwogICAgICAgICAgICAgICAgcG9wdXBfNTUxODU3YWYyNDJkNDRjYTg2MWMyOTRiNWRiZTkzYmUuc2V0Q29udGVudChodG1sXzY4YjUyNTU1MjIwZjQ1OTFhMzE4MTU5YjBlNWEyYmMwKTsKICAgICAgICAgICAgCgogICAgICAgICAgICBjaXJjbGVfbWFya2VyXzA2NzYzYTg0M2ZmMzRiYmFhMzdmNGEyZTk1ODEzMDEyLmJpbmRQb3B1cChwb3B1cF81NTE4NTdhZjI0MmQ0NGNhODYxYzI5NGI1ZGJlOTNiZSk7CgogICAgICAgICAgICAKICAgICAgICAKICAgICAgICAKICAgICAgICAgICAgCgogICAgICAgICAgICB2YXIgY2lyY2xlX21hcmtlcl80NjhiMzczOTUzNzM0ZWU2ODk5NjBjMDY5MTEyOTA1YiA9IEwuY2lyY2xlKAogICAgICAgICAgICAgICAgWzUwLjcwNzczODQ2MTcsLTEuMjk3NjUxNTcxNDNdLAogICAgICAgICAgICAgICAgMTAsCiAgICAgICAgICAgICAgICB7CiAgICAgICAgICAgICAgICAgICAgY29sb3I6ICdyZWQnLAogICAgICAgICAgICAgICAgICAgIGZpbGxDb2xvcjogJ3JlZCcsCiAgICAgICAgICAgICAgICAgICAgZmlsbE9wYWNpdHk6IDAuNgogICAgICAgICAgICAgICAgICAgIH0KICAgICAgICAgICAgICAgICkKICAgICAgICAgICAgICAgIC5hZGRUbyhtYXBfNTgzMTQ2YWZmZTYzNGRkZmFmYmVhN2RlZThlZGRmYTkpOwogICAgICAgICAgICAKICAgICAgICAKICAgICAgICAgICAgCiAgICAgICAgICAgIHZhciBwb3B1cF9kMTI5MGNhMGVlMjg0OWEzYTFmMTVhOWI4NWE4NjQxYiA9IEwucG9wdXAoe21heFdpZHRoOiAnMzAwJ30pOwoKICAgICAgICAgICAgCiAgICAgICAgICAgICAgICB2YXIgaHRtbF9iMzNjMmZiOTdiMjA0OWFhYWRkZTU1MzkxMTY5YzA5ZSA9ICQoJyAgICAgICAgIDxkaXYgaWQ9Imh0bWxfYjMzYzJmYjk3YjIwNDlhYWFkZGU1NTM5MTE2OWMwOWUiICAgICAgICAgICAgICAgICBzdHlsZT0id2lkdGg6IDEwMC4wJTsgaGVpZ2h0OiAxMDAuMCU7Ij4gICAgICAgICAgICAgICAgIEJFUyBQUk9QRVJUWSBMSU1JVEVEOiBMYW5kIGFuZCBidWlsZGluZ3Mgb24gdGhlIG5vcnRoIGVhc3Qgc2lkZSBvZiBNZWRpbmEgV2F5LCBOZXdwb3J0LCBQTzMwIDVBVzwvZGl2PiAgICAgICAgICAgICAgICAgJylbMF07CiAgICAgICAgICAgICAgICBwb3B1cF9kMTI5MGNhMGVlMjg0OWEzYTFmMTVhOWI4NWE4NjQxYi5zZXRDb250ZW50KGh0bWxfYjMzYzJmYjk3YjIwNDlhYWFkZGU1NTM5MTE2OWMwOWUpOwogICAgICAgICAgICAKCiAgICAgICAgICAgIGNpcmNsZV9tYXJrZXJfNDY4YjM3Mzk1MzczNGVlNjg5OTYwYzA2OTExMjkwNWIuYmluZFBvcHVwKHBvcHVwX2QxMjkwY2EwZWUyODQ5YTNhMWYxNWE5Yjg1YTg2NDFiKTsKCiAgICAgICAgICAgIAogICAgICAgIAogICAgICAgIAogICAgICAgICAgICAKCiAgICAgICAgICAgIHZhciBjaXJjbGVfbWFya2VyXzVkYzhiOWRlYmQ1NDQ0NGI4NmIzNTRlZTI3OGQ3ZmZkID0gTC5jaXJjbGUoCiAgICAgICAgICAgICAgICBbNTAuNzU5MjMyNTg2MiwtMS4yOTYzOTkzMTIzNF0sCiAgICAgICAgICAgICAgICAxMCwKICAgICAgICAgICAgICAgIHsKICAgICAgICAgICAgICAgICAgICBjb2xvcjogJ3JlZCcsCiAgICAgICAgICAgICAgICAgICAgZmlsbENvbG9yOiAncmVkJywKICAgICAgICAgICAgICAgICAgICBmaWxsT3BhY2l0eTogMC42CiAgICAgICAgICAgICAgICAgICAgfQogICAgICAgICAgICAgICAgKQogICAgICAgICAgICAgICAgLmFkZFRvKG1hcF81ODMxNDZhZmZlNjM0ZGRmYWZiZWE3ZGVlOGVkZGZhOSk7CiAgICAgICAgICAgIAogICAgICAgIAogICAgICAgICAgICAKICAgICAgICAgICAgdmFyIHBvcHVwXzI5MDY1MTA1ODY2MjRmM2RhNzA4YjQ2YzNmODFiMGJlID0gTC5wb3B1cCh7bWF4V2lkdGg6ICczMDAnfSk7CgogICAgICAgICAgICAKICAgICAgICAgICAgICAgIHZhciBodG1sXzJlNzA5YmFjY2EyOTQzYjc5Yjg4YzdiNzg4ZjFlZjEyID0gJCgnICAgICAgICAgPGRpdiBpZD0iaHRtbF8yZTcwOWJhY2NhMjk0M2I3OWI4OGM3Yjc4OGYxZWYxMiIgICAgICAgICAgICAgICAgIHN0eWxlPSJ3aWR0aDogMTAwLjAlOyBoZWlnaHQ6IDEwMC4wJTsiPiAgICAgICAgICAgICAgICAgV1NRIEhPTERJTkdTIExJTUlURUQ6IDYtOCwgTWlsbCBIaWxsIFJvYWQsIENvd2VzIGFuZCBsYW5kIGF0IHRoZSBiYWNrLCBQTzMxIDdFQTwvZGl2PiAgICAgICAgICAgICAgICAgJylbMF07CiAgICAgICAgICAgICAgICBwb3B1cF8yOTA2NTEwNTg2NjI0ZjNkYTcwOGI0NmMzZjgxYjBiZS5zZXRDb250ZW50KGh0bWxfMmU3MDliYWNjYTI5NDNiNzliODhjN2I3ODhmMWVmMTIpOwogICAgICAgICAgICAKCiAgICAgICAgICAgIGNpcmNsZV9tYXJrZXJfNWRjOGI5ZGViZDU0NDQ0Yjg2YjM1NGVlMjc4ZDdmZmQuYmluZFBvcHVwKHBvcHVwXzI5MDY1MTA1ODY2MjRmM2RhNzA4YjQ2YzNmODFiMGJlKTsKCiAgICAgICAgICAgIAogICAgICAgIAogICAgICAgIAogICAgICAgICAgICAKCiAgICAgICAgICAgIHZhciBjaXJjbGVfbWFya2VyXzJmYjMzYTQ2MTE0MzQzM2JiMDgwMTBhMmM0ODNhNTllID0gTC5jaXJjbGUoCiAgICAgICAgICAgICAgICBbNTAuNzU5MDE4OTk5NywtMS4yOTM3OTM4MjIzOF0sCiAgICAgICAgICAgICAgICAxMCwKICAgICAgICAgICAgICAgIHsKICAgICAgICAgICAgICAgICAgICBjb2xvcjogJ3JlZCcsCiAgICAgICAgICAgICAgICAgICAgZmlsbENvbG9yOiAncmVkJywKICAgICAgICAgICAgICAgICAgICBmaWxsT3BhY2l0eTogMC42CiAgICAgICAgICAgICAgICAgICAgfQogICAgICAgICAgICAgICAgKQogICAgICAgICAgICAgICAgLmFkZFRvKG1hcF81ODMxNDZhZmZlNjM0ZGRmYWZiZWE3ZGVlOGVkZGZhOSk7CiAgICAgICAgICAgIAogICAgICAgIAogICAgICAgICAgICAKICAgICAgICAgICAgdmFyIHBvcHVwX2FlN2VmZTdmMGM2MjRiNjY4NDM2MTZhMTg1NzFhNjI4ID0gTC5wb3B1cCh7bWF4V2lkdGg6ICczMDAnfSk7CgogICAgICAgICAgICAKICAgICAgICAgICAgICAgIHZhciBodG1sXzlhNDBlMDFjZDkyMzRjZDk5YmE4N2NmODZhZDdmNmE2ID0gJCgnICAgICAgICAgPGRpdiBpZD0iaHRtbF85YTQwZTAxY2Q5MjM0Y2Q5OWJhODdjZjg2YWQ3ZjZhNiIgICAgICAgICAgICAgICAgIHN0eWxlPSJ3aWR0aDogMTAwLjAlOyBoZWlnaHQ6IDEwMC4wJTsiPiAgICAgICAgICAgICAgICAgREVSUlkgQkVHIChKRVJTRVkpIExJTUlURUQ6IDgsIE1hcmludXMsIE1lZGluYSBSb2FkLCBDb3dlcywgUE8zMSA3WEY8L2Rpdj4gICAgICAgICAgICAgICAgICcpWzBdOwogICAgICAgICAgICAgICAgcG9wdXBfYWU3ZWZlN2YwYzYyNGI2Njg0MzYxNmExODU3MWE2Mjguc2V0Q29udGVudChodG1sXzlhNDBlMDFjZDkyMzRjZDk5YmE4N2NmODZhZDdmNmE2KTsKICAgICAgICAgICAgCgogICAgICAgICAgICBjaXJjbGVfbWFya2VyXzJmYjMzYTQ2MTE0MzQzM2JiMDgwMTBhMmM0ODNhNTllLmJpbmRQb3B1cChwb3B1cF9hZTdlZmU3ZjBjNjI0YjY2ODQzNjE2YTE4NTcxYTYyOCk7CgogICAgICAgICAgICAKICAgICAgICAKICAgICAgICAKICAgICAgICAgICAgCgogICAgICAgICAgICB2YXIgY2lyY2xlX21hcmtlcl9kZTQ2ZjE5MTk0OWE0YTIyYjFhNjdjYTAxN2VlOTcyYyA9IEwuY2lyY2xlKAogICAgICAgICAgICAgICAgWzUwLjc1OTAxODk5OTcsLTEuMjkzNzkzODIyMzhdLAogICAgICAgICAgICAgICAgMTAsCiAgICAgICAgICAgICAgICB7CiAgICAgICAgICAgICAgICAgICAgY29sb3I6ICdyZWQnLAogICAgICAgICAgICAgICAgICAgIGZpbGxDb2xvcjogJ3JlZCcsCiAgICAgICAgICAgICAgICAgICAgZmlsbE9wYWNpdHk6IDAuNgogICAgICAgICAgICAgICAgICAgIH0KICAgICAgICAgICAgICAgICkKICAgICAgICAgICAgICAgIC5hZGRUbyhtYXBfNTgzMTQ2YWZmZTYzNGRkZmFmYmVhN2RlZThlZGRmYTkpOwogICAgICAgICAgICAKICAgICAgICAKICAgICAgICAgICAgCiAgICAgICAgICAgIHZhciBwb3B1cF84MzM2OTllMTdjMDg0Y2Y0ODZjNjQ5Yzk5OGFhYmVhNiA9IEwucG9wdXAoe21heFdpZHRoOiAnMzAwJ30pOwoKICAgICAgICAgICAgCiAgICAgICAgICAgICAgICB2YXIgaHRtbF8yY2ZkNjQyODdiYTA0NmQzOGVlYWNmYmQ3YWU4MjMyYiA9ICQoJyAgICAgICAgIDxkaXYgaWQ9Imh0bWxfMmNmZDY0Mjg3YmEwNDZkMzhlZWFjZmJkN2FlODIzMmIiICAgICAgICAgICAgICAgICBzdHlsZT0id2lkdGg6IDEwMC4wJTsgaGVpZ2h0OiAxMDAuMCU7Ij4gICAgICAgICAgICAgICAgIERFUlJZIEJFRyAoSkVSU0VZKSBMSU1JVEVEOiA0MSwgTWFyaW51cywgTWVkaW5hIFJvYWQsIENvd2VzLCBQTzMxIDdYRjwvZGl2PiAgICAgICAgICAgICAgICAgJylbMF07CiAgICAgICAgICAgICAgICBwb3B1cF84MzM2OTllMTdjMDg0Y2Y0ODZjNjQ5Yzk5OGFhYmVhNi5zZXRDb250ZW50KGh0bWxfMmNmZDY0Mjg3YmEwNDZkMzhlZWFjZmJkN2FlODIzMmIpOwogICAgICAgICAgICAKCiAgICAgICAgICAgIGNpcmNsZV9tYXJrZXJfZGU0NmYxOTE5NDlhNGEyMmIxYTY3Y2EwMTdlZTk3MmMuYmluZFBvcHVwKHBvcHVwXzgzMzY5OWUxN2MwODRjZjQ4NmM2NDljOTk4YWFiZWE2KTsKCiAgICAgICAgICAgIAogICAgICAgIAogICAgICAgIAogICAgICAgICAgICAKCiAgICAgICAgICAgIHZhciBjaXJjbGVfbWFya2VyXzk0YWVkNmVkY2UzZDQwNzRiYzQwN2ViYTMxY2VmOGNhID0gTC5jaXJjbGUoCiAgICAgICAgICAgICAgICBbNTAuNzYwNjQ3MzIxMiwtMS4yOTk4NjU5MzI4OF0sCiAgICAgICAgICAgICAgICAxMCwKICAgICAgICAgICAgICAgIHsKICAgICAgICAgICAgICAgICAgICBjb2xvcjogJ3JlZCcsCiAgICAgICAgICAgICAgICAgICAgZmlsbENvbG9yOiAncmVkJywKICAgICAgICAgICAgICAgICAgICBmaWxsT3BhY2l0eTogMC42CiAgICAgICAgICAgICAgICAgICAgfQogICAgICAgICAgICAgICAgKQogICAgICAgICAgICAgICAgLmFkZFRvKG1hcF81ODMxNDZhZmZlNjM0ZGRmYWZiZWE3ZGVlOGVkZGZhOSk7CiAgICAgICAgICAgIAogICAgICAgIAogICAgICAgICAgICAKICAgICAgICAgICAgdmFyIHBvcHVwXzE4ODgzYjIwMmY3NTQ1NDM4ODRmNDhiZDNhY2JjNGRhID0gTC5wb3B1cCh7bWF4V2lkdGg6ICczMDAnfSk7CgogICAgICAgICAgICAKICAgICAgICAgICAgICAgIHZhciBodG1sXzhiNDA4Mjc1YTExMzRjYTg4ZThlNWFkMTQ5ZjY4OTA1ID0gJCgnICAgICAgICAgPGRpdiBpZD0iaHRtbF84YjQwODI3NWExMTM0Y2E4OGU4ZTVhZDE0OWY2ODkwNSIgICAgICAgICAgICAgICAgIHN0eWxlPSJ3aWR0aDogMTAwLjAlOyBoZWlnaHQ6IDEwMC4wJTsiPiAgICAgICAgICAgICAgICAgUkVEV09PRCBERVZFTE9QTUVOVFMgTElNSVRFRDogRmxhdCAxLCBQcmluY2VzcyBCZWF0cmljZSBDb3VydCwgMjMgRGVubWFyayBSb2FkLCBDb3dlcyBhbmQgcGFya2luZyBzcGFjZSwgUE8zMSA3RFE8L2Rpdj4gICAgICAgICAgICAgICAgICcpWzBdOwogICAgICAgICAgICAgICAgcG9wdXBfMTg4ODNiMjAyZjc1NDU0Mzg4NGY0OGJkM2FjYmM0ZGEuc2V0Q29udGVudChodG1sXzhiNDA4Mjc1YTExMzRjYTg4ZThlNWFkMTQ5ZjY4OTA1KTsKICAgICAgICAgICAgCgogICAgICAgICAgICBjaXJjbGVfbWFya2VyXzk0YWVkNmVkY2UzZDQwNzRiYzQwN2ViYTMxY2VmOGNhLmJpbmRQb3B1cChwb3B1cF8xODg4M2IyMDJmNzU0NTQzODg0ZjQ4YmQzYWNiYzRkYSk7CgogICAgICAgICAgICAKICAgICAgICAKICAgICAgICAKICAgICAgICAgICAgCgogICAgICAgICAgICB2YXIgY2lyY2xlX21hcmtlcl9mMjU2NjQ2MTc2Njk0NTRmYTc1YjRkNTEzNTgzMTNlOSA9IEwuY2lyY2xlKAogICAgICAgICAgICAgICAgWzUwLjc1NDg4MDgxNzIsLTEuMjg2MTU4Mjc1ODZdLAogICAgICAgICAgICAgICAgMTAsCiAgICAgICAgICAgICAgICB7CiAgICAgICAgICAgICAgICAgICAgY29sb3I6ICdyZWQnLAogICAgICAgICAgICAgICAgICAgIGZpbGxDb2xvcjogJ3JlZCcsCiAgICAgICAgICAgICAgICAgICAgZmlsbE9wYWNpdHk6IDAuNgogICAgICAgICAgICAgICAgICAgIH0KICAgICAgICAgICAgICAgICkKICAgICAgICAgICAgICAgIC5hZGRUbyhtYXBfNTgzMTQ2YWZmZTYzNGRkZmFmYmVhN2RlZThlZGRmYTkpOwogICAgICAgICAgICAKICAgICAgICAKICAgICAgICAgICAgCiAgICAgICAgICAgIHZhciBwb3B1cF9jNDIzM2ZlZjI2MTc0ZjZlYTQ5OWMzMDQ4MDAzYTg1NSA9IEwucG9wdXAoe21heFdpZHRoOiAnMzAwJ30pOwoKICAgICAgICAgICAgCiAgICAgICAgICAgICAgICB2YXIgaHRtbF9iNWE4ZWYxZmY1YTg0MTNhOGI4MTgzMTMxNmQ2YmNlMiA9ICQoJyAgICAgICAgIDxkaXYgaWQ9Imh0bWxfYjVhOGVmMWZmNWE4NDEzYThiODE4MzEzMTZkNmJjZTIiICAgICAgICAgICAgICAgICBzdHlsZT0id2lkdGg6IDEwMC4wJTsgaGVpZ2h0OiAxMDAuMCU7Ij4gICAgICAgICAgICAgICAgIFJFRFdPT0QgREVWRUxPUE1FTlRTIExJTUlURUQ6IDQ2LCBBZGVsYWlkZSBHcm92ZSwgRWFzdCBDb3dlcywgUE8zMiA2REI8L2Rpdj4gICAgICAgICAgICAgICAgICcpWzBdOwogICAgICAgICAgICAgICAgcG9wdXBfYzQyMzNmZWYyNjE3NGY2ZWE0OTljMzA0ODAwM2E4NTUuc2V0Q29udGVudChodG1sX2I1YThlZjFmZjVhODQxM2E4YjgxODMxMzE2ZDZiY2UyKTsKICAgICAgICAgICAgCgogICAgICAgICAgICBjaXJjbGVfbWFya2VyX2YyNTY2NDYxNzY2OTQ1NGZhNzViNGQ1MTM1ODMxM2U5LmJpbmRQb3B1cChwb3B1cF9jNDIzM2ZlZjI2MTc0ZjZlYTQ5OWMzMDQ4MDAzYTg1NSk7CgogICAgICAgICAgICAKICAgICAgICAKICAgICAgICAKICAgICAgICAgICAgCgogICAgICAgICAgICB2YXIgY2lyY2xlX21hcmtlcl85NDUyNjVjMzhlNGE0YzAyOGZlOWVjMDExZDkzMGZiNyA9IEwuY2lyY2xlKAogICAgICAgICAgICAgICAgWzUwLjcyMzM2MjAyNTgsLTEuMTU0NDg3NzQ3MTJdLAogICAgICAgICAgICAgICAgMTAsCiAgICAgICAgICAgICAgICB7CiAgICAgICAgICAgICAgICAgICAgY29sb3I6ICdyZWQnLAogICAgICAgICAgICAgICAgICAgIGZpbGxDb2xvcjogJ3JlZCcsCiAgICAgICAgICAgICAgICAgICAgZmlsbE9wYWNpdHk6IDAuNgogICAgICAgICAgICAgICAgICAgIH0KICAgICAgICAgICAgICAgICkKICAgICAgICAgICAgICAgIC5hZGRUbyhtYXBfNTgzMTQ2YWZmZTYzNGRkZmFmYmVhN2RlZThlZGRmYTkpOwogICAgICAgICAgICAKICAgICAgICAKICAgICAgICAgICAgCiAgICAgICAgICAgIHZhciBwb3B1cF9lNTEwOWIxNTY5OTE0NTU1OTg4MTdkNmM0NDM4ZGM1ZCA9IEwucG9wdXAoe21heFdpZHRoOiAnMzAwJ30pOwoKICAgICAgICAgICAgCiAgICAgICAgICAgICAgICB2YXIgaHRtbF9lNmFkMTUzNjJhYWI0ZjBlYjliZDYyYmM3YjRhYTk1ZSA9ICQoJyAgICAgICAgIDxkaXYgaWQ9Imh0bWxfZTZhZDE1MzYyYWFiNGYwZWI5YmQ2MmJjN2I0YWE5NWUiICAgICAgICAgICAgICAgICBzdHlsZT0id2lkdGg6IDEwMC4wJTsgaGVpZ2h0OiAxMDAuMCU7Ij4gICAgICAgICAgICAgICAgIDFTVCBFVVJPUEVBTiBIT01FUyBMSU1JVEVEOiBPYWtmaWVsZCBIaWxsIEdhcmFnZSwgMTEgU3QgSm9obiYjMzk7cyBIaWxsLCBSeWRlLCBQTzMzIDFITjwvZGl2PiAgICAgICAgICAgICAgICAgJylbMF07CiAgICAgICAgICAgICAgICBwb3B1cF9lNTEwOWIxNTY5OTE0NTU1OTg4MTdkNmM0NDM4ZGM1ZC5zZXRDb250ZW50KGh0bWxfZTZhZDE1MzYyYWFiNGYwZWI5YmQ2MmJjN2I0YWE5NWUpOwogICAgICAgICAgICAKCiAgICAgICAgICAgIGNpcmNsZV9tYXJrZXJfOTQ1MjY1YzM4ZTRhNGMwMjhmZTllYzAxMWQ5MzBmYjcuYmluZFBvcHVwKHBvcHVwX2U1MTA5YjE1Njk5MTQ1NTU5ODgxN2Q2YzQ0MzhkYzVkKTsKCiAgICAgICAgICAgIAogICAgICAgIAogICAgICAgIAogICAgICAgICAgICAKCiAgICAgICAgICAgIHZhciBjaXJjbGVfbWFya2VyXzAwMmI3YWZlZjdhMjQ2M2Y4N2RhOTQzOTY4YTllNjU4ID0gTC5jaXJjbGUoCiAgICAgICAgICAgICAgICBbNTAuNzA2ODQ0NzE5NCwtMS4yODUyNDQ5MDU5Nl0sCiAgICAgICAgICAgICAgICAxMCwKICAgICAgICAgICAgICAgIHsKICAgICAgICAgICAgICAgICAgICBjb2xvcjogJ3JlZCcsCiAgICAgICAgICAgICAgICAgICAgZmlsbENvbG9yOiAncmVkJywKICAgICAgICAgICAgICAgICAgICBmaWxsT3BhY2l0eTogMC42CiAgICAgICAgICAgICAgICAgICAgfQogICAgICAgICAgICAgICAgKQogICAgICAgICAgICAgICAgLmFkZFRvKG1hcF81ODMxNDZhZmZlNjM0ZGRmYWZiZWE3ZGVlOGVkZGZhOSk7CiAgICAgICAgICAgIAogICAgICAgIAogICAgICAgICAgICAKICAgICAgICAgICAgdmFyIHBvcHVwXzczYTQ2MDBmZjhiODQ2NTI4MzM0N2YzNDgwNDY0OGU1ID0gTC5wb3B1cCh7bWF4V2lkdGg6ICczMDAnfSk7CgogICAgICAgICAgICAKICAgICAgICAgICAgICAgIHZhciBodG1sX2EzMzkzNDdkZWM3MjRmOGJiZjJhMGYzY2VlNmZmMDVlID0gJCgnICAgICAgICAgPGRpdiBpZD0iaHRtbF9hMzM5MzQ3ZGVjNzI0ZjhiYmYyYTBmM2NlZTZmZjA1ZSIgICAgICAgICAgICAgICAgIHN0eWxlPSJ3aWR0aDogMTAwLjAlOyBoZWlnaHQ6IDEwMC4wJTsiPiAgICAgICAgICAgICAgICAgUkJDIFRSVVNURUVTIChDSSkgTElNSVRFRDogMTE2LCBGYWlybGVlIFJvYWQsIE5ld3BvcnQsIFBPMzAgMkVMPC9kaXY+ICAgICAgICAgICAgICAgICAnKVswXTsKICAgICAgICAgICAgICAgIHBvcHVwXzczYTQ2MDBmZjhiODQ2NTI4MzM0N2YzNDgwNDY0OGU1LnNldENvbnRlbnQoaHRtbF9hMzM5MzQ3ZGVjNzI0ZjhiYmYyYTBmM2NlZTZmZjA1ZSk7CiAgICAgICAgICAgIAoKICAgICAgICAgICAgY2lyY2xlX21hcmtlcl8wMDJiN2FmZWY3YTI0NjNmODdkYTk0Mzk2OGE5ZTY1OC5iaW5kUG9wdXAocG9wdXBfNzNhNDYwMGZmOGI4NDY1MjgzMzQ3ZjM0ODA0NjQ4ZTUpOwoKICAgICAgICAgICAgCiAgICAgICAgCiAgICAgICAgCiAgICAgICAgICAgIAoKICAgICAgICAgICAgdmFyIGNpcmNsZV9tYXJrZXJfMzgzMWM3OGY0ZjhmNGFiZmE1YWM0NDU1NzkxNGVhM2QgPSBMLmNpcmNsZSgKICAgICAgICAgICAgICAgIFs1MC43MDY4NDQ3MTk0LC0xLjI4NTI0NDkwNTk2XSwKICAgICAgICAgICAgICAgIDEwLAogICAgICAgICAgICAgICAgewogICAgICAgICAgICAgICAgICAgIGNvbG9yOiAncmVkJywKICAgICAgICAgICAgICAgICAgICBmaWxsQ29sb3I6ICdyZWQnLAogICAgICAgICAgICAgICAgICAgIGZpbGxPcGFjaXR5OiAwLjYKICAgICAgICAgICAgICAgICAgICB9CiAgICAgICAgICAgICAgICApCiAgICAgICAgICAgICAgICAuYWRkVG8obWFwXzU4MzE0NmFmZmU2MzRkZGZhZmJlYTdkZWU4ZWRkZmE5KTsKICAgICAgICAgICAgCiAgICAgICAgCiAgICAgICAgICAgIAogICAgICAgICAgICB2YXIgcG9wdXBfODU1ODc5NWEwNDhjNDA3OTg2MGNjYzc1MDQ3YWRhMjQgPSBMLnBvcHVwKHttYXhXaWR0aDogJzMwMCd9KTsKCiAgICAgICAgICAgIAogICAgICAgICAgICAgICAgdmFyIGh0bWxfZmNmOGU0MTYwMjE4NGE3MTg1ODY4NjQzMDQxNWUwMmQgPSAkKCcgICAgICAgICA8ZGl2IGlkPSJodG1sX2ZjZjhlNDE2MDIxODRhNzE4NTg2ODY0MzA0MTVlMDJkIiAgICAgICAgICAgICAgICAgc3R5bGU9IndpZHRoOiAxMDAuMCU7IGhlaWdodDogMTAwLjAlOyI+ICAgICAgICAgICAgICAgICBSQkMgVFJVU1RFRVMgKENJKSBMSU1JVEVEOiBHYXJhZ2UgYWRqYWNlbnQgdG8gMTE2IEZhaXJsZWUgUm9hZCwgTmV3cG9ydCwgUE8zMCAyRUw8L2Rpdj4gICAgICAgICAgICAgICAgICcpWzBdOwogICAgICAgICAgICAgICAgcG9wdXBfODU1ODc5NWEwNDhjNDA3OTg2MGNjYzc1MDQ3YWRhMjQuc2V0Q29udGVudChodG1sX2ZjZjhlNDE2MDIxODRhNzE4NTg2ODY0MzA0MTVlMDJkKTsKICAgICAgICAgICAgCgogICAgICAgICAgICBjaXJjbGVfbWFya2VyXzM4MzFjNzhmNGY4ZjRhYmZhNWFjNDQ1NTc5MTRlYTNkLmJpbmRQb3B1cChwb3B1cF84NTU4Nzk1YTA0OGM0MDc5ODYwY2NjNzUwNDdhZGEyNCk7CgogICAgICAgICAgICAKICAgICAgICAKICAgICAgICAKICAgICAgICAgICAgCgogICAgICAgICAgICB2YXIgY2lyY2xlX21hcmtlcl9iZDQyMDc4M2E1ZTM0N2M4YjJlOGIwZTBlZWE3MWUyMCA9IEwuY2lyY2xlKAogICAgICAgICAgICAgICAgWzUwLjc2MzY1ODQyNzQsLTEuMjk5NjIyNTA2OTRdLAogICAgICAgICAgICAgICAgMTAsCiAgICAgICAgICAgICAgICB7CiAgICAgICAgICAgICAgICAgICAgY29sb3I6ICdyZWQnLAogICAgICAgICAgICAgICAgICAgIGZpbGxDb2xvcjogJ3JlZCcsCiAgICAgICAgICAgICAgICAgICAgZmlsbE9wYWNpdHk6IDAuNgogICAgICAgICAgICAgICAgICAgIH0KICAgICAgICAgICAgICAgICkKICAgICAgICAgICAgICAgIC5hZGRUbyhtYXBfNTgzMTQ2YWZmZTYzNGRkZmFmYmVhN2RlZThlZGRmYTkpOwogICAgICAgICAgICAKICAgICAgICAKICAgICAgICAgICAgCiAgICAgICAgICAgIHZhciBwb3B1cF8xZDgxOGUzMTZjMGY0MWY1OTliNTQ1YTgzMTFmZTY1OCA9IEwucG9wdXAoe21heFdpZHRoOiAnMzAwJ30pOwoKICAgICAgICAgICAgCiAgICAgICAgICAgICAgICB2YXIgaHRtbF85NWUyMmFhYTk0MGM0ZWI5OTczYTc5MDQ4ZmFhMzFmMCA9ICQoJyAgICAgICAgIDxkaXYgaWQ9Imh0bWxfOTVlMjJhYWE5NDBjNGViOTk3M2E3OTA0OGZhYTMxZjAiICAgICAgICAgICAgICAgICBzdHlsZT0id2lkdGg6IDEwMC4wJTsgaGVpZ2h0OiAxMDAuMCU7Ij4gICAgICAgICAgICAgICAgIENBQkxFTUVBRCBMSU1JVEVEOiAxMiwgQ2FzdGxlIFJvYWQsIENvd2VzLCBQTzMxIDdRWTwvZGl2PiAgICAgICAgICAgICAgICAgJylbMF07CiAgICAgICAgICAgICAgICBwb3B1cF8xZDgxOGUzMTZjMGY0MWY1OTliNTQ1YTgzMTFmZTY1OC5zZXRDb250ZW50KGh0bWxfOTVlMjJhYWE5NDBjNGViOTk3M2E3OTA0OGZhYTMxZjApOwogICAgICAgICAgICAKCiAgICAgICAgICAgIGNpcmNsZV9tYXJrZXJfYmQ0MjA3ODNhNWUzNDdjOGIyZThiMGUwZWVhNzFlMjAuYmluZFBvcHVwKHBvcHVwXzFkODE4ZTMxNmMwZjQxZjU5OWI1NDVhODMxMWZlNjU4KTsKCiAgICAgICAgICAgIAogICAgICAgIAogICAgICAgIAogICAgICAgICAgICAKCiAgICAgICAgICAgIHZhciBjaXJjbGVfbWFya2VyXzM5OGY1ZjBmZmVmYzQ0Y2ViMzY5YTJmNzczMTA0YzBiID0gTC5jaXJjbGUoCiAgICAgICAgICAgICAgICBbNTAuNjk3MzgyODU4NiwtMS4yOTUzNTY2NzA0Nl0sCiAgICAgICAgICAgICAgICAxMCwKICAgICAgICAgICAgICAgIHsKICAgICAgICAgICAgICAgICAgICBjb2xvcjogJ3JlZCcsCiAgICAgICAgICAgICAgICAgICAgZmlsbENvbG9yOiAncmVkJywKICAgICAgICAgICAgICAgICAgICBmaWxsT3BhY2l0eTogMC42CiAgICAgICAgICAgICAgICAgICAgfQogICAgICAgICAgICAgICAgKQogICAgICAgICAgICAgICAgLmFkZFRvKG1hcF81ODMxNDZhZmZlNjM0ZGRmYWZiZWE3ZGVlOGVkZGZhOSk7CiAgICAgICAgICAgIAogICAgICAgIAogICAgICAgICAgICAKICAgICAgICAgICAgdmFyIHBvcHVwXzllODA1YTFlZmNjODQ3NmM5NjRmZmNiMmVhNGVkMTc5ID0gTC5wb3B1cCh7bWF4V2lkdGg6ICczMDAnfSk7CgogICAgICAgICAgICAKICAgICAgICAgICAgICAgIHZhciBodG1sXzY4NTBmMmEyMTE0ODQ5ZTg4MmU3OTgyYmY2OGQzMWYxID0gJCgnICAgICAgICAgPGRpdiBpZD0iaHRtbF82ODUwZjJhMjExNDg0OWU4ODJlNzk4MmJmNjhkMzFmMSIgICAgICAgICAgICAgICAgIHN0eWxlPSJ3aWR0aDogMTAwLjAlOyBoZWlnaHQ6IDEwMC4wJTsiPiAgICAgICAgICAgICAgICAgR1VJVE9OIEdST1VQIExJTUlURUQ6IDUzLTU0LCBTdCBKYW1lcyBTdHJlZXQsIE5ld3BvcnQsIFBPMzAgMUxRPC9kaXY+ICAgICAgICAgICAgICAgICAnKVswXTsKICAgICAgICAgICAgICAgIHBvcHVwXzllODA1YTFlZmNjODQ3NmM5NjRmZmNiMmVhNGVkMTc5LnNldENvbnRlbnQoaHRtbF82ODUwZjJhMjExNDg0OWU4ODJlNzk4MmJmNjhkMzFmMSk7CiAgICAgICAgICAgIAoKICAgICAgICAgICAgY2lyY2xlX21hcmtlcl8zOThmNWYwZmZlZmM0NGNlYjM2OWEyZjc3MzEwNGMwYi5iaW5kUG9wdXAocG9wdXBfOWU4MDVhMWVmY2M4NDc2Yzk2NGZmY2IyZWE0ZWQxNzkpOwoKICAgICAgICAgICAgCiAgICAgICAgCiAgICAgICAgCiAgICAgICAgICAgIAoKICAgICAgICAgICAgdmFyIGNpcmNsZV9tYXJrZXJfZTg5MjE1MDJkYTc4NDEyOGI0OTU2YWNkNzI0MjkzODAgPSBMLmNpcmNsZSgKICAgICAgICAgICAgICAgIFs1MC42NDcxNzYwMzQ5LC0xLjE3MjMwNTAxNjcyXSwKICAgICAgICAgICAgICAgIDEwLAogICAgICAgICAgICAgICAgewogICAgICAgICAgICAgICAgICAgIGNvbG9yOiAncmVkJywKICAgICAgICAgICAgICAgICAgICBmaWxsQ29sb3I6ICdyZWQnLAogICAgICAgICAgICAgICAgICAgIGZpbGxPcGFjaXR5OiAwLjYKICAgICAgICAgICAgICAgICAgICB9CiAgICAgICAgICAgICAgICApCiAgICAgICAgICAgICAgICAuYWRkVG8obWFwXzU4MzE0NmFmZmU2MzRkZGZhZmJlYTdkZWU4ZWRkZmE5KTsKICAgICAgICAgICAgCiAgICAgICAgCiAgICAgICAgICAgIAogICAgICAgICAgICB2YXIgcG9wdXBfMTBkNGM3MTIxMzllNDE4ZmJiMmEyYWIwNzFlNjZjY2IgPSBMLnBvcHVwKHttYXhXaWR0aDogJzMwMCd9KTsKCiAgICAgICAgICAgIAogICAgICAgICAgICAgICAgdmFyIGh0bWxfYTQ4MmI0Yjc3ZDU2NGVhZmE0NzY2N2I1NzU0ZDUwMGIgPSAkKCcgICAgICAgICA8ZGl2IGlkPSJodG1sX2E0ODJiNGI3N2Q1NjRlYWZhNDc2NjdiNTc1NGQ1MDBiIiAgICAgICAgICAgICAgICAgc3R5bGU9IndpZHRoOiAxMDAuMCU7IGhlaWdodDogMTAwLjAlOyI+ICAgICAgICAgICAgICAgICBHVUlUT04gR1JPVVAgTElNSVRFRDogMSwgTGFtb3JiZXkgUm9hZCwgU2FuZG93biwgUE8zNiA5Tkc8L2Rpdj4gICAgICAgICAgICAgICAgICcpWzBdOwogICAgICAgICAgICAgICAgcG9wdXBfMTBkNGM3MTIxMzllNDE4ZmJiMmEyYWIwNzFlNjZjY2Iuc2V0Q29udGVudChodG1sX2E0ODJiNGI3N2Q1NjRlYWZhNDc2NjdiNTc1NGQ1MDBiKTsKICAgICAgICAgICAgCgogICAgICAgICAgICBjaXJjbGVfbWFya2VyX2U4OTIxNTAyZGE3ODQxMjhiNDk1NmFjZDcyNDI5MzgwLmJpbmRQb3B1cChwb3B1cF8xMGQ0YzcxMjEzOWU0MThmYmIyYTJhYjA3MWU2NmNjYik7CgogICAgICAgICAgICAKICAgICAgICAKICAgICAgICAKICAgICAgICAgICAgCgogICAgICAgICAgICB2YXIgY2lyY2xlX21hcmtlcl9mODRjYWM0ZTE2NDc0MThjYmQyNDZjYWExYTkxYjUyYyA9IEwuY2lyY2xlKAogICAgICAgICAgICAgICAgWzUwLjU5NzQyODc5ODIsLTEuMjE1NDk0Mjk1NjNdLAogICAgICAgICAgICAgICAgMTAsCiAgICAgICAgICAgICAgICB7CiAgICAgICAgICAgICAgICAgICAgY29sb3I6ICdyZWQnLAogICAgICAgICAgICAgICAgICAgIGZpbGxDb2xvcjogJ3JlZCcsCiAgICAgICAgICAgICAgICAgICAgZmlsbE9wYWNpdHk6IDAuNgogICAgICAgICAgICAgICAgICAgIH0KICAgICAgICAgICAgICAgICkKICAgICAgICAgICAgICAgIC5hZGRUbyhtYXBfNTgzMTQ2YWZmZTYzNGRkZmFmYmVhN2RlZThlZGRmYTkpOwogICAgICAgICAgICAKICAgICAgICAKICAgICAgICAgICAgCiAgICAgICAgICAgIHZhciBwb3B1cF9mYTIxMzM3YzJhYzk0N2E4YTlkMDVjN2E3ODRjNzA3NCA9IEwucG9wdXAoe21heFdpZHRoOiAnMzAwJ30pOwoKICAgICAgICAgICAgCiAgICAgICAgICAgICAgICB2YXIgaHRtbF85MTJhZDVkNDllMzM0NGFmYWQ3ZTYxYTc0YmY5ODU1YSA9ICQoJyAgICAgICAgIDxkaXYgaWQ9Imh0bWxfOTEyYWQ1ZDQ5ZTMzNDRhZmFkN2U2MWE3NGJmOTg1NWEiICAgICAgICAgICAgICAgICBzdHlsZT0id2lkdGg6IDEwMC4wJTsgaGVpZ2h0OiAxMDAuMCU7Ij4gICAgICAgICAgICAgICAgIEdVSVRPTiBHUk9VUCBMSU1JVEVEOiA0MCwgTmV3cG9ydCBSb2FkLCBWZW50bm9yLCBQTzM4IDFBVzwvZGl2PiAgICAgICAgICAgICAgICAgJylbMF07CiAgICAgICAgICAgICAgICBwb3B1cF9mYTIxMzM3YzJhYzk0N2E4YTlkMDVjN2E3ODRjNzA3NC5zZXRDb250ZW50KGh0bWxfOTEyYWQ1ZDQ5ZTMzNDRhZmFkN2U2MWE3NGJmOTg1NWEpOwogICAgICAgICAgICAKCiAgICAgICAgICAgIGNpcmNsZV9tYXJrZXJfZjg0Y2FjNGUxNjQ3NDE4Y2JkMjQ2Y2FhMWE5MWI1MmMuYmluZFBvcHVwKHBvcHVwX2ZhMjEzMzdjMmFjOTQ3YThhOWQwNWM3YTc4NGM3MDc0KTsKCiAgICAgICAgICAgIAogICAgICAgIAogICAgICAgIAogICAgICAgICAgICAKCiAgICAgICAgICAgIHZhciBjaXJjbGVfbWFya2VyXzMyNTM1ZDM0ZjBjNTQxNDY4NjAzMzRlMTQ3ZDZjZGJlID0gTC5jaXJjbGUoCiAgICAgICAgICAgICAgICBbNTAuNzI0OTQzMjI5NCwtMS4yMzIyNjY5MzMyMl0sCiAgICAgICAgICAgICAgICAxMCwKICAgICAgICAgICAgICAgIHsKICAgICAgICAgICAgICAgICAgICBjb2xvcjogJ3JlZCcsCiAgICAgICAgICAgICAgICAgICAgZmlsbENvbG9yOiAncmVkJywKICAgICAgICAgICAgICAgICAgICBmaWxsT3BhY2l0eTogMC42CiAgICAgICAgICAgICAgICAgICAgfQogICAgICAgICAgICAgICAgKQogICAgICAgICAgICAgICAgLmFkZFRvKG1hcF81ODMxNDZhZmZlNjM0ZGRmYWZiZWE3ZGVlOGVkZGZhOSk7CiAgICAgICAgICAgIAogICAgICAgIAogICAgICAgICAgICAKICAgICAgICAgICAgdmFyIHBvcHVwX2NmNmI1MzIzMGM1YjRlNGY4YmRjMTYyZmY3MTNlOGNlID0gTC5wb3B1cCh7bWF4V2lkdGg6ICczMDAnfSk7CgogICAgICAgICAgICAKICAgICAgICAgICAgICAgIHZhciBodG1sXzM3NmQxNGU5MDc0NjQ3YjU5NDQzZDE3NzM1MDkzY2ZiID0gJCgnICAgICAgICAgPGRpdiBpZD0iaHRtbF8zNzZkMTRlOTA3NDY0N2I1OTQ0M2QxNzczNTA5M2NmYiIgICAgICAgICAgICAgICAgIHN0eWxlPSJ3aWR0aDogMTAwLjAlOyBoZWlnaHQ6IDEwMC4wJTsiPiAgICAgICAgICAgICAgICAgR1VJVE9OIEdST1VQIExJTUlURUQ6IDEyOSwgSGlnaCBTdHJlZXQsIFdvb3R0b24gQnJpZGdlLCBSeWRlLCBQTzMzIDRMVTwvZGl2PiAgICAgICAgICAgICAgICAgJylbMF07CiAgICAgICAgICAgICAgICBwb3B1cF9jZjZiNTMyMzBjNWI0ZTRmOGJkYzE2MmZmNzEzZThjZS5zZXRDb250ZW50KGh0bWxfMzc2ZDE0ZTkwNzQ2NDdiNTk0NDNkMTc3MzUwOTNjZmIpOwogICAgICAgICAgICAKCiAgICAgICAgICAgIGNpcmNsZV9tYXJrZXJfMzI1MzVkMzRmMGM1NDE0Njg2MDMzNGUxNDdkNmNkYmUuYmluZFBvcHVwKHBvcHVwX2NmNmI1MzIzMGM1YjRlNGY4YmRjMTYyZmY3MTNlOGNlKTsKCiAgICAgICAgICAgIAogICAgICAgIAogICAgICAgIAogICAgICAgICAgICAKCiAgICAgICAgICAgIHZhciBjaXJjbGVfbWFya2VyXzZkOTE0OGJlYzQyODQxMzdiNTcyMmJkZDY3OGE0OGJiID0gTC5jaXJjbGUoCiAgICAgICAgICAgICAgICBbNTAuNjU1MzA3NDIxMiwtMS4xNTI1MjY4MDU3XSwKICAgICAgICAgICAgICAgIDEwLAogICAgICAgICAgICAgICAgewogICAgICAgICAgICAgICAgICAgIGNvbG9yOiAncmVkJywKICAgICAgICAgICAgICAgICAgICBmaWxsQ29sb3I6ICdyZWQnLAogICAgICAgICAgICAgICAgICAgIGZpbGxPcGFjaXR5OiAwLjYKICAgICAgICAgICAgICAgICAgICB9CiAgICAgICAgICAgICAgICApCiAgICAgICAgICAgICAgICAuYWRkVG8obWFwXzU4MzE0NmFmZmU2MzRkZGZhZmJlYTdkZWU4ZWRkZmE5KTsKICAgICAgICAgICAgCiAgICAgICAgCiAgICAgICAgICAgIAogICAgICAgICAgICB2YXIgcG9wdXBfZDQ0Nzk2ZGVjYWI3NGNlNTlkNDVjZWEyMDQ2YzUwMjMgPSBMLnBvcHVwKHttYXhXaWR0aDogJzMwMCd9KTsKCiAgICAgICAgICAgIAogICAgICAgICAgICAgICAgdmFyIGh0bWxfZTQ2NzUwN2Y4ZjNkNDVhYzllMzI1OTkzNjA1ZWQ1NzQgPSAkKCcgICAgICAgICA8ZGl2IGlkPSJodG1sX2U0Njc1MDdmOGYzZDQ1YWM5ZTMyNTk5MzYwNWVkNTc0IiAgICAgICAgICAgICAgICAgc3R5bGU9IndpZHRoOiAxMDAuMCU7IGhlaWdodDogMTAwLjAlOyI+ICAgICAgICAgICAgICAgICBHVUlUT04gR1JPVVAgTElNSVRFRDogNCwgQWxiZXJ0IFJvYWQsIFNhbmRvd24sIFBPMzYgOEFOPC9kaXY+ICAgICAgICAgICAgICAgICAnKVswXTsKICAgICAgICAgICAgICAgIHBvcHVwX2Q0NDc5NmRlY2FiNzRjZTU5ZDQ1Y2VhMjA0NmM1MDIzLnNldENvbnRlbnQoaHRtbF9lNDY3NTA3ZjhmM2Q0NWFjOWUzMjU5OTM2MDVlZDU3NCk7CiAgICAgICAgICAgIAoKICAgICAgICAgICAgY2lyY2xlX21hcmtlcl82ZDkxNDhiZWM0Mjg0MTM3YjU3MjJiZGQ2NzhhNDhiYi5iaW5kUG9wdXAocG9wdXBfZDQ0Nzk2ZGVjYWI3NGNlNTlkNDVjZWEyMDQ2YzUwMjMpOwoKICAgICAgICAgICAgCiAgICAgICAgCiAgICAgICAgCiAgICAgICAgICAgIAoKICAgICAgICAgICAgdmFyIGNpcmNsZV9tYXJrZXJfNWU3N2QyM2ExYjFlNDgwN2E2ZTgyM2E5YTNiZTJjM2MgPSBMLmNpcmNsZSgKICAgICAgICAgICAgICAgIFs1MC42OTk0MjQ5MDQ3LC0xLjMyMTIzODMwNzEyXSwKICAgICAgICAgICAgICAgIDEwLAogICAgICAgICAgICAgICAgewogICAgICAgICAgICAgICAgICAgIGNvbG9yOiAncmVkJywKICAgICAgICAgICAgICAgICAgICBmaWxsQ29sb3I6ICdyZWQnLAogICAgICAgICAgICAgICAgICAgIGZpbGxPcGFjaXR5OiAwLjYKICAgICAgICAgICAgICAgICAgICB9CiAgICAgICAgICAgICAgICApCiAgICAgICAgICAgICAgICAuYWRkVG8obWFwXzU4MzE0NmFmZmU2MzRkZGZhZmJlYTdkZWU4ZWRkZmE5KTsKICAgICAgICAgICAgCiAgICAgICAgCiAgICAgICAgICAgIAogICAgICAgICAgICB2YXIgcG9wdXBfOTJiMjdlMTJhNzhiNGRjZGI3MjA1NDhiZjlkZjQ5ZjUgPSBMLnBvcHVwKHttYXhXaWR0aDogJzMwMCd9KTsKCiAgICAgICAgICAgIAogICAgICAgICAgICAgICAgdmFyIGh0bWxfYWVlNjhiNjAxMjQ2NDhkMWJiYTlhNTI2NTcxM2ZlZjMgPSAkKCcgICAgICAgICA8ZGl2IGlkPSJodG1sX2FlZTY4YjYwMTI0NjQ4ZDFiYmE5YTUyNjU3MTNmZWYzIiAgICAgICAgICAgICAgICAgc3R5bGU9IndpZHRoOiAxMDAuMCU7IGhlaWdodDogMTAwLjAlOyI+ICAgICAgICAgICAgICAgICBHVUlUT04gR1JPVVAgTElNSVRFRDogMTYyLCBHdW52aWxsZSBSb2FkLCBOZXdwb3J0LCBQTzMwIDVMUzwvZGl2PiAgICAgICAgICAgICAgICAgJylbMF07CiAgICAgICAgICAgICAgICBwb3B1cF85MmIyN2UxMmE3OGI0ZGNkYjcyMDU0OGJmOWRmNDlmNS5zZXRDb250ZW50KGh0bWxfYWVlNjhiNjAxMjQ2NDhkMWJiYTlhNTI2NTcxM2ZlZjMpOwogICAgICAgICAgICAKCiAgICAgICAgICAgIGNpcmNsZV9tYXJrZXJfNWU3N2QyM2ExYjFlNDgwN2E2ZTgyM2E5YTNiZTJjM2MuYmluZFBvcHVwKHBvcHVwXzkyYjI3ZTEyYTc4YjRkY2RiNzIwNTQ4YmY5ZGY0OWY1KTsKCiAgICAgICAgICAgIAogICAgICAgIAogICAgICAgIAogICAgICAgICAgICAKCiAgICAgICAgICAgIHZhciBjaXJjbGVfbWFya2VyXzUwYzdmOTY3ODhkMzQ2N2M4MGE0ZTljNGJjYTNlZDRmID0gTC5jaXJjbGUoCiAgICAgICAgICAgICAgICBbNTAuNTkzOTQ1MzA3OSwtMS4yMDU3MzMxNjQ3OF0sCiAgICAgICAgICAgICAgICAxMCwKICAgICAgICAgICAgICAgIHsKICAgICAgICAgICAgICAgICAgICBjb2xvcjogJ3JlZCcsCiAgICAgICAgICAgICAgICAgICAgZmlsbENvbG9yOiAncmVkJywKICAgICAgICAgICAgICAgICAgICBmaWxsT3BhY2l0eTogMC42CiAgICAgICAgICAgICAgICAgICAgfQogICAgICAgICAgICAgICAgKQogICAgICAgICAgICAgICAgLmFkZFRvKG1hcF81ODMxNDZhZmZlNjM0ZGRmYWZiZWE3ZGVlOGVkZGZhOSk7CiAgICAgICAgICAgIAogICAgICAgIAogICAgICAgICAgICAKICAgICAgICAgICAgdmFyIHBvcHVwX2UxYjM0ZTIyZGFmOTRkZjlhOTEwYjVhYjgzZWQ4Y2UxID0gTC5wb3B1cCh7bWF4V2lkdGg6ICczMDAnfSk7CgogICAgICAgICAgICAKICAgICAgICAgICAgICAgIHZhciBodG1sX2FkM2I5YzRlZGRjMTQzOThhZmUwMWU2MWM4MDk5MTEwID0gJCgnICAgICAgICAgPGRpdiBpZD0iaHRtbF9hZDNiOWM0ZWRkYzE0Mzk4YWZlMDFlNjFjODA5OTExMCIgICAgICAgICAgICAgICAgIHN0eWxlPSJ3aWR0aDogMTAwLjAlOyBoZWlnaHQ6IDEwMC4wJTsiPiAgICAgICAgICAgICAgICAgQ0VSSSBQUk9QRVJUSUVTIExJTUlURUQ6IGxhbmQgb24gdGhlIHdlc3Qgc2lkZSBvZiBIYW1icm91Z2ggUm9hZCBhbmQgVGhlIEFuY2hvcmFnZSwgSGFtYnJvdWdoIFJvYWQsIFZlbnRub3IsIFBPMzggMVNRPC9kaXY+ICAgICAgICAgICAgICAgICAnKVswXTsKICAgICAgICAgICAgICAgIHBvcHVwX2UxYjM0ZTIyZGFmOTRkZjlhOTEwYjVhYjgzZWQ4Y2UxLnNldENvbnRlbnQoaHRtbF9hZDNiOWM0ZWRkYzE0Mzk4YWZlMDFlNjFjODA5OTExMCk7CiAgICAgICAgICAgIAoKICAgICAgICAgICAgY2lyY2xlX21hcmtlcl81MGM3Zjk2Nzg4ZDM0NjdjODBhNGU5YzRiY2EzZWQ0Zi5iaW5kUG9wdXAocG9wdXBfZTFiMzRlMjJkYWY5NGRmOWE5MTBiNWFiODNlZDhjZTEpOwoKICAgICAgICAgICAgCiAgICAgICAgCiAgICAgICAgCiAgICAgICAgICAgIAoKICAgICAgICAgICAgdmFyIGNpcmNsZV9tYXJrZXJfNjk0ZWZkNjg1ZmZjNGFmNDhhMjI3ZTRmNjI3OThmZGEgPSBMLmNpcmNsZSgKICAgICAgICAgICAgICAgIFs1MC42MDEwODk0MDIyLC0xLjE4NjcwNjcxNzk0XSwKICAgICAgICAgICAgICAgIDEwLAogICAgICAgICAgICAgICAgewogICAgICAgICAgICAgICAgICAgIGNvbG9yOiAncmVkJywKICAgICAgICAgICAgICAgICAgICBmaWxsQ29sb3I6ICdyZWQnLAogICAgICAgICAgICAgICAgICAgIGZpbGxPcGFjaXR5OiAwLjYKICAgICAgICAgICAgICAgICAgICB9CiAgICAgICAgICAgICAgICApCiAgICAgICAgICAgICAgICAuYWRkVG8obWFwXzU4MzE0NmFmZmU2MzRkZGZhZmJlYTdkZWU4ZWRkZmE5KTsKICAgICAgICAgICAgCiAgICAgICAgCiAgICAgICAgICAgIAogICAgICAgICAgICB2YXIgcG9wdXBfZDA1MmQ0ZmEyZTY5NGE3YTgxZjk0NzE5ZjMzNTQwMmEgPSBMLnBvcHVwKHttYXhXaWR0aDogJzMwMCd9KTsKCiAgICAgICAgICAgIAogICAgICAgICAgICAgICAgdmFyIGh0bWxfY2VlOTQ4MjJhMGNiNDZjY2JiYzZjMzkzNzYwMDc0YTQgPSAkKCcgICAgICAgICA8ZGl2IGlkPSJodG1sX2NlZTk0ODIyYTBjYjQ2Y2NiYmM2YzM5Mzc2MDA3NGE0IiAgICAgICAgICAgICAgICAgc3R5bGU9IndpZHRoOiAxMDAuMCU7IGhlaWdodDogMTAwLjAlOyI+ICAgICAgICAgICAgICAgICBUSUdFUiBTUEVFRCBMVEQgSE9ORyBLT05HOiAxLCBDbGlmZiBNYW5zaW9ucywgQm9uY2h1cmNoIFNodXRlLCBWZW50bm9yLCBQTzM4IDFOVTwvZGl2PiAgICAgICAgICAgICAgICAgJylbMF07CiAgICAgICAgICAgICAgICBwb3B1cF9kMDUyZDRmYTJlNjk0YTdhODFmOTQ3MTlmMzM1NDAyYS5zZXRDb250ZW50KGh0bWxfY2VlOTQ4MjJhMGNiNDZjY2JiYzZjMzkzNzYwMDc0YTQpOwogICAgICAgICAgICAKCiAgICAgICAgICAgIGNpcmNsZV9tYXJrZXJfNjk0ZWZkNjg1ZmZjNGFmNDhhMjI3ZTRmNjI3OThmZGEuYmluZFBvcHVwKHBvcHVwX2QwNTJkNGZhMmU2OTRhN2E4MWY5NDcxOWYzMzU0MDJhKTsKCiAgICAgICAgICAgIAogICAgICAgIAogICAgICAgIAogICAgICAgICAgICAKCiAgICAgICAgICAgIHZhciBjaXJjbGVfbWFya2VyX2Q0OGQ0MTE3ZGMwOTQ4OGZhMjA5NDMxZTAxZTVmNWZiID0gTC5jaXJjbGUoCiAgICAgICAgICAgICAgICBbNTAuNjk3NTk4NTI0NywtMS4zMjEwOTQ3NDk2MV0sCiAgICAgICAgICAgICAgICAxMCwKICAgICAgICAgICAgICAgIHsKICAgICAgICAgICAgICAgICAgICBjb2xvcjogJ3JlZCcsCiAgICAgICAgICAgICAgICAgICAgZmlsbENvbG9yOiAncmVkJywKICAgICAgICAgICAgICAgICAgICBmaWxsT3BhY2l0eTogMC42CiAgICAgICAgICAgICAgICAgICAgfQogICAgICAgICAgICAgICAgKQogICAgICAgICAgICAgICAgLmFkZFRvKG1hcF81ODMxNDZhZmZlNjM0ZGRmYWZiZWE3ZGVlOGVkZGZhOSk7CiAgICAgICAgICAgIAogICAgICAgIAogICAgICAgICAgICAKICAgICAgICAgICAgdmFyIHBvcHVwX2MzMzRiYThhYmY4ZDQ2ZTU5YzAyNzA3Yjc5NmMyNTQyID0gTC5wb3B1cCh7bWF4V2lkdGg6ICczMDAnfSk7CgogICAgICAgICAgICAKICAgICAgICAgICAgICAgIHZhciBodG1sX2QwZjViNWM1OWI1MzQzZWNhNzMzMTM1OTA5YWNiMWMwID0gJCgnICAgICAgICAgPGRpdiBpZD0iaHRtbF9kMGY1YjVjNTliNTM0M2VjYTczMzEzNTkwOWFjYjFjMCIgICAgICAgICAgICAgICAgIHN0eWxlPSJ3aWR0aDogMTAwLjAlOyBoZWlnaHQ6IDEwMC4wJTsiPiAgICAgICAgICAgICAgICAgU0hBWSBQUk9QRVJUWSBJTlZFU1RNRU5UUyBTLkFSLkw6IDEyMCwgR3VudmlsbGUgUm9hZCwgTmV3cG9ydCwgUE8zMCA1TEg8L2Rpdj4gICAgICAgICAgICAgICAgICcpWzBdOwogICAgICAgICAgICAgICAgcG9wdXBfYzMzNGJhOGFiZjhkNDZlNTljMDI3MDdiNzk2YzI1NDIuc2V0Q29udGVudChodG1sX2QwZjViNWM1OWI1MzQzZWNhNzMzMTM1OTA5YWNiMWMwKTsKICAgICAgICAgICAgCgogICAgICAgICAgICBjaXJjbGVfbWFya2VyX2Q0OGQ0MTE3ZGMwOTQ4OGZhMjA5NDMxZTAxZTVmNWZiLmJpbmRQb3B1cChwb3B1cF9jMzM0YmE4YWJmOGQ0NmU1OWMwMjcwN2I3OTZjMjU0Mik7CgogICAgICAgICAgICAKICAgICAgICAKICAgICAgICAKICAgICAgICAgICAgCgogICAgICAgICAgICB2YXIgY2lyY2xlX21hcmtlcl8xMmE2NWMwOGM2OGM0NTRmYTFjYzY5ZmMzOTQ5YTg4NiA9IEwuY2lyY2xlKAogICAgICAgICAgICAgICAgWzUwLjY5NzU5ODUyNDcsLTEuMzIxMDk0NzQ5NjFdLAogICAgICAgICAgICAgICAgMTAsCiAgICAgICAgICAgICAgICB7CiAgICAgICAgICAgICAgICAgICAgY29sb3I6ICdyZWQnLAogICAgICAgICAgICAgICAgICAgIGZpbGxDb2xvcjogJ3JlZCcsCiAgICAgICAgICAgICAgICAgICAgZmlsbE9wYWNpdHk6IDAuNgogICAgICAgICAgICAgICAgICAgIH0KICAgICAgICAgICAgICAgICkKICAgICAgICAgICAgICAgIC5hZGRUbyhtYXBfNTgzMTQ2YWZmZTYzNGRkZmFmYmVhN2RlZThlZGRmYTkpOwogICAgICAgICAgICAKICAgICAgICAKICAgICAgICAgICAgCiAgICAgICAgICAgIHZhciBwb3B1cF9jNmQ2YTZlNDI2YTk0OWZmYmMzOTY3NjQ4OTdlMGVmZiA9IEwucG9wdXAoe21heFdpZHRoOiAnMzAwJ30pOwoKICAgICAgICAgICAgCiAgICAgICAgICAgICAgICB2YXIgaHRtbF8zYzY1ZWQ3MWZhMTg0MWQ0YTNhYmUxODkzZDhhYTYyOSA9ICQoJyAgICAgICAgIDxkaXYgaWQ9Imh0bWxfM2M2NWVkNzFmYTE4NDFkNGEzYWJlMTg5M2Q4YWE2MjkiICAgICAgICAgICAgICAgICBzdHlsZT0id2lkdGg6IDEwMC4wJTsgaGVpZ2h0OiAxMDAuMCU7Ij4gICAgICAgICAgICAgICAgIFNIQVkgUFJPUEVSVFkgSU5WRVNUTUVOVFMgUy5BUi5MOiBVbml0IDMgQ2FyaXNicm9va2UgSW5kdXN0cmlhbCBFc3RhdGUsIEd1bnZpbGxlIFJvYWQsIE5ld3BvcnQsIFBPMzAgNUxIPC9kaXY+ICAgICAgICAgICAgICAgICAnKVswXTsKICAgICAgICAgICAgICAgIHBvcHVwX2M2ZDZhNmU0MjZhOTQ5ZmZiYzM5Njc2NDg5N2UwZWZmLnNldENvbnRlbnQoaHRtbF8zYzY1ZWQ3MWZhMTg0MWQ0YTNhYmUxODkzZDhhYTYyOSk7CiAgICAgICAgICAgIAoKICAgICAgICAgICAgY2lyY2xlX21hcmtlcl8xMmE2NWMwOGM2OGM0NTRmYTFjYzY5ZmMzOTQ5YTg4Ni5iaW5kUG9wdXAocG9wdXBfYzZkNmE2ZTQyNmE5NDlmZmJjMzk2NzY0ODk3ZTBlZmYpOwoKICAgICAgICAgICAgCiAgICAgICAgCiAgICAgICAgCiAgICAgICAgICAgIAoKICAgICAgICAgICAgdmFyIGNpcmNsZV9tYXJrZXJfMDcxYjkzZjYwN2Q2NGI3Njk0NWZhNzE2NTNhZWJmYTEgPSBMLmNpcmNsZSgKICAgICAgICAgICAgICAgIFs1MC42OTc1OTg1MjQ3LC0xLjMyMTA5NDc0OTYxXSwKICAgICAgICAgICAgICAgIDEwLAogICAgICAgICAgICAgICAgewogICAgICAgICAgICAgICAgICAgIGNvbG9yOiAncmVkJywKICAgICAgICAgICAgICAgICAgICBmaWxsQ29sb3I6ICdyZWQnLAogICAgICAgICAgICAgICAgICAgIGZpbGxPcGFjaXR5OiAwLjYKICAgICAgICAgICAgICAgICAgICB9CiAgICAgICAgICAgICAgICApCiAgICAgICAgICAgICAgICAuYWRkVG8obWFwXzU4MzE0NmFmZmU2MzRkZGZhZmJlYTdkZWU4ZWRkZmE5KTsKICAgICAgICAgICAgCiAgICAgICAgCiAgICAgICAgICAgIAogICAgICAgICAgICB2YXIgcG9wdXBfNjg2YTIzNTBmZmQzNDBhYzg5MTkzY2VhNTA4YTQwMGIgPSBMLnBvcHVwKHttYXhXaWR0aDogJzMwMCd9KTsKCiAgICAgICAgICAgIAogICAgICAgICAgICAgICAgdmFyIGh0bWxfM2VjZGVhOTc4YjI1NDZkZTg3ZTYwMTM2OWEwMDI1MjkgPSAkKCcgICAgICAgICA8ZGl2IGlkPSJodG1sXzNlY2RlYTk3OGIyNTQ2ZGU4N2U2MDEzNjlhMDAyNTI5IiAgICAgICAgICAgICAgICAgc3R5bGU9IndpZHRoOiAxMDAuMCU7IGhlaWdodDogMTAwLjAlOyI+ICAgICAgICAgICAgICAgICBTSEFZIFBST1BFUlRZIElOVkVTVE1FTlRTIFMuQVIuTDogMTE4LCBHdW52aWxsZSBSb2FkLCBOZXdwb3J0LCBQTzMwIDVMSDwvZGl2PiAgICAgICAgICAgICAgICAgJylbMF07CiAgICAgICAgICAgICAgICBwb3B1cF82ODZhMjM1MGZmZDM0MGFjODkxOTNjZWE1MDhhNDAwYi5zZXRDb250ZW50KGh0bWxfM2VjZGVhOTc4YjI1NDZkZTg3ZTYwMTM2OWEwMDI1MjkpOwogICAgICAgICAgICAKCiAgICAgICAgICAgIGNpcmNsZV9tYXJrZXJfMDcxYjkzZjYwN2Q2NGI3Njk0NWZhNzE2NTNhZWJmYTEuYmluZFBvcHVwKHBvcHVwXzY4NmEyMzUwZmZkMzQwYWM4OTE5M2NlYTUwOGE0MDBiKTsKCiAgICAgICAgICAgIAogICAgICAgIAogICAgICAgIAogICAgICAgICAgICAKCiAgICAgICAgICAgIHZhciBjaXJjbGVfbWFya2VyXzViNzdiMDUxOWU4OTRlZmU5ZmVhYTc5NGMwMDViYTZlID0gTC5jaXJjbGUoCiAgICAgICAgICAgICAgICBbNTAuNjMwMDU2NjczNCwtMS4xNzQwMzM1ODk1Ml0sCiAgICAgICAgICAgICAgICAxMCwKICAgICAgICAgICAgICAgIHsKICAgICAgICAgICAgICAgICAgICBjb2xvcjogJ3JlZCcsCiAgICAgICAgICAgICAgICAgICAgZmlsbENvbG9yOiAncmVkJywKICAgICAgICAgICAgICAgICAgICBmaWxsT3BhY2l0eTogMC42CiAgICAgICAgICAgICAgICAgICAgfQogICAgICAgICAgICAgICAgKQogICAgICAgICAgICAgICAgLmFkZFRvKG1hcF81ODMxNDZhZmZlNjM0ZGRmYWZiZWE3ZGVlOGVkZGZhOSk7CiAgICAgICAgICAgIAogICAgICAgIAogICAgICAgICAgICAKICAgICAgICAgICAgdmFyIHBvcHVwX2ZiNTQwZmEzYTUxYTQ0NTI4ODMzOWJhNDMyNTY4YTM5ID0gTC5wb3B1cCh7bWF4V2lkdGg6ICczMDAnfSk7CgogICAgICAgICAgICAKICAgICAgICAgICAgICAgIHZhciBodG1sX2Q0YWYwZjMxNGMwOTQzZWE5NzdmZDM1N2I0N2M1NmE5ID0gJCgnICAgICAgICAgPGRpdiBpZD0iaHRtbF9kNGFmMGYzMTRjMDk0M2VhOTc3ZmQzNTdiNDdjNTZhOSIgICAgICAgICAgICAgICAgIHN0eWxlPSJ3aWR0aDogMTAwLjAlOyBoZWlnaHQ6IDEwMC4wJTsiPiAgICAgICAgICAgICAgICAgRFVFIFdFU1QgTElNSVRFRDogT2NlYW4gVmlldyBIb3RlbCwgUGFyayBSb2FkLCBTaGFua2xpbiwgUE8zNyA2QkI8L2Rpdj4gICAgICAgICAgICAgICAgICcpWzBdOwogICAgICAgICAgICAgICAgcG9wdXBfZmI1NDBmYTNhNTFhNDQ1Mjg4MzM5YmE0MzI1NjhhMzkuc2V0Q29udGVudChodG1sX2Q0YWYwZjMxNGMwOTQzZWE5NzdmZDM1N2I0N2M1NmE5KTsKICAgICAgICAgICAgCgogICAgICAgICAgICBjaXJjbGVfbWFya2VyXzViNzdiMDUxOWU4OTRlZmU5ZmVhYTc5NGMwMDViYTZlLmJpbmRQb3B1cChwb3B1cF9mYjU0MGZhM2E1MWE0NDUyODgzMzliYTQzMjU2OGEzOSk7CgogICAgICAgICAgICAKICAgICAgICAKICAgICAgICAKICAgICAgICAgICAgCgogICAgICAgICAgICB2YXIgY2lyY2xlX21hcmtlcl9jNTY5MWQzOWJhOGE0ZWI5OWQ5OGFkOTkzY2QzODVkZSA9IEwuY2lyY2xlKAogICAgICAgICAgICAgICAgWzUwLjY5NzI5ODA2OTMsLTEuMjk2MjA3NDgzNjddLAogICAgICAgICAgICAgICAgMTAsCiAgICAgICAgICAgICAgICB7CiAgICAgICAgICAgICAgICAgICAgY29sb3I6ICdyZWQnLAogICAgICAgICAgICAgICAgICAgIGZpbGxDb2xvcjogJ3JlZCcsCiAgICAgICAgICAgICAgICAgICAgZmlsbE9wYWNpdHk6IDAuNgogICAgICAgICAgICAgICAgICAgIH0KICAgICAgICAgICAgICAgICkKICAgICAgICAgICAgICAgIC5hZGRUbyhtYXBfNTgzMTQ2YWZmZTYzNGRkZmFmYmVhN2RlZThlZGRmYTkpOwogICAgICAgICAgICAKICAgICAgICAKICAgICAgICAgICAgCiAgICAgICAgICAgIHZhciBwb3B1cF84YTVlZGZkZTVkZGY0NmMyYmVkOGFiMjNhYWIyMTEwMCA9IEwucG9wdXAoe21heFdpZHRoOiAnMzAwJ30pOwoKICAgICAgICAgICAgCiAgICAgICAgICAgICAgICB2YXIgaHRtbF84YmM3YmY4YjI4YTk0MjY4OWEwM2FmYzlmM2Y3NDMxMCA9ICQoJyAgICAgICAgIDxkaXYgaWQ9Imh0bWxfOGJjN2JmOGIyOGE5NDI2ODlhMDNhZmM5ZjNmNzQzMTAiICAgICAgICAgICAgICAgICBzdHlsZT0id2lkdGg6IDEwMC4wJTsgaGVpZ2h0OiAxMDAuMCU7Ij4gICAgICAgICAgICAgICAgIDFTVCBFVVJPUEVBTiBIT01FUyBMSU1JVEVEOiBsYW5kIGFuZCBidWlsZGluZ3MgYXQgMTAgVW5pb24gU3RyZWV0LCBOZXdwb3J0LCBQTzMwIDFRQjwvZGl2PiAgICAgICAgICAgICAgICAgJylbMF07CiAgICAgICAgICAgICAgICBwb3B1cF84YTVlZGZkZTVkZGY0NmMyYmVkOGFiMjNhYWIyMTEwMC5zZXRDb250ZW50KGh0bWxfOGJjN2JmOGIyOGE5NDI2ODlhMDNhZmM5ZjNmNzQzMTApOwogICAgICAgICAgICAKCiAgICAgICAgICAgIGNpcmNsZV9tYXJrZXJfYzU2OTFkMzliYThhNGViOTlkOThhZDk5M2NkMzg1ZGUuYmluZFBvcHVwKHBvcHVwXzhhNWVkZmRlNWRkZjQ2YzJiZWQ4YWIyM2FhYjIxMTAwKTsKCiAgICAgICAgICAgIAogICAgICAgIAogICAgICAgIAogICAgICAgICAgICAKCiAgICAgICAgICAgIHZhciBjaXJjbGVfbWFya2VyXzI4OWUzOTFhZTBkMTRkZWE5NTE2NTNjZDI5NWNlZjY4ID0gTC5jaXJjbGUoCiAgICAgICAgICAgICAgICBbNTAuNzMyNjEwNDE3NiwtMS4xNjI0ODMxMDkzNl0sCiAgICAgICAgICAgICAgICAxMCwKICAgICAgICAgICAgICAgIHsKICAgICAgICAgICAgICAgICAgICBjb2xvcjogJ3JlZCcsCiAgICAgICAgICAgICAgICAgICAgZmlsbENvbG9yOiAncmVkJywKICAgICAgICAgICAgICAgICAgICBmaWxsT3BhY2l0eTogMC42CiAgICAgICAgICAgICAgICAgICAgfQogICAgICAgICAgICAgICAgKQogICAgICAgICAgICAgICAgLmFkZFRvKG1hcF81ODMxNDZhZmZlNjM0ZGRmYWZiZWE3ZGVlOGVkZGZhOSk7CiAgICAgICAgICAgIAogICAgICAgIAogICAgICAgICAgICAKICAgICAgICAgICAgdmFyIHBvcHVwXzNhYWYwNTcxNzM2NDRjZGJhZWU5MDAyOTczNzMyMmZiID0gTC5wb3B1cCh7bWF4V2lkdGg6ICczMDAnfSk7CgogICAgICAgICAgICAKICAgICAgICAgICAgICAgIHZhciBodG1sXzdhOTk2NDY0OWI3ZDQxNGI5YjMwMzg1YzUzODVmZTljID0gJCgnICAgICAgICAgPGRpdiBpZD0iaHRtbF83YTk5NjQ2NDliN2Q0MTRiOWIzMDM4NWM1Mzg1ZmU5YyIgICAgICAgICAgICAgICAgIHN0eWxlPSJ3aWR0aDogMTAwLjAlOyBoZWlnaHQ6IDEwMC4wJTsiPiAgICAgICAgICAgICAgICAgSkFERSBXQVRFUiBHUk9VUCBMSU1JVEVEOiBGbGF0IDQsIFBpZXIgVmlldyBDb3VydCwgMTlhIFN0IFRob21hcyBTdHJlZXQsIFJ5ZGUsIFBPMzMgMkRMPC9kaXY+ICAgICAgICAgICAgICAgICAnKVswXTsKICAgICAgICAgICAgICAgIHBvcHVwXzNhYWYwNTcxNzM2NDRjZGJhZWU5MDAyOTczNzMyMmZiLnNldENvbnRlbnQoaHRtbF83YTk5NjQ2NDliN2Q0MTRiOWIzMDM4NWM1Mzg1ZmU5Yyk7CiAgICAgICAgICAgIAoKICAgICAgICAgICAgY2lyY2xlX21hcmtlcl8yODllMzkxYWUwZDE0ZGVhOTUxNjUzY2QyOTVjZWY2OC5iaW5kUG9wdXAocG9wdXBfM2FhZjA1NzE3MzY0NGNkYmFlZTkwMDI5NzM3MzIyZmIpOwoKICAgICAgICAgICAgCiAgICAgICAgCiAgICAgICAgCiAgICAgICAgICAgIAoKICAgICAgICAgICAgdmFyIGNpcmNsZV9tYXJrZXJfZjA4YjQwZjdjZmIxNGFkNGE5MDlmMGM2YzJiZjJlNGMgPSBMLmNpcmNsZSgKICAgICAgICAgICAgICAgIFs1MC43NjYzMjkyMTAzLC0xLjMwNDEyMDIwNzYyXSwKICAgICAgICAgICAgICAgIDEwLAogICAgICAgICAgICAgICAgewogICAgICAgICAgICAgICAgICAgIGNvbG9yOiAncmVkJywKICAgICAgICAgICAgICAgICAgICBmaWxsQ29sb3I6ICdyZWQnLAogICAgICAgICAgICAgICAgICAgIGZpbGxPcGFjaXR5OiAwLjYKICAgICAgICAgICAgICAgICAgICB9CiAgICAgICAgICAgICAgICApCiAgICAgICAgICAgICAgICAuYWRkVG8obWFwXzU4MzE0NmFmZmU2MzRkZGZhZmJlYTdkZWU4ZWRkZmE5KTsKICAgICAgICAgICAgCiAgICAgICAgCiAgICAgICAgICAgIAogICAgICAgICAgICB2YXIgcG9wdXBfMWQwYWEwNDJmY2MxNDhjNjg0MWE1ODhkMDlmNGE3ZjUgPSBMLnBvcHVwKHttYXhXaWR0aDogJzMwMCd9KTsKCiAgICAgICAgICAgIAogICAgICAgICAgICAgICAgdmFyIGh0bWxfZWFiYTY2ZjBkZDJkNDZiYWI5YzI3MzE4Yjc0M2E3YjkgPSAkKCcgICAgICAgICA8ZGl2IGlkPSJodG1sX2VhYmE2NmYwZGQyZDQ2YmFiOWMyNzMxOGI3NDNhN2I5IiAgICAgICAgICAgICAgICAgc3R5bGU9IndpZHRoOiAxMDAuMCU7IGhlaWdodDogMTAwLjAlOyI+ICAgICAgICAgICAgICAgICBIQVJCT1VSVklFVyBSRUFMIEVTVEFURSBJTkM6IENoaXQgQ2hhdCBIb3VzZSwgOSBRdWVlbnMgUm9hZCwgQ293ZXMsIFBPMzEgOEJRPC9kaXY+ICAgICAgICAgICAgICAgICAnKVswXTsKICAgICAgICAgICAgICAgIHBvcHVwXzFkMGFhMDQyZmNjMTQ4YzY4NDFhNTg4ZDA5ZjRhN2Y1LnNldENvbnRlbnQoaHRtbF9lYWJhNjZmMGRkMmQ0NmJhYjljMjczMThiNzQzYTdiOSk7CiAgICAgICAgICAgIAoKICAgICAgICAgICAgY2lyY2xlX21hcmtlcl9mMDhiNDBmN2NmYjE0YWQ0YTkwOWYwYzZjMmJmMmU0Yy5iaW5kUG9wdXAocG9wdXBfMWQwYWEwNDJmY2MxNDhjNjg0MWE1ODhkMDlmNGE3ZjUpOwoKICAgICAgICAgICAgCiAgICAgICAgCiAgICAgICAgCiAgICAgICAgICAgIAoKICAgICAgICAgICAgdmFyIGNpcmNsZV9tYXJrZXJfZDhmZDk0ZjBlMGEyNDgzZDllNGIwNzdjMzE2OWQxMzggPSBMLmNpcmNsZSgKICAgICAgICAgICAgICAgIFs1MC42NDUwMTYxOTE5LC0xLjE4MDk5ODcxNzEzXSwKICAgICAgICAgICAgICAgIDEwLAogICAgICAgICAgICAgICAgewogICAgICAgICAgICAgICAgICAgIGNvbG9yOiAncmVkJywKICAgICAgICAgICAgICAgICAgICBmaWxsQ29sb3I6ICdyZWQnLAogICAgICAgICAgICAgICAgICAgIGZpbGxPcGFjaXR5OiAwLjYKICAgICAgICAgICAgICAgICAgICB9CiAgICAgICAgICAgICAgICApCiAgICAgICAgICAgICAgICAuYWRkVG8obWFwXzU4MzE0NmFmZmU2MzRkZGZhZmJlYTdkZWU4ZWRkZmE5KTsKICAgICAgICAgICAgCiAgICAgICAgCiAgICAgICAgICAgIAogICAgICAgICAgICB2YXIgcG9wdXBfZWVjY2MxNmM4MmZiNDFiYWE3MDFlNWI1YTA4MDE2YmMgPSBMLnBvcHVwKHttYXhXaWR0aDogJzMwMCd9KTsKCiAgICAgICAgICAgIAogICAgICAgICAgICAgICAgdmFyIGh0bWxfZGU3NzhkNjZmNDQ5NDg2NmEyMTgxYjk5MTQxOTZiYzggPSAkKCcgICAgICAgICA8ZGl2IGlkPSJodG1sX2RlNzc4ZDY2ZjQ0OTQ4NjZhMjE4MWI5OTE0MTk2YmM4IiAgICAgICAgICAgICAgICAgc3R5bGU9IndpZHRoOiAxMDAuMCU7IGhlaWdodDogMTAwLjAlOyI+ICAgICAgICAgICAgICAgICBISUdIIFRJREUgKENJKSBMVEQ6IFVuaXQgNWQsIFNwaXRoZWFkIEJ1c2luZXNzIENlbnRyZSwgTmV3cG9ydCBSb2FkLCBTYW5kb3duLCBQTzM2IDlQSDwvZGl2PiAgICAgICAgICAgICAgICAgJylbMF07CiAgICAgICAgICAgICAgICBwb3B1cF9lZWNjYzE2YzgyZmI0MWJhYTcwMWU1YjVhMDgwMTZiYy5zZXRDb250ZW50KGh0bWxfZGU3NzhkNjZmNDQ5NDg2NmEyMTgxYjk5MTQxOTZiYzgpOwogICAgICAgICAgICAKCiAgICAgICAgICAgIGNpcmNsZV9tYXJrZXJfZDhmZDk0ZjBlMGEyNDgzZDllNGIwNzdjMzE2OWQxMzguYmluZFBvcHVwKHBvcHVwX2VlY2NjMTZjODJmYjQxYmFhNzAxZTViNWEwODAxNmJjKTsKCiAgICAgICAgICAgIAogICAgICAgIAogICAgICAgIAogICAgICAgICAgICAKCiAgICAgICAgICAgIHZhciBjaXJjbGVfbWFya2VyXzUzNTIwMzlmMTE1MTQ0NDQ4ZjBjNjFkYzY4MjVlMzE5ID0gTC5jaXJjbGUoCiAgICAgICAgICAgICAgICBbNTAuNjQ1MDE2MTkxOSwtMS4xODA5OTg3MTcxM10sCiAgICAgICAgICAgICAgICAxMCwKICAgICAgICAgICAgICAgIHsKICAgICAgICAgICAgICAgICAgICBjb2xvcjogJ3JlZCcsCiAgICAgICAgICAgICAgICAgICAgZmlsbENvbG9yOiAncmVkJywKICAgICAgICAgICAgICAgICAgICBmaWxsT3BhY2l0eTogMC42CiAgICAgICAgICAgICAgICAgICAgfQogICAgICAgICAgICAgICAgKQogICAgICAgICAgICAgICAgLmFkZFRvKG1hcF81ODMxNDZhZmZlNjM0ZGRmYWZiZWE3ZGVlOGVkZGZhOSk7CiAgICAgICAgICAgIAogICAgICAgIAogICAgICAgICAgICAKICAgICAgICAgICAgdmFyIHBvcHVwXzEyY2VmN2M3MTdlMjQzOGU5Njg1MGRkYzI5YjU5MzUxID0gTC5wb3B1cCh7bWF4V2lkdGg6ICczMDAnfSk7CgogICAgICAgICAgICAKICAgICAgICAgICAgICAgIHZhciBodG1sXzRjMmNkMTQ1NGUwMTQxNzk4ODE1ZDY4NWFjNzA4MjAzID0gJCgnICAgICAgICAgPGRpdiBpZD0iaHRtbF80YzJjZDE0NTRlMDE0MTc5ODgxNWQ2ODVhYzcwODIwMyIgICAgICAgICAgICAgICAgIHN0eWxlPSJ3aWR0aDogMTAwLjAlOyBoZWlnaHQ6IDEwMC4wJTsiPiAgICAgICAgICAgICAgICAgSElHSCBUSURFIChDSSkgTFREOiBVbml0IEQ3LCBTcGl0aGVhZCBCdXNpbmVzcyBDZW50cmUsIE5ld3BvcnQgUm9hZCwgU2FuZG93biwgUE8zNiA5UEg8L2Rpdj4gICAgICAgICAgICAgICAgICcpWzBdOwogICAgICAgICAgICAgICAgcG9wdXBfMTJjZWY3YzcxN2UyNDM4ZTk2ODUwZGRjMjliNTkzNTEuc2V0Q29udGVudChodG1sXzRjMmNkMTQ1NGUwMTQxNzk4ODE1ZDY4NWFjNzA4MjAzKTsKICAgICAgICAgICAgCgogICAgICAgICAgICBjaXJjbGVfbWFya2VyXzUzNTIwMzlmMTE1MTQ0NDQ4ZjBjNjFkYzY4MjVlMzE5LmJpbmRQb3B1cChwb3B1cF8xMmNlZjdjNzE3ZTI0MzhlOTY4NTBkZGMyOWI1OTM1MSk7CgogICAgICAgICAgICAKICAgICAgICAKICAgICAgICAKICAgICAgICAgICAgCgogICAgICAgICAgICB2YXIgY2lyY2xlX21hcmtlcl9hNzk0YTYxY2I5N2Y0MjAxOWRiODIxNDUyYzYyMGViNyA9IEwuY2lyY2xlKAogICAgICAgICAgICAgICAgWzUwLjcyNzczODU0NzEsLTEuMTYyNzk2NjQxNDhdLAogICAgICAgICAgICAgICAgMTAsCiAgICAgICAgICAgICAgICB7CiAgICAgICAgICAgICAgICAgICAgY29sb3I6ICdyZWQnLAogICAgICAgICAgICAgICAgICAgIGZpbGxDb2xvcjogJ3JlZCcsCiAgICAgICAgICAgICAgICAgICAgZmlsbE9wYWNpdHk6IDAuNgogICAgICAgICAgICAgICAgICAgIH0KICAgICAgICAgICAgICAgICkKICAgICAgICAgICAgICAgIC5hZGRUbyhtYXBfNTgzMTQ2YWZmZTYzNGRkZmFmYmVhN2RlZThlZGRmYTkpOwogICAgICAgICAgICAKICAgICAgICAKICAgICAgICAgICAgCiAgICAgICAgICAgIHZhciBwb3B1cF9hMDFmMDk3ZTEwZTM0ZmNiYTkyNzg3NWIwZWRlNGEwNiA9IEwucG9wdXAoe21heFdpZHRoOiAnMzAwJ30pOwoKICAgICAgICAgICAgCiAgICAgICAgICAgICAgICB2YXIgaHRtbF9kNzFiMTg1MzAzYmQ0M2IyYTJiZjVjYmNlY2QxODAzOSA9ICQoJyAgICAgICAgIDxkaXYgaWQ9Imh0bWxfZDcxYjE4NTMwM2JkNDNiMmEyYmY1Y2JjZWNkMTgwMzkiICAgICAgICAgICAgICAgICBzdHlsZT0id2lkdGg6IDEwMC4wJTsgaGVpZ2h0OiAxMDAuMCU7Ij4gICAgICAgICAgICAgICAgIENIQU1CRVJMRVkgTElNSVRFRDogMTU2LTE1OCwgSGlnaCBTdHJlZXQsIFJ5ZGUsIFBPMzMgMkhUPC9kaXY+ICAgICAgICAgICAgICAgICAnKVswXTsKICAgICAgICAgICAgICAgIHBvcHVwX2EwMWYwOTdlMTBlMzRmY2JhOTI3ODc1YjBlZGU0YTA2LnNldENvbnRlbnQoaHRtbF9kNzFiMTg1MzAzYmQ0M2IyYTJiZjVjYmNlY2QxODAzOSk7CiAgICAgICAgICAgIAoKICAgICAgICAgICAgY2lyY2xlX21hcmtlcl9hNzk0YTYxY2I5N2Y0MjAxOWRiODIxNDUyYzYyMGViNy5iaW5kUG9wdXAocG9wdXBfYTAxZjA5N2UxMGUzNGZjYmE5Mjc4NzViMGVkZTRhMDYpOwoKICAgICAgICAgICAgCiAgICAgICAgCiAgICAgICAgCiAgICAgICAgICAgIAoKICAgICAgICAgICAgdmFyIGNpcmNsZV9tYXJrZXJfMTkwN2I4NDU3NDRlNDBjYWE2Nzg4YzlhOTFlNjE4YWQgPSBMLmNpcmNsZSgKICAgICAgICAgICAgICAgIFs1MC43MjQyMjY0NDMxLC0xLjEzNTAyMDUzNTcxXSwKICAgICAgICAgICAgICAgIDEwLAogICAgICAgICAgICAgICAgewogICAgICAgICAgICAgICAgICAgIGNvbG9yOiAncmVkJywKICAgICAgICAgICAgICAgICAgICBmaWxsQ29sb3I6ICdyZWQnLAogICAgICAgICAgICAgICAgICAgIGZpbGxPcGFjaXR5OiAwLjYKICAgICAgICAgICAgICAgICAgICB9CiAgICAgICAgICAgICAgICApCiAgICAgICAgICAgICAgICAuYWRkVG8obWFwXzU4MzE0NmFmZmU2MzRkZGZhZmJlYTdkZWU4ZWRkZmE5KTsKICAgICAgICAgICAgCiAgICAgICAgCiAgICAgICAgICAgIAogICAgICAgICAgICB2YXIgcG9wdXBfOTM3ODVmOTM2ZGViNGQyZmIwOTM5MTc5OWFhZGY5MDkgPSBMLnBvcHVwKHttYXhXaWR0aDogJzMwMCd9KTsKCiAgICAgICAgICAgIAogICAgICAgICAgICAgICAgdmFyIGh0bWxfYzcyOWY1ZDg2Y2QwNDVhNGE3MWJiNjhiYWI5ZTgyMmMgPSAkKCcgICAgICAgICA8ZGl2IGlkPSJodG1sX2M3MjlmNWQ4NmNkMDQ1YTRhNzFiYjY4YmFiOWU4MjJjIiAgICAgICAgICAgICAgICAgc3R5bGU9IndpZHRoOiAxMDAuMCU7IGhlaWdodDogMTAwLjAlOyI+ICAgICAgICAgICAgICAgICBBU1RBTkEgTElNSVRFRDogSGFyY291cnQgU2FuZHMgSG9saWRheSBWaWxsYWdlLCBQdWNrcG9vbCBIaWxsLCBSeWRlLCBQTzMzIDFQSjwvZGl2PiAgICAgICAgICAgICAgICAgJylbMF07CiAgICAgICAgICAgICAgICBwb3B1cF85Mzc4NWY5MzZkZWI0ZDJmYjA5MzkxNzk5YWFkZjkwOS5zZXRDb250ZW50KGh0bWxfYzcyOWY1ZDg2Y2QwNDVhNGE3MWJiNjhiYWI5ZTgyMmMpOwogICAgICAgICAgICAKCiAgICAgICAgICAgIGNpcmNsZV9tYXJrZXJfMTkwN2I4NDU3NDRlNDBjYWE2Nzg4YzlhOTFlNjE4YWQuYmluZFBvcHVwKHBvcHVwXzkzNzg1ZjkzNmRlYjRkMmZiMDkzOTE3OTlhYWRmOTA5KTsKCiAgICAgICAgICAgIAogICAgICAgIAogICAgICAgIAogICAgICAgICAgICAKCiAgICAgICAgICAgIHZhciBjaXJjbGVfbWFya2VyXzYyZjk4OGEwMmI3YzQ4Mzc4ZWE0YzRjMWRiOWI3ZWU5ID0gTC5jaXJjbGUoCiAgICAgICAgICAgICAgICBbNTAuNzMxNTEzMjI3OSwtMS4xNjQ5ODIzMjI2XSwKICAgICAgICAgICAgICAgIDEwLAogICAgICAgICAgICAgICAgewogICAgICAgICAgICAgICAgICAgIGNvbG9yOiAncmVkJywKICAgICAgICAgICAgICAgICAgICBmaWxsQ29sb3I6ICdyZWQnLAogICAgICAgICAgICAgICAgICAgIGZpbGxPcGFjaXR5OiAwLjYKICAgICAgICAgICAgICAgICAgICB9CiAgICAgICAgICAgICAgICApCiAgICAgICAgICAgICAgICAuYWRkVG8obWFwXzU4MzE0NmFmZmU2MzRkZGZhZmJlYTdkZWU4ZWRkZmE5KTsKICAgICAgICAgICAgCiAgICAgICAgCiAgICAgICAgICAgIAogICAgICAgICAgICB2YXIgcG9wdXBfY2UyNWU2ZTk0ODQyNGFmYzhmYjMzNmQ1YThlYWU1OGIgPSBMLnBvcHVwKHttYXhXaWR0aDogJzMwMCd9KTsKCiAgICAgICAgICAgIAogICAgICAgICAgICAgICAgdmFyIGh0bWxfYWIwZDg5ZDg0MDMxNGYzOTgxZjA3MGRmNzk1NDZkMzUgPSAkKCcgICAgICAgICA8ZGl2IGlkPSJodG1sX2FiMGQ4OWQ4NDAzMTRmMzk4MWYwNzBkZjc5NTQ2ZDM1IiAgICAgICAgICAgICAgICAgc3R5bGU9IndpZHRoOiAxMDAuMCU7IGhlaWdodDogMTAwLjAlOyI+ICAgICAgICAgICAgICAgICBTRUNVUkVMIExURDogMSwgQnVja2luZ2hhbSBSb2FkLCBSeWRlLCBQTzMzIDJEUDwvZGl2PiAgICAgICAgICAgICAgICAgJylbMF07CiAgICAgICAgICAgICAgICBwb3B1cF9jZTI1ZTZlOTQ4NDI0YWZjOGZiMzM2ZDVhOGVhZTU4Yi5zZXRDb250ZW50KGh0bWxfYWIwZDg5ZDg0MDMxNGYzOTgxZjA3MGRmNzk1NDZkMzUpOwogICAgICAgICAgICAKCiAgICAgICAgICAgIGNpcmNsZV9tYXJrZXJfNjJmOTg4YTAyYjdjNDgzNzhlYTRjNGMxZGI5YjdlZTkuYmluZFBvcHVwKHBvcHVwX2NlMjVlNmU5NDg0MjRhZmM4ZmIzMzZkNWE4ZWFlNThiKTsKCiAgICAgICAgICAgIAogICAgICAgIAogICAgICAgIAogICAgICAgICAgICAKCiAgICAgICAgICAgIHZhciBjaXJjbGVfbWFya2VyXzUzNzdlZjZjY2UxNjQ4OThiN2RjNTBjMWU0NmFlNTI5ID0gTC5jaXJjbGUoCiAgICAgICAgICAgICAgICBbNTAuNjI5NjQ3OTQ5NSwtMS4xNzg1NTEwMjU1M10sCiAgICAgICAgICAgICAgICAxMCwKICAgICAgICAgICAgICAgIHsKICAgICAgICAgICAgICAgICAgICBjb2xvcjogJ3JlZCcsCiAgICAgICAgICAgICAgICAgICAgZmlsbENvbG9yOiAncmVkJywKICAgICAgICAgICAgICAgICAgICBmaWxsT3BhY2l0eTogMC42CiAgICAgICAgICAgICAgICAgICAgfQogICAgICAgICAgICAgICAgKQogICAgICAgICAgICAgICAgLmFkZFRvKG1hcF81ODMxNDZhZmZlNjM0ZGRmYWZiZWE3ZGVlOGVkZGZhOSk7CiAgICAgICAgICAgIAogICAgICAgIAogICAgICAgICAgICAKICAgICAgICAgICAgdmFyIHBvcHVwX2UwZWRlMDVlZmUyZTQ3OTFiNTNkNDU1ZTA0ZWM2ZDJkID0gTC5wb3B1cCh7bWF4V2lkdGg6ICczMDAnfSk7CgogICAgICAgICAgICAKICAgICAgICAgICAgICAgIHZhciBodG1sXzRkYTg0YzA0NTRjOTRhMTc4ZDE0ZTI4OTVjZjIyOWQ0ID0gJCgnICAgICAgICAgPGRpdiBpZD0iaHRtbF80ZGE4NGMwNDU0Yzk0YTE3OGQxNGUyODk1Y2YyMjlkNCIgICAgICAgICAgICAgICAgIHN0eWxlPSJ3aWR0aDogMTAwLjAlOyBoZWlnaHQ6IDEwMC4wJTsiPiAgICAgICAgICAgICAgICAgSFBVVCBUUlVTVEVFIE5PIDEgTElNSVRFRDogMSwgSGlnaCBTdHJlZXQsIFNoYW5rbGluLCBQTzM3IDZMQTwvZGl2PiAgICAgICAgICAgICAgICAgJylbMF07CiAgICAgICAgICAgICAgICBwb3B1cF9lMGVkZTA1ZWZlMmU0NzkxYjUzZDQ1NWUwNGVjNmQyZC5zZXRDb250ZW50KGh0bWxfNGRhODRjMDQ1NGM5NGExNzhkMTRlMjg5NWNmMjI5ZDQpOwogICAgICAgICAgICAKCiAgICAgICAgICAgIGNpcmNsZV9tYXJrZXJfNTM3N2VmNmNjZTE2NDg5OGI3ZGM1MGMxZTQ2YWU1MjkuYmluZFBvcHVwKHBvcHVwX2UwZWRlMDVlZmUyZTQ3OTFiNTNkNDU1ZTA0ZWM2ZDJkKTsKCiAgICAgICAgICAgIAogICAgICAgIAogICAgICAgIAogICAgICAgICAgICAKCiAgICAgICAgICAgIHZhciBjaXJjbGVfbWFya2VyXzhkMmNiOTY1NmM3ZTRlZDVhZTRkNjNiOTk0YjU5OWIzID0gTC5jaXJjbGUoCiAgICAgICAgICAgICAgICBbNTAuNjMzNzU2NjQ3MiwtMS4yNTQ2Mzc1MDEyXSwKICAgICAgICAgICAgICAgIDEwLAogICAgICAgICAgICAgICAgewogICAgICAgICAgICAgICAgICAgIGNvbG9yOiAncmVkJywKICAgICAgICAgICAgICAgICAgICBmaWxsQ29sb3I6ICdyZWQnLAogICAgICAgICAgICAgICAgICAgIGZpbGxPcGFjaXR5OiAwLjYKICAgICAgICAgICAgICAgICAgICB9CiAgICAgICAgICAgICAgICApCiAgICAgICAgICAgICAgICAuYWRkVG8obWFwXzU4MzE0NmFmZmU2MzRkZGZhZmJlYTdkZWU4ZWRkZmE5KTsKICAgICAgICAgICAgCiAgICAgICAgCiAgICAgICAgICAgIAogICAgICAgICAgICB2YXIgcG9wdXBfNTE4YjYwYzk1Mjk3NDkzZTg0MzMxNTAxOWYwODMyYzEgPSBMLnBvcHVwKHttYXhXaWR0aDogJzMwMCd9KTsKCiAgICAgICAgICAgIAogICAgICAgICAgICAgICAgdmFyIGh0bWxfNTBmZTdhNzdlNDNlNDliZmFiYTllZjA2MWQwMWNmMmEgPSAkKCcgICAgICAgICA8ZGl2IGlkPSJodG1sXzUwZmU3YTc3ZTQzZTQ5YmZhYmE5ZWYwNjFkMDFjZjJhIiAgICAgICAgICAgICAgICAgc3R5bGU9IndpZHRoOiAxMDAuMCU7IGhlaWdodDogMTAwLjAlOyI+ICAgICAgICAgICAgICAgICBYWVogTElNSVRFRDogVGhlIEVzc2V4LCBIaWdoIFN0cmVldCwgR29kc2hpbGwsIFZlbnRub3IsIFBPMzggM0hIPC9kaXY+ICAgICAgICAgICAgICAgICAnKVswXTsKICAgICAgICAgICAgICAgIHBvcHVwXzUxOGI2MGM5NTI5NzQ5M2U4NDMzMTUwMTlmMDgzMmMxLnNldENvbnRlbnQoaHRtbF81MGZlN2E3N2U0M2U0OWJmYWJhOWVmMDYxZDAxY2YyYSk7CiAgICAgICAgICAgIAoKICAgICAgICAgICAgY2lyY2xlX21hcmtlcl84ZDJjYjk2NTZjN2U0ZWQ1YWU0ZDYzYjk5NGI1OTliMy5iaW5kUG9wdXAocG9wdXBfNTE4YjYwYzk1Mjk3NDkzZTg0MzMxNTAxOWYwODMyYzEpOwoKICAgICAgICAgICAgCiAgICAgICAgCiAgICAgICAgCiAgICAgICAgICAgIAoKICAgICAgICAgICAgdmFyIGNpcmNsZV9tYXJrZXJfOTRjMGZmYjhiYzliNDQ4YjlkOWUxNTg3ZjAwYTdlOGYgPSBMLmNpcmNsZSgKICAgICAgICAgICAgICAgIFs1MC43MDExMDUwMzQsLTEuMzAyNjkyNTM0MzZdLAogICAgICAgICAgICAgICAgMTAsCiAgICAgICAgICAgICAgICB7CiAgICAgICAgICAgICAgICAgICAgY29sb3I6ICdyZWQnLAogICAgICAgICAgICAgICAgICAgIGZpbGxDb2xvcjogJ3JlZCcsCiAgICAgICAgICAgICAgICAgICAgZmlsbE9wYWNpdHk6IDAuNgogICAgICAgICAgICAgICAgICAgIH0KICAgICAgICAgICAgICAgICkKICAgICAgICAgICAgICAgIC5hZGRUbyhtYXBfNTgzMTQ2YWZmZTYzNGRkZmFmYmVhN2RlZThlZGRmYTkpOwogICAgICAgICAgICAKICAgICAgICAKICAgICAgICAgICAgCiAgICAgICAgICAgIHZhciBwb3B1cF84OGE4Mjc4ZjI4NWM0YjQ1ODRmOGZhMzAxZTM0OWVhNCA9IEwucG9wdXAoe21heFdpZHRoOiAnMzAwJ30pOwoKICAgICAgICAgICAgCiAgICAgICAgICAgICAgICB2YXIgaHRtbF9lN2M1M2U4ZWNhMWM0YjNlOWZhMDU1YzNiODcxMDYwYyA9ICQoJyAgICAgICAgIDxkaXYgaWQ9Imh0bWxfZTdjNTNlOGVjYTFjNGIzZTlmYTA1NWMzYjg3MTA2MGMiICAgICAgICAgICAgICAgICBzdHlsZT0id2lkdGg6IDEwMC4wJTsgaGVpZ2h0OiAxMDAuMCU7Ij4gICAgICAgICAgICAgICAgIERFTFRBIElOVkVTVE1FTlRTIExJTUlURUQ6IExhbmQgb24gdGhlIHNvdXRoIHNpZGUgb2YgUGV0dGljb2F0IExhbmUsIE5ld3BvcnQsIFBPMzAgNURKPC9kaXY+ICAgICAgICAgICAgICAgICAnKVswXTsKICAgICAgICAgICAgICAgIHBvcHVwXzg4YTgyNzhmMjg1YzRiNDU4NGY4ZmEzMDFlMzQ5ZWE0LnNldENvbnRlbnQoaHRtbF9lN2M1M2U4ZWNhMWM0YjNlOWZhMDU1YzNiODcxMDYwYyk7CiAgICAgICAgICAgIAoKICAgICAgICAgICAgY2lyY2xlX21hcmtlcl85NGMwZmZiOGJjOWI0NDhiOWQ5ZTE1ODdmMDBhN2U4Zi5iaW5kUG9wdXAocG9wdXBfODhhODI3OGYyODVjNGI0NTg0ZjhmYTMwMWUzNDllYTQpOwoKICAgICAgICAgICAgCiAgICAgICAgCiAgICAgICAgCiAgICAgICAgICAgIAoKICAgICAgICAgICAgdmFyIGNpcmNsZV9tYXJrZXJfMjU2NDQ4ZWM0YTExNDZmNzkwM2UwZTY1YWUxMDI0NWUgPSBMLmNpcmNsZSgKICAgICAgICAgICAgICAgIFs1MC42Mjg5NDEwNzczLC0xLjE3OTA1ODE4OTk0XSwKICAgICAgICAgICAgICAgIDEwLAogICAgICAgICAgICAgICAgewogICAgICAgICAgICAgICAgICAgIGNvbG9yOiAncmVkJywKICAgICAgICAgICAgICAgICAgICBmaWxsQ29sb3I6ICdyZWQnLAogICAgICAgICAgICAgICAgICAgIGZpbGxPcGFjaXR5OiAwLjYKICAgICAgICAgICAgICAgICAgICB9CiAgICAgICAgICAgICAgICApCiAgICAgICAgICAgICAgICAuYWRkVG8obWFwXzU4MzE0NmFmZmU2MzRkZGZhZmJlYTdkZWU4ZWRkZmE5KTsKICAgICAgICAgICAgCiAgICAgICAgCiAgICAgICAgICAgIAogICAgICAgICAgICB2YXIgcG9wdXBfOGUyZGZlMjgxYjk1NGM5MWE4N2ViNzhiYzNjYTljZmYgPSBMLnBvcHVwKHttYXhXaWR0aDogJzMwMCd9KTsKCiAgICAgICAgICAgIAogICAgICAgICAgICAgICAgdmFyIGh0bWxfZGY3ZGI4MjdiODM0NGNmMTkwOGU3OWU5MzU4NGE3OTAgPSAkKCcgICAgICAgICA8ZGl2IGlkPSJodG1sX2RmN2RiODI3YjgzNDRjZjE5MDhlNzllOTM1ODRhNzkwIiAgICAgICAgICAgICAgICAgc3R5bGU9IndpZHRoOiAxMDAuMCU7IGhlaWdodDogMTAwLjAlOyI+ICAgICAgICAgICAgICAgICBCUllBTlRXT09EIExJTUlURUQ6IDI2LCBIaWdoIFN0cmVldCwgU2hhbmtsaW4sLCBQTzM3IDZKWTwvZGl2PiAgICAgICAgICAgICAgICAgJylbMF07CiAgICAgICAgICAgICAgICBwb3B1cF84ZTJkZmUyODFiOTU0YzkxYTg3ZWI3OGJjM2NhOWNmZi5zZXRDb250ZW50KGh0bWxfZGY3ZGI4MjdiODM0NGNmMTkwOGU3OWU5MzU4NGE3OTApOwogICAgICAgICAgICAKCiAgICAgICAgICAgIGNpcmNsZV9tYXJrZXJfMjU2NDQ4ZWM0YTExNDZmNzkwM2UwZTY1YWUxMDI0NWUuYmluZFBvcHVwKHBvcHVwXzhlMmRmZTI4MWI5NTRjOTFhODdlYjc4YmMzY2E5Y2ZmKTsKCiAgICAgICAgICAgIAogICAgICAgIAogICAgICAgIAogICAgICAgICAgICAKCiAgICAgICAgICAgIHZhciBjaXJjbGVfbWFya2VyX2I0YzFiMTkxNTQ5ZDRkZGRiMWYxNDhkODc0MWZjNDFjID0gTC5jaXJjbGUoCiAgICAgICAgICAgICAgICBbNTAuNjMzNzU2NjQ3MiwtMS4yNTQ2Mzc1MDEyXSwKICAgICAgICAgICAgICAgIDEwLAogICAgICAgICAgICAgICAgewogICAgICAgICAgICAgICAgICAgIGNvbG9yOiAncmVkJywKICAgICAgICAgICAgICAgICAgICBmaWxsQ29sb3I6ICdyZWQnLAogICAgICAgICAgICAgICAgICAgIGZpbGxPcGFjaXR5OiAwLjYKICAgICAgICAgICAgICAgICAgICB9CiAgICAgICAgICAgICAgICApCiAgICAgICAgICAgICAgICAuYWRkVG8obWFwXzU4MzE0NmFmZmU2MzRkZGZhZmJlYTdkZWU4ZWRkZmE5KTsKICAgICAgICAgICAgCiAgICAgICAgCiAgICAgICAgICAgIAogICAgICAgICAgICB2YXIgcG9wdXBfYjJiYWE1NGYxYjE0NDQyNDkxYTdmNmRiZTdlOTk2OTAgPSBMLnBvcHVwKHttYXhXaWR0aDogJzMwMCd9KTsKCiAgICAgICAgICAgIAogICAgICAgICAgICAgICAgdmFyIGh0bWxfZDEzYmY0YzJkNTg0NDFhN2EwZTFjMzYxNmUyM2FmODIgPSAkKCcgICAgICAgICA8ZGl2IGlkPSJodG1sX2QxM2JmNGMyZDU4NDQxYTdhMGUxYzM2MTZlMjNhZjgyIiAgICAgICAgICAgICAgICAgc3R5bGU9IndpZHRoOiAxMDAuMCU7IGhlaWdodDogMTAwLjAlOyI+ICAgICAgICAgICAgICAgICBYWVogTElNSVRFRDogR29kc2hpbGwgUG9zdCBPZmZpY2UgYW5kIFN0b3JlcywgSGlnaCBTdHJlZXQsIEdvZHNoaWxsLCBWZW50bm9yLCBQTzM4IDNISDwvZGl2PiAgICAgICAgICAgICAgICAgJylbMF07CiAgICAgICAgICAgICAgICBwb3B1cF9iMmJhYTU0ZjFiMTQ0NDI0OTFhN2Y2ZGJlN2U5OTY5MC5zZXRDb250ZW50KGh0bWxfZDEzYmY0YzJkNTg0NDFhN2EwZTFjMzYxNmUyM2FmODIpOwogICAgICAgICAgICAKCiAgICAgICAgICAgIGNpcmNsZV9tYXJrZXJfYjRjMWIxOTE1NDlkNGRkZGIxZjE0OGQ4NzQxZmM0MWMuYmluZFBvcHVwKHBvcHVwX2IyYmFhNTRmMWIxNDQ0MjQ5MWE3ZjZkYmU3ZTk5NjkwKTsKCiAgICAgICAgICAgIAogICAgICAgIAogICAgICAgIAogICAgICAgICAgICAKCiAgICAgICAgICAgIHZhciBjaXJjbGVfbWFya2VyXzk1MzMyNjQ3YjliYzQyMjFiNDI0Nzg3YWQ5MjIzZGM1ID0gTC5jaXJjbGUoCiAgICAgICAgICAgICAgICBbNTAuNzA2Mjc2MjUwMywtMS40OTY2MzExNjY5N10sCiAgICAgICAgICAgICAgICAxMCwKICAgICAgICAgICAgICAgIHsKICAgICAgICAgICAgICAgICAgICBjb2xvcjogJ3JlZCcsCiAgICAgICAgICAgICAgICAgICAgZmlsbENvbG9yOiAncmVkJywKICAgICAgICAgICAgICAgICAgICBmaWxsT3BhY2l0eTogMC42CiAgICAgICAgICAgICAgICAgICAgfQogICAgICAgICAgICAgICAgKQogICAgICAgICAgICAgICAgLmFkZFRvKG1hcF81ODMxNDZhZmZlNjM0ZGRmYWZiZWE3ZGVlOGVkZGZhOSk7CiAgICAgICAgICAgIAogICAgICAgIAogICAgICAgICAgICAKICAgICAgICAgICAgdmFyIHBvcHVwXzgyM2VkOTVlMjJjOTQ2NTZhMzBlMmNkNjUzMTRkMjQ1ID0gTC5wb3B1cCh7bWF4V2lkdGg6ICczMDAnfSk7CgogICAgICAgICAgICAKICAgICAgICAgICAgICAgIHZhciBodG1sX2NiMDQ1Nzg2OTY4YzQ3MTY4YWVlZTVlZmYxZTMxMmFhID0gJCgnICAgICAgICAgPGRpdiBpZD0iaHRtbF9jYjA0NTc4Njk2OGM0NzE2OGFlZWU1ZWZmMWUzMTJhYSIgICAgICAgICAgICAgICAgIHN0eWxlPSJ3aWR0aDogMTAwLjAlOyBoZWlnaHQ6IDEwMC4wJTsiPiAgICAgICAgICAgICAgICAgRURSQSBTRUNVUklUSUVTIExJTUlURUQ6IGxhbmQgYWRqb2luaW5nIE5vcnRoIEhvdXNlLCBIaWdoIFN0cmVldCwgWWFybW91dGgsLCBQTzQxIDBQTjwvZGl2PiAgICAgICAgICAgICAgICAgJylbMF07CiAgICAgICAgICAgICAgICBwb3B1cF84MjNlZDk1ZTIyYzk0NjU2YTMwZTJjZDY1MzE0ZDI0NS5zZXRDb250ZW50KGh0bWxfY2IwNDU3ODY5NjhjNDcxNjhhZWVlNWVmZjFlMzEyYWEpOwogICAgICAgICAgICAKCiAgICAgICAgICAgIGNpcmNsZV9tYXJrZXJfOTUzMzI2NDdiOWJjNDIyMWI0MjQ3ODdhZDkyMjNkYzUuYmluZFBvcHVwKHBvcHVwXzgyM2VkOTVlMjJjOTQ2NTZhMzBlMmNkNjUzMTRkMjQ1KTsKCiAgICAgICAgICAgIAogICAgICAgIAogICAgICAgIAogICAgICAgICAgICAKCiAgICAgICAgICAgIHZhciBjaXJjbGVfbWFya2VyXzI1NmFjNGQ3ZWMwZjQ3MzFiMjExZDc1OGY0NzQ4YWRjID0gTC5jaXJjbGUoCiAgICAgICAgICAgICAgICBbNTAuNzA2Mjc2MjUwMywtMS40OTY2MzExNjY5N10sCiAgICAgICAgICAgICAgICAxMCwKICAgICAgICAgICAgICAgIHsKICAgICAgICAgICAgICAgICAgICBjb2xvcjogJ3JlZCcsCiAgICAgICAgICAgICAgICAgICAgZmlsbENvbG9yOiAncmVkJywKICAgICAgICAgICAgICAgICAgICBmaWxsT3BhY2l0eTogMC42CiAgICAgICAgICAgICAgICAgICAgfQogICAgICAgICAgICAgICAgKQogICAgICAgICAgICAgICAgLmFkZFRvKG1hcF81ODMxNDZhZmZlNjM0ZGRmYWZiZWE3ZGVlOGVkZGZhOSk7CiAgICAgICAgICAgIAogICAgICAgIAogICAgICAgICAgICAKICAgICAgICAgICAgdmFyIHBvcHVwXzJkNWYzZjQyZGQxZjQwOWQ4MzIxYWM3ZjM2ZDZiNDI0ID0gTC5wb3B1cCh7bWF4V2lkdGg6ICczMDAnfSk7CgogICAgICAgICAgICAKICAgICAgICAgICAgICAgIHZhciBodG1sXzY5N2Q5NTZmZDY4ZTRmMjNiMzk5ZDUwMGEwMjQ0OWNkID0gJCgnICAgICAgICAgPGRpdiBpZD0iaHRtbF82OTdkOTU2ZmQ2OGU0ZjIzYjM5OWQ1MDBhMDI0NDljZCIgICAgICAgICAgICAgICAgIHN0eWxlPSJ3aWR0aDogMTAwLjAlOyBoZWlnaHQ6IDEwMC4wJTsiPiAgICAgICAgICAgICAgICAgRURSQSBTRUNVUklUSUVTIExJTUlURUQ6IE5vcnRoIEhvdXNlLCBIaWdoIFN0cmVldCwgWWFybW91dGgsLCBQTzQxIDBQTjwvZGl2PiAgICAgICAgICAgICAgICAgJylbMF07CiAgICAgICAgICAgICAgICBwb3B1cF8yZDVmM2Y0MmRkMWY0MDlkODMyMWFjN2YzNmQ2YjQyNC5zZXRDb250ZW50KGh0bWxfNjk3ZDk1NmZkNjhlNGYyM2IzOTlkNTAwYTAyNDQ5Y2QpOwogICAgICAgICAgICAKCiAgICAgICAgICAgIGNpcmNsZV9tYXJrZXJfMjU2YWM0ZDdlYzBmNDczMWIyMTFkNzU4ZjQ3NDhhZGMuYmluZFBvcHVwKHBvcHVwXzJkNWYzZjQyZGQxZjQwOWQ4MzIxYWM3ZjM2ZDZiNDI0KTsKCiAgICAgICAgICAgIAogICAgICAgIAogICAgICAgIAogICAgICAgICAgICAKCiAgICAgICAgICAgIHZhciBjaXJjbGVfbWFya2VyXzJlN2JiMjBiNzZkNTQ5ZGViZTcyY2Y0N2E0ZTg4MjNmID0gTC5jaXJjbGUoCiAgICAgICAgICAgICAgICBbNTAuNzAxODc2OTc1LC0xLjI5NjQ2NDY2MTddLAogICAgICAgICAgICAgICAgMTAsCiAgICAgICAgICAgICAgICB7CiAgICAgICAgICAgICAgICAgICAgY29sb3I6ICdyZWQnLAogICAgICAgICAgICAgICAgICAgIGZpbGxDb2xvcjogJ3JlZCcsCiAgICAgICAgICAgICAgICAgICAgZmlsbE9wYWNpdHk6IDAuNgogICAgICAgICAgICAgICAgICAgIH0KICAgICAgICAgICAgICAgICkKICAgICAgICAgICAgICAgIC5hZGRUbyhtYXBfNTgzMTQ2YWZmZTYzNGRkZmFmYmVhN2RlZThlZGRmYTkpOwogICAgICAgICAgICAKICAgICAgICAKICAgICAgICAgICAgCiAgICAgICAgICAgIHZhciBwb3B1cF81NjZhMTM2MDU0MmU0NmNjODRkZDhlYzIzYWQ3YTk2ZiA9IEwucG9wdXAoe21heFdpZHRoOiAnMzAwJ30pOwoKICAgICAgICAgICAgCiAgICAgICAgICAgICAgICB2YXIgaHRtbF8zZjRiMWIyOWU0NzM0MTU2OTNlMTVmMTY1OTlhNDU2OCA9ICQoJyAgICAgICAgIDxkaXYgaWQ9Imh0bWxfM2Y0YjFiMjllNDczNDE1NjkzZTE1ZjE2NTk5YTQ1NjgiICAgICAgICAgICAgICAgICBzdHlsZT0id2lkdGg6IDEwMC4wJTsgaGVpZ2h0OiAxMDAuMCU7Ij4gICAgICAgICAgICAgICAgIEwgTSBCIE9WRVJTRUFTIElOVkVTVE1FTlRTIExJTUlURUQ6IFRvd25nYXRlIFJldGFpbCBQYXJrLCBTdCBKYW1lcyBTdHJlZXQsIE5ld3BvcnQsIFBPMzAgNUhGPC9kaXY+ICAgICAgICAgICAgICAgICAnKVswXTsKICAgICAgICAgICAgICAgIHBvcHVwXzU2NmExMzYwNTQyZTQ2Y2M4NGRkOGVjMjNhZDdhOTZmLnNldENvbnRlbnQoaHRtbF8zZjRiMWIyOWU0NzM0MTU2OTNlMTVmMTY1OTlhNDU2OCk7CiAgICAgICAgICAgIAoKICAgICAgICAgICAgY2lyY2xlX21hcmtlcl8yZTdiYjIwYjc2ZDU0OWRlYmU3MmNmNDdhNGU4ODIzZi5iaW5kUG9wdXAocG9wdXBfNTY2YTEzNjA1NDJlNDZjYzg0ZGQ4ZWMyM2FkN2E5NmYpOwoKICAgICAgICAgICAgCiAgICAgICAgCiAgICAgICAgCiAgICAgICAgICAgIAoKICAgICAgICAgICAgdmFyIGNpcmNsZV9tYXJrZXJfY2QxMjFjM2Q1ZGI1NDRjZWIzNjAxNzAxMjk3OGRlZTMgPSBMLmNpcmNsZSgKICAgICAgICAgICAgICAgIFs1MC42MjgxMDc2NDU1LC0xLjE3ODE5NjEyMjVdLAogICAgICAgICAgICAgICAgMTAsCiAgICAgICAgICAgICAgICB7CiAgICAgICAgICAgICAgICAgICAgY29sb3I6ICdyZWQnLAogICAgICAgICAgICAgICAgICAgIGZpbGxDb2xvcjogJ3JlZCcsCiAgICAgICAgICAgICAgICAgICAgZmlsbE9wYWNpdHk6IDAuNgogICAgICAgICAgICAgICAgICAgIH0KICAgICAgICAgICAgICAgICkKICAgICAgICAgICAgICAgIC5hZGRUbyhtYXBfNTgzMTQ2YWZmZTYzNGRkZmFmYmVhN2RlZThlZGRmYTkpOwogICAgICAgICAgICAKICAgICAgICAKICAgICAgICAgICAgCiAgICAgICAgICAgIHZhciBwb3B1cF80ZDMyNTg5Y2VjNjI0NDA5YTc5NDVlMzM0MDM0MzA0YyA9IEwucG9wdXAoe21heFdpZHRoOiAnMzAwJ30pOwoKICAgICAgICAgICAgCiAgICAgICAgICAgICAgICB2YXIgaHRtbF9lYTA2M2FiNDEwNTA0ZjYyYTU4NWQ3NTU3Yjc3ZTVhZCA9ICQoJyAgICAgICAgIDxkaXYgaWQ9Imh0bWxfZWEwNjNhYjQxMDUwNGY2MmE1ODVkNzU1N2I3N2U1YWQiICAgICAgICAgICAgICAgICBzdHlsZT0id2lkdGg6IDEwMC4wJTsgaGVpZ2h0OiAxMDAuMCU7Ij4gICAgICAgICAgICAgICAgIFJCQyBUUlVTVEVFUyAoQ0kpIExJTUlURUQ6IEZsYXQgMzgsIFNoYW5rbGluIFRvd2VycywgUHJvc3BlY3QgUm9hZCwgU2hhbmtsaW4gYW5kIGdhcmFnZSAzLCBQTzM3IDZBRDwvZGl2PiAgICAgICAgICAgICAgICAgJylbMF07CiAgICAgICAgICAgICAgICBwb3B1cF80ZDMyNTg5Y2VjNjI0NDA5YTc5NDVlMzM0MDM0MzA0Yy5zZXRDb250ZW50KGh0bWxfZWEwNjNhYjQxMDUwNGY2MmE1ODVkNzU1N2I3N2U1YWQpOwogICAgICAgICAgICAKCiAgICAgICAgICAgIGNpcmNsZV9tYXJrZXJfY2QxMjFjM2Q1ZGI1NDRjZWIzNjAxNzAxMjk3OGRlZTMuYmluZFBvcHVwKHBvcHVwXzRkMzI1ODljZWM2MjQ0MDlhNzk0NWUzMzQwMzQzMDRjKTsKCiAgICAgICAgICAgIAogICAgICAgIAogICAgICAgIAogICAgICAgICAgICAKCiAgICAgICAgICAgIHZhciBjaXJjbGVfbWFya2VyXzM4YmExZmQ2MjYzNDQyNWI5OWU2ZjkyNGUyMDE0OGY5ID0gTC5jaXJjbGUoCiAgICAgICAgICAgICAgICBbNTAuNjYxNTYwMjQ2OCwtMS4xNTE2NjQ0MzY0NV0sCiAgICAgICAgICAgICAgICAxMCwKICAgICAgICAgICAgICAgIHsKICAgICAgICAgICAgICAgICAgICBjb2xvcjogJ3JlZCcsCiAgICAgICAgICAgICAgICAgICAgZmlsbENvbG9yOiAncmVkJywKICAgICAgICAgICAgICAgICAgICBmaWxsT3BhY2l0eTogMC42CiAgICAgICAgICAgICAgICAgICAgfQogICAgICAgICAgICAgICAgKQogICAgICAgICAgICAgICAgLmFkZFRvKG1hcF81ODMxNDZhZmZlNjM0ZGRmYWZiZWE3ZGVlOGVkZGZhOSk7CiAgICAgICAgICAgIAogICAgICAgIAogICAgICAgICAgICAKICAgICAgICAgICAgdmFyIHBvcHVwXzZjYTJlYzAxNzRkZjQzODNiNWRhMDBjOGYwODI3ODE4ID0gTC5wb3B1cCh7bWF4V2lkdGg6ICczMDAnfSk7CgogICAgICAgICAgICAKICAgICAgICAgICAgICAgIHZhciBodG1sX2UxYjcwMGNhYTQyZDRjMTk4NDZjMjhmM2NmMmM5MDgzID0gJCgnICAgICAgICAgPGRpdiBpZD0iaHRtbF9lMWI3MDBjYWE0MmQ0YzE5ODQ2YzI4ZjNjZjJjOTA4MyIgICAgICAgICAgICAgICAgIHN0eWxlPSJ3aWR0aDogMTAwLjAlOyBoZWlnaHQ6IDEwMC4wJTsiPiAgICAgICAgICAgICAgICAgUkJDIFRSVVNURUVTIChDSSkgTElNSVRFRDogMTMwLCBBdmVudWUgUm9hZCwgU2FuZG93biwgUE8zNiA4RFk8L2Rpdj4gICAgICAgICAgICAgICAgICcpWzBdOwogICAgICAgICAgICAgICAgcG9wdXBfNmNhMmVjMDE3NGRmNDM4M2I1ZGEwMGM4ZjA4Mjc4MTguc2V0Q29udGVudChodG1sX2UxYjcwMGNhYTQyZDRjMTk4NDZjMjhmM2NmMmM5MDgzKTsKICAgICAgICAgICAgCgogICAgICAgICAgICBjaXJjbGVfbWFya2VyXzM4YmExZmQ2MjYzNDQyNWI5OWU2ZjkyNGUyMDE0OGY5LmJpbmRQb3B1cChwb3B1cF82Y2EyZWMwMTc0ZGY0MzgzYjVkYTAwYzhmMDgyNzgxOCk7CgogICAgICAgICAgICAKICAgICAgICAKICAgICAgICAKICAgICAgICAgICAgCgogICAgICAgICAgICB2YXIgY2lyY2xlX21hcmtlcl85NDBlYTYyNTFmODQ0NTk1ODI2MTQ0ODE1YjVlNDRhMiA9IEwuY2lyY2xlKAogICAgICAgICAgICAgICAgWzUwLjcwMDMwMDY4NDEsLTEuMjkxNTg4ODkyNDldLAogICAgICAgICAgICAgICAgMTAsCiAgICAgICAgICAgICAgICB7CiAgICAgICAgICAgICAgICAgICAgY29sb3I6ICdyZWQnLAogICAgICAgICAgICAgICAgICAgIGZpbGxDb2xvcjogJ3JlZCcsCiAgICAgICAgICAgICAgICAgICAgZmlsbE9wYWNpdHk6IDAuNgogICAgICAgICAgICAgICAgICAgIH0KICAgICAgICAgICAgICAgICkKICAgICAgICAgICAgICAgIC5hZGRUbyhtYXBfNTgzMTQ2YWZmZTYzNGRkZmFmYmVhN2RlZThlZGRmYTkpOwogICAgICAgICAgICAKICAgICAgICAKICAgICAgICAgICAgCiAgICAgICAgICAgIHZhciBwb3B1cF85OTk1MzFkYWFlMmE0MDgzYmZlOGE5NDc3NjE1M2VjOCA9IEwucG9wdXAoe21heFdpZHRoOiAnMzAwJ30pOwoKICAgICAgICAgICAgCiAgICAgICAgICAgICAgICB2YXIgaHRtbF83ZWIxZDQ5OTE2OTk0NWQ3YTA3MjhlNDViYjZmY2Y5MCA9ICQoJyAgICAgICAgIDxkaXYgaWQ9Imh0bWxfN2ViMWQ0OTkxNjk5NDVkN2EwNzI4ZTQ1YmI2ZmNmOTAiICAgICAgICAgICAgICAgICBzdHlsZT0id2lkdGg6IDEwMC4wJTsgaGVpZ2h0OiAxMDAuMCU7Ij4gICAgICAgICAgICAgICAgIEsvUyBORVdQT1JUOiBUaGUgTWVkaW5hLCBIaWdoIFN0cmVldCwgTmV3cG9ydCwgUE8zMCAxU1M8L2Rpdj4gICAgICAgICAgICAgICAgICcpWzBdOwogICAgICAgICAgICAgICAgcG9wdXBfOTk5NTMxZGFhZTJhNDA4M2JmZThhOTQ3NzYxNTNlYzguc2V0Q29udGVudChodG1sXzdlYjFkNDk5MTY5OTQ1ZDdhMDcyOGU0NWJiNmZjZjkwKTsKICAgICAgICAgICAgCgogICAgICAgICAgICBjaXJjbGVfbWFya2VyXzk0MGVhNjI1MWY4NDQ1OTU4MjYxNDQ4MTViNWU0NGEyLmJpbmRQb3B1cChwb3B1cF85OTk1MzFkYWFlMmE0MDgzYmZlOGE5NDc3NjE1M2VjOCk7CgogICAgICAgICAgICAKICAgICAgICAKICAgICAgICAKICAgICAgICAgICAgCgogICAgICAgICAgICB2YXIgY2lyY2xlX21hcmtlcl81MDhmODk1YTU4YjE0OTcxYWJiNDJjY2JjMzZjMzc3MiA9IEwuY2lyY2xlKAogICAgICAgICAgICAgICAgWzUwLjc2MDk3NjEwNjYsLTEuMjk5MjA4ODI4NTZdLAogICAgICAgICAgICAgICAgMTAsCiAgICAgICAgICAgICAgICB7CiAgICAgICAgICAgICAgICAgICAgY29sb3I6ICdyZWQnLAogICAgICAgICAgICAgICAgICAgIGZpbGxDb2xvcjogJ3JlZCcsCiAgICAgICAgICAgICAgICAgICAgZmlsbE9wYWNpdHk6IDAuNgogICAgICAgICAgICAgICAgICAgIH0KICAgICAgICAgICAgICAgICkKICAgICAgICAgICAgICAgIC5hZGRUbyhtYXBfNTgzMTQ2YWZmZTYzNGRkZmFmYmVhN2RlZThlZGRmYTkpOwogICAgICAgICAgICAKICAgICAgICAKICAgICAgICAgICAgCiAgICAgICAgICAgIHZhciBwb3B1cF8yZGI4YzRkMTI2ZTQ0MjYzOTlhOWM0ODNiMzdlNWI2NSA9IEwucG9wdXAoe21heFdpZHRoOiAnMzAwJ30pOwoKICAgICAgICAgICAgCiAgICAgICAgICAgICAgICB2YXIgaHRtbF9lNThmOGM2MDhiNDc0ZWNmYTIyYjUzZGEwODdhMmI3NCA9ICQoJyAgICAgICAgIDxkaXYgaWQ9Imh0bWxfZTU4ZjhjNjA4YjQ3NGVjZmEyMmI1M2RhMDg3YTJiNzQiICAgICAgICAgICAgICAgICBzdHlsZT0id2lkdGg6IDEwMC4wJTsgaGVpZ2h0OiAxMDAuMCU7Ij4gICAgICAgICAgICAgICAgIFBMQVRJTlVNIFBST1BFUlRZIEhPTERJTkdTIExJTUlURUQ6IDIzLTI3LCBEZW5tYXJrIFJvYWQsIENvd2VzLCBQTzMxIDdTWTwvZGl2PiAgICAgICAgICAgICAgICAgJylbMF07CiAgICAgICAgICAgICAgICBwb3B1cF8yZGI4YzRkMTI2ZTQ0MjYzOTlhOWM0ODNiMzdlNWI2NS5zZXRDb250ZW50KGh0bWxfZTU4ZjhjNjA4YjQ3NGVjZmEyMmI1M2RhMDg3YTJiNzQpOwogICAgICAgICAgICAKCiAgICAgICAgICAgIGNpcmNsZV9tYXJrZXJfNTA4Zjg5NWE1OGIxNDk3MWFiYjQyY2NiYzM2YzM3NzIuYmluZFBvcHVwKHBvcHVwXzJkYjhjNGQxMjZlNDQyNjM5OWE5YzQ4M2IzN2U1YjY1KTsKCiAgICAgICAgICAgIAogICAgICAgIAogICAgICAgIAogICAgICAgICAgICAKCiAgICAgICAgICAgIHZhciBjaXJjbGVfbWFya2VyX2E5OTFhM2I3ODEzMjRjNmVhYmZjODE3NWY4YzdlZDNlID0gTC5jaXJjbGUoCiAgICAgICAgICAgICAgICBbNTAuNzAwNjkyODYzMiwtMS4yOTM5NzYwMzkwOV0sCiAgICAgICAgICAgICAgICAxMCwKICAgICAgICAgICAgICAgIHsKICAgICAgICAgICAgICAgICAgICBjb2xvcjogJ3JlZCcsCiAgICAgICAgICAgICAgICAgICAgZmlsbENvbG9yOiAncmVkJywKICAgICAgICAgICAgICAgICAgICBmaWxsT3BhY2l0eTogMC42CiAgICAgICAgICAgICAgICAgICAgfQogICAgICAgICAgICAgICAgKQogICAgICAgICAgICAgICAgLmFkZFRvKG1hcF81ODMxNDZhZmZlNjM0ZGRmYWZiZWE3ZGVlOGVkZGZhOSk7CiAgICAgICAgICAgIAogICAgICAgIAogICAgICAgICAgICAKICAgICAgICAgICAgdmFyIHBvcHVwX2I3ODE2NGExNDQ3ZDQ3M2JhOWJhY2M1NjY3NzYxYTdlID0gTC5wb3B1cCh7bWF4V2lkdGg6ICczMDAnfSk7CgogICAgICAgICAgICAKICAgICAgICAgICAgICAgIHZhciBodG1sXzM0NjM1ZjdlYTZlNzQzZjI5YWI1NTg3YTFiNTZhMWFiID0gJCgnICAgICAgICAgPGRpdiBpZD0iaHRtbF8zNDYzNWY3ZWE2ZTc0M2YyOWFiNTU4N2ExYjU2YTFhYiIgICAgICAgICAgICAgICAgIHN0eWxlPSJ3aWR0aDogMTAwLjAlOyBoZWlnaHQ6IDEwMC4wJTsiPiAgICAgICAgICAgICAgICAgQ0FSTFRPTiBQUk9QRVJUWSBIT0xESU5HUyBMSU1JVEVEOiAyMCwgSG9seXJvb2QgU3RyZWV0LCBOZXdwb3J0LCBQTzMwIDVBWjwvZGl2PiAgICAgICAgICAgICAgICAgJylbMF07CiAgICAgICAgICAgICAgICBwb3B1cF9iNzgxNjRhMTQ0N2Q0NzNiYTliYWNjNTY2Nzc2MWE3ZS5zZXRDb250ZW50KGh0bWxfMzQ2MzVmN2VhNmU3NDNmMjlhYjU1ODdhMWI1NmExYWIpOwogICAgICAgICAgICAKCiAgICAgICAgICAgIGNpcmNsZV9tYXJrZXJfYTk5MWEzYjc4MTMyNGM2ZWFiZmM4MTc1ZjhjN2VkM2UuYmluZFBvcHVwKHBvcHVwX2I3ODE2NGExNDQ3ZDQ3M2JhOWJhY2M1NjY3NzYxYTdlKTsKCiAgICAgICAgICAgIAogICAgICAgIAogICAgICAgIAogICAgICAgICAgICAKCiAgICAgICAgICAgIHZhciBjaXJjbGVfbWFya2VyX2Q1ZGJiZTQ3YTA5MDRjZmFhZDBhOGE3NjYyZmZkY2ZhID0gTC5jaXJjbGUoCiAgICAgICAgICAgICAgICBbNTAuNjQ4NjQ0NDQxOCwtMS40MTYyOTg4NjA3MV0sCiAgICAgICAgICAgICAgICAxMCwKICAgICAgICAgICAgICAgIHsKICAgICAgICAgICAgICAgICAgICBjb2xvcjogJ3JlZCcsCiAgICAgICAgICAgICAgICAgICAgZmlsbENvbG9yOiAncmVkJywKICAgICAgICAgICAgICAgICAgICBmaWxsT3BhY2l0eTogMC42CiAgICAgICAgICAgICAgICAgICAgfQogICAgICAgICAgICAgICAgKQogICAgICAgICAgICAgICAgLmFkZFRvKG1hcF81ODMxNDZhZmZlNjM0ZGRmYWZiZWE3ZGVlOGVkZGZhOSk7CiAgICAgICAgICAgIAogICAgICAgIAogICAgICAgICAgICAKICAgICAgICAgICAgdmFyIHBvcHVwXzc1NTZjN2E5NTQ1OTQ4MjA4NTU5YWM1OTgyMTk2MTI2ID0gTC5wb3B1cCh7bWF4V2lkdGg6ICczMDAnfSk7CgogICAgICAgICAgICAKICAgICAgICAgICAgICAgIHZhciBodG1sX2Y5MWFiZWMyMDE1ZTQ1YWY4NDcxYzg1NWU5M2VkM2Y4ID0gJCgnICAgICAgICAgPGRpdiBpZD0iaHRtbF9mOTFhYmVjMjAxNWU0NWFmODQ3MWM4NTVlOTNlZDNmOCIgICAgICAgICAgICAgICAgIHN0eWxlPSJ3aWR0aDogMTAwLjAlOyBoZWlnaHQ6IDEwMC4wJTsiPiAgICAgICAgICAgICAgICAgWFlaIExJTUlURUQ6IEJyaWdoc3RvbmUgR3JhbmdlLCBCcmlnaHN0b25lLCBOZXdwb3J0LCBQTzMwIDREWjwvZGl2PiAgICAgICAgICAgICAgICAgJylbMF07CiAgICAgICAgICAgICAgICBwb3B1cF83NTU2YzdhOTU0NTk0ODIwODU1OWFjNTk4MjE5NjEyNi5zZXRDb250ZW50KGh0bWxfZjkxYWJlYzIwMTVlNDVhZjg0NzFjODU1ZTkzZWQzZjgpOwogICAgICAgICAgICAKCiAgICAgICAgICAgIGNpcmNsZV9tYXJrZXJfZDVkYmJlNDdhMDkwNGNmYWFkMGE4YTc2NjJmZmRjZmEuYmluZFBvcHVwKHBvcHVwXzc1NTZjN2E5NTQ1OTQ4MjA4NTU5YWM1OTgyMTk2MTI2KTsKCiAgICAgICAgICAgIAogICAgICAgIAogICAgICAgIAogICAgICAgICAgICAKCiAgICAgICAgICAgIHZhciBjaXJjbGVfbWFya2VyXzNkY2I5YzlkOWM5MDQ0NjRhNzhlODY5NjBmZWYyYjkzID0gTC5jaXJjbGUoCiAgICAgICAgICAgICAgICBbNTAuNjI5NjMxNTc4MywtMS4xNzc1MDUwNDAxM10sCiAgICAgICAgICAgICAgICAxMCwKICAgICAgICAgICAgICAgIHsKICAgICAgICAgICAgICAgICAgICBjb2xvcjogJ3JlZCcsCiAgICAgICAgICAgICAgICAgICAgZmlsbENvbG9yOiAncmVkJywKICAgICAgICAgICAgICAgICAgICBmaWxsT3BhY2l0eTogMC42CiAgICAgICAgICAgICAgICAgICAgfQogICAgICAgICAgICAgICAgKQogICAgICAgICAgICAgICAgLmFkZFRvKG1hcF81ODMxNDZhZmZlNjM0ZGRmYWZiZWE3ZGVlOGVkZGZhOSk7CiAgICAgICAgICAgIAogICAgICAgIAogICAgICAgICAgICAKICAgICAgICAgICAgdmFyIHBvcHVwX2FiNzMzNWQ2MmNlNjRjNjY4NGVkOGZlYmQyODExMWQyID0gTC5wb3B1cCh7bWF4V2lkdGg6ICczMDAnfSk7CgogICAgICAgICAgICAKICAgICAgICAgICAgICAgIHZhciBodG1sXzM5OGQwZTA1ZmM5YjQ3Yzc4MjVkMjE2MjFkNjhkZTUxID0gJCgnICAgICAgICAgPGRpdiBpZD0iaHRtbF8zOThkMGUwNWZjOWI0N2M3ODI1ZDIxNjIxZDY4ZGU1MSIgICAgICAgICAgICAgICAgIHN0eWxlPSJ3aWR0aDogMTAwLjAlOyBoZWlnaHQ6IDEwMC4wJTsiPiAgICAgICAgICAgICAgICAgQkVSS0xFWSBERVZFTE9QTUVOVFMgTElNSVRFRDogNiwgQ3Jvc3MgU3RyZWV0LCBTaGFua2xpbiwgUE8zNyA2QVQ8L2Rpdj4gICAgICAgICAgICAgICAgICcpWzBdOwogICAgICAgICAgICAgICAgcG9wdXBfYWI3MzM1ZDYyY2U2NGM2Njg0ZWQ4ZmViZDI4MTExZDIuc2V0Q29udGVudChodG1sXzM5OGQwZTA1ZmM5YjQ3Yzc4MjVkMjE2MjFkNjhkZTUxKTsKICAgICAgICAgICAgCgogICAgICAgICAgICBjaXJjbGVfbWFya2VyXzNkY2I5YzlkOWM5MDQ0NjRhNzhlODY5NjBmZWYyYjkzLmJpbmRQb3B1cChwb3B1cF9hYjczMzVkNjJjZTY0YzY2ODRlZDhmZWJkMjgxMTFkMik7CgogICAgICAgICAgICAKICAgICAgICAKICAgICAgICAKICAgICAgICAgICAgCgogICAgICAgICAgICB2YXIgY2lyY2xlX21hcmtlcl9iMzFhMWEwNDkwNGM0Zjk4YmZkMDQyNTZiYjQ0NmMxMCA9IEwuY2lyY2xlKAogICAgICAgICAgICAgICAgWzUwLjc2NTcyMjk4ODUsLTEuMzEyNTk0NDcxNjRdLAogICAgICAgICAgICAgICAgMTAsCiAgICAgICAgICAgICAgICB7CiAgICAgICAgICAgICAgICAgICAgY29sb3I6ICdyZWQnLAogICAgICAgICAgICAgICAgICAgIGZpbGxDb2xvcjogJ3JlZCcsCiAgICAgICAgICAgICAgICAgICAgZmlsbE9wYWNpdHk6IDAuNgogICAgICAgICAgICAgICAgICAgIH0KICAgICAgICAgICAgICAgICkKICAgICAgICAgICAgICAgIC5hZGRUbyhtYXBfNTgzMTQ2YWZmZTYzNGRkZmFmYmVhN2RlZThlZGRmYTkpOwogICAgICAgICAgICAKICAgICAgICAKICAgICAgICAgICAgCiAgICAgICAgICAgIHZhciBwb3B1cF9mMjQ1ZGIyZGUzY2Y0Yzk5OTczOTRhNjhkM2ZhNDgwYyA9IEwucG9wdXAoe21heFdpZHRoOiAnMzAwJ30pOwoKICAgICAgICAgICAgCiAgICAgICAgICAgICAgICB2YXIgaHRtbF85ZmZjMzc3ODM1ZDE0M2NmYTQ1NGRiM2FjZGE0MzFjOCA9ICQoJyAgICAgICAgIDxkaXYgaWQ9Imh0bWxfOWZmYzM3NzgzNWQxNDNjZmE0NTRkYjNhY2RhNDMxYzgiICAgICAgICAgICAgICAgICBzdHlsZT0id2lkdGg6IDEwMC4wJTsgaGVpZ2h0OiAxMDAuMCU7Ij4gICAgICAgICAgICAgICAgIENMQVJLU0RBTEUgSU5WRVNUTUVOVFMgTFREOiBFZ3lwdCBIb3VzZSwgRWd5cHQgSGlsbCwgQ293ZXMsIFBPMzEgOEJQPC9kaXY+ICAgICAgICAgICAgICAgICAnKVswXTsKICAgICAgICAgICAgICAgIHBvcHVwX2YyNDVkYjJkZTNjZjRjOTk5NzM5NGE2OGQzZmE0ODBjLnNldENvbnRlbnQoaHRtbF85ZmZjMzc3ODM1ZDE0M2NmYTQ1NGRiM2FjZGE0MzFjOCk7CiAgICAgICAgICAgIAoKICAgICAgICAgICAgY2lyY2xlX21hcmtlcl9iMzFhMWEwNDkwNGM0Zjk4YmZkMDQyNTZiYjQ0NmMxMC5iaW5kUG9wdXAocG9wdXBfZjI0NWRiMmRlM2NmNGM5OTk3Mzk0YTY4ZDNmYTQ4MGMpOwoKICAgICAgICAgICAgCiAgICAgICAgCiAgICAgICAgCiAgICAgICAgICAgIAoKICAgICAgICAgICAgdmFyIGNpcmNsZV9tYXJrZXJfYTUzNDAwZmRkZTY4NGUzOTkzNDBkNjE4OTE0ODM3MDAgPSBMLmNpcmNsZSgKICAgICAgICAgICAgICAgIFs1MC42OTkzOTg5NTQyLC0xLjI5NTYzNzk4MzMzXSwKICAgICAgICAgICAgICAgIDEwLAogICAgICAgICAgICAgICAgewogICAgICAgICAgICAgICAgICAgIGNvbG9yOiAncmVkJywKICAgICAgICAgICAgICAgICAgICBmaWxsQ29sb3I6ICdyZWQnLAogICAgICAgICAgICAgICAgICAgIGZpbGxPcGFjaXR5OiAwLjYKICAgICAgICAgICAgICAgICAgICB9CiAgICAgICAgICAgICAgICApCiAgICAgICAgICAgICAgICAuYWRkVG8obWFwXzU4MzE0NmFmZmU2MzRkZGZhZmJlYTdkZWU4ZWRkZmE5KTsKICAgICAgICAgICAgCiAgICAgICAgCiAgICAgICAgICAgIAogICAgICAgICAgICB2YXIgcG9wdXBfYzFiYTU1YmFkMDRkNDczYmFhYTgxYzUyMmM3ZThmODAgPSBMLnBvcHVwKHttYXhXaWR0aDogJzMwMCd9KTsKCiAgICAgICAgICAgIAogICAgICAgICAgICAgICAgdmFyIGh0bWxfMzAzNjRkM2I5MWMwNGY4YTg0NGY4YjM3N2EwMDM5ODMgPSAkKCcgICAgICAgICA8ZGl2IGlkPSJodG1sXzMwMzY0ZDNiOTFjMDRmOGE4NDRmOGIzNzdhMDAzOTgzIiAgICAgICAgICAgICAgICAgc3R5bGU9IndpZHRoOiAxMDAuMCU7IGhlaWdodDogMTAwLjAlOyI+ICAgICAgICAgICAgICAgICBBU1RPTkJVUlkgSU5WRVNUTUVOVFMgTElNSVRFRDogMTA2LCBTdCBKYW1lcyBTcXVhcmUsIE5ld3BvcnQsIFBPMzAgMVVSPC9kaXY+ICAgICAgICAgICAgICAgICAnKVswXTsKICAgICAgICAgICAgICAgIHBvcHVwX2MxYmE1NWJhZDA0ZDQ3M2JhYWE4MWM1MjJjN2U4ZjgwLnNldENvbnRlbnQoaHRtbF8zMDM2NGQzYjkxYzA0ZjhhODQ0ZjhiMzc3YTAwMzk4Myk7CiAgICAgICAgICAgIAoKICAgICAgICAgICAgY2lyY2xlX21hcmtlcl9hNTM0MDBmZGRlNjg0ZTM5OTM0MGQ2MTg5MTQ4MzcwMC5iaW5kUG9wdXAocG9wdXBfYzFiYTU1YmFkMDRkNDczYmFhYTgxYzUyMmM3ZThmODApOwoKICAgICAgICAgICAgCiAgICAgICAgCiAgICAgICAgCiAgICAgICAgICAgIAoKICAgICAgICAgICAgdmFyIGNpcmNsZV9tYXJrZXJfYzg4MTI3ODk3OTE4NDJhYWJiNDM1NzMxODQ3MTM4Y2YgPSBMLmNpcmNsZSgKICAgICAgICAgICAgICAgIFs1MC42OTk3MjczNjksLTEuMjk2NDExODUzODJdLAogICAgICAgICAgICAgICAgMTAsCiAgICAgICAgICAgICAgICB7CiAgICAgICAgICAgICAgICAgICAgY29sb3I6ICdyZWQnLAogICAgICAgICAgICAgICAgICAgIGZpbGxDb2xvcjogJ3JlZCcsCiAgICAgICAgICAgICAgICAgICAgZmlsbE9wYWNpdHk6IDAuNgogICAgICAgICAgICAgICAgICAgIH0KICAgICAgICAgICAgICAgICkKICAgICAgICAgICAgICAgIC5hZGRUbyhtYXBfNTgzMTQ2YWZmZTYzNGRkZmFmYmVhN2RlZThlZGRmYTkpOwogICAgICAgICAgICAKICAgICAgICAKICAgICAgICAgICAgCiAgICAgICAgICAgIHZhciBwb3B1cF8yMzhiNWQyMTU1YjM0ZjkyYWQ4OGM2MjAwZmZkMzczZiA9IEwucG9wdXAoe21heFdpZHRoOiAnMzAwJ30pOwoKICAgICAgICAgICAgCiAgICAgICAgICAgICAgICB2YXIgaHRtbF9mYTU4MjQ2MTRjYmQ0YWViOWI3ODA1ZjU4Mzg1ZjA3YyA9ICQoJyAgICAgICAgIDxkaXYgaWQ9Imh0bWxfZmE1ODI0NjE0Y2JkNGFlYjliNzgwNWY1ODM4NWYwN2MiICAgICAgICAgICAgICAgICBzdHlsZT0id2lkdGg6IDEwMC4wJTsgaGVpZ2h0OiAxMDAuMCU7Ij4gICAgICAgICAgICAgICAgIFFVRUVOU1dBWSBQUk9QRVJUSUVTIFMuQS46IDEwOCwgSGlnaCBTdHJlZXQsIE5ld3BvcnQsIFBPMzAgMVRKPC9kaXY+ICAgICAgICAgICAgICAgICAnKVswXTsKICAgICAgICAgICAgICAgIHBvcHVwXzIzOGI1ZDIxNTViMzRmOTJhZDg4YzYyMDBmZmQzNzNmLnNldENvbnRlbnQoaHRtbF9mYTU4MjQ2MTRjYmQ0YWViOWI3ODA1ZjU4Mzg1ZjA3Yyk7CiAgICAgICAgICAgIAoKICAgICAgICAgICAgY2lyY2xlX21hcmtlcl9jODgxMjc4OTc5MTg0MmFhYmI0MzU3MzE4NDcxMzhjZi5iaW5kUG9wdXAocG9wdXBfMjM4YjVkMjE1NWIzNGY5MmFkODhjNjIwMGZmZDM3M2YpOwoKICAgICAgICAgICAgCiAgICAgICAgCiAgICAgICAgCiAgICAgICAgICAgIAoKICAgICAgICAgICAgdmFyIGNpcmNsZV9tYXJrZXJfOTlkM2UxOWVlOTZlNDFlM2EwOTlhODk0MGIzNWJkNjUgPSBMLmNpcmNsZSgKICAgICAgICAgICAgICAgIFs1MC43Mjc5OTk4MTQ4LC0xLjE2Mjg2MjgyODMzXSwKICAgICAgICAgICAgICAgIDEwLAogICAgICAgICAgICAgICAgewogICAgICAgICAgICAgICAgICAgIGNvbG9yOiAncmVkJywKICAgICAgICAgICAgICAgICAgICBmaWxsQ29sb3I6ICdyZWQnLAogICAgICAgICAgICAgICAgICAgIGZpbGxPcGFjaXR5OiAwLjYKICAgICAgICAgICAgICAgICAgICB9CiAgICAgICAgICAgICAgICApCiAgICAgICAgICAgICAgICAuYWRkVG8obWFwXzU4MzE0NmFmZmU2MzRkZGZhZmJlYTdkZWU4ZWRkZmE5KTsKICAgICAgICAgICAgCiAgICAgICAgCiAgICAgICAgICAgIAogICAgICAgICAgICB2YXIgcG9wdXBfMWMwMWY5Yzc4YjAzNDg2OWEwNTFjNmMyNWI1MWViNWEgPSBMLnBvcHVwKHttYXhXaWR0aDogJzMwMCd9KTsKCiAgICAgICAgICAgIAogICAgICAgICAgICAgICAgdmFyIGh0bWxfMzMyY2MyMzEwMjBkNDJkZDlhZTFmNzk4NGQ1MWE4NGMgPSAkKCcgICAgICAgICA8ZGl2IGlkPSJodG1sXzMzMmNjMjMxMDIwZDQyZGQ5YWUxZjc5ODRkNTFhODRjIiAgICAgICAgICAgICAgICAgc3R5bGU9IndpZHRoOiAxMDAuMCU7IGhlaWdodDogMTAwLjAlOyI+ICAgICAgICAgICAgICAgICBNQVBFTEVZIENPTFVNQlVTIExJTUlURUQ6IDM0LCBIaWdoIFN0cmVldCwgUnlkZSwgUE8zMyAySEw8L2Rpdj4gICAgICAgICAgICAgICAgICcpWzBdOwogICAgICAgICAgICAgICAgcG9wdXBfMWMwMWY5Yzc4YjAzNDg2OWEwNTFjNmMyNWI1MWViNWEuc2V0Q29udGVudChodG1sXzMzMmNjMjMxMDIwZDQyZGQ5YWUxZjc5ODRkNTFhODRjKTsKICAgICAgICAgICAgCgogICAgICAgICAgICBjaXJjbGVfbWFya2VyXzk5ZDNlMTllZTk2ZTQxZTNhMDk5YTg5NDBiMzViZDY1LmJpbmRQb3B1cChwb3B1cF8xYzAxZjljNzhiMDM0ODY5YTA1MWM2YzI1YjUxZWI1YSk7CgogICAgICAgICAgICAKICAgICAgICAKICAgICAgICAKICAgICAgICAgICAgCgogICAgICAgICAgICB2YXIgY2lyY2xlX21hcmtlcl8yNTEwZGRhODYzMTk0OTEwOWI2YWFjOTE0YjhhZmQyOSA9IEwuY2lyY2xlKAogICAgICAgICAgICAgICAgWzUwLjY3ODUwODk0MjMsLTEuMTAzMjA4NzcyMDFdLAogICAgICAgICAgICAgICAgMTAsCiAgICAgICAgICAgICAgICB7CiAgICAgICAgICAgICAgICAgICAgY29sb3I6ICdyZWQnLAogICAgICAgICAgICAgICAgICAgIGZpbGxDb2xvcjogJ3JlZCcsCiAgICAgICAgICAgICAgICAgICAgZmlsbE9wYWNpdHk6IDAuNgogICAgICAgICAgICAgICAgICAgIH0KICAgICAgICAgICAgICAgICkKICAgICAgICAgICAgICAgIC5hZGRUbyhtYXBfNTgzMTQ2YWZmZTYzNGRkZmFmYmVhN2RlZThlZGRmYTkpOwogICAgICAgICAgICAKICAgICAgICAKICAgICAgICAgICAgCiAgICAgICAgICAgIHZhciBwb3B1cF9mNGIyZGEwMWYzMTQ0MjAzYmVhMTc0MDdlNWRmNDU1ZCA9IEwucG9wdXAoe21heFdpZHRoOiAnMzAwJ30pOwoKICAgICAgICAgICAgCiAgICAgICAgICAgICAgICB2YXIgaHRtbF81ODg2NTE3ZmQ2ODc0Nzc4ODg0MzJmNGMyZWU4NmVlNCA9ICQoJyAgICAgICAgIDxkaXYgaWQ9Imh0bWxfNTg4NjUxN2ZkNjg3NDc3ODg4NDMyZjRjMmVlODZlZTQiICAgICAgICAgICAgICAgICBzdHlsZT0id2lkdGg6IDEwMC4wJTsgaGVpZ2h0OiAxMDAuMCU7Ij4gICAgICAgICAgICAgICAgIElSVE9OIFBST1BFUlRJRVMgTElNSVRFRDogQmVtYnJpZGdlIEFpcnBvcnQsIEJlbWJyaWRnZSwgUE8zNSA1UFI8L2Rpdj4gICAgICAgICAgICAgICAgICcpWzBdOwogICAgICAgICAgICAgICAgcG9wdXBfZjRiMmRhMDFmMzE0NDIwM2JlYTE3NDA3ZTVkZjQ1NWQuc2V0Q29udGVudChodG1sXzU4ODY1MTdmZDY4NzQ3Nzg4ODQzMmY0YzJlZTg2ZWU0KTsKICAgICAgICAgICAgCgogICAgICAgICAgICBjaXJjbGVfbWFya2VyXzI1MTBkZGE4NjMxOTQ5MTA5YjZhYWM5MTRiOGFmZDI5LmJpbmRQb3B1cChwb3B1cF9mNGIyZGEwMWYzMTQ0MjAzYmVhMTc0MDdlNWRmNDU1ZCk7CgogICAgICAgICAgICAKICAgICAgICAKICAgICAgICAKICAgICAgICAgICAgCgogICAgICAgICAgICB2YXIgY2lyY2xlX21hcmtlcl83ZWY3YjhmOWM4OGQ0ZDI0Yjg5YTIwYzg0ODkzYmQ5ZiA9IEwuY2lyY2xlKAogICAgICAgICAgICAgICAgWzUwLjY5OTg3OTczMDYsLTEuMjk0ODM3ODMzNjddLAogICAgICAgICAgICAgICAgMTAsCiAgICAgICAgICAgICAgICB7CiAgICAgICAgICAgICAgICAgICAgY29sb3I6ICdyZWQnLAogICAgICAgICAgICAgICAgICAgIGZpbGxDb2xvcjogJ3JlZCcsCiAgICAgICAgICAgICAgICAgICAgZmlsbE9wYWNpdHk6IDAuNgogICAgICAgICAgICAgICAgICAgIH0KICAgICAgICAgICAgICAgICkKICAgICAgICAgICAgICAgIC5hZGRUbyhtYXBfNTgzMTQ2YWZmZTYzNGRkZmFmYmVhN2RlZThlZGRmYTkpOwogICAgICAgICAgICAKICAgICAgICAKICAgICAgICAgICAgCiAgICAgICAgICAgIHZhciBwb3B1cF8yN2EzZmUxZTY5Yzg0ZWQ1OTY0OWExNDFhYzVlYTc4NiA9IEwucG9wdXAoe21heFdpZHRoOiAnMzAwJ30pOwoKICAgICAgICAgICAgCiAgICAgICAgICAgICAgICB2YXIgaHRtbF81ODViOTU3ZjNkZWE0OWUyOWRmNmIwMjBjYTM0MjAyZSA9ICQoJyAgICAgICAgIDxkaXYgaWQ9Imh0bWxfNTg1Yjk1N2YzZGVhNDllMjlkZjZiMDIwY2EzNDIwMmUiICAgICAgICAgICAgICAgICBzdHlsZT0id2lkdGg6IDEwMC4wJTsgaGVpZ2h0OiAxMDAuMCU7Ij4gICAgICAgICAgICAgICAgIFBFTlRFTCBQUk9QRVJUSUVTIExJTUlURUQ6IDQ0LCBIaWdoIFN0cmVldCwgTmV3cG9ydCwgUE8zMCAxU0U8L2Rpdj4gICAgICAgICAgICAgICAgICcpWzBdOwogICAgICAgICAgICAgICAgcG9wdXBfMjdhM2ZlMWU2OWM4NGVkNTk2NDlhMTQxYWM1ZWE3ODYuc2V0Q29udGVudChodG1sXzU4NWI5NTdmM2RlYTQ5ZTI5ZGY2YjAyMGNhMzQyMDJlKTsKICAgICAgICAgICAgCgogICAgICAgICAgICBjaXJjbGVfbWFya2VyXzdlZjdiOGY5Yzg4ZDRkMjRiODlhMjBjODQ4OTNiZDlmLmJpbmRQb3B1cChwb3B1cF8yN2EzZmUxZTY5Yzg0ZWQ1OTY0OWExNDFhYzVlYTc4Nik7CgogICAgICAgICAgICAKICAgICAgICAKICAgICAgICAKICAgICAgICAgICAgCgogICAgICAgICAgICB2YXIgY2lyY2xlX21hcmtlcl9mMWJjN2QzMDE2MGE0OGQwOWQxN2I4NTE4M2VjODNhOCA9IEwuY2lyY2xlKAogICAgICAgICAgICAgICAgWzUwLjcyODc0MTM0OTQsLTEuMTY0NjkxNTM2OTRdLAogICAgICAgICAgICAgICAgMTAsCiAgICAgICAgICAgICAgICB7CiAgICAgICAgICAgICAgICAgICAgY29sb3I6ICdyZWQnLAogICAgICAgICAgICAgICAgICAgIGZpbGxDb2xvcjogJ3JlZCcsCiAgICAgICAgICAgICAgICAgICAgZmlsbE9wYWNpdHk6IDAuNgogICAgICAgICAgICAgICAgICAgIH0KICAgICAgICAgICAgICAgICkKICAgICAgICAgICAgICAgIC5hZGRUbyhtYXBfNTgzMTQ2YWZmZTYzNGRkZmFmYmVhN2RlZThlZGRmYTkpOwogICAgICAgICAgICAKICAgICAgICAKICAgICAgICAgICAgCiAgICAgICAgICAgIHZhciBwb3B1cF9lNjc3ZmEzYjYwNmQ0NjlkOTUyZThjMzAwNTI2ZDYzNiA9IEwucG9wdXAoe21heFdpZHRoOiAnMzAwJ30pOwoKICAgICAgICAgICAgCiAgICAgICAgICAgICAgICB2YXIgaHRtbF84ZjI3MzkxZWNkMDE0YmQ2OThkZjdhMDIzODFlOTFkNCA9ICQoJyAgICAgICAgIDxkaXYgaWQ9Imh0bWxfOGYyNzM5MWVjZDAxNGJkNjk4ZGY3YTAyMzgxZTkxZDQiICAgICAgICAgICAgICAgICBzdHlsZT0id2lkdGg6IDEwMC4wJTsgaGVpZ2h0OiAxMDAuMCU7Ij4gICAgICAgICAgICAgICAgIEhQVVQgVFJVU1RFRSBOTy4yIExJTUlURUQ6IDE1LCBWaWN0b3JpYSBTdHJlZXQsIFJ5ZGUsIFBPMzMgMlBVPC9kaXY+ICAgICAgICAgICAgICAgICAnKVswXTsKICAgICAgICAgICAgICAgIHBvcHVwX2U2NzdmYTNiNjA2ZDQ2OWQ5NTJlOGMzMDA1MjZkNjM2LnNldENvbnRlbnQoaHRtbF84ZjI3MzkxZWNkMDE0YmQ2OThkZjdhMDIzODFlOTFkNCk7CiAgICAgICAgICAgIAoKICAgICAgICAgICAgY2lyY2xlX21hcmtlcl9mMWJjN2QzMDE2MGE0OGQwOWQxN2I4NTE4M2VjODNhOC5iaW5kUG9wdXAocG9wdXBfZTY3N2ZhM2I2MDZkNDY5ZDk1MmU4YzMwMDUyNmQ2MzYpOwoKICAgICAgICAgICAgCiAgICAgICAgCiAgICAgICAgCiAgICAgICAgICAgIAoKICAgICAgICAgICAgdmFyIGNpcmNsZV9tYXJrZXJfMTQzY2EyNGQyMmJmNDFlN2IyMjdmYTlkZDczMjgyZmIgPSBMLmNpcmNsZSgKICAgICAgICAgICAgICAgIFs1MC42Mjk2NDc5NDk1LC0xLjE3ODU1MTAyNTUzXSwKICAgICAgICAgICAgICAgIDEwLAogICAgICAgICAgICAgICAgewogICAgICAgICAgICAgICAgICAgIGNvbG9yOiAncmVkJywKICAgICAgICAgICAgICAgICAgICBmaWxsQ29sb3I6ICdyZWQnLAogICAgICAgICAgICAgICAgICAgIGZpbGxPcGFjaXR5OiAwLjYKICAgICAgICAgICAgICAgICAgICB9CiAgICAgICAgICAgICAgICApCiAgICAgICAgICAgICAgICAuYWRkVG8obWFwXzU4MzE0NmFmZmU2MzRkZGZhZmJlYTdkZWU4ZWRkZmE5KTsKICAgICAgICAgICAgCiAgICAgICAgCiAgICAgICAgICAgIAogICAgICAgICAgICB2YXIgcG9wdXBfM2RmYWU2NDVjYjY5NGEzODhkZmVkNGM5ZmY5MzA3ZGMgPSBMLnBvcHVwKHttYXhXaWR0aDogJzMwMCd9KTsKCiAgICAgICAgICAgIAogICAgICAgICAgICAgICAgdmFyIGh0bWxfNWEwYWY0NjE3Y2E3NDM1MTk4ZjdjYzNkOGJjODgzNWYgPSAkKCcgICAgICAgICA8ZGl2IGlkPSJodG1sXzVhMGFmNDYxN2NhNzQzNTE5OGY3Y2MzZDhiYzg4MzVmIiAgICAgICAgICAgICAgICAgc3R5bGU9IndpZHRoOiAxMDAuMCU7IGhlaWdodDogMTAwLjAlOyI+ICAgICAgICAgICAgICAgICBIUFVUIFRSVVNURUUgTk8gMiBMSU1JVEVEOiAxLCBIaWdoIFN0cmVldCwgU2hhbmtsaW4sIFBPMzcgNkxBPC9kaXY+ICAgICAgICAgICAgICAgICAnKVswXTsKICAgICAgICAgICAgICAgIHBvcHVwXzNkZmFlNjQ1Y2I2OTRhMzg4ZGZlZDRjOWZmOTMwN2RjLnNldENvbnRlbnQoaHRtbF81YTBhZjQ2MTdjYTc0MzUxOThmN2NjM2Q4YmM4ODM1Zik7CiAgICAgICAgICAgIAoKICAgICAgICAgICAgY2lyY2xlX21hcmtlcl8xNDNjYTI0ZDIyYmY0MWU3YjIyN2ZhOWRkNzMyODJmYi5iaW5kUG9wdXAocG9wdXBfM2RmYWU2NDVjYjY5NGEzODhkZmVkNGM5ZmY5MzA3ZGMpOwoKICAgICAgICAgICAgCiAgICAgICAgCiAgICAgICAgCiAgICAgICAgICAgIAoKICAgICAgICAgICAgdmFyIGNpcmNsZV9tYXJrZXJfODcyYmNkYjhhZDc4NDRkMGFjZmFjMmU4OWM1N2EwZjQgPSBMLmNpcmNsZSgKICAgICAgICAgICAgICAgIFs1MC43NDA5OTkzMjI4LC0xLjIyODc3MzIzNDY0XSwKICAgICAgICAgICAgICAgIDEwLAogICAgICAgICAgICAgICAgewogICAgICAgICAgICAgICAgICAgIGNvbG9yOiAncmVkJywKICAgICAgICAgICAgICAgICAgICBmaWxsQ29sb3I6ICdyZWQnLAogICAgICAgICAgICAgICAgICAgIGZpbGxPcGFjaXR5OiAwLjYKICAgICAgICAgICAgICAgICAgICB9CiAgICAgICAgICAgICAgICApCiAgICAgICAgICAgICAgICAuYWRkVG8obWFwXzU4MzE0NmFmZmU2MzRkZGZhZmJlYTdkZWU4ZWRkZmE5KTsKICAgICAgICAgICAgCiAgICAgICAgCiAgICAgICAgICAgIAogICAgICAgICAgICB2YXIgcG9wdXBfZDc1NDhlOTliZDY2NDk3NTljMDY4MmNkY2FlZThkOGYgPSBMLnBvcHVwKHttYXhXaWR0aDogJzMwMCd9KTsKCiAgICAgICAgICAgIAogICAgICAgICAgICAgICAgdmFyIGh0bWxfNmU1MTdkMDlkYzZlNGQyOWFjMzMzNmE5MjQxYzczNDggPSAkKCcgICAgICAgICA8ZGl2IGlkPSJodG1sXzZlNTE3ZDA5ZGM2ZTRkMjlhYzMzMzZhOTI0MWM3MzQ4IiAgICAgICAgICAgICAgICAgc3R5bGU9IndpZHRoOiAxMDAuMCU7IGhlaWdodDogMTAwLjAlOyI+ICAgICAgICAgICAgICAgICBCT1JST1dEQUxFIE5PTUlORUVTIExJTUlURUQ6IFRoZSBCdW5nYWxvdywgV29vZHNpZGUgQmVhY2gsIExvd2VyIFdvb2RzaWRlIFJvYWQsIFdvb3R0b24gQnJpZGdlLCBSeWRlLCBQTzMzIDRKVDwvZGl2PiAgICAgICAgICAgICAgICAgJylbMF07CiAgICAgICAgICAgICAgICBwb3B1cF9kNzU0OGU5OWJkNjY0OTc1OWMwNjgyY2RjYWVlOGQ4Zi5zZXRDb250ZW50KGh0bWxfNmU1MTdkMDlkYzZlNGQyOWFjMzMzNmE5MjQxYzczNDgpOwogICAgICAgICAgICAKCiAgICAgICAgICAgIGNpcmNsZV9tYXJrZXJfODcyYmNkYjhhZDc4NDRkMGFjZmFjMmU4OWM1N2EwZjQuYmluZFBvcHVwKHBvcHVwX2Q3NTQ4ZTk5YmQ2NjQ5NzU5YzA2ODJjZGNhZWU4ZDhmKTsKCiAgICAgICAgICAgIAogICAgICAgIAogICAgICAgIAogICAgICAgIAogICAgICAgIDwvc2NyaXB0PgogICAgICAgIA==\" style=\"position:absolute;width:100%;height:100%;left:0;top:0;\">\n",
       "            </iframe>\n",
       "            </div></div>"
      ],
      "text/plain": [
       "<folium.folium.Map at 0x1188f3250>"
      ]
     },
     "execution_count": 172,
     "metadata": {},
     "output_type": "execute_result"
    }
   ],
   "source": [
    "#Set the mid_point of the map as the mean lat/long\n",
    "#(A slightly better way of doing this is to find the centroid of the points)\n",
    "longm=dfxiw2[ dfxiw2['lon'].notnull() ]['lon'].mean()\n",
    "latm=dfxiw2[ dfxiw2['lat'].notnull() ]['lat'].mean()\n",
    "\n",
    "#Create the map\n",
    "pricesmap = folium.Map(location=[latm, longm], zoom_start=11)\n",
    "\n",
    "#Add the markers\n",
    "pricesmap=mapper(pricesmap,dfxiw2)\n",
    "\n",
    "#Render the map\n",
    "pricesmap"
   ]
  },
  {
   "cell_type": "markdown",
   "metadata": {},
   "source": [
    "## Taking Things Further\n",
    "\n",
    "We might me able to take the investigation further by looking for evidence of planning applications made against particular properties (which in turn might turn up agent names), for example via the [Isle of Wight Council Planning Application website](https://www.iwight.com/planning/planAppSearchHistory.aspx), or looking up to see whether there are similarly named companies on [OpenCorporates](http://opencorporates.com) or [Companies House](https://beta.companieshouse.gov.uk/search/)."
   ]
  }
 ],
 "metadata": {
  "kernelspec": {
   "display_name": "Python 2",
   "language": "python",
   "name": "python2"
  },
  "language_info": {
   "codemirror_mode": {
    "name": "ipython",
    "version": 2
   },
   "file_extension": ".py",
   "mimetype": "text/x-python",
   "name": "python",
   "nbconvert_exporter": "python",
   "pygments_lexer": "ipython2",
   "version": "2.7.11"
  }
 },
 "nbformat": 4,
 "nbformat_minor": 0
}
